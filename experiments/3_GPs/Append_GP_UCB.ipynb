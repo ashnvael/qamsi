{
 "cells": [
  {
   "cell_type": "code",
   "execution_count": 2,
   "id": "initial_id",
   "metadata": {
    "ExecuteTime": {
     "end_time": "2025-06-13T09:14:43.052477Z",
     "start_time": "2025-06-13T09:14:43.049538Z"
    },
    "collapsed": true
   },
   "outputs": [],
   "source": [
    "from pathlib import Path\n",
    "\n",
    "import pandas as pd\n",
    "\n",
    "from qamsi.utils.data import read_csv"
   ]
  },
  {
   "cell_type": "code",
   "execution_count": 7,
   "id": "481cad5651776af4",
   "metadata": {
    "ExecuteTime": {
     "end_time": "2025-06-13T09:16:46.615067Z",
     "start_time": "2025-06-13T09:16:46.156247Z"
    }
   },
   "outputs": [],
   "source": [
    "data = read_csv(\"../data/output\", \"spx_data.csv\")"
   ]
  },
  {
   "cell_type": "code",
   "execution_count": 15,
   "id": "28065c47e625bb78",
   "metadata": {
    "ExecuteTime": {
     "end_time": "2025-06-13T09:18:24.736898Z",
     "start_time": "2025-06-13T09:18:24.729351Z"
    }
   },
   "outputs": [
    {
     "data": {
      "text/html": [
       "<div>\n",
       "<style scoped>\n",
       "    .dataframe tbody tr th:only-of-type {\n",
       "        vertical-align: middle;\n",
       "    }\n",
       "\n",
       "    .dataframe tbody tr th {\n",
       "        vertical-align: top;\n",
       "    }\n",
       "\n",
       "    .dataframe thead th {\n",
       "        text-align: right;\n",
       "    }\n",
       "</style>\n",
       "<table border=\"1\" class=\"dataframe\">\n",
       "  <thead>\n",
       "    <tr style=\"text-align: right;\">\n",
       "      <th></th>\n",
       "      <th>gp_ucb_pred</th>\n",
       "    </tr>\n",
       "    <tr>\n",
       "      <th>date</th>\n",
       "      <th></th>\n",
       "    </tr>\n",
       "  </thead>\n",
       "  <tbody>\n",
       "    <tr>\n",
       "      <th>1981-01-30</th>\n",
       "      <td>2.014607e-17</td>\n",
       "    </tr>\n",
       "    <tr>\n",
       "      <th>1981-02-02</th>\n",
       "      <td>0.000000e+00</td>\n",
       "    </tr>\n",
       "    <tr>\n",
       "      <th>1981-02-03</th>\n",
       "      <td>0.000000e+00</td>\n",
       "    </tr>\n",
       "    <tr>\n",
       "      <th>1981-02-04</th>\n",
       "      <td>0.000000e+00</td>\n",
       "    </tr>\n",
       "    <tr>\n",
       "      <th>1981-02-05</th>\n",
       "      <td>2.259234e-03</td>\n",
       "    </tr>\n",
       "    <tr>\n",
       "      <th>...</th>\n",
       "      <td>...</td>\n",
       "    </tr>\n",
       "    <tr>\n",
       "      <th>2023-11-27</th>\n",
       "      <td>0.000000e+00</td>\n",
       "    </tr>\n",
       "    <tr>\n",
       "      <th>2023-11-28</th>\n",
       "      <td>0.000000e+00</td>\n",
       "    </tr>\n",
       "    <tr>\n",
       "      <th>2023-11-29</th>\n",
       "      <td>0.000000e+00</td>\n",
       "    </tr>\n",
       "    <tr>\n",
       "      <th>2023-11-30</th>\n",
       "      <td>0.000000e+00</td>\n",
       "    </tr>\n",
       "    <tr>\n",
       "      <th>2023-12-01</th>\n",
       "      <td>0.000000e+00</td>\n",
       "    </tr>\n",
       "  </tbody>\n",
       "</table>\n",
       "<p>10801 rows × 1 columns</p>\n",
       "</div>"
      ],
      "text/plain": [
       "             gp_ucb_pred\n",
       "date                    \n",
       "1981-01-30  2.014607e-17\n",
       "1981-02-02  0.000000e+00\n",
       "1981-02-03  0.000000e+00\n",
       "1981-02-04  0.000000e+00\n",
       "1981-02-05  2.259234e-03\n",
       "...                  ...\n",
       "2023-11-27  0.000000e+00\n",
       "2023-11-28  0.000000e+00\n",
       "2023-11-29  0.000000e+00\n",
       "2023-11-30  0.000000e+00\n",
       "2023-12-01  0.000000e+00\n",
       "\n",
       "[10801 rows x 1 columns]"
      ]
     },
     "execution_count": 15,
     "metadata": {},
     "output_type": "execute_result"
    }
   ],
   "source": [
    "gp_ucb = pd.read_csv(Path(\".\") / \"gp_ucb.csv\")\n",
    "gp_ucb = gp_ucb.rename(columns={\"end_date\": \"date\", \"shrinkage\": \"gp_ucb_pred\"})\n",
    "gp_ucb[\"date\"] = pd.to_datetime(gp_ucb[\"date\"])\n",
    "gp_ucb = gp_ucb.set_index(\"date\")\n",
    "gp_ucb"
   ]
  },
  {
   "cell_type": "code",
   "execution_count": 17,
   "id": "8d8c8b55df1419c6",
   "metadata": {
    "ExecuteTime": {
     "end_time": "2025-06-13T09:19:22.717611Z",
     "start_time": "2025-06-13T09:19:22.700552Z"
    }
   },
   "outputs": [],
   "source": [
    "data = pd.merge_asof(\n",
    "    data, gp_ucb, left_index=True, right_index=True, direction=\"backward\"\n",
    ")"
   ]
  },
  {
   "cell_type": "code",
   "execution_count": 18,
   "id": "778a355092ce6c1b",
   "metadata": {
    "ExecuteTime": {
     "end_time": "2025-06-13T09:19:23.121546Z",
     "start_time": "2025-06-13T09:19:23.119436Z"
    }
   },
   "outputs": [
    {
     "data": {
      "text/plain": [
       "Index(['10006', '10057', '10078', '10104', '10107', '10108', '10137', '10138',\n",
       "       '10145', '10147',\n",
       "       ...\n",
       "       '93429', '93436', 'low_risk', 'momentum', 'quality', 'size', 'value',\n",
       "       'spx', 'acc_rate', 'gp_ucb_pred'],\n",
       "      dtype='object', length=1465)"
      ]
     },
     "execution_count": 18,
     "metadata": {},
     "output_type": "execute_result"
    }
   ],
   "source": [
    "data.columns"
   ]
  },
  {
   "cell_type": "code",
   "execution_count": 16,
   "id": "2c660f539c56af02",
   "metadata": {
    "ExecuteTime": {
     "end_time": "2025-06-13T09:19:00.159257Z",
     "start_time": "2025-06-13T09:19:00.147844Z"
    }
   },
   "outputs": [],
   "source": [
    "# data = data.drop(columns=[\"shrinkage_x\", \"shrinkage_y\"])"
   ]
  },
  {
   "cell_type": "code",
   "execution_count": 19,
   "id": "9c4468deae8dbd50",
   "metadata": {
    "ExecuteTime": {
     "end_time": "2025-06-13T09:19:29.962424Z",
     "start_time": "2025-06-13T09:19:26.649537Z"
    }
   },
   "outputs": [],
   "source": [
    "data.to_csv(Path(\"../data/output\") / \"spx_data.csv\")"
   ]
  },
  {
   "cell_type": "code",
   "execution_count": null,
   "id": "e5b20c3f35df3964",
   "metadata": {},
   "outputs": [],
   "source": []
  }
 ],
 "metadata": {
  "kernelspec": {
   "display_name": "Python 3",
   "language": "python",
   "name": "python3"
  },
  "language_info": {
   "codemirror_mode": {
    "name": "ipython",
    "version": 2
   },
   "file_extension": ".py",
   "mimetype": "text/x-python",
   "name": "python",
   "nbconvert_exporter": "python",
   "pygments_lexer": "ipython2",
   "version": "2.7.6"
  }
 },
 "nbformat": 4,
 "nbformat_minor": 5
}
