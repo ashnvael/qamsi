{
 "cells": [
  {
   "cell_type": "code",
   "id": "initial_id",
   "metadata": {
    "collapsed": true,
    "ExecuteTime": {
     "end_time": "2025-06-16T17:58:42.729203Z",
     "start_time": "2025-06-16T17:58:42.540312Z"
    }
   },
   "source": [
    "import pandas as pd\n",
    "from qamsi.utils.data import read_csv\n",
    "\n",
    "recent = read_csv(\".\", \"irl_.csv\")\n",
    "# for i in range(2, 3):\n",
    "#     ckpt = read_csv(\".\", f\"cgp_ucb_{i}.csv\")\n",
    "#     recent = pd.concat([recent, ckpt], axis=0)"
   ],
   "outputs": [],
   "execution_count": 1
  },
  {
   "metadata": {
    "ExecuteTime": {
     "end_time": "2025-06-16T17:58:44.493481Z",
     "start_time": "2025-06-16T17:58:44.485162Z"
    }
   },
   "cell_type": "code",
   "source": "recent",
   "id": "432f25edb6788c23",
   "outputs": [
    {
     "data": {
      "text/plain": [
       "            irl\n",
       "date           \n",
       "1990-02-08  0.0\n",
       "1990-02-09  0.0\n",
       "1990-02-12  0.0\n",
       "1990-02-13  0.0\n",
       "1990-02-14  0.0\n",
       "...         ...\n",
       "2023-11-13  0.0\n",
       "2023-11-14  0.0\n",
       "2023-11-15  0.0\n",
       "2023-11-16  0.0\n",
       "2023-11-17  0.0\n",
       "\n",
       "[8510 rows x 1 columns]"
      ],
      "text/html": [
       "<div>\n",
       "<style scoped>\n",
       "    .dataframe tbody tr th:only-of-type {\n",
       "        vertical-align: middle;\n",
       "    }\n",
       "\n",
       "    .dataframe tbody tr th {\n",
       "        vertical-align: top;\n",
       "    }\n",
       "\n",
       "    .dataframe thead th {\n",
       "        text-align: right;\n",
       "    }\n",
       "</style>\n",
       "<table border=\"1\" class=\"dataframe\">\n",
       "  <thead>\n",
       "    <tr style=\"text-align: right;\">\n",
       "      <th></th>\n",
       "      <th>irl</th>\n",
       "    </tr>\n",
       "    <tr>\n",
       "      <th>date</th>\n",
       "      <th></th>\n",
       "    </tr>\n",
       "  </thead>\n",
       "  <tbody>\n",
       "    <tr>\n",
       "      <th>1990-02-08</th>\n",
       "      <td>0.0</td>\n",
       "    </tr>\n",
       "    <tr>\n",
       "      <th>1990-02-09</th>\n",
       "      <td>0.0</td>\n",
       "    </tr>\n",
       "    <tr>\n",
       "      <th>1990-02-12</th>\n",
       "      <td>0.0</td>\n",
       "    </tr>\n",
       "    <tr>\n",
       "      <th>1990-02-13</th>\n",
       "      <td>0.0</td>\n",
       "    </tr>\n",
       "    <tr>\n",
       "      <th>1990-02-14</th>\n",
       "      <td>0.0</td>\n",
       "    </tr>\n",
       "    <tr>\n",
       "      <th>...</th>\n",
       "      <td>...</td>\n",
       "    </tr>\n",
       "    <tr>\n",
       "      <th>2023-11-13</th>\n",
       "      <td>0.0</td>\n",
       "    </tr>\n",
       "    <tr>\n",
       "      <th>2023-11-14</th>\n",
       "      <td>0.0</td>\n",
       "    </tr>\n",
       "    <tr>\n",
       "      <th>2023-11-15</th>\n",
       "      <td>0.0</td>\n",
       "    </tr>\n",
       "    <tr>\n",
       "      <th>2023-11-16</th>\n",
       "      <td>0.0</td>\n",
       "    </tr>\n",
       "    <tr>\n",
       "      <th>2023-11-17</th>\n",
       "      <td>0.0</td>\n",
       "    </tr>\n",
       "  </tbody>\n",
       "</table>\n",
       "<p>8510 rows × 1 columns</p>\n",
       "</div>"
      ]
     },
     "execution_count": 2,
     "metadata": {},
     "output_type": "execute_result"
    }
   ],
   "execution_count": 2
  },
  {
   "metadata": {
    "ExecuteTime": {
     "end_time": "2025-06-16T17:59:01.124575Z",
     "start_time": "2025-06-16T17:59:00.646063Z"
    }
   },
   "cell_type": "code",
   "source": "data_df = read_csv(\"../../data/output/\", \"dnk_spx_data.csv\")",
   "id": "69dc51be4e245f40",
   "outputs": [],
   "execution_count": 3
  },
  {
   "metadata": {
    "ExecuteTime": {
     "end_time": "2025-06-16T17:59:01.890599Z",
     "start_time": "2025-06-16T17:59:01.887495Z"
    }
   },
   "cell_type": "code",
   "source": "data_df.shape",
   "id": "ff53be166843cb23",
   "outputs": [
    {
     "data": {
      "text/plain": [
       "(10813, 1478)"
      ]
     },
     "execution_count": 4,
     "metadata": {},
     "output_type": "execute_result"
    }
   ],
   "execution_count": 4
  },
  {
   "metadata": {
    "ExecuteTime": {
     "end_time": "2025-06-16T17:59:02.925745Z",
     "start_time": "2025-06-16T17:59:02.909632Z"
    }
   },
   "cell_type": "code",
   "source": "data_df = data_df.drop(columns=[\"end_date\"])",
   "id": "d047aadf36f0176f",
   "outputs": [],
   "execution_count": 5
  },
  {
   "metadata": {
    "ExecuteTime": {
     "end_time": "2025-06-16T17:59:07.676610Z",
     "start_time": "2025-06-16T17:59:07.658305Z"
    }
   },
   "cell_type": "code",
   "source": [
    "data_df = data_df.merge(recent, how=\"left\", left_index=True, right_index=True)\n",
    "data_df.shape"
   ],
   "id": "8458524a285bbef1",
   "outputs": [
    {
     "data": {
      "text/plain": [
       "(10813, 1478)"
      ]
     },
     "execution_count": 6,
     "metadata": {},
     "output_type": "execute_result"
    }
   ],
   "execution_count": 6
  },
  {
   "metadata": {
    "ExecuteTime": {
     "end_time": "2025-06-16T17:59:16.217160Z",
     "start_time": "2025-06-16T17:59:16.213567Z"
    }
   },
   "cell_type": "code",
   "source": [
    "opt = data_df[\"irl\"]\n",
    "opt[opt.notna()].loc[:\"2000-12-29\"]"
   ],
   "id": "42df61d007928867",
   "outputs": [
    {
     "data": {
      "text/plain": [
       "date\n",
       "1990-02-08    0.000000\n",
       "1990-02-09    0.000000\n",
       "1990-02-12    0.000000\n",
       "1990-02-13    0.000000\n",
       "1990-02-14    0.000000\n",
       "                ...   \n",
       "2000-12-22    0.200196\n",
       "2000-12-26    0.200115\n",
       "2000-12-27    0.198145\n",
       "2000-12-28    0.194620\n",
       "2000-12-29    0.194865\n",
       "Name: irl, Length: 2753, dtype: float64"
      ]
     },
     "execution_count": 7,
     "metadata": {},
     "output_type": "execute_result"
    }
   ],
   "execution_count": 7
  },
  {
   "metadata": {
    "ExecuteTime": {
     "end_time": "2025-06-16T17:59:20.173842Z",
     "start_time": "2025-06-16T17:59:20.170550Z"
    }
   },
   "cell_type": "code",
   "source": "data_df.columns",
   "id": "8d5eae7ef9328bee",
   "outputs": [
    {
     "data": {
      "text/plain": [
       "Index(['10006', '10057', '10078', '10104', '10107', '10108', '10137', '10138',\n",
       "       '10145', '10147',\n",
       "       ...\n",
       "       'stocks_vol', 'ewma', 'lw_intensity', 'momentum_feature', 'trace',\n",
       "       'universe_vol', 'lagged_target', 'target_rolling_mean',\n",
       "       'target_rolling_vol', 'irl'],\n",
       "      dtype='object', length=1478)"
      ]
     },
     "execution_count": 8,
     "metadata": {},
     "output_type": "execute_result"
    }
   ],
   "execution_count": 8
  },
  {
   "metadata": {
    "ExecuteTime": {
     "end_time": "2025-06-16T15:08:19.875844Z",
     "start_time": "2025-06-16T15:08:19.874292Z"
    }
   },
   "cell_type": "code",
   "source": "# data_df = data_df.drop(columns=\"cgp_ucb\")",
   "id": "2790e3952896edcf",
   "outputs": [],
   "execution_count": 28
  },
  {
   "metadata": {
    "ExecuteTime": {
     "end_time": "2025-06-16T17:59:26.092057Z",
     "start_time": "2025-06-16T17:59:22.935324Z"
    }
   },
   "cell_type": "code",
   "source": "data_df.to_csv(\"../../data/output/spx_data.csv\")",
   "id": "b10479b0dbe81675",
   "outputs": [],
   "execution_count": 9
  },
  {
   "metadata": {
    "ExecuteTime": {
     "end_time": "2025-06-16T15:08:19.896780Z",
     "start_time": "2025-06-16T15:08:19.895722Z"
    }
   },
   "cell_type": "code",
   "source": "",
   "id": "32d31425a9a142d9",
   "outputs": [],
   "execution_count": null
  }
 ],
 "metadata": {
  "kernelspec": {
   "display_name": "Python 3",
   "language": "python",
   "name": "python3"
  },
  "language_info": {
   "codemirror_mode": {
    "name": "ipython",
    "version": 2
   },
   "file_extension": ".py",
   "mimetype": "text/x-python",
   "name": "python",
   "nbconvert_exporter": "python",
   "pygments_lexer": "ipython2",
   "version": "2.7.6"
  }
 },
 "nbformat": 4,
 "nbformat_minor": 5
}
