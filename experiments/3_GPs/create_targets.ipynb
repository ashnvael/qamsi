{
 "cells": [
  {
   "cell_type": "code",
   "id": "initial_id",
   "metadata": {
    "collapsed": true,
    "ExecuteTime": {
     "end_time": "2025-06-14T19:33:43.555201Z",
     "start_time": "2025-06-14T19:33:43.408477Z"
    }
   },
   "source": [
    "import pandas as pd\n",
    "\n",
    "from qamsi.utils.data import read_csv"
   ],
   "outputs": [],
   "execution_count": 1
  },
  {
   "metadata": {
    "ExecuteTime": {
     "end_time": "2025-06-14T19:33:43.598113Z",
     "start_time": "2025-06-14T19:33:43.583671Z"
    }
   },
   "cell_type": "code",
   "source": [
    "recent = read_csv(\".\", \"1_targets.csv\", \"end_date\")\n",
    "for i in range(2, 9):\n",
    "    ckpt = read_csv(\".\", f\"{i}_targets.csv\", \"end_date\")\n",
    "    recent = pd.concat([recent, ckpt], axis=0)"
   ],
   "id": "cb98370652fefa72",
   "outputs": [],
   "execution_count": 2
  },
  {
   "metadata": {
    "ExecuteTime": {
     "end_time": "2025-06-14T19:33:43.610487Z",
     "start_time": "2025-06-14T19:33:43.605461Z"
    }
   },
   "cell_type": "code",
   "source": [
    "recent = recent[~recent.index.duplicated(keep=\"first\")]\n",
    "recent"
   ],
   "id": "a29f03667da8c567",
   "outputs": [
    {
     "data": {
      "text/plain": [
       "            start_date       vol  naive_vol  shrinkage\n",
       "end_date                                              \n",
       "1981-01-29  1980-12-31  0.006478   0.006508   0.167364\n",
       "1981-01-30  1981-01-02  0.006500   0.006614   0.382393\n",
       "1981-02-02  1981-01-05  0.005181   0.005253   0.197455\n",
       "1981-02-03  1981-01-06  0.004921   0.004940   0.145795\n",
       "1981-02-04  1981-01-07  0.004314   0.004395   0.210126\n",
       "...                ...       ...        ...        ...\n",
       "2023-12-12  2023-11-13  0.004721   0.004726   0.122149\n",
       "2023-12-13  2023-11-14  0.004817   0.005012   0.410885\n",
       "2023-12-14  2023-11-15  0.005649   0.005740   0.313682\n",
       "2023-12-15  2023-11-16  0.005901   0.005952   0.283729\n",
       "2023-12-18  2023-11-17  0.005987   0.006178   0.428513\n",
       "\n",
       "[10813 rows x 4 columns]"
      ],
      "text/html": [
       "<div>\n",
       "<style scoped>\n",
       "    .dataframe tbody tr th:only-of-type {\n",
       "        vertical-align: middle;\n",
       "    }\n",
       "\n",
       "    .dataframe tbody tr th {\n",
       "        vertical-align: top;\n",
       "    }\n",
       "\n",
       "    .dataframe thead th {\n",
       "        text-align: right;\n",
       "    }\n",
       "</style>\n",
       "<table border=\"1\" class=\"dataframe\">\n",
       "  <thead>\n",
       "    <tr style=\"text-align: right;\">\n",
       "      <th></th>\n",
       "      <th>start_date</th>\n",
       "      <th>vol</th>\n",
       "      <th>naive_vol</th>\n",
       "      <th>shrinkage</th>\n",
       "    </tr>\n",
       "    <tr>\n",
       "      <th>end_date</th>\n",
       "      <th></th>\n",
       "      <th></th>\n",
       "      <th></th>\n",
       "      <th></th>\n",
       "    </tr>\n",
       "  </thead>\n",
       "  <tbody>\n",
       "    <tr>\n",
       "      <th>1981-01-29</th>\n",
       "      <td>1980-12-31</td>\n",
       "      <td>0.006478</td>\n",
       "      <td>0.006508</td>\n",
       "      <td>0.167364</td>\n",
       "    </tr>\n",
       "    <tr>\n",
       "      <th>1981-01-30</th>\n",
       "      <td>1981-01-02</td>\n",
       "      <td>0.006500</td>\n",
       "      <td>0.006614</td>\n",
       "      <td>0.382393</td>\n",
       "    </tr>\n",
       "    <tr>\n",
       "      <th>1981-02-02</th>\n",
       "      <td>1981-01-05</td>\n",
       "      <td>0.005181</td>\n",
       "      <td>0.005253</td>\n",
       "      <td>0.197455</td>\n",
       "    </tr>\n",
       "    <tr>\n",
       "      <th>1981-02-03</th>\n",
       "      <td>1981-01-06</td>\n",
       "      <td>0.004921</td>\n",
       "      <td>0.004940</td>\n",
       "      <td>0.145795</td>\n",
       "    </tr>\n",
       "    <tr>\n",
       "      <th>1981-02-04</th>\n",
       "      <td>1981-01-07</td>\n",
       "      <td>0.004314</td>\n",
       "      <td>0.004395</td>\n",
       "      <td>0.210126</td>\n",
       "    </tr>\n",
       "    <tr>\n",
       "      <th>...</th>\n",
       "      <td>...</td>\n",
       "      <td>...</td>\n",
       "      <td>...</td>\n",
       "      <td>...</td>\n",
       "    </tr>\n",
       "    <tr>\n",
       "      <th>2023-12-12</th>\n",
       "      <td>2023-11-13</td>\n",
       "      <td>0.004721</td>\n",
       "      <td>0.004726</td>\n",
       "      <td>0.122149</td>\n",
       "    </tr>\n",
       "    <tr>\n",
       "      <th>2023-12-13</th>\n",
       "      <td>2023-11-14</td>\n",
       "      <td>0.004817</td>\n",
       "      <td>0.005012</td>\n",
       "      <td>0.410885</td>\n",
       "    </tr>\n",
       "    <tr>\n",
       "      <th>2023-12-14</th>\n",
       "      <td>2023-11-15</td>\n",
       "      <td>0.005649</td>\n",
       "      <td>0.005740</td>\n",
       "      <td>0.313682</td>\n",
       "    </tr>\n",
       "    <tr>\n",
       "      <th>2023-12-15</th>\n",
       "      <td>2023-11-16</td>\n",
       "      <td>0.005901</td>\n",
       "      <td>0.005952</td>\n",
       "      <td>0.283729</td>\n",
       "    </tr>\n",
       "    <tr>\n",
       "      <th>2023-12-18</th>\n",
       "      <td>2023-11-17</td>\n",
       "      <td>0.005987</td>\n",
       "      <td>0.006178</td>\n",
       "      <td>0.428513</td>\n",
       "    </tr>\n",
       "  </tbody>\n",
       "</table>\n",
       "<p>10813 rows × 4 columns</p>\n",
       "</div>"
      ]
     },
     "execution_count": 3,
     "metadata": {},
     "output_type": "execute_result"
    }
   ],
   "execution_count": 3
  },
  {
   "metadata": {
    "ExecuteTime": {
     "end_time": "2025-06-14T19:33:43.653210Z",
     "start_time": "2025-06-14T19:33:43.628917Z"
    }
   },
   "cell_type": "code",
   "source": "recent.to_csv(\"full_targets.csv\")",
   "id": "d849c7eb2517db1",
   "outputs": [],
   "execution_count": 4
  },
  {
   "metadata": {
    "ExecuteTime": {
     "end_time": "2025-06-14T19:33:43.671461Z",
     "start_time": "2025-06-14T19:33:43.670232Z"
    }
   },
   "cell_type": "code",
   "source": "",
   "id": "78c6793378fa63ee",
   "outputs": [],
   "execution_count": null
  }
 ],
 "metadata": {
  "kernelspec": {
   "display_name": "Python 3",
   "language": "python",
   "name": "python3"
  },
  "language_info": {
   "codemirror_mode": {
    "name": "ipython",
    "version": 2
   },
   "file_extension": ".py",
   "mimetype": "text/x-python",
   "name": "python",
   "nbconvert_exporter": "python",
   "pygments_lexer": "ipython2",
   "version": "2.7.6"
  }
 },
 "nbformat": 4,
 "nbformat_minor": 5
}
