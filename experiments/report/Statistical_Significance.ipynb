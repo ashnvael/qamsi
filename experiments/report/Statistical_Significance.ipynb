{
 "cells": [
  {
   "cell_type": "code",
   "execution_count": 17,
   "id": "initial_id",
   "metadata": {
    "ExecuteTime": {
     "end_time": "2025-06-25T16:10:03.857332Z",
     "start_time": "2025-06-25T16:10:03.853883Z"
    },
    "collapsed": true
   },
   "outputs": [],
   "source": [
    "from __future__ import annotations\n",
    "\n",
    "from scipy.stats import levene\n",
    "\n",
    "from qamsi.cov_estimators.cov_estimators import CovEstimators\n",
    "from qamsi.utils.data import read_csv\n",
    "from run import Dataset\n",
    "\n",
    "REBAL_FREQ = \"ME\"\n",
    "TOP_N = 500\n",
    "DATASET = Dataset.TOPN_US\n",
    "ESTIMATORS = [\n",
    "    CovEstimators.RF.value(shrinkage_type=\"linear\"),\n",
    "    CovEstimators.PRETRAINED.value(name=\"irl\"),\n",
    "]\n",
    "BASELINE = CovEstimators.DNK.value(shrinkage_type=\"linear\")"
   ]
  },
  {
   "cell_type": "code",
   "execution_count": 18,
   "id": "9e7a2c8276d3a405",
   "metadata": {
    "ExecuteTime": {
     "end_time": "2025-06-25T16:10:04.354487Z",
     "start_time": "2025-06-25T16:10:04.346036Z"
    }
   },
   "outputs": [],
   "source": [
    "baseline_name = DATASET.name + BASELINE.__class__.__name__ + f\"_rebal{REBAL_FREQ}\"\n",
    "baseline = read_csv(DATASET.value(topn=TOP_N).SAVE_PATH, baseline_name + \".csv\")"
   ]
  },
  {
   "cell_type": "code",
   "execution_count": 19,
   "id": "894552a98100e6fa",
   "metadata": {
    "ExecuteTime": {
     "end_time": "2025-06-25T16:10:05.095594Z",
     "start_time": "2025-06-25T16:10:05.074116Z"
    }
   },
   "outputs": [
    {
     "name": "stdout",
     "output_type": "stream",
     "text": [
      "0.4867048353671247\n",
      "0.3432167284568819\n"
     ]
    }
   ],
   "source": [
    "for estimator in ESTIMATORS:\n",
    "    strategy_name = DATASET.name + estimator.__class__.__name__ + f\"_rebal{REBAL_FREQ}\"\n",
    "    strategy = read_csv(DATASET.value(topn=TOP_N).SAVE_PATH, strategy_name + \".csv\")\n",
    "\n",
    "    print(levene(strategy[\"strategy_xs_r\"], baseline[\"strategy_xs_r\"]).pvalue)"
   ]
  },
  {
   "cell_type": "code",
   "execution_count": null,
   "id": "860958a757530f14",
   "metadata": {
    "ExecuteTime": {
     "end_time": "2025-06-25T15:26:44.817591Z",
     "start_time": "2025-06-25T15:26:44.813540Z"
    }
   },
   "outputs": [],
   "source": []
  }
 ],
 "metadata": {
  "kernelspec": {
   "display_name": "Python 3",
   "language": "python",
   "name": "python3"
  },
  "language_info": {
   "codemirror_mode": {
    "name": "ipython",
    "version": 2
   },
   "file_extension": ".py",
   "mimetype": "text/x-python",
   "name": "python",
   "nbconvert_exporter": "python",
   "pygments_lexer": "ipython2",
   "version": "2.7.6"
  }
 },
 "nbformat": 4,
 "nbformat_minor": 5
}
