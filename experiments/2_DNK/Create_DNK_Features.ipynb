{
 "cells": [
  {
   "cell_type": "code",
   "id": "initial_id",
   "metadata": {
    "collapsed": true,
    "ExecuteTime": {
     "end_time": "2025-06-15T09:57:19.625171Z",
     "start_time": "2025-06-15T09:57:18.054800Z"
    }
   },
   "source": [
    "import pandas as pd\n",
    "\n",
    "from run import Dataset\n",
    "\n",
    "DATASET = Dataset.SPX_US\n",
    "\n",
    "config = DATASET.value()\n",
    "config"
   ],
   "outputs": [
    {
     "data": {
      "text/plain": [
       "ExperimentConfig:\n",
       "* RANDOM_SEED = 12\n",
       "* PATH_OUTPUT = /Users/buchkovv/qamsi/data/output\n",
       "* SAVE_PATH = /Users/buchkovv/qamsi/backtests/runs\n",
       "* DF_FILENAME = spx_data.csv\n",
       "* START_DATE = 2000-12-18 00:00:00\n",
       "* END_DATE = 2024-12-31 00:00:00\n",
       "* REBALANCE_FREQ = 21\n",
       "* HEDGE_FREQ = 1\n",
       "* N_LOOKBEHIND_PERIODS = 252\n",
       "* MIN_ROLLING_PERIODS = 252\n",
       "* CAUSAL_WINDOW_SIZE = None\n",
       "* ASSET_UNIVERSE = ('spx',)\n",
       "* FACTORS = ('spx',)\n",
       "* TARGETS = ('vol', 'naive_vol', 'target')\n",
       "* HEDGING_ASSETS = ('spx_fut',)\n",
       "* RF_NAME = acc_rate\n",
       "* MKT_NAME = spx\n",
       "* PATH_FEATURES = /data/gw\n",
       "* PATH_MARKET_DATA = /data/spx_stocks\n",
       "* PATH_BETTER_MARKET_DATA = /data/spxc\n",
       "* PATH_INPUT = /Users/buchkovv/qamsi/data/input\n",
       "* INITIAL_DF_FILENAME = initial_df.csv\n",
       "* JKP_DATA_FILENAME = jkp_data.csv\n",
       "* STOCKS_LIST_FILENAME = spx_stocks_list.csv\n",
       "* INITIAL_FEATURES_FILENAME = initial_features_df.csv\n",
       "* RETURNS_FILENAME = returns_incl_div_consituents_w_name.csv\n",
       "* BETTER_RETURNS_FILENAME = returns_data_cleaned_better.parquet\n",
       "* PRESENCE_MATRIX_FILENAME = presence_matrix.csv"
      ]
     },
     "execution_count": 1,
     "metadata": {},
     "output_type": "execute_result"
    }
   ],
   "execution_count": 1
  },
  {
   "cell_type": "code",
   "id": "e59331b65f7ad9b",
   "metadata": {
    "ExecuteTime": {
     "end_time": "2025-06-15T09:57:25.664759Z",
     "start_time": "2025-06-15T09:57:25.214563Z"
    }
   },
   "source": [
    "from pathlib import Path\n",
    "\n",
    "PATH = Path(\"../../data/output\")\n",
    "\n",
    "data = pd.read_csv(PATH / \"spx_data.csv\")\n",
    "data[\"date\"] = pd.to_datetime(data[\"date\"])\n",
    "data = data.set_index(\"date\")\n",
    "data.shape"
   ],
   "outputs": [
    {
     "data": {
      "text/plain": [
       "(11093, 1465)"
      ]
     },
     "execution_count": 2,
     "metadata": {},
     "output_type": "execute_result"
    }
   ],
   "execution_count": 2
  },
  {
   "metadata": {
    "ExecuteTime": {
     "end_time": "2025-06-15T09:57:38.621982Z",
     "start_time": "2025-06-15T09:57:38.601547Z"
    }
   },
   "cell_type": "code",
   "source": "# data = data.drop(columns=[\"gp_ucb_pred\"])",
   "id": "80a65d4135bb7a77",
   "outputs": [],
   "execution_count": 3
  },
  {
   "cell_type": "code",
   "id": "accbbe09179db12",
   "metadata": {
    "ExecuteTime": {
     "end_time": "2025-06-14T19:02:07.986709Z",
     "start_time": "2025-06-14T19:02:07.963277Z"
    }
   },
   "source": [
    "stocks = list(\n",
    "    tuple(\n",
    "        pd.read_csv(config.PATH_OUTPUT / config.STOCKS_LIST_FILENAME)\n",
    "        .iloc[:, 0]\n",
    "        .astype(str)\n",
    "        .tolist(),\n",
    "    )\n",
    ")\n",
    "\n",
    "ret = data[stocks]\n",
    "ret.shape"
   ],
   "outputs": [
    {
     "data": {
      "text/plain": [
       "(11093, 1457)"
      ]
     },
     "execution_count": 14,
     "metadata": {},
     "output_type": "execute_result"
    }
   ],
   "execution_count": 14
  },
  {
   "cell_type": "markdown",
   "id": "6b4fa2a74e34386",
   "metadata": {},
   "source": "### 1. Avg Corr."
  },
  {
   "cell_type": "code",
   "id": "247c20c24cbb2c8f",
   "metadata": {
    "ExecuteTime": {
     "end_time": "2025-06-14T19:25:10.725400Z",
     "start_time": "2025-06-14T19:02:08.003651Z"
    }
   },
   "source": [
    "# import pandas as pd\n",
    "#\n",
    "# # Assuming `ret` is your DataFrame of returns (date as index), and it is already loaded\n",
    "#\n",
    "# # Define the rolling window and minimum periods\n",
    "# window = 252\n",
    "# min_periods = 252\n",
    "#\n",
    "# # Function to compute the average of non-diagonal elements in each correlation matrix\n",
    "# def avg_non_diagonal_elements(corr_matrix):\n",
    "#     # Select the non-diagonal elements using numpy\n",
    "#     non_diag = corr_matrix.values[np.triu_indices_from(corr_matrix, k=1)]\n",
    "#     return np.nanmean(non_diag)\n",
    "#\n",
    "# # Function to compute rolling correlation\n",
    "# def rolling_avg_non_diag_corr(df, window, min_periods):\n",
    "#     # Initialize a list to store results\n",
    "#     results = []\n",
    "#\n",
    "#     # Perform calculation for each rolling window\n",
    "#     for start in range(len(df) - window + 1):\n",
    "#         end = start + window\n",
    "#         rolling_window = df.iloc[start:end]\n",
    "#\n",
    "#         # Compute the correlation matrix for the rolling window\n",
    "#         corr_matrix = rolling_window.corr()\n",
    "#\n",
    "#         # Compute the average of non-diagonal elements\n",
    "#         avg_correlation = avg_non_diagonal_elements(corr_matrix)\n",
    "#         results.append(avg_correlation)\n",
    "#\n",
    "#     # Create a series with the results\n",
    "#     rolling_avg_corr = pd.Series(results, index=df.index[window - 1 :])\n",
    "#     return rolling_avg_corr\n",
    "#\n",
    "# # Calculate rolling average correlation of non-diagonal elements\n",
    "# rolling_avg_corr = rolling_avg_non_diag_corr(ret, window, min_periods)\n",
    "#\n",
    "# # Output rolling_avg_corr as the result\n",
    "# rolling_avg_corr.shape"
   ],
   "outputs": [
    {
     "data": {
      "text/plain": [
       "(10842,)"
      ]
     },
     "execution_count": 15,
     "metadata": {},
     "output_type": "execute_result"
    }
   ],
   "execution_count": 15
  },
  {
   "cell_type": "code",
   "id": "f84b9c7077e5cd24",
   "metadata": {
    "ExecuteTime": {
     "end_time": "2025-06-14T19:25:10.743835Z",
     "start_time": "2025-06-14T19:25:10.742488Z"
    }
   },
   "source": "rolling_avg_corr = pd.read_csv(PATH / \"avg_corr.csv\")",
   "outputs": [],
   "execution_count": 16
  },
  {
   "cell_type": "code",
   "id": "3d183331db0a6d7f",
   "metadata": {
    "ExecuteTime": {
     "end_time": "2025-06-14T19:25:10.770040Z",
     "start_time": "2025-06-14T19:25:10.756119Z"
    }
   },
   "source": "# rolling_avg_corr.to_csv(PATH / \"avg_corr.csv\")",
   "outputs": [],
   "execution_count": 17
  },
  {
   "cell_type": "markdown",
   "id": "f4f8ad83684db101",
   "metadata": {},
   "source": "### 2. Average volatility."
  },
  {
   "cell_type": "code",
   "id": "8874e169248e80fd",
   "metadata": {
    "ExecuteTime": {
     "end_time": "2025-06-14T19:25:11.027216Z",
     "start_time": "2025-06-14T19:25:10.785053Z"
    }
   },
   "source": [
    "avg_vol = ret.rolling(window=252, min_periods=1).std().mean(axis=1)\n",
    "avg_vol.shape"
   ],
   "outputs": [
    {
     "data": {
      "text/plain": [
       "(11093,)"
      ]
     },
     "execution_count": 18,
     "metadata": {},
     "output_type": "execute_result"
    }
   ],
   "execution_count": 18
  },
  {
   "cell_type": "markdown",
   "id": "b2afd1782d5a9bc2",
   "metadata": {},
   "source": "### 3. EW Portfolio."
  },
  {
   "cell_type": "code",
   "id": "6db509b46d11a589",
   "metadata": {
    "ExecuteTime": {
     "end_time": "2025-06-14T19:25:11.238354Z",
     "start_time": "2025-06-14T19:25:11.044274Z"
    }
   },
   "source": [
    "import numpy as np\n",
    "\n",
    "ew = ret.apply(np.nanmean, axis=1)\n",
    "ew"
   ],
   "outputs": [
    {
     "data": {
      "text/plain": [
       "date\n",
       "1980-01-02   -0.016411\n",
       "1980-01-03   -0.007948\n",
       "1980-01-04    0.015455\n",
       "1980-01-07    0.003652\n",
       "1980-01-08    0.016765\n",
       "                ...   \n",
       "2023-12-22    0.003390\n",
       "2023-12-26    0.005998\n",
       "2023-12-27    0.001137\n",
       "2023-12-28    0.001180\n",
       "2023-12-29   -0.002990\n",
       "Length: 11093, dtype: float64"
      ]
     },
     "execution_count": 19,
     "metadata": {},
     "output_type": "execute_result"
    }
   ],
   "execution_count": 19
  },
  {
   "cell_type": "code",
   "id": "fe82876ea9486811",
   "metadata": {
    "ExecuteTime": {
     "end_time": "2025-06-14T19:25:11.867780Z",
     "start_time": "2025-06-14T19:25:11.270282Z"
    }
   },
   "source": [
    "ewma = []\n",
    "for date in ew.index[21 - 1 :]:\n",
    "    end = date\n",
    "    sample = ew.loc[:end].iloc[-21:]\n",
    "\n",
    "    ma = sample.ewm(alpha=0.1).mean().iloc[-1]\n",
    "\n",
    "    ewma.append([date, ma])"
   ],
   "outputs": [],
   "execution_count": 20
  },
  {
   "cell_type": "code",
   "id": "d8ca4c0f7fa29023",
   "metadata": {
    "ExecuteTime": {
     "end_time": "2025-06-14T19:25:11.912546Z",
     "start_time": "2025-06-14T19:25:11.903928Z"
    }
   },
   "source": [
    "ewma = pd.DataFrame(ewma, columns=[\"date\", \"ewma\"]).set_index(\"date\").iloc[:, 0]\n",
    "ewma"
   ],
   "outputs": [
    {
     "data": {
      "text/plain": [
       "date\n",
       "1980-01-30    0.003116\n",
       "1980-01-31    0.002309\n",
       "1980-02-01    0.002758\n",
       "1980-02-04    0.002024\n",
       "1980-02-05    0.001906\n",
       "                ...   \n",
       "2023-12-22    0.003470\n",
       "2023-12-26    0.003755\n",
       "2023-12-27    0.003549\n",
       "2023-12-28    0.003336\n",
       "2023-12-29    0.002619\n",
       "Name: ewma, Length: 11073, dtype: float64"
      ]
     },
     "execution_count": 21,
     "metadata": {},
     "output_type": "execute_result"
    }
   ],
   "execution_count": 21
  },
  {
   "cell_type": "markdown",
   "id": "37f2efb979d65b82",
   "metadata": {},
   "source": "### 4. Ledoit-Wolf Shrinkage Intensity."
  },
  {
   "cell_type": "code",
   "id": "3da2b1a1e669381",
   "metadata": {
    "ExecuteTime": {
     "end_time": "2025-06-14T19:29:51.550650Z",
     "start_time": "2025-06-14T19:25:11.973825Z"
    }
   },
   "source": [
    "from tqdm import tqdm\n",
    "from sklearn.covariance import LedoitWolf\n",
    "\n",
    "lw_intensity = []\n",
    "for date in tqdm(ew.index[252 - 1 :]):\n",
    "    end = date\n",
    "    sample = ret.loc[:end].iloc[-252:].dropna(axis=1)\n",
    "\n",
    "    lw = LedoitWolf()\n",
    "    lw.fit(sample)\n",
    "\n",
    "    lw_intensity.append([date, lw.shrinkage_])\n",
    "lw_intensity = (\n",
    "    pd.DataFrame(lw_intensity, columns=[\"date\", \"lw_intensity\"])\n",
    "    .set_index(\"date\")\n",
    "    .iloc[:, 0]\n",
    ")"
   ],
   "outputs": [
    {
     "name": "stderr",
     "output_type": "stream",
     "text": [
      "100%|██████████| 10842/10842 [04:39<00:00, 38.78it/s]\n"
     ]
    }
   ],
   "execution_count": 22
  },
  {
   "cell_type": "code",
   "id": "7ecfb2a6fe1bb4b4",
   "metadata": {
    "ExecuteTime": {
     "end_time": "2025-06-14T19:29:51.594573Z",
     "start_time": "2025-06-14T19:29:51.592577Z"
    }
   },
   "source": [
    "lw_intensity.head()"
   ],
   "outputs": [
    {
     "data": {
      "text/plain": [
       "date\n",
       "1980-12-30    0.103118\n",
       "1980-12-31    0.105223\n",
       "1981-01-02    0.105667\n",
       "1981-01-05    0.106538\n",
       "1981-01-06    0.106711\n",
       "Name: lw_intensity, dtype: float64"
      ]
     },
     "execution_count": 23,
     "metadata": {},
     "output_type": "execute_result"
    }
   ],
   "execution_count": 23
  },
  {
   "cell_type": "code",
   "id": "ace57696cf319eb9",
   "metadata": {
    "ExecuteTime": {
     "end_time": "2025-06-14T19:29:51.620847Z",
     "start_time": "2025-06-14T19:29:51.619019Z"
    }
   },
   "source": [
    "sample.shape"
   ],
   "outputs": [
    {
     "data": {
      "text/plain": [
       "(252, 432)"
      ]
     },
     "execution_count": 24,
     "metadata": {},
     "output_type": "execute_result"
    }
   ],
   "execution_count": 24
  },
  {
   "cell_type": "code",
   "id": "bfce8efebc7a1bb4",
   "metadata": {
    "ExecuteTime": {
     "end_time": "2025-06-14T19:29:51.649587Z",
     "start_time": "2025-06-14T19:29:51.647480Z"
    }
   },
   "source": [
    "np.nanmean(np.where(sample, sample > 0, 1), axis=0).mean()"
   ],
   "outputs": [
    {
     "data": {
      "text/plain": [
       "np.float64(0.5251322751322751)"
      ]
     },
     "execution_count": 25,
     "metadata": {},
     "output_type": "execute_result"
    }
   ],
   "execution_count": 25
  },
  {
   "cell_type": "markdown",
   "id": "de73e3c69368473",
   "metadata": {},
   "source": "### 5. Momentum"
  },
  {
   "cell_type": "code",
   "id": "cc940cf8befc419d",
   "metadata": {
    "ExecuteTime": {
     "end_time": "2025-06-14T19:29:54.644068Z",
     "start_time": "2025-06-14T19:29:51.674295Z"
    }
   },
   "source": [
    "momentum = []\n",
    "for date in tqdm(ew.index[21 - 1 :]):\n",
    "    end = date\n",
    "    sample = ret.loc[:end].iloc[-21:].dropna(axis=1)\n",
    "\n",
    "    mom = np.nanmean(np.where(sample, sample > 0, 1), axis=0).mean()\n",
    "\n",
    "    momentum.append([date, mom])\n",
    "momentum = (\n",
    "    pd.DataFrame(momentum, columns=[\"date\", \"momentum_feature\"])\n",
    "    .set_index(\"date\")\n",
    "    .iloc[:, 0]\n",
    ")"
   ],
   "outputs": [
    {
     "name": "stderr",
     "output_type": "stream",
     "text": [
      "100%|██████████| 11073/11073 [00:02<00:00, 3738.05it/s]\n"
     ]
    }
   ],
   "execution_count": 26
  },
  {
   "cell_type": "markdown",
   "id": "cbdff7d7a753a8e7",
   "metadata": {},
   "source": "### 6. Trace."
  },
  {
   "cell_type": "code",
   "id": "4b33735dd2236206",
   "metadata": {
    "ExecuteTime": {
     "end_time": "2025-06-14T19:29:54.668287Z",
     "start_time": "2025-06-14T19:29:54.665610Z"
    }
   },
   "source": [
    "np.trace(sample.cov())"
   ],
   "outputs": [
    {
     "data": {
      "text/plain": [
       "np.float64(0.12288092370262858)"
      ]
     },
     "execution_count": 27,
     "metadata": {},
     "output_type": "execute_result"
    }
   ],
   "execution_count": 27
  },
  {
   "cell_type": "code",
   "id": "e24de4e54ad501ee",
   "metadata": {
    "ExecuteTime": {
     "end_time": "2025-06-14T19:30:06.074510Z",
     "start_time": "2025-06-14T19:29:54.688594Z"
    }
   },
   "source": [
    "trace = []\n",
    "for date in tqdm(ew.index[252 - 1 :]):\n",
    "    end = date\n",
    "    sample = ret.loc[:end].iloc[-252:].dropna(axis=1)\n",
    "\n",
    "    mom = np.trace(sample.cov())\n",
    "\n",
    "    trace.append([date, mom])\n",
    "trace = pd.DataFrame(trace, columns=[\"date\", \"trace\"]).set_index(\"date\").iloc[:, 0]"
   ],
   "outputs": [
    {
     "name": "stderr",
     "output_type": "stream",
     "text": [
      "100%|██████████| 10842/10842 [00:11<00:00, 952.87it/s] \n"
     ]
    }
   ],
   "execution_count": 28
  },
  {
   "cell_type": "markdown",
   "id": "6352f15c93631ff3",
   "metadata": {},
   "source": "### 7. Universe Volatility."
  },
  {
   "cell_type": "code",
   "id": "6a30e91f9090cf56",
   "metadata": {
    "ExecuteTime": {
     "end_time": "2025-06-14T19:30:06.098331Z",
     "start_time": "2025-06-14T19:30:06.095565Z"
    }
   },
   "source": [
    "ew_vol = ew.rolling(window=252, min_periods=1).std()\n",
    "ew_vol"
   ],
   "outputs": [
    {
     "data": {
      "text/plain": [
       "date\n",
       "1980-01-02         NaN\n",
       "1980-01-03    0.005984\n",
       "1980-01-04    0.016506\n",
       "1980-01-07    0.013878\n",
       "1980-01-08    0.014485\n",
       "                ...   \n",
       "2023-12-22    0.009123\n",
       "2023-12-26    0.009099\n",
       "2023-12-27    0.009090\n",
       "2023-12-28    0.009090\n",
       "2023-12-29    0.009049\n",
       "Length: 11093, dtype: float64"
      ]
     },
     "execution_count": 29,
     "metadata": {},
     "output_type": "execute_result"
    }
   ],
   "execution_count": 29
  },
  {
   "cell_type": "markdown",
   "id": "97a9030f77d934b7",
   "metadata": {},
   "source": "### Append features."
  },
  {
   "cell_type": "code",
   "id": "2263e3b3647ffe16",
   "metadata": {
    "ExecuteTime": {
     "end_time": "2025-06-14T19:31:29.561167Z",
     "start_time": "2025-06-14T19:31:29.559744Z"
    }
   },
   "source": [
    "# rolling_avg_corr[\"date\"] = pd.to_datetime(rolling_avg_corr[\"date\"])\n",
    "# rolling_avg_corr = rolling_avg_corr.set_index(\"date\")\n",
    "# rolling_avg_corr.columns = [\"avg_corr_stocks\"]"
   ],
   "outputs": [],
   "execution_count": 31
  },
  {
   "cell_type": "code",
   "id": "f4e0a9f68ce2529d",
   "metadata": {
    "ExecuteTime": {
     "end_time": "2025-06-14T19:31:52.232570Z",
     "start_time": "2025-06-14T19:31:52.229155Z"
    }
   },
   "source": [
    "features = rolling_avg_corr.to_frame(\"avg_corr\").merge(\n",
    "    avg_vol.rename(\"stocks_vol\"), how=\"inner\", left_index=True, right_index=True\n",
    ")\n",
    "features.shape"
   ],
   "outputs": [
    {
     "data": {
      "text/plain": [
       "(10842, 2)"
      ]
     },
     "execution_count": 33,
     "metadata": {},
     "output_type": "execute_result"
    }
   ],
   "execution_count": 33
  },
  {
   "cell_type": "code",
   "id": "d11af746876c1256",
   "metadata": {
    "ExecuteTime": {
     "end_time": "2025-06-14T19:31:53.890017Z",
     "start_time": "2025-06-14T19:31:53.886889Z"
    }
   },
   "source": [
    "features = features.merge(ewma, how=\"inner\", left_index=True, right_index=True)\n",
    "features.shape"
   ],
   "outputs": [
    {
     "data": {
      "text/plain": [
       "(10842, 3)"
      ]
     },
     "execution_count": 34,
     "metadata": {},
     "output_type": "execute_result"
    }
   ],
   "execution_count": 34
  },
  {
   "cell_type": "code",
   "id": "a047d6cc516a8a7c",
   "metadata": {
    "ExecuteTime": {
     "end_time": "2025-06-14T19:31:55.155545Z",
     "start_time": "2025-06-14T19:31:55.150353Z"
    }
   },
   "source": [
    "features = features.merge(lw_intensity, how=\"inner\", left_index=True, right_index=True)\n",
    "features.shape"
   ],
   "outputs": [
    {
     "data": {
      "text/plain": [
       "(10842, 4)"
      ]
     },
     "execution_count": 35,
     "metadata": {},
     "output_type": "execute_result"
    }
   ],
   "execution_count": 35
  },
  {
   "cell_type": "code",
   "id": "54ce8748c93baa0f",
   "metadata": {
    "ExecuteTime": {
     "end_time": "2025-06-14T19:31:55.672056Z",
     "start_time": "2025-06-14T19:31:55.668490Z"
    }
   },
   "source": [
    "features = features.merge(momentum, how=\"inner\", left_index=True, right_index=True)\n",
    "features.shape"
   ],
   "outputs": [
    {
     "data": {
      "text/plain": [
       "(10842, 5)"
      ]
     },
     "execution_count": 36,
     "metadata": {},
     "output_type": "execute_result"
    }
   ],
   "execution_count": 36
  },
  {
   "cell_type": "code",
   "id": "28ead313af7ecbf5",
   "metadata": {
    "ExecuteTime": {
     "end_time": "2025-06-14T19:31:57.333804Z",
     "start_time": "2025-06-14T19:31:57.330677Z"
    }
   },
   "source": [
    "features = features.merge(trace, how=\"inner\", left_index=True, right_index=True)\n",
    "features.shape"
   ],
   "outputs": [
    {
     "data": {
      "text/plain": [
       "(10842, 6)"
      ]
     },
     "execution_count": 37,
     "metadata": {},
     "output_type": "execute_result"
    }
   ],
   "execution_count": 37
  },
  {
   "cell_type": "code",
   "id": "2194ac5c1799d933",
   "metadata": {
    "ExecuteTime": {
     "end_time": "2025-06-14T19:31:58.357509Z",
     "start_time": "2025-06-14T19:31:58.353400Z"
    }
   },
   "source": [
    "features = features.merge(\n",
    "    ew_vol.rename(\"universe_vol\"), how=\"inner\", left_index=True, right_index=True\n",
    ")\n",
    "features.shape"
   ],
   "outputs": [
    {
     "data": {
      "text/plain": [
       "(10842, 7)"
      ]
     },
     "execution_count": 38,
     "metadata": {},
     "output_type": "execute_result"
    }
   ],
   "execution_count": 38
  },
  {
   "metadata": {
    "ExecuteTime": {
     "end_time": "2025-06-14T19:32:00.027398Z",
     "start_time": "2025-06-14T19:31:59.974455Z"
    }
   },
   "cell_type": "code",
   "source": "# features.to_csv(\"init_features.csv\")",
   "id": "6876f2d2bdf7e578",
   "outputs": [],
   "execution_count": 39
  },
  {
   "metadata": {
    "ExecuteTime": {
     "end_time": "2025-06-15T09:58:17.411034Z",
     "start_time": "2025-06-15T09:58:17.401538Z"
    }
   },
   "cell_type": "code",
   "source": [
    "features = pd.read_csv(\"init_features.csv\")\n",
    "features[\"date\"] = pd.to_datetime(features[\"date\"])\n",
    "features = features.set_index(\"date\")"
   ],
   "id": "19cba7c11883e151",
   "outputs": [],
   "execution_count": 4
  },
  {
   "cell_type": "code",
   "id": "9c13554e9cdeaa59",
   "metadata": {
    "ExecuteTime": {
     "end_time": "2025-06-15T09:58:18.996240Z",
     "start_time": "2025-06-15T09:58:18.986550Z"
    }
   },
   "source": [
    "targets = pd.read_csv(\"targets.csv\")\n",
    "targets[\"start_date\"] = pd.to_datetime(targets[\"start_date\"])\n",
    "targets[\"end_date\"] = pd.to_datetime(targets[\"end_date\"])"
   ],
   "outputs": [],
   "execution_count": 5
  },
  {
   "metadata": {
    "ExecuteTime": {
     "end_time": "2025-06-15T09:58:20.185629Z",
     "start_time": "2025-06-15T09:58:20.183625Z"
    }
   },
   "cell_type": "code",
   "source": "targets.shape",
   "id": "76bb8bb65187ba6b",
   "outputs": [
    {
     "data": {
      "text/plain": [
       "(10813, 5)"
      ]
     },
     "execution_count": 6,
     "metadata": {},
     "output_type": "execute_result"
    }
   ],
   "execution_count": 6
  },
  {
   "metadata": {
    "ExecuteTime": {
     "end_time": "2025-06-15T09:58:20.936393Z",
     "start_time": "2025-06-15T09:58:20.933070Z"
    }
   },
   "cell_type": "code",
   "source": [
    "data_df = targets.merge(features, how=\"inner\", left_on=\"start_date\", right_index=True)\n",
    "data_df.shape"
   ],
   "id": "decbbc1dd480614e",
   "outputs": [
    {
     "data": {
      "text/plain": [
       "(10813, 12)"
      ]
     },
     "execution_count": 7,
     "metadata": {},
     "output_type": "execute_result"
    }
   ],
   "execution_count": 7
  },
  {
   "metadata": {
    "ExecuteTime": {
     "end_time": "2025-06-15T09:58:22.111006Z",
     "start_time": "2025-06-15T09:58:22.105389Z"
    }
   },
   "cell_type": "code",
   "source": "data_df",
   "id": "a55ab2b0dcf5c7f5",
   "outputs": [
    {
     "data": {
      "text/plain": [
       "        end_date start_date       vol  naive_vol  shrinkage  avg_corr  \\\n",
       "0     1981-01-29 1980-12-31  0.006478   0.006508   0.167364  0.190375   \n",
       "1     1981-01-30 1981-01-02  0.006500   0.006614   0.382393  0.189589   \n",
       "2     1981-02-02 1981-01-05  0.005181   0.005253   0.197455  0.189760   \n",
       "3     1981-02-03 1981-01-06  0.004921   0.004940   0.145795  0.189453   \n",
       "4     1981-02-04 1981-01-07  0.004314   0.004395   0.210126  0.193561   \n",
       "...          ...        ...       ...        ...        ...       ...   \n",
       "10808 2023-12-12 2023-11-13  0.004721   0.004726   0.122149  0.266976   \n",
       "10809 2023-12-13 2023-11-14  0.004817   0.005012   0.410885  0.274954   \n",
       "10810 2023-12-14 2023-11-15  0.005649   0.005740   0.313682  0.274016   \n",
       "10811 2023-12-15 2023-11-16  0.005901   0.005952   0.283729  0.273183   \n",
       "10812 2023-12-18 2023-11-17  0.005987   0.006178   0.428513  0.273642   \n",
       "\n",
       "       stocks_vol      ewma  lw_intensity  momentum_feature     trace  \\\n",
       "0        0.021256  0.002557      0.105223          0.563100  0.216770   \n",
       "1        0.021260  0.003088      0.105667          0.572604  0.216851   \n",
       "2        0.021279  0.004551      0.106538          0.581325  0.217056   \n",
       "3        0.021304  0.004652      0.106711          0.581031  0.217361   \n",
       "4        0.021344  0.001649      0.103907          0.573192  0.217902   \n",
       "...           ...       ...           ...               ...       ...   \n",
       "10808    0.018326  0.001329      0.052586          0.506435  0.146626   \n",
       "10809    0.018364  0.004217      0.050911          0.507400  0.147174   \n",
       "10810    0.018356  0.004370      0.051184          0.505338  0.147103   \n",
       "10811    0.018347  0.003686      0.051374          0.517937  0.146914   \n",
       "10812    0.018312  0.004056      0.051705          0.542601  0.146261   \n",
       "\n",
       "       universe_vol  \n",
       "0          0.009231  \n",
       "1          0.009219  \n",
       "2          0.009223  \n",
       "3          0.009225  \n",
       "4          0.009310  \n",
       "...             ...  \n",
       "10808      0.009336  \n",
       "10809      0.009479  \n",
       "10810      0.009459  \n",
       "10811      0.009443  \n",
       "10812      0.009424  \n",
       "\n",
       "[10813 rows x 12 columns]"
      ],
      "text/html": [
       "<div>\n",
       "<style scoped>\n",
       "    .dataframe tbody tr th:only-of-type {\n",
       "        vertical-align: middle;\n",
       "    }\n",
       "\n",
       "    .dataframe tbody tr th {\n",
       "        vertical-align: top;\n",
       "    }\n",
       "\n",
       "    .dataframe thead th {\n",
       "        text-align: right;\n",
       "    }\n",
       "</style>\n",
       "<table border=\"1\" class=\"dataframe\">\n",
       "  <thead>\n",
       "    <tr style=\"text-align: right;\">\n",
       "      <th></th>\n",
       "      <th>end_date</th>\n",
       "      <th>start_date</th>\n",
       "      <th>vol</th>\n",
       "      <th>naive_vol</th>\n",
       "      <th>shrinkage</th>\n",
       "      <th>avg_corr</th>\n",
       "      <th>stocks_vol</th>\n",
       "      <th>ewma</th>\n",
       "      <th>lw_intensity</th>\n",
       "      <th>momentum_feature</th>\n",
       "      <th>trace</th>\n",
       "      <th>universe_vol</th>\n",
       "    </tr>\n",
       "  </thead>\n",
       "  <tbody>\n",
       "    <tr>\n",
       "      <th>0</th>\n",
       "      <td>1981-01-29</td>\n",
       "      <td>1980-12-31</td>\n",
       "      <td>0.006478</td>\n",
       "      <td>0.006508</td>\n",
       "      <td>0.167364</td>\n",
       "      <td>0.190375</td>\n",
       "      <td>0.021256</td>\n",
       "      <td>0.002557</td>\n",
       "      <td>0.105223</td>\n",
       "      <td>0.563100</td>\n",
       "      <td>0.216770</td>\n",
       "      <td>0.009231</td>\n",
       "    </tr>\n",
       "    <tr>\n",
       "      <th>1</th>\n",
       "      <td>1981-01-30</td>\n",
       "      <td>1981-01-02</td>\n",
       "      <td>0.006500</td>\n",
       "      <td>0.006614</td>\n",
       "      <td>0.382393</td>\n",
       "      <td>0.189589</td>\n",
       "      <td>0.021260</td>\n",
       "      <td>0.003088</td>\n",
       "      <td>0.105667</td>\n",
       "      <td>0.572604</td>\n",
       "      <td>0.216851</td>\n",
       "      <td>0.009219</td>\n",
       "    </tr>\n",
       "    <tr>\n",
       "      <th>2</th>\n",
       "      <td>1981-02-02</td>\n",
       "      <td>1981-01-05</td>\n",
       "      <td>0.005181</td>\n",
       "      <td>0.005253</td>\n",
       "      <td>0.197455</td>\n",
       "      <td>0.189760</td>\n",
       "      <td>0.021279</td>\n",
       "      <td>0.004551</td>\n",
       "      <td>0.106538</td>\n",
       "      <td>0.581325</td>\n",
       "      <td>0.217056</td>\n",
       "      <td>0.009223</td>\n",
       "    </tr>\n",
       "    <tr>\n",
       "      <th>3</th>\n",
       "      <td>1981-02-03</td>\n",
       "      <td>1981-01-06</td>\n",
       "      <td>0.004921</td>\n",
       "      <td>0.004940</td>\n",
       "      <td>0.145795</td>\n",
       "      <td>0.189453</td>\n",
       "      <td>0.021304</td>\n",
       "      <td>0.004652</td>\n",
       "      <td>0.106711</td>\n",
       "      <td>0.581031</td>\n",
       "      <td>0.217361</td>\n",
       "      <td>0.009225</td>\n",
       "    </tr>\n",
       "    <tr>\n",
       "      <th>4</th>\n",
       "      <td>1981-02-04</td>\n",
       "      <td>1981-01-07</td>\n",
       "      <td>0.004314</td>\n",
       "      <td>0.004395</td>\n",
       "      <td>0.210126</td>\n",
       "      <td>0.193561</td>\n",
       "      <td>0.021344</td>\n",
       "      <td>0.001649</td>\n",
       "      <td>0.103907</td>\n",
       "      <td>0.573192</td>\n",
       "      <td>0.217902</td>\n",
       "      <td>0.009310</td>\n",
       "    </tr>\n",
       "    <tr>\n",
       "      <th>...</th>\n",
       "      <td>...</td>\n",
       "      <td>...</td>\n",
       "      <td>...</td>\n",
       "      <td>...</td>\n",
       "      <td>...</td>\n",
       "      <td>...</td>\n",
       "      <td>...</td>\n",
       "      <td>...</td>\n",
       "      <td>...</td>\n",
       "      <td>...</td>\n",
       "      <td>...</td>\n",
       "      <td>...</td>\n",
       "    </tr>\n",
       "    <tr>\n",
       "      <th>10808</th>\n",
       "      <td>2023-12-12</td>\n",
       "      <td>2023-11-13</td>\n",
       "      <td>0.004721</td>\n",
       "      <td>0.004726</td>\n",
       "      <td>0.122149</td>\n",
       "      <td>0.266976</td>\n",
       "      <td>0.018326</td>\n",
       "      <td>0.001329</td>\n",
       "      <td>0.052586</td>\n",
       "      <td>0.506435</td>\n",
       "      <td>0.146626</td>\n",
       "      <td>0.009336</td>\n",
       "    </tr>\n",
       "    <tr>\n",
       "      <th>10809</th>\n",
       "      <td>2023-12-13</td>\n",
       "      <td>2023-11-14</td>\n",
       "      <td>0.004817</td>\n",
       "      <td>0.005012</td>\n",
       "      <td>0.410885</td>\n",
       "      <td>0.274954</td>\n",
       "      <td>0.018364</td>\n",
       "      <td>0.004217</td>\n",
       "      <td>0.050911</td>\n",
       "      <td>0.507400</td>\n",
       "      <td>0.147174</td>\n",
       "      <td>0.009479</td>\n",
       "    </tr>\n",
       "    <tr>\n",
       "      <th>10810</th>\n",
       "      <td>2023-12-14</td>\n",
       "      <td>2023-11-15</td>\n",
       "      <td>0.005649</td>\n",
       "      <td>0.005740</td>\n",
       "      <td>0.313682</td>\n",
       "      <td>0.274016</td>\n",
       "      <td>0.018356</td>\n",
       "      <td>0.004370</td>\n",
       "      <td>0.051184</td>\n",
       "      <td>0.505338</td>\n",
       "      <td>0.147103</td>\n",
       "      <td>0.009459</td>\n",
       "    </tr>\n",
       "    <tr>\n",
       "      <th>10811</th>\n",
       "      <td>2023-12-15</td>\n",
       "      <td>2023-11-16</td>\n",
       "      <td>0.005901</td>\n",
       "      <td>0.005952</td>\n",
       "      <td>0.283729</td>\n",
       "      <td>0.273183</td>\n",
       "      <td>0.018347</td>\n",
       "      <td>0.003686</td>\n",
       "      <td>0.051374</td>\n",
       "      <td>0.517937</td>\n",
       "      <td>0.146914</td>\n",
       "      <td>0.009443</td>\n",
       "    </tr>\n",
       "    <tr>\n",
       "      <th>10812</th>\n",
       "      <td>2023-12-18</td>\n",
       "      <td>2023-11-17</td>\n",
       "      <td>0.005987</td>\n",
       "      <td>0.006178</td>\n",
       "      <td>0.428513</td>\n",
       "      <td>0.273642</td>\n",
       "      <td>0.018312</td>\n",
       "      <td>0.004056</td>\n",
       "      <td>0.051705</td>\n",
       "      <td>0.542601</td>\n",
       "      <td>0.146261</td>\n",
       "      <td>0.009424</td>\n",
       "    </tr>\n",
       "  </tbody>\n",
       "</table>\n",
       "<p>10813 rows × 12 columns</p>\n",
       "</div>"
      ]
     },
     "execution_count": 8,
     "metadata": {},
     "output_type": "execute_result"
    }
   ],
   "execution_count": 8
  },
  {
   "metadata": {
    "ExecuteTime": {
     "end_time": "2025-06-15T09:58:29.603335Z",
     "start_time": "2025-06-15T09:58:29.597572Z"
    }
   },
   "cell_type": "code",
   "source": [
    "data_df = data_df.rename(columns={\"end_date\": \"date\"})\n",
    "data_df = data_df.set_index(\"date\")\n",
    "data_df = data_df.drop(columns=[\"start_date\"])\n",
    "data_df"
   ],
   "id": "eec26c1082cc3554",
   "outputs": [
    {
     "data": {
      "text/plain": [
       "                 vol  naive_vol  shrinkage  avg_corr  stocks_vol      ewma  \\\n",
       "date                                                                         \n",
       "1981-01-29  0.006478   0.006508   0.167364  0.190375    0.021256  0.002557   \n",
       "1981-01-30  0.006500   0.006614   0.382393  0.189589    0.021260  0.003088   \n",
       "1981-02-02  0.005181   0.005253   0.197455  0.189760    0.021279  0.004551   \n",
       "1981-02-03  0.004921   0.004940   0.145795  0.189453    0.021304  0.004652   \n",
       "1981-02-04  0.004314   0.004395   0.210126  0.193561    0.021344  0.001649   \n",
       "...              ...        ...        ...       ...         ...       ...   \n",
       "2023-12-12  0.004721   0.004726   0.122149  0.266976    0.018326  0.001329   \n",
       "2023-12-13  0.004817   0.005012   0.410885  0.274954    0.018364  0.004217   \n",
       "2023-12-14  0.005649   0.005740   0.313682  0.274016    0.018356  0.004370   \n",
       "2023-12-15  0.005901   0.005952   0.283729  0.273183    0.018347  0.003686   \n",
       "2023-12-18  0.005987   0.006178   0.428513  0.273642    0.018312  0.004056   \n",
       "\n",
       "            lw_intensity  momentum_feature     trace  universe_vol  \n",
       "date                                                                \n",
       "1981-01-29      0.105223          0.563100  0.216770      0.009231  \n",
       "1981-01-30      0.105667          0.572604  0.216851      0.009219  \n",
       "1981-02-02      0.106538          0.581325  0.217056      0.009223  \n",
       "1981-02-03      0.106711          0.581031  0.217361      0.009225  \n",
       "1981-02-04      0.103907          0.573192  0.217902      0.009310  \n",
       "...                  ...               ...       ...           ...  \n",
       "2023-12-12      0.052586          0.506435  0.146626      0.009336  \n",
       "2023-12-13      0.050911          0.507400  0.147174      0.009479  \n",
       "2023-12-14      0.051184          0.505338  0.147103      0.009459  \n",
       "2023-12-15      0.051374          0.517937  0.146914      0.009443  \n",
       "2023-12-18      0.051705          0.542601  0.146261      0.009424  \n",
       "\n",
       "[10813 rows x 10 columns]"
      ],
      "text/html": [
       "<div>\n",
       "<style scoped>\n",
       "    .dataframe tbody tr th:only-of-type {\n",
       "        vertical-align: middle;\n",
       "    }\n",
       "\n",
       "    .dataframe tbody tr th {\n",
       "        vertical-align: top;\n",
       "    }\n",
       "\n",
       "    .dataframe thead th {\n",
       "        text-align: right;\n",
       "    }\n",
       "</style>\n",
       "<table border=\"1\" class=\"dataframe\">\n",
       "  <thead>\n",
       "    <tr style=\"text-align: right;\">\n",
       "      <th></th>\n",
       "      <th>vol</th>\n",
       "      <th>naive_vol</th>\n",
       "      <th>shrinkage</th>\n",
       "      <th>avg_corr</th>\n",
       "      <th>stocks_vol</th>\n",
       "      <th>ewma</th>\n",
       "      <th>lw_intensity</th>\n",
       "      <th>momentum_feature</th>\n",
       "      <th>trace</th>\n",
       "      <th>universe_vol</th>\n",
       "    </tr>\n",
       "    <tr>\n",
       "      <th>date</th>\n",
       "      <th></th>\n",
       "      <th></th>\n",
       "      <th></th>\n",
       "      <th></th>\n",
       "      <th></th>\n",
       "      <th></th>\n",
       "      <th></th>\n",
       "      <th></th>\n",
       "      <th></th>\n",
       "      <th></th>\n",
       "    </tr>\n",
       "  </thead>\n",
       "  <tbody>\n",
       "    <tr>\n",
       "      <th>1981-01-29</th>\n",
       "      <td>0.006478</td>\n",
       "      <td>0.006508</td>\n",
       "      <td>0.167364</td>\n",
       "      <td>0.190375</td>\n",
       "      <td>0.021256</td>\n",
       "      <td>0.002557</td>\n",
       "      <td>0.105223</td>\n",
       "      <td>0.563100</td>\n",
       "      <td>0.216770</td>\n",
       "      <td>0.009231</td>\n",
       "    </tr>\n",
       "    <tr>\n",
       "      <th>1981-01-30</th>\n",
       "      <td>0.006500</td>\n",
       "      <td>0.006614</td>\n",
       "      <td>0.382393</td>\n",
       "      <td>0.189589</td>\n",
       "      <td>0.021260</td>\n",
       "      <td>0.003088</td>\n",
       "      <td>0.105667</td>\n",
       "      <td>0.572604</td>\n",
       "      <td>0.216851</td>\n",
       "      <td>0.009219</td>\n",
       "    </tr>\n",
       "    <tr>\n",
       "      <th>1981-02-02</th>\n",
       "      <td>0.005181</td>\n",
       "      <td>0.005253</td>\n",
       "      <td>0.197455</td>\n",
       "      <td>0.189760</td>\n",
       "      <td>0.021279</td>\n",
       "      <td>0.004551</td>\n",
       "      <td>0.106538</td>\n",
       "      <td>0.581325</td>\n",
       "      <td>0.217056</td>\n",
       "      <td>0.009223</td>\n",
       "    </tr>\n",
       "    <tr>\n",
       "      <th>1981-02-03</th>\n",
       "      <td>0.004921</td>\n",
       "      <td>0.004940</td>\n",
       "      <td>0.145795</td>\n",
       "      <td>0.189453</td>\n",
       "      <td>0.021304</td>\n",
       "      <td>0.004652</td>\n",
       "      <td>0.106711</td>\n",
       "      <td>0.581031</td>\n",
       "      <td>0.217361</td>\n",
       "      <td>0.009225</td>\n",
       "    </tr>\n",
       "    <tr>\n",
       "      <th>1981-02-04</th>\n",
       "      <td>0.004314</td>\n",
       "      <td>0.004395</td>\n",
       "      <td>0.210126</td>\n",
       "      <td>0.193561</td>\n",
       "      <td>0.021344</td>\n",
       "      <td>0.001649</td>\n",
       "      <td>0.103907</td>\n",
       "      <td>0.573192</td>\n",
       "      <td>0.217902</td>\n",
       "      <td>0.009310</td>\n",
       "    </tr>\n",
       "    <tr>\n",
       "      <th>...</th>\n",
       "      <td>...</td>\n",
       "      <td>...</td>\n",
       "      <td>...</td>\n",
       "      <td>...</td>\n",
       "      <td>...</td>\n",
       "      <td>...</td>\n",
       "      <td>...</td>\n",
       "      <td>...</td>\n",
       "      <td>...</td>\n",
       "      <td>...</td>\n",
       "    </tr>\n",
       "    <tr>\n",
       "      <th>2023-12-12</th>\n",
       "      <td>0.004721</td>\n",
       "      <td>0.004726</td>\n",
       "      <td>0.122149</td>\n",
       "      <td>0.266976</td>\n",
       "      <td>0.018326</td>\n",
       "      <td>0.001329</td>\n",
       "      <td>0.052586</td>\n",
       "      <td>0.506435</td>\n",
       "      <td>0.146626</td>\n",
       "      <td>0.009336</td>\n",
       "    </tr>\n",
       "    <tr>\n",
       "      <th>2023-12-13</th>\n",
       "      <td>0.004817</td>\n",
       "      <td>0.005012</td>\n",
       "      <td>0.410885</td>\n",
       "      <td>0.274954</td>\n",
       "      <td>0.018364</td>\n",
       "      <td>0.004217</td>\n",
       "      <td>0.050911</td>\n",
       "      <td>0.507400</td>\n",
       "      <td>0.147174</td>\n",
       "      <td>0.009479</td>\n",
       "    </tr>\n",
       "    <tr>\n",
       "      <th>2023-12-14</th>\n",
       "      <td>0.005649</td>\n",
       "      <td>0.005740</td>\n",
       "      <td>0.313682</td>\n",
       "      <td>0.274016</td>\n",
       "      <td>0.018356</td>\n",
       "      <td>0.004370</td>\n",
       "      <td>0.051184</td>\n",
       "      <td>0.505338</td>\n",
       "      <td>0.147103</td>\n",
       "      <td>0.009459</td>\n",
       "    </tr>\n",
       "    <tr>\n",
       "      <th>2023-12-15</th>\n",
       "      <td>0.005901</td>\n",
       "      <td>0.005952</td>\n",
       "      <td>0.283729</td>\n",
       "      <td>0.273183</td>\n",
       "      <td>0.018347</td>\n",
       "      <td>0.003686</td>\n",
       "      <td>0.051374</td>\n",
       "      <td>0.517937</td>\n",
       "      <td>0.146914</td>\n",
       "      <td>0.009443</td>\n",
       "    </tr>\n",
       "    <tr>\n",
       "      <th>2023-12-18</th>\n",
       "      <td>0.005987</td>\n",
       "      <td>0.006178</td>\n",
       "      <td>0.428513</td>\n",
       "      <td>0.273642</td>\n",
       "      <td>0.018312</td>\n",
       "      <td>0.004056</td>\n",
       "      <td>0.051705</td>\n",
       "      <td>0.542601</td>\n",
       "      <td>0.146261</td>\n",
       "      <td>0.009424</td>\n",
       "    </tr>\n",
       "  </tbody>\n",
       "</table>\n",
       "<p>10813 rows × 10 columns</p>\n",
       "</div>"
      ]
     },
     "execution_count": 9,
     "metadata": {},
     "output_type": "execute_result"
    }
   ],
   "execution_count": 9
  },
  {
   "metadata": {
    "ExecuteTime": {
     "end_time": "2025-06-15T09:58:30.806321Z",
     "start_time": "2025-06-15T09:58:30.801313Z"
    }
   },
   "cell_type": "code",
   "source": [
    "data_df = data_df.rename(columns={\"shrinkage\": \"target\"})\n",
    "data_df"
   ],
   "id": "c5673b12c3f1b3b5",
   "outputs": [
    {
     "data": {
      "text/plain": [
       "                 vol  naive_vol    target  avg_corr  stocks_vol      ewma  \\\n",
       "date                                                                        \n",
       "1981-01-29  0.006478   0.006508  0.167364  0.190375    0.021256  0.002557   \n",
       "1981-01-30  0.006500   0.006614  0.382393  0.189589    0.021260  0.003088   \n",
       "1981-02-02  0.005181   0.005253  0.197455  0.189760    0.021279  0.004551   \n",
       "1981-02-03  0.004921   0.004940  0.145795  0.189453    0.021304  0.004652   \n",
       "1981-02-04  0.004314   0.004395  0.210126  0.193561    0.021344  0.001649   \n",
       "...              ...        ...       ...       ...         ...       ...   \n",
       "2023-12-12  0.004721   0.004726  0.122149  0.266976    0.018326  0.001329   \n",
       "2023-12-13  0.004817   0.005012  0.410885  0.274954    0.018364  0.004217   \n",
       "2023-12-14  0.005649   0.005740  0.313682  0.274016    0.018356  0.004370   \n",
       "2023-12-15  0.005901   0.005952  0.283729  0.273183    0.018347  0.003686   \n",
       "2023-12-18  0.005987   0.006178  0.428513  0.273642    0.018312  0.004056   \n",
       "\n",
       "            lw_intensity  momentum_feature     trace  universe_vol  \n",
       "date                                                                \n",
       "1981-01-29      0.105223          0.563100  0.216770      0.009231  \n",
       "1981-01-30      0.105667          0.572604  0.216851      0.009219  \n",
       "1981-02-02      0.106538          0.581325  0.217056      0.009223  \n",
       "1981-02-03      0.106711          0.581031  0.217361      0.009225  \n",
       "1981-02-04      0.103907          0.573192  0.217902      0.009310  \n",
       "...                  ...               ...       ...           ...  \n",
       "2023-12-12      0.052586          0.506435  0.146626      0.009336  \n",
       "2023-12-13      0.050911          0.507400  0.147174      0.009479  \n",
       "2023-12-14      0.051184          0.505338  0.147103      0.009459  \n",
       "2023-12-15      0.051374          0.517937  0.146914      0.009443  \n",
       "2023-12-18      0.051705          0.542601  0.146261      0.009424  \n",
       "\n",
       "[10813 rows x 10 columns]"
      ],
      "text/html": [
       "<div>\n",
       "<style scoped>\n",
       "    .dataframe tbody tr th:only-of-type {\n",
       "        vertical-align: middle;\n",
       "    }\n",
       "\n",
       "    .dataframe tbody tr th {\n",
       "        vertical-align: top;\n",
       "    }\n",
       "\n",
       "    .dataframe thead th {\n",
       "        text-align: right;\n",
       "    }\n",
       "</style>\n",
       "<table border=\"1\" class=\"dataframe\">\n",
       "  <thead>\n",
       "    <tr style=\"text-align: right;\">\n",
       "      <th></th>\n",
       "      <th>vol</th>\n",
       "      <th>naive_vol</th>\n",
       "      <th>target</th>\n",
       "      <th>avg_corr</th>\n",
       "      <th>stocks_vol</th>\n",
       "      <th>ewma</th>\n",
       "      <th>lw_intensity</th>\n",
       "      <th>momentum_feature</th>\n",
       "      <th>trace</th>\n",
       "      <th>universe_vol</th>\n",
       "    </tr>\n",
       "    <tr>\n",
       "      <th>date</th>\n",
       "      <th></th>\n",
       "      <th></th>\n",
       "      <th></th>\n",
       "      <th></th>\n",
       "      <th></th>\n",
       "      <th></th>\n",
       "      <th></th>\n",
       "      <th></th>\n",
       "      <th></th>\n",
       "      <th></th>\n",
       "    </tr>\n",
       "  </thead>\n",
       "  <tbody>\n",
       "    <tr>\n",
       "      <th>1981-01-29</th>\n",
       "      <td>0.006478</td>\n",
       "      <td>0.006508</td>\n",
       "      <td>0.167364</td>\n",
       "      <td>0.190375</td>\n",
       "      <td>0.021256</td>\n",
       "      <td>0.002557</td>\n",
       "      <td>0.105223</td>\n",
       "      <td>0.563100</td>\n",
       "      <td>0.216770</td>\n",
       "      <td>0.009231</td>\n",
       "    </tr>\n",
       "    <tr>\n",
       "      <th>1981-01-30</th>\n",
       "      <td>0.006500</td>\n",
       "      <td>0.006614</td>\n",
       "      <td>0.382393</td>\n",
       "      <td>0.189589</td>\n",
       "      <td>0.021260</td>\n",
       "      <td>0.003088</td>\n",
       "      <td>0.105667</td>\n",
       "      <td>0.572604</td>\n",
       "      <td>0.216851</td>\n",
       "      <td>0.009219</td>\n",
       "    </tr>\n",
       "    <tr>\n",
       "      <th>1981-02-02</th>\n",
       "      <td>0.005181</td>\n",
       "      <td>0.005253</td>\n",
       "      <td>0.197455</td>\n",
       "      <td>0.189760</td>\n",
       "      <td>0.021279</td>\n",
       "      <td>0.004551</td>\n",
       "      <td>0.106538</td>\n",
       "      <td>0.581325</td>\n",
       "      <td>0.217056</td>\n",
       "      <td>0.009223</td>\n",
       "    </tr>\n",
       "    <tr>\n",
       "      <th>1981-02-03</th>\n",
       "      <td>0.004921</td>\n",
       "      <td>0.004940</td>\n",
       "      <td>0.145795</td>\n",
       "      <td>0.189453</td>\n",
       "      <td>0.021304</td>\n",
       "      <td>0.004652</td>\n",
       "      <td>0.106711</td>\n",
       "      <td>0.581031</td>\n",
       "      <td>0.217361</td>\n",
       "      <td>0.009225</td>\n",
       "    </tr>\n",
       "    <tr>\n",
       "      <th>1981-02-04</th>\n",
       "      <td>0.004314</td>\n",
       "      <td>0.004395</td>\n",
       "      <td>0.210126</td>\n",
       "      <td>0.193561</td>\n",
       "      <td>0.021344</td>\n",
       "      <td>0.001649</td>\n",
       "      <td>0.103907</td>\n",
       "      <td>0.573192</td>\n",
       "      <td>0.217902</td>\n",
       "      <td>0.009310</td>\n",
       "    </tr>\n",
       "    <tr>\n",
       "      <th>...</th>\n",
       "      <td>...</td>\n",
       "      <td>...</td>\n",
       "      <td>...</td>\n",
       "      <td>...</td>\n",
       "      <td>...</td>\n",
       "      <td>...</td>\n",
       "      <td>...</td>\n",
       "      <td>...</td>\n",
       "      <td>...</td>\n",
       "      <td>...</td>\n",
       "    </tr>\n",
       "    <tr>\n",
       "      <th>2023-12-12</th>\n",
       "      <td>0.004721</td>\n",
       "      <td>0.004726</td>\n",
       "      <td>0.122149</td>\n",
       "      <td>0.266976</td>\n",
       "      <td>0.018326</td>\n",
       "      <td>0.001329</td>\n",
       "      <td>0.052586</td>\n",
       "      <td>0.506435</td>\n",
       "      <td>0.146626</td>\n",
       "      <td>0.009336</td>\n",
       "    </tr>\n",
       "    <tr>\n",
       "      <th>2023-12-13</th>\n",
       "      <td>0.004817</td>\n",
       "      <td>0.005012</td>\n",
       "      <td>0.410885</td>\n",
       "      <td>0.274954</td>\n",
       "      <td>0.018364</td>\n",
       "      <td>0.004217</td>\n",
       "      <td>0.050911</td>\n",
       "      <td>0.507400</td>\n",
       "      <td>0.147174</td>\n",
       "      <td>0.009479</td>\n",
       "    </tr>\n",
       "    <tr>\n",
       "      <th>2023-12-14</th>\n",
       "      <td>0.005649</td>\n",
       "      <td>0.005740</td>\n",
       "      <td>0.313682</td>\n",
       "      <td>0.274016</td>\n",
       "      <td>0.018356</td>\n",
       "      <td>0.004370</td>\n",
       "      <td>0.051184</td>\n",
       "      <td>0.505338</td>\n",
       "      <td>0.147103</td>\n",
       "      <td>0.009459</td>\n",
       "    </tr>\n",
       "    <tr>\n",
       "      <th>2023-12-15</th>\n",
       "      <td>0.005901</td>\n",
       "      <td>0.005952</td>\n",
       "      <td>0.283729</td>\n",
       "      <td>0.273183</td>\n",
       "      <td>0.018347</td>\n",
       "      <td>0.003686</td>\n",
       "      <td>0.051374</td>\n",
       "      <td>0.517937</td>\n",
       "      <td>0.146914</td>\n",
       "      <td>0.009443</td>\n",
       "    </tr>\n",
       "    <tr>\n",
       "      <th>2023-12-18</th>\n",
       "      <td>0.005987</td>\n",
       "      <td>0.006178</td>\n",
       "      <td>0.428513</td>\n",
       "      <td>0.273642</td>\n",
       "      <td>0.018312</td>\n",
       "      <td>0.004056</td>\n",
       "      <td>0.051705</td>\n",
       "      <td>0.542601</td>\n",
       "      <td>0.146261</td>\n",
       "      <td>0.009424</td>\n",
       "    </tr>\n",
       "  </tbody>\n",
       "</table>\n",
       "<p>10813 rows × 10 columns</p>\n",
       "</div>"
      ]
     },
     "execution_count": 10,
     "metadata": {},
     "output_type": "execute_result"
    }
   ],
   "execution_count": 10
  },
  {
   "metadata": {
    "ExecuteTime": {
     "end_time": "2025-06-15T09:58:31.985760Z",
     "start_time": "2025-06-15T09:58:31.980681Z"
    }
   },
   "cell_type": "code",
   "source": "data_df",
   "id": "e03a7fbe42f860d1",
   "outputs": [
    {
     "data": {
      "text/plain": [
       "                 vol  naive_vol    target  avg_corr  stocks_vol      ewma  \\\n",
       "date                                                                        \n",
       "1981-01-29  0.006478   0.006508  0.167364  0.190375    0.021256  0.002557   \n",
       "1981-01-30  0.006500   0.006614  0.382393  0.189589    0.021260  0.003088   \n",
       "1981-02-02  0.005181   0.005253  0.197455  0.189760    0.021279  0.004551   \n",
       "1981-02-03  0.004921   0.004940  0.145795  0.189453    0.021304  0.004652   \n",
       "1981-02-04  0.004314   0.004395  0.210126  0.193561    0.021344  0.001649   \n",
       "...              ...        ...       ...       ...         ...       ...   \n",
       "2023-12-12  0.004721   0.004726  0.122149  0.266976    0.018326  0.001329   \n",
       "2023-12-13  0.004817   0.005012  0.410885  0.274954    0.018364  0.004217   \n",
       "2023-12-14  0.005649   0.005740  0.313682  0.274016    0.018356  0.004370   \n",
       "2023-12-15  0.005901   0.005952  0.283729  0.273183    0.018347  0.003686   \n",
       "2023-12-18  0.005987   0.006178  0.428513  0.273642    0.018312  0.004056   \n",
       "\n",
       "            lw_intensity  momentum_feature     trace  universe_vol  \n",
       "date                                                                \n",
       "1981-01-29      0.105223          0.563100  0.216770      0.009231  \n",
       "1981-01-30      0.105667          0.572604  0.216851      0.009219  \n",
       "1981-02-02      0.106538          0.581325  0.217056      0.009223  \n",
       "1981-02-03      0.106711          0.581031  0.217361      0.009225  \n",
       "1981-02-04      0.103907          0.573192  0.217902      0.009310  \n",
       "...                  ...               ...       ...           ...  \n",
       "2023-12-12      0.052586          0.506435  0.146626      0.009336  \n",
       "2023-12-13      0.050911          0.507400  0.147174      0.009479  \n",
       "2023-12-14      0.051184          0.505338  0.147103      0.009459  \n",
       "2023-12-15      0.051374          0.517937  0.146914      0.009443  \n",
       "2023-12-18      0.051705          0.542601  0.146261      0.009424  \n",
       "\n",
       "[10813 rows x 10 columns]"
      ],
      "text/html": [
       "<div>\n",
       "<style scoped>\n",
       "    .dataframe tbody tr th:only-of-type {\n",
       "        vertical-align: middle;\n",
       "    }\n",
       "\n",
       "    .dataframe tbody tr th {\n",
       "        vertical-align: top;\n",
       "    }\n",
       "\n",
       "    .dataframe thead th {\n",
       "        text-align: right;\n",
       "    }\n",
       "</style>\n",
       "<table border=\"1\" class=\"dataframe\">\n",
       "  <thead>\n",
       "    <tr style=\"text-align: right;\">\n",
       "      <th></th>\n",
       "      <th>vol</th>\n",
       "      <th>naive_vol</th>\n",
       "      <th>target</th>\n",
       "      <th>avg_corr</th>\n",
       "      <th>stocks_vol</th>\n",
       "      <th>ewma</th>\n",
       "      <th>lw_intensity</th>\n",
       "      <th>momentum_feature</th>\n",
       "      <th>trace</th>\n",
       "      <th>universe_vol</th>\n",
       "    </tr>\n",
       "    <tr>\n",
       "      <th>date</th>\n",
       "      <th></th>\n",
       "      <th></th>\n",
       "      <th></th>\n",
       "      <th></th>\n",
       "      <th></th>\n",
       "      <th></th>\n",
       "      <th></th>\n",
       "      <th></th>\n",
       "      <th></th>\n",
       "      <th></th>\n",
       "    </tr>\n",
       "  </thead>\n",
       "  <tbody>\n",
       "    <tr>\n",
       "      <th>1981-01-29</th>\n",
       "      <td>0.006478</td>\n",
       "      <td>0.006508</td>\n",
       "      <td>0.167364</td>\n",
       "      <td>0.190375</td>\n",
       "      <td>0.021256</td>\n",
       "      <td>0.002557</td>\n",
       "      <td>0.105223</td>\n",
       "      <td>0.563100</td>\n",
       "      <td>0.216770</td>\n",
       "      <td>0.009231</td>\n",
       "    </tr>\n",
       "    <tr>\n",
       "      <th>1981-01-30</th>\n",
       "      <td>0.006500</td>\n",
       "      <td>0.006614</td>\n",
       "      <td>0.382393</td>\n",
       "      <td>0.189589</td>\n",
       "      <td>0.021260</td>\n",
       "      <td>0.003088</td>\n",
       "      <td>0.105667</td>\n",
       "      <td>0.572604</td>\n",
       "      <td>0.216851</td>\n",
       "      <td>0.009219</td>\n",
       "    </tr>\n",
       "    <tr>\n",
       "      <th>1981-02-02</th>\n",
       "      <td>0.005181</td>\n",
       "      <td>0.005253</td>\n",
       "      <td>0.197455</td>\n",
       "      <td>0.189760</td>\n",
       "      <td>0.021279</td>\n",
       "      <td>0.004551</td>\n",
       "      <td>0.106538</td>\n",
       "      <td>0.581325</td>\n",
       "      <td>0.217056</td>\n",
       "      <td>0.009223</td>\n",
       "    </tr>\n",
       "    <tr>\n",
       "      <th>1981-02-03</th>\n",
       "      <td>0.004921</td>\n",
       "      <td>0.004940</td>\n",
       "      <td>0.145795</td>\n",
       "      <td>0.189453</td>\n",
       "      <td>0.021304</td>\n",
       "      <td>0.004652</td>\n",
       "      <td>0.106711</td>\n",
       "      <td>0.581031</td>\n",
       "      <td>0.217361</td>\n",
       "      <td>0.009225</td>\n",
       "    </tr>\n",
       "    <tr>\n",
       "      <th>1981-02-04</th>\n",
       "      <td>0.004314</td>\n",
       "      <td>0.004395</td>\n",
       "      <td>0.210126</td>\n",
       "      <td>0.193561</td>\n",
       "      <td>0.021344</td>\n",
       "      <td>0.001649</td>\n",
       "      <td>0.103907</td>\n",
       "      <td>0.573192</td>\n",
       "      <td>0.217902</td>\n",
       "      <td>0.009310</td>\n",
       "    </tr>\n",
       "    <tr>\n",
       "      <th>...</th>\n",
       "      <td>...</td>\n",
       "      <td>...</td>\n",
       "      <td>...</td>\n",
       "      <td>...</td>\n",
       "      <td>...</td>\n",
       "      <td>...</td>\n",
       "      <td>...</td>\n",
       "      <td>...</td>\n",
       "      <td>...</td>\n",
       "      <td>...</td>\n",
       "    </tr>\n",
       "    <tr>\n",
       "      <th>2023-12-12</th>\n",
       "      <td>0.004721</td>\n",
       "      <td>0.004726</td>\n",
       "      <td>0.122149</td>\n",
       "      <td>0.266976</td>\n",
       "      <td>0.018326</td>\n",
       "      <td>0.001329</td>\n",
       "      <td>0.052586</td>\n",
       "      <td>0.506435</td>\n",
       "      <td>0.146626</td>\n",
       "      <td>0.009336</td>\n",
       "    </tr>\n",
       "    <tr>\n",
       "      <th>2023-12-13</th>\n",
       "      <td>0.004817</td>\n",
       "      <td>0.005012</td>\n",
       "      <td>0.410885</td>\n",
       "      <td>0.274954</td>\n",
       "      <td>0.018364</td>\n",
       "      <td>0.004217</td>\n",
       "      <td>0.050911</td>\n",
       "      <td>0.507400</td>\n",
       "      <td>0.147174</td>\n",
       "      <td>0.009479</td>\n",
       "    </tr>\n",
       "    <tr>\n",
       "      <th>2023-12-14</th>\n",
       "      <td>0.005649</td>\n",
       "      <td>0.005740</td>\n",
       "      <td>0.313682</td>\n",
       "      <td>0.274016</td>\n",
       "      <td>0.018356</td>\n",
       "      <td>0.004370</td>\n",
       "      <td>0.051184</td>\n",
       "      <td>0.505338</td>\n",
       "      <td>0.147103</td>\n",
       "      <td>0.009459</td>\n",
       "    </tr>\n",
       "    <tr>\n",
       "      <th>2023-12-15</th>\n",
       "      <td>0.005901</td>\n",
       "      <td>0.005952</td>\n",
       "      <td>0.283729</td>\n",
       "      <td>0.273183</td>\n",
       "      <td>0.018347</td>\n",
       "      <td>0.003686</td>\n",
       "      <td>0.051374</td>\n",
       "      <td>0.517937</td>\n",
       "      <td>0.146914</td>\n",
       "      <td>0.009443</td>\n",
       "    </tr>\n",
       "    <tr>\n",
       "      <th>2023-12-18</th>\n",
       "      <td>0.005987</td>\n",
       "      <td>0.006178</td>\n",
       "      <td>0.428513</td>\n",
       "      <td>0.273642</td>\n",
       "      <td>0.018312</td>\n",
       "      <td>0.004056</td>\n",
       "      <td>0.051705</td>\n",
       "      <td>0.542601</td>\n",
       "      <td>0.146261</td>\n",
       "      <td>0.009424</td>\n",
       "    </tr>\n",
       "  </tbody>\n",
       "</table>\n",
       "<p>10813 rows × 10 columns</p>\n",
       "</div>"
      ]
     },
     "execution_count": 11,
     "metadata": {},
     "output_type": "execute_result"
    }
   ],
   "execution_count": 11
  },
  {
   "cell_type": "code",
   "id": "c01fe58eee035431",
   "metadata": {
    "ExecuteTime": {
     "end_time": "2025-06-15T09:58:33.690774Z",
     "start_time": "2025-06-15T09:58:33.683777Z"
    }
   },
   "source": [
    "dnk_features = data_df.loc[:, [\"target\"]].copy()\n",
    "dnk_features[\"target_rolling_mean\"] = dnk_features[\"target\"].rolling(window=252, min_periods=1).mean()\n",
    "dnk_features[\"target_rolling_vol\"] = data_df[[\"vol\"]].rolling(window=252, min_periods=1).std().fillna(0)\n",
    "dnk_features"
   ],
   "outputs": [
    {
     "data": {
      "text/plain": [
       "              target  target_rolling_mean  target_rolling_vol\n",
       "date                                                         \n",
       "1981-01-29  0.167364             0.167364            0.000000\n",
       "1981-01-30  0.382393             0.274879            0.000016\n",
       "1981-02-02  0.197455             0.249071            0.000755\n",
       "1981-02-03  0.145795             0.223252            0.000837\n",
       "1981-02-04  0.210126             0.220627            0.000974\n",
       "...              ...                  ...                 ...\n",
       "2023-12-12  0.122149             0.283967            0.001180\n",
       "2023-12-13  0.410885             0.285598            0.001181\n",
       "2023-12-14  0.313682             0.286508            0.001181\n",
       "2023-12-15  0.283729             0.287319            0.001181\n",
       "2023-12-18  0.428513             0.288800            0.001178\n",
       "\n",
       "[10813 rows x 3 columns]"
      ],
      "text/html": [
       "<div>\n",
       "<style scoped>\n",
       "    .dataframe tbody tr th:only-of-type {\n",
       "        vertical-align: middle;\n",
       "    }\n",
       "\n",
       "    .dataframe tbody tr th {\n",
       "        vertical-align: top;\n",
       "    }\n",
       "\n",
       "    .dataframe thead th {\n",
       "        text-align: right;\n",
       "    }\n",
       "</style>\n",
       "<table border=\"1\" class=\"dataframe\">\n",
       "  <thead>\n",
       "    <tr style=\"text-align: right;\">\n",
       "      <th></th>\n",
       "      <th>target</th>\n",
       "      <th>target_rolling_mean</th>\n",
       "      <th>target_rolling_vol</th>\n",
       "    </tr>\n",
       "    <tr>\n",
       "      <th>date</th>\n",
       "      <th></th>\n",
       "      <th></th>\n",
       "      <th></th>\n",
       "    </tr>\n",
       "  </thead>\n",
       "  <tbody>\n",
       "    <tr>\n",
       "      <th>1981-01-29</th>\n",
       "      <td>0.167364</td>\n",
       "      <td>0.167364</td>\n",
       "      <td>0.000000</td>\n",
       "    </tr>\n",
       "    <tr>\n",
       "      <th>1981-01-30</th>\n",
       "      <td>0.382393</td>\n",
       "      <td>0.274879</td>\n",
       "      <td>0.000016</td>\n",
       "    </tr>\n",
       "    <tr>\n",
       "      <th>1981-02-02</th>\n",
       "      <td>0.197455</td>\n",
       "      <td>0.249071</td>\n",
       "      <td>0.000755</td>\n",
       "    </tr>\n",
       "    <tr>\n",
       "      <th>1981-02-03</th>\n",
       "      <td>0.145795</td>\n",
       "      <td>0.223252</td>\n",
       "      <td>0.000837</td>\n",
       "    </tr>\n",
       "    <tr>\n",
       "      <th>1981-02-04</th>\n",
       "      <td>0.210126</td>\n",
       "      <td>0.220627</td>\n",
       "      <td>0.000974</td>\n",
       "    </tr>\n",
       "    <tr>\n",
       "      <th>...</th>\n",
       "      <td>...</td>\n",
       "      <td>...</td>\n",
       "      <td>...</td>\n",
       "    </tr>\n",
       "    <tr>\n",
       "      <th>2023-12-12</th>\n",
       "      <td>0.122149</td>\n",
       "      <td>0.283967</td>\n",
       "      <td>0.001180</td>\n",
       "    </tr>\n",
       "    <tr>\n",
       "      <th>2023-12-13</th>\n",
       "      <td>0.410885</td>\n",
       "      <td>0.285598</td>\n",
       "      <td>0.001181</td>\n",
       "    </tr>\n",
       "    <tr>\n",
       "      <th>2023-12-14</th>\n",
       "      <td>0.313682</td>\n",
       "      <td>0.286508</td>\n",
       "      <td>0.001181</td>\n",
       "    </tr>\n",
       "    <tr>\n",
       "      <th>2023-12-15</th>\n",
       "      <td>0.283729</td>\n",
       "      <td>0.287319</td>\n",
       "      <td>0.001181</td>\n",
       "    </tr>\n",
       "    <tr>\n",
       "      <th>2023-12-18</th>\n",
       "      <td>0.428513</td>\n",
       "      <td>0.288800</td>\n",
       "      <td>0.001178</td>\n",
       "    </tr>\n",
       "  </tbody>\n",
       "</table>\n",
       "<p>10813 rows × 3 columns</p>\n",
       "</div>"
      ]
     },
     "execution_count": 12,
     "metadata": {},
     "output_type": "execute_result"
    }
   ],
   "execution_count": 12
  },
  {
   "metadata": {
    "ExecuteTime": {
     "end_time": "2025-06-15T09:58:36.746298Z",
     "start_time": "2025-06-15T09:58:36.743099Z"
    }
   },
   "cell_type": "code",
   "source": [
    "data_df = data_df.merge(dnk_features, how=\"inner\", left_index=True, right_index=True)\n",
    "data_df.shape"
   ],
   "id": "d07d2f9efdfa8c1a",
   "outputs": [
    {
     "data": {
      "text/plain": [
       "(10813, 13)"
      ]
     },
     "execution_count": 13,
     "metadata": {},
     "output_type": "execute_result"
    }
   ],
   "execution_count": 13
  },
  {
   "metadata": {
    "ExecuteTime": {
     "end_time": "2025-06-15T09:58:37.477475Z",
     "start_time": "2025-06-15T09:58:37.472313Z"
    }
   },
   "cell_type": "code",
   "source": "data_df",
   "id": "99798447df1b1c0c",
   "outputs": [
    {
     "data": {
      "text/plain": [
       "                 vol  naive_vol  target_x  avg_corr  stocks_vol      ewma  \\\n",
       "date                                                                        \n",
       "1981-01-29  0.006478   0.006508  0.167364  0.190375    0.021256  0.002557   \n",
       "1981-01-30  0.006500   0.006614  0.382393  0.189589    0.021260  0.003088   \n",
       "1981-02-02  0.005181   0.005253  0.197455  0.189760    0.021279  0.004551   \n",
       "1981-02-03  0.004921   0.004940  0.145795  0.189453    0.021304  0.004652   \n",
       "1981-02-04  0.004314   0.004395  0.210126  0.193561    0.021344  0.001649   \n",
       "...              ...        ...       ...       ...         ...       ...   \n",
       "2023-12-12  0.004721   0.004726  0.122149  0.266976    0.018326  0.001329   \n",
       "2023-12-13  0.004817   0.005012  0.410885  0.274954    0.018364  0.004217   \n",
       "2023-12-14  0.005649   0.005740  0.313682  0.274016    0.018356  0.004370   \n",
       "2023-12-15  0.005901   0.005952  0.283729  0.273183    0.018347  0.003686   \n",
       "2023-12-18  0.005987   0.006178  0.428513  0.273642    0.018312  0.004056   \n",
       "\n",
       "            lw_intensity  momentum_feature     trace  universe_vol  target_y  \\\n",
       "date                                                                           \n",
       "1981-01-29      0.105223          0.563100  0.216770      0.009231  0.167364   \n",
       "1981-01-30      0.105667          0.572604  0.216851      0.009219  0.382393   \n",
       "1981-02-02      0.106538          0.581325  0.217056      0.009223  0.197455   \n",
       "1981-02-03      0.106711          0.581031  0.217361      0.009225  0.145795   \n",
       "1981-02-04      0.103907          0.573192  0.217902      0.009310  0.210126   \n",
       "...                  ...               ...       ...           ...       ...   \n",
       "2023-12-12      0.052586          0.506435  0.146626      0.009336  0.122149   \n",
       "2023-12-13      0.050911          0.507400  0.147174      0.009479  0.410885   \n",
       "2023-12-14      0.051184          0.505338  0.147103      0.009459  0.313682   \n",
       "2023-12-15      0.051374          0.517937  0.146914      0.009443  0.283729   \n",
       "2023-12-18      0.051705          0.542601  0.146261      0.009424  0.428513   \n",
       "\n",
       "            target_rolling_mean  target_rolling_vol  \n",
       "date                                                 \n",
       "1981-01-29             0.167364            0.000000  \n",
       "1981-01-30             0.274879            0.000016  \n",
       "1981-02-02             0.249071            0.000755  \n",
       "1981-02-03             0.223252            0.000837  \n",
       "1981-02-04             0.220627            0.000974  \n",
       "...                         ...                 ...  \n",
       "2023-12-12             0.283967            0.001180  \n",
       "2023-12-13             0.285598            0.001181  \n",
       "2023-12-14             0.286508            0.001181  \n",
       "2023-12-15             0.287319            0.001181  \n",
       "2023-12-18             0.288800            0.001178  \n",
       "\n",
       "[10813 rows x 13 columns]"
      ],
      "text/html": [
       "<div>\n",
       "<style scoped>\n",
       "    .dataframe tbody tr th:only-of-type {\n",
       "        vertical-align: middle;\n",
       "    }\n",
       "\n",
       "    .dataframe tbody tr th {\n",
       "        vertical-align: top;\n",
       "    }\n",
       "\n",
       "    .dataframe thead th {\n",
       "        text-align: right;\n",
       "    }\n",
       "</style>\n",
       "<table border=\"1\" class=\"dataframe\">\n",
       "  <thead>\n",
       "    <tr style=\"text-align: right;\">\n",
       "      <th></th>\n",
       "      <th>vol</th>\n",
       "      <th>naive_vol</th>\n",
       "      <th>target_x</th>\n",
       "      <th>avg_corr</th>\n",
       "      <th>stocks_vol</th>\n",
       "      <th>ewma</th>\n",
       "      <th>lw_intensity</th>\n",
       "      <th>momentum_feature</th>\n",
       "      <th>trace</th>\n",
       "      <th>universe_vol</th>\n",
       "      <th>target_y</th>\n",
       "      <th>target_rolling_mean</th>\n",
       "      <th>target_rolling_vol</th>\n",
       "    </tr>\n",
       "    <tr>\n",
       "      <th>date</th>\n",
       "      <th></th>\n",
       "      <th></th>\n",
       "      <th></th>\n",
       "      <th></th>\n",
       "      <th></th>\n",
       "      <th></th>\n",
       "      <th></th>\n",
       "      <th></th>\n",
       "      <th></th>\n",
       "      <th></th>\n",
       "      <th></th>\n",
       "      <th></th>\n",
       "      <th></th>\n",
       "    </tr>\n",
       "  </thead>\n",
       "  <tbody>\n",
       "    <tr>\n",
       "      <th>1981-01-29</th>\n",
       "      <td>0.006478</td>\n",
       "      <td>0.006508</td>\n",
       "      <td>0.167364</td>\n",
       "      <td>0.190375</td>\n",
       "      <td>0.021256</td>\n",
       "      <td>0.002557</td>\n",
       "      <td>0.105223</td>\n",
       "      <td>0.563100</td>\n",
       "      <td>0.216770</td>\n",
       "      <td>0.009231</td>\n",
       "      <td>0.167364</td>\n",
       "      <td>0.167364</td>\n",
       "      <td>0.000000</td>\n",
       "    </tr>\n",
       "    <tr>\n",
       "      <th>1981-01-30</th>\n",
       "      <td>0.006500</td>\n",
       "      <td>0.006614</td>\n",
       "      <td>0.382393</td>\n",
       "      <td>0.189589</td>\n",
       "      <td>0.021260</td>\n",
       "      <td>0.003088</td>\n",
       "      <td>0.105667</td>\n",
       "      <td>0.572604</td>\n",
       "      <td>0.216851</td>\n",
       "      <td>0.009219</td>\n",
       "      <td>0.382393</td>\n",
       "      <td>0.274879</td>\n",
       "      <td>0.000016</td>\n",
       "    </tr>\n",
       "    <tr>\n",
       "      <th>1981-02-02</th>\n",
       "      <td>0.005181</td>\n",
       "      <td>0.005253</td>\n",
       "      <td>0.197455</td>\n",
       "      <td>0.189760</td>\n",
       "      <td>0.021279</td>\n",
       "      <td>0.004551</td>\n",
       "      <td>0.106538</td>\n",
       "      <td>0.581325</td>\n",
       "      <td>0.217056</td>\n",
       "      <td>0.009223</td>\n",
       "      <td>0.197455</td>\n",
       "      <td>0.249071</td>\n",
       "      <td>0.000755</td>\n",
       "    </tr>\n",
       "    <tr>\n",
       "      <th>1981-02-03</th>\n",
       "      <td>0.004921</td>\n",
       "      <td>0.004940</td>\n",
       "      <td>0.145795</td>\n",
       "      <td>0.189453</td>\n",
       "      <td>0.021304</td>\n",
       "      <td>0.004652</td>\n",
       "      <td>0.106711</td>\n",
       "      <td>0.581031</td>\n",
       "      <td>0.217361</td>\n",
       "      <td>0.009225</td>\n",
       "      <td>0.145795</td>\n",
       "      <td>0.223252</td>\n",
       "      <td>0.000837</td>\n",
       "    </tr>\n",
       "    <tr>\n",
       "      <th>1981-02-04</th>\n",
       "      <td>0.004314</td>\n",
       "      <td>0.004395</td>\n",
       "      <td>0.210126</td>\n",
       "      <td>0.193561</td>\n",
       "      <td>0.021344</td>\n",
       "      <td>0.001649</td>\n",
       "      <td>0.103907</td>\n",
       "      <td>0.573192</td>\n",
       "      <td>0.217902</td>\n",
       "      <td>0.009310</td>\n",
       "      <td>0.210126</td>\n",
       "      <td>0.220627</td>\n",
       "      <td>0.000974</td>\n",
       "    </tr>\n",
       "    <tr>\n",
       "      <th>...</th>\n",
       "      <td>...</td>\n",
       "      <td>...</td>\n",
       "      <td>...</td>\n",
       "      <td>...</td>\n",
       "      <td>...</td>\n",
       "      <td>...</td>\n",
       "      <td>...</td>\n",
       "      <td>...</td>\n",
       "      <td>...</td>\n",
       "      <td>...</td>\n",
       "      <td>...</td>\n",
       "      <td>...</td>\n",
       "      <td>...</td>\n",
       "    </tr>\n",
       "    <tr>\n",
       "      <th>2023-12-12</th>\n",
       "      <td>0.004721</td>\n",
       "      <td>0.004726</td>\n",
       "      <td>0.122149</td>\n",
       "      <td>0.266976</td>\n",
       "      <td>0.018326</td>\n",
       "      <td>0.001329</td>\n",
       "      <td>0.052586</td>\n",
       "      <td>0.506435</td>\n",
       "      <td>0.146626</td>\n",
       "      <td>0.009336</td>\n",
       "      <td>0.122149</td>\n",
       "      <td>0.283967</td>\n",
       "      <td>0.001180</td>\n",
       "    </tr>\n",
       "    <tr>\n",
       "      <th>2023-12-13</th>\n",
       "      <td>0.004817</td>\n",
       "      <td>0.005012</td>\n",
       "      <td>0.410885</td>\n",
       "      <td>0.274954</td>\n",
       "      <td>0.018364</td>\n",
       "      <td>0.004217</td>\n",
       "      <td>0.050911</td>\n",
       "      <td>0.507400</td>\n",
       "      <td>0.147174</td>\n",
       "      <td>0.009479</td>\n",
       "      <td>0.410885</td>\n",
       "      <td>0.285598</td>\n",
       "      <td>0.001181</td>\n",
       "    </tr>\n",
       "    <tr>\n",
       "      <th>2023-12-14</th>\n",
       "      <td>0.005649</td>\n",
       "      <td>0.005740</td>\n",
       "      <td>0.313682</td>\n",
       "      <td>0.274016</td>\n",
       "      <td>0.018356</td>\n",
       "      <td>0.004370</td>\n",
       "      <td>0.051184</td>\n",
       "      <td>0.505338</td>\n",
       "      <td>0.147103</td>\n",
       "      <td>0.009459</td>\n",
       "      <td>0.313682</td>\n",
       "      <td>0.286508</td>\n",
       "      <td>0.001181</td>\n",
       "    </tr>\n",
       "    <tr>\n",
       "      <th>2023-12-15</th>\n",
       "      <td>0.005901</td>\n",
       "      <td>0.005952</td>\n",
       "      <td>0.283729</td>\n",
       "      <td>0.273183</td>\n",
       "      <td>0.018347</td>\n",
       "      <td>0.003686</td>\n",
       "      <td>0.051374</td>\n",
       "      <td>0.517937</td>\n",
       "      <td>0.146914</td>\n",
       "      <td>0.009443</td>\n",
       "      <td>0.283729</td>\n",
       "      <td>0.287319</td>\n",
       "      <td>0.001181</td>\n",
       "    </tr>\n",
       "    <tr>\n",
       "      <th>2023-12-18</th>\n",
       "      <td>0.005987</td>\n",
       "      <td>0.006178</td>\n",
       "      <td>0.428513</td>\n",
       "      <td>0.273642</td>\n",
       "      <td>0.018312</td>\n",
       "      <td>0.004056</td>\n",
       "      <td>0.051705</td>\n",
       "      <td>0.542601</td>\n",
       "      <td>0.146261</td>\n",
       "      <td>0.009424</td>\n",
       "      <td>0.428513</td>\n",
       "      <td>0.288800</td>\n",
       "      <td>0.001178</td>\n",
       "    </tr>\n",
       "  </tbody>\n",
       "</table>\n",
       "<p>10813 rows × 13 columns</p>\n",
       "</div>"
      ]
     },
     "execution_count": 14,
     "metadata": {},
     "output_type": "execute_result"
    }
   ],
   "execution_count": 14
  },
  {
   "metadata": {
    "ExecuteTime": {
     "end_time": "2025-06-15T09:58:42.180591Z",
     "start_time": "2025-06-15T09:58:42.178367Z"
    }
   },
   "cell_type": "code",
   "source": "data_df = data_df.rename(columns={\"target_x\": \"target\", \"target_y\": \"lagged_target\"})",
   "id": "5e20aec8e60a1adb",
   "outputs": [],
   "execution_count": 15
  },
  {
   "cell_type": "code",
   "id": "3428e56ef24fecc7",
   "metadata": {
    "ExecuteTime": {
     "end_time": "2025-06-15T09:58:46.186178Z",
     "start_time": "2025-06-15T09:58:46.159882Z"
    }
   },
   "source": [
    "new_data = data.merge(data_df, left_index=True, right_index=True)\n",
    "new_data.shape"
   ],
   "outputs": [
    {
     "data": {
      "text/plain": [
       "(10813, 1477)"
      ]
     },
     "execution_count": 16,
     "metadata": {},
     "output_type": "execute_result"
    }
   ],
   "execution_count": 16
  },
  {
   "metadata": {
    "ExecuteTime": {
     "end_time": "2025-06-15T09:58:54.616046Z",
     "start_time": "2025-06-15T09:58:54.613778Z"
    }
   },
   "cell_type": "code",
   "source": "new_data.columns",
   "id": "4895b808e086f054",
   "outputs": [
    {
     "data": {
      "text/plain": [
       "Index(['10006', '10057', '10078', '10104', '10107', '10108', '10137', '10138',\n",
       "       '10145', '10147',\n",
       "       ...\n",
       "       'avg_corr', 'stocks_vol', 'ewma', 'lw_intensity', 'momentum_feature',\n",
       "       'trace', 'universe_vol', 'lagged_target', 'target_rolling_mean',\n",
       "       'target_rolling_vol'],\n",
       "      dtype='object', length=1477)"
      ]
     },
     "execution_count": 18,
     "metadata": {},
     "output_type": "execute_result"
    }
   ],
   "execution_count": 18
  },
  {
   "cell_type": "code",
   "id": "d2e5b71066f1cb23",
   "metadata": {
    "ExecuteTime": {
     "end_time": "2025-06-15T09:59:06.847164Z",
     "start_time": "2025-06-15T09:59:03.663047Z"
    }
   },
   "source": "new_data.to_csv(PATH / \"spx_data.csv\")",
   "outputs": [],
   "execution_count": 19
  },
  {
   "cell_type": "code",
   "execution_count": null,
   "id": "58883dc2973f1c85",
   "metadata": {
    "ExecuteTime": {
     "end_time": "2025-06-14T19:30:06.281656Z",
     "start_time": "2025-06-12T16:19:49.874121Z"
    }
   },
   "outputs": [],
   "source": []
  }
 ],
 "metadata": {
  "kernelspec": {
   "display_name": "Python 3",
   "language": "python",
   "name": "python3"
  },
  "language_info": {
   "codemirror_mode": {
    "name": "ipython",
    "version": 2
   },
   "file_extension": ".py",
   "mimetype": "text/x-python",
   "name": "python",
   "nbconvert_exporter": "python",
   "pygments_lexer": "ipython2",
   "version": "2.7.6"
  }
 },
 "nbformat": 4,
 "nbformat_minor": 5
}
