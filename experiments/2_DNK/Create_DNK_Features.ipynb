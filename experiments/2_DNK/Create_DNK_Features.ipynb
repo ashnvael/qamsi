{
 "cells": [
  {
   "cell_type": "code",
   "id": "initial_id",
   "metadata": {
    "collapsed": true,
    "ExecuteTime": {
     "end_time": "2025-06-19T07:03:30.637594Z",
     "start_time": "2025-06-19T07:03:29.110756Z"
    }
   },
   "source": [
    "import numpy as np\n",
    "import pandas as pd\n",
    "\n",
    "from qamsi.utils.data import read_csv\n",
    "\n",
    "from run import Dataset\n",
    "\n",
    "DATASET = Dataset.TOPN_US\n",
    "TOP_N = 30\n",
    "\n",
    "config = DATASET.value(topn=TOP_N)\n",
    "config"
   ],
   "outputs": [
    {
     "data": {
      "text/plain": [
       "ExperimentConfig(RANDOM_SEED=12, PATH_OUTPUT=PosixPath('/Users/buchkovv/qamsi/data/output'), SAVE_PATH=PosixPath('/Users/buchkovv/qamsi/backtests/runs'), DF_FILENAME='top30_data.csv', PRESENCE_MATRIX_FILENAME='top30_presence_matrix.csv', START_DATE=Timestamp('2000-12-18 00:00:00'), END_DATE=Timestamp('2024-08-30 00:00:00'), REBALANCE_FREQ=21, HEDGE_FREQ=1, N_LOOKBEHIND_PERIODS=252, MIN_ROLLING_PERIODS=252, CAUSAL_WINDOW_SIZE=21, FACTORS=('spx',), TARGETS=('vol', 'naive_vol', 'target', 'cgp_ucb', 'irl'), HEDGING_ASSETS=('spx_fut',), RF_NAME='acc_rate', MKT_NAME='spx', PATH_INPUT=PosixPath('/Users/buchkovv/qamsi/data/input'), INITIAL_DF_FILENAME='initial_df.csv', JKP_DATA_FILENAME='jkp_data.csv', STOCKS_LIST_FILENAME='spx_stocks_list.csv', INITIAL_FEATURES_FILENAME='initial_features_df.csv', RETURNS_FILENAME='returns_incl_div_consituents_w_name.csv', BETTER_RETURNS_FILENAME='returns_data_cleaned_better.parquet', ASSET_UNIVERSE=('spx',))"
      ]
     },
     "execution_count": 1,
     "metadata": {},
     "output_type": "execute_result"
    }
   ],
   "execution_count": 1
  },
  {
   "cell_type": "code",
   "id": "e59331b65f7ad9b",
   "metadata": {
    "ExecuteTime": {
     "end_time": "2025-06-19T07:03:30.738120Z",
     "start_time": "2025-06-19T07:03:30.645978Z"
    }
   },
   "source": [
    "data = read_csv(config.PATH_OUTPUT, config.DF_FILENAME)\n",
    "pm = read_csv(config.PATH_OUTPUT, config.PRESENCE_MATRIX_FILENAME)\n",
    "ret = data[pm.columns]"
   ],
   "outputs": [],
   "execution_count": 2
  },
  {
   "metadata": {
    "ExecuteTime": {
     "end_time": "2025-06-19T07:03:52.655574Z",
     "start_time": "2025-06-19T07:03:52.652892Z"
    }
   },
   "cell_type": "code",
   "source": [
    "# Function to compute rolling correlation\n",
    "def rolling_feature(df, feature_fn, pm, name):\n",
    "    # Initialize a list to store results\n",
    "    results = []\n",
    "\n",
    "    # Perform calculation for each rolling window\n",
    "    for end in df.index:\n",
    "        start = end - pd.DateOffset(months=1)\n",
    "\n",
    "        curr_matrix = pm.loc[:end].iloc[-1]\n",
    "        selection = curr_matrix[curr_matrix == 1].index.tolist()\n",
    "        rolling_window = df[selection].loc[start:end]\n",
    "\n",
    "        feature = feature_fn(rolling_window)\n",
    "\n",
    "        results.append([end, feature])\n",
    "\n",
    "    # Create a series with the results\n",
    "    rolling_feat = pd.DataFrame(results, columns=[\"date\", name])\n",
    "    rolling_feat[\"date\"] = pd.to_datetime(rolling_feat[\"date\"])\n",
    "    rolling_feat = rolling_feat.set_index(\"date\")\n",
    "    return rolling_feat"
   ],
   "id": "7749bf9bdf9bd6c6",
   "outputs": [],
   "execution_count": 4
  },
  {
   "metadata": {},
   "cell_type": "markdown",
   "source": "### 1. Avg Corr.",
   "id": "6b4fa2a74e34386"
  },
  {
   "cell_type": "code",
   "id": "247c20c24cbb2c8f",
   "metadata": {
    "ExecuteTime": {
     "end_time": "2025-06-18T23:38:18.215184Z",
     "start_time": "2025-06-18T23:38:11.648341Z"
    }
   },
   "source": [
    "# Function to compute the average of non-diagonal elements in each correlation matrix\n",
    "def avg_non_diagonal_elements(corr_matrix):\n",
    "    # Select the non-diagonal elements using numpy\n",
    "    non_diag = corr_matrix.values[np.triu_indices_from(corr_matrix, k=1)]\n",
    "    return np.nanmean(non_diag)\n",
    "\n",
    "def avg_corr(rolling_window):\n",
    "    # Compute the correlation matrix for the rolling window\n",
    "    corr_matrix = rolling_window.corr()\n",
    "\n",
    "    # Compute the average of non-diagonal elements\n",
    "    return avg_non_diagonal_elements(corr_matrix)\n",
    "\n",
    "# Calculate rolling average correlation of non-diagonal elements\n",
    "rolling_avg_corr = rolling_feature(ret, avg_corr, pm, \"avg_corr\")\n",
    "\n",
    "# Output rolling_avg_corr as the result\n",
    "rolling_avg_corr.shape"
   ],
   "outputs": [
    {
     "data": {
      "text/plain": [
       "(11324, 1)"
      ]
     },
     "execution_count": 4,
     "metadata": {},
     "output_type": "execute_result"
    }
   ],
   "execution_count": 4
  },
  {
   "cell_type": "markdown",
   "id": "f4f8ad83684db101",
   "metadata": {},
   "source": "### 2. Average volatility."
  },
  {
   "metadata": {
    "ExecuteTime": {
     "end_time": "2025-06-18T23:38:25.203860Z",
     "start_time": "2025-06-18T23:38:18.250955Z"
    }
   },
   "cell_type": "code",
   "source": [
    "avg_vol = rolling_feature(ret, lambda s: s.std(axis=0).mean(), pm, \"avg_vol\")\n",
    "avg_vol.shape"
   ],
   "id": "d4fb33ac68ca1c2a",
   "outputs": [
    {
     "data": {
      "text/plain": [
       "(11324, 1)"
      ]
     },
     "execution_count": 5,
     "metadata": {},
     "output_type": "execute_result"
    }
   ],
   "execution_count": 5
  },
  {
   "cell_type": "markdown",
   "id": "b2afd1782d5a9bc2",
   "metadata": {},
   "source": "### 3. EW Portfolio."
  },
  {
   "cell_type": "code",
   "id": "6db509b46d11a589",
   "metadata": {
    "ExecuteTime": {
     "end_time": "2025-06-18T23:38:31.430065Z",
     "start_time": "2025-06-18T23:38:25.243401Z"
    }
   },
   "source": [
    "ew = rolling_feature(ret, lambda s: np.prod(1 + np.nanmean(s, axis=1)) - 1, pm, \"ew\")\n",
    "ew"
   ],
   "outputs": [
    {
     "data": {
      "text/plain": [
       "                  ew\n",
       "date                \n",
       "1980-01-31 -0.009858\n",
       "1980-02-01  0.000682\n",
       "1980-02-04 -0.003901\n",
       "1980-02-05 -0.002505\n",
       "1980-02-06  0.018755\n",
       "...              ...\n",
       "2024-12-24  0.027452\n",
       "2024-12-26  0.026098\n",
       "2024-12-27  0.006078\n",
       "2024-12-30 -0.006538\n",
       "2024-12-31 -0.009556\n",
       "\n",
       "[11324 rows x 1 columns]"
      ],
      "text/html": [
       "<div>\n",
       "<style scoped>\n",
       "    .dataframe tbody tr th:only-of-type {\n",
       "        vertical-align: middle;\n",
       "    }\n",
       "\n",
       "    .dataframe tbody tr th {\n",
       "        vertical-align: top;\n",
       "    }\n",
       "\n",
       "    .dataframe thead th {\n",
       "        text-align: right;\n",
       "    }\n",
       "</style>\n",
       "<table border=\"1\" class=\"dataframe\">\n",
       "  <thead>\n",
       "    <tr style=\"text-align: right;\">\n",
       "      <th></th>\n",
       "      <th>ew</th>\n",
       "    </tr>\n",
       "    <tr>\n",
       "      <th>date</th>\n",
       "      <th></th>\n",
       "    </tr>\n",
       "  </thead>\n",
       "  <tbody>\n",
       "    <tr>\n",
       "      <th>1980-01-31</th>\n",
       "      <td>-0.009858</td>\n",
       "    </tr>\n",
       "    <tr>\n",
       "      <th>1980-02-01</th>\n",
       "      <td>0.000682</td>\n",
       "    </tr>\n",
       "    <tr>\n",
       "      <th>1980-02-04</th>\n",
       "      <td>-0.003901</td>\n",
       "    </tr>\n",
       "    <tr>\n",
       "      <th>1980-02-05</th>\n",
       "      <td>-0.002505</td>\n",
       "    </tr>\n",
       "    <tr>\n",
       "      <th>1980-02-06</th>\n",
       "      <td>0.018755</td>\n",
       "    </tr>\n",
       "    <tr>\n",
       "      <th>...</th>\n",
       "      <td>...</td>\n",
       "    </tr>\n",
       "    <tr>\n",
       "      <th>2024-12-24</th>\n",
       "      <td>0.027452</td>\n",
       "    </tr>\n",
       "    <tr>\n",
       "      <th>2024-12-26</th>\n",
       "      <td>0.026098</td>\n",
       "    </tr>\n",
       "    <tr>\n",
       "      <th>2024-12-27</th>\n",
       "      <td>0.006078</td>\n",
       "    </tr>\n",
       "    <tr>\n",
       "      <th>2024-12-30</th>\n",
       "      <td>-0.006538</td>\n",
       "    </tr>\n",
       "    <tr>\n",
       "      <th>2024-12-31</th>\n",
       "      <td>-0.009556</td>\n",
       "    </tr>\n",
       "  </tbody>\n",
       "</table>\n",
       "<p>11324 rows × 1 columns</p>\n",
       "</div>"
      ]
     },
     "execution_count": 6,
     "metadata": {},
     "output_type": "execute_result"
    }
   ],
   "execution_count": 6
  },
  {
   "metadata": {
    "ExecuteTime": {
     "end_time": "2025-06-18T23:38:32.736232Z",
     "start_time": "2025-06-18T23:38:31.480121Z"
    }
   },
   "cell_type": "code",
   "source": [
    "ewma = []\n",
    "for end in ew.index:\n",
    "    start = end - pd.DateOffset(months=1)\n",
    "\n",
    "    if end > ew.index[-1]:\n",
    "        break\n",
    "\n",
    "    sample = ew.loc[start:end]\n",
    "\n",
    "    ma = sample.ewm(alpha=0.1).mean().iloc[-1].item()\n",
    "\n",
    "    ewma.append([end, ma])"
   ],
   "id": "fe82876ea9486811",
   "outputs": [],
   "execution_count": 7
  },
  {
   "metadata": {
    "ExecuteTime": {
     "end_time": "2025-06-18T23:38:32.817669Z",
     "start_time": "2025-06-18T23:38:32.801702Z"
    }
   },
   "cell_type": "code",
   "source": [
    "ewma = pd.DataFrame(ewma, columns=[\"date\", \"ewma\"])\n",
    "ewma[\"date\"] = pd.to_datetime(ewma[\"date\"])\n",
    "ewma = ewma.set_index(\"date\")\n",
    "ewma"
   ],
   "id": "d8ca4c0f7fa29023",
   "outputs": [
    {
     "data": {
      "text/plain": [
       "                ewma\n",
       "date                \n",
       "1980-01-31 -0.009858\n",
       "1980-02-01 -0.004310\n",
       "1980-02-04 -0.004159\n",
       "1980-02-05 -0.003678\n",
       "1980-02-06  0.001800\n",
       "...              ...\n",
       "2024-12-24  0.033623\n",
       "2024-12-26  0.032652\n",
       "2024-12-27  0.029418\n",
       "2024-12-30  0.024774\n",
       "2024-12-31  0.020919\n",
       "\n",
       "[11324 rows x 1 columns]"
      ],
      "text/html": [
       "<div>\n",
       "<style scoped>\n",
       "    .dataframe tbody tr th:only-of-type {\n",
       "        vertical-align: middle;\n",
       "    }\n",
       "\n",
       "    .dataframe tbody tr th {\n",
       "        vertical-align: top;\n",
       "    }\n",
       "\n",
       "    .dataframe thead th {\n",
       "        text-align: right;\n",
       "    }\n",
       "</style>\n",
       "<table border=\"1\" class=\"dataframe\">\n",
       "  <thead>\n",
       "    <tr style=\"text-align: right;\">\n",
       "      <th></th>\n",
       "      <th>ewma</th>\n",
       "    </tr>\n",
       "    <tr>\n",
       "      <th>date</th>\n",
       "      <th></th>\n",
       "    </tr>\n",
       "  </thead>\n",
       "  <tbody>\n",
       "    <tr>\n",
       "      <th>1980-01-31</th>\n",
       "      <td>-0.009858</td>\n",
       "    </tr>\n",
       "    <tr>\n",
       "      <th>1980-02-01</th>\n",
       "      <td>-0.004310</td>\n",
       "    </tr>\n",
       "    <tr>\n",
       "      <th>1980-02-04</th>\n",
       "      <td>-0.004159</td>\n",
       "    </tr>\n",
       "    <tr>\n",
       "      <th>1980-02-05</th>\n",
       "      <td>-0.003678</td>\n",
       "    </tr>\n",
       "    <tr>\n",
       "      <th>1980-02-06</th>\n",
       "      <td>0.001800</td>\n",
       "    </tr>\n",
       "    <tr>\n",
       "      <th>...</th>\n",
       "      <td>...</td>\n",
       "    </tr>\n",
       "    <tr>\n",
       "      <th>2024-12-24</th>\n",
       "      <td>0.033623</td>\n",
       "    </tr>\n",
       "    <tr>\n",
       "      <th>2024-12-26</th>\n",
       "      <td>0.032652</td>\n",
       "    </tr>\n",
       "    <tr>\n",
       "      <th>2024-12-27</th>\n",
       "      <td>0.029418</td>\n",
       "    </tr>\n",
       "    <tr>\n",
       "      <th>2024-12-30</th>\n",
       "      <td>0.024774</td>\n",
       "    </tr>\n",
       "    <tr>\n",
       "      <th>2024-12-31</th>\n",
       "      <td>0.020919</td>\n",
       "    </tr>\n",
       "  </tbody>\n",
       "</table>\n",
       "<p>11324 rows × 1 columns</p>\n",
       "</div>"
      ]
     },
     "execution_count": 8,
     "metadata": {},
     "output_type": "execute_result"
    }
   ],
   "execution_count": 8
  },
  {
   "cell_type": "markdown",
   "id": "37f2efb979d65b82",
   "metadata": {},
   "source": "### 4. Ledoit-Wolf Shrinkage Intensity."
  },
  {
   "cell_type": "code",
   "id": "3da2b1a1e669381",
   "metadata": {
    "ExecuteTime": {
     "end_time": "2025-06-18T23:38:45.202863Z",
     "start_time": "2025-06-18T23:38:32.900583Z"
    }
   },
   "source": [
    "from sklearn.covariance import LedoitWolf\n",
    "\n",
    "def get_intensity(s: pd.DataFrame):\n",
    "    s = s.copy().fillna(0)\n",
    "    lw = LedoitWolf()\n",
    "    lw.fit(s)\n",
    "    return lw.shrinkage_\n",
    "\n",
    "lw = rolling_feature(ret, lambda s: get_intensity(s), pm, \"lw_shrinkage\")\n",
    "lw"
   ],
   "outputs": [
    {
     "data": {
      "text/plain": [
       "            lw_shrinkage\n",
       "date                    \n",
       "1980-01-31      0.000000\n",
       "1980-02-01      0.000000\n",
       "1980-02-04      0.270941\n",
       "1980-02-05      0.366452\n",
       "1980-02-06      0.408118\n",
       "...                  ...\n",
       "2024-12-24      0.427849\n",
       "2024-12-26      0.425807\n",
       "2024-12-27      0.381702\n",
       "2024-12-30      0.368413\n",
       "2024-12-31      0.355710\n",
       "\n",
       "[11324 rows x 1 columns]"
      ],
      "text/html": [
       "<div>\n",
       "<style scoped>\n",
       "    .dataframe tbody tr th:only-of-type {\n",
       "        vertical-align: middle;\n",
       "    }\n",
       "\n",
       "    .dataframe tbody tr th {\n",
       "        vertical-align: top;\n",
       "    }\n",
       "\n",
       "    .dataframe thead th {\n",
       "        text-align: right;\n",
       "    }\n",
       "</style>\n",
       "<table border=\"1\" class=\"dataframe\">\n",
       "  <thead>\n",
       "    <tr style=\"text-align: right;\">\n",
       "      <th></th>\n",
       "      <th>lw_shrinkage</th>\n",
       "    </tr>\n",
       "    <tr>\n",
       "      <th>date</th>\n",
       "      <th></th>\n",
       "    </tr>\n",
       "  </thead>\n",
       "  <tbody>\n",
       "    <tr>\n",
       "      <th>1980-01-31</th>\n",
       "      <td>0.000000</td>\n",
       "    </tr>\n",
       "    <tr>\n",
       "      <th>1980-02-01</th>\n",
       "      <td>0.000000</td>\n",
       "    </tr>\n",
       "    <tr>\n",
       "      <th>1980-02-04</th>\n",
       "      <td>0.270941</td>\n",
       "    </tr>\n",
       "    <tr>\n",
       "      <th>1980-02-05</th>\n",
       "      <td>0.366452</td>\n",
       "    </tr>\n",
       "    <tr>\n",
       "      <th>1980-02-06</th>\n",
       "      <td>0.408118</td>\n",
       "    </tr>\n",
       "    <tr>\n",
       "      <th>...</th>\n",
       "      <td>...</td>\n",
       "    </tr>\n",
       "    <tr>\n",
       "      <th>2024-12-24</th>\n",
       "      <td>0.427849</td>\n",
       "    </tr>\n",
       "    <tr>\n",
       "      <th>2024-12-26</th>\n",
       "      <td>0.425807</td>\n",
       "    </tr>\n",
       "    <tr>\n",
       "      <th>2024-12-27</th>\n",
       "      <td>0.381702</td>\n",
       "    </tr>\n",
       "    <tr>\n",
       "      <th>2024-12-30</th>\n",
       "      <td>0.368413</td>\n",
       "    </tr>\n",
       "    <tr>\n",
       "      <th>2024-12-31</th>\n",
       "      <td>0.355710</td>\n",
       "    </tr>\n",
       "  </tbody>\n",
       "</table>\n",
       "<p>11324 rows × 1 columns</p>\n",
       "</div>"
      ]
     },
     "execution_count": 9,
     "metadata": {},
     "output_type": "execute_result"
    }
   ],
   "execution_count": 9
  },
  {
   "cell_type": "markdown",
   "id": "de73e3c69368473",
   "metadata": {},
   "source": "### 5. Momentum"
  },
  {
   "metadata": {
    "ExecuteTime": {
     "end_time": "2025-06-18T23:38:51.685304Z",
     "start_time": "2025-06-18T23:38:45.300471Z"
    }
   },
   "cell_type": "code",
   "source": [
    "momentum = rolling_feature(ret, lambda s: np.nanmean(np.where(s, s > 0, 1), axis=0).mean(), pm, \"momentum_feature\")\n",
    "momentum"
   ],
   "id": "a1b9ad918c52beb1",
   "outputs": [
    {
     "data": {
      "text/plain": [
       "            momentum_feature\n",
       "date                        \n",
       "1980-01-31          0.233333\n",
       "1980-02-01          0.433333\n",
       "1980-02-04          0.411111\n",
       "1980-02-05          0.466667\n",
       "1980-02-06          0.520000\n",
       "...                      ...\n",
       "2024-12-24          0.530159\n",
       "2024-12-26          0.520635\n",
       "2024-12-27          0.484127\n",
       "2024-12-30          0.453333\n",
       "2024-12-31          0.452381\n",
       "\n",
       "[11324 rows x 1 columns]"
      ],
      "text/html": [
       "<div>\n",
       "<style scoped>\n",
       "    .dataframe tbody tr th:only-of-type {\n",
       "        vertical-align: middle;\n",
       "    }\n",
       "\n",
       "    .dataframe tbody tr th {\n",
       "        vertical-align: top;\n",
       "    }\n",
       "\n",
       "    .dataframe thead th {\n",
       "        text-align: right;\n",
       "    }\n",
       "</style>\n",
       "<table border=\"1\" class=\"dataframe\">\n",
       "  <thead>\n",
       "    <tr style=\"text-align: right;\">\n",
       "      <th></th>\n",
       "      <th>momentum_feature</th>\n",
       "    </tr>\n",
       "    <tr>\n",
       "      <th>date</th>\n",
       "      <th></th>\n",
       "    </tr>\n",
       "  </thead>\n",
       "  <tbody>\n",
       "    <tr>\n",
       "      <th>1980-01-31</th>\n",
       "      <td>0.233333</td>\n",
       "    </tr>\n",
       "    <tr>\n",
       "      <th>1980-02-01</th>\n",
       "      <td>0.433333</td>\n",
       "    </tr>\n",
       "    <tr>\n",
       "      <th>1980-02-04</th>\n",
       "      <td>0.411111</td>\n",
       "    </tr>\n",
       "    <tr>\n",
       "      <th>1980-02-05</th>\n",
       "      <td>0.466667</td>\n",
       "    </tr>\n",
       "    <tr>\n",
       "      <th>1980-02-06</th>\n",
       "      <td>0.520000</td>\n",
       "    </tr>\n",
       "    <tr>\n",
       "      <th>...</th>\n",
       "      <td>...</td>\n",
       "    </tr>\n",
       "    <tr>\n",
       "      <th>2024-12-24</th>\n",
       "      <td>0.530159</td>\n",
       "    </tr>\n",
       "    <tr>\n",
       "      <th>2024-12-26</th>\n",
       "      <td>0.520635</td>\n",
       "    </tr>\n",
       "    <tr>\n",
       "      <th>2024-12-27</th>\n",
       "      <td>0.484127</td>\n",
       "    </tr>\n",
       "    <tr>\n",
       "      <th>2024-12-30</th>\n",
       "      <td>0.453333</td>\n",
       "    </tr>\n",
       "    <tr>\n",
       "      <th>2024-12-31</th>\n",
       "      <td>0.452381</td>\n",
       "    </tr>\n",
       "  </tbody>\n",
       "</table>\n",
       "<p>11324 rows × 1 columns</p>\n",
       "</div>"
      ]
     },
     "execution_count": 10,
     "metadata": {},
     "output_type": "execute_result"
    }
   ],
   "execution_count": 10
  },
  {
   "cell_type": "markdown",
   "id": "cbdff7d7a753a8e7",
   "metadata": {},
   "source": "### 6. Trace."
  },
  {
   "metadata": {
    "ExecuteTime": {
     "end_time": "2025-06-19T07:05:36.778598Z",
     "start_time": "2025-06-19T07:05:31.924548Z"
    }
   },
   "cell_type": "code",
   "source": [
    "trace = rolling_feature(ret, lambda s: np.trace(s.fillna(0).cov()), pm, \"trace\")\n",
    "trace"
   ],
   "id": "c64eb669284541ea",
   "outputs": [
    {
     "data": {
      "text/plain": [
       "               trace\n",
       "date                \n",
       "1980-01-31       NaN\n",
       "1980-02-01  0.013149\n",
       "1980-02-04  0.010395\n",
       "1980-02-05  0.007977\n",
       "1980-02-06  0.012255\n",
       "...              ...\n",
       "2024-12-24  0.012827\n",
       "2024-12-26  0.012451\n",
       "2024-12-27  0.012570\n",
       "2024-12-30  0.013056\n",
       "2024-12-31  0.012706\n",
       "\n",
       "[11324 rows x 1 columns]"
      ],
      "text/html": [
       "<div>\n",
       "<style scoped>\n",
       "    .dataframe tbody tr th:only-of-type {\n",
       "        vertical-align: middle;\n",
       "    }\n",
       "\n",
       "    .dataframe tbody tr th {\n",
       "        vertical-align: top;\n",
       "    }\n",
       "\n",
       "    .dataframe thead th {\n",
       "        text-align: right;\n",
       "    }\n",
       "</style>\n",
       "<table border=\"1\" class=\"dataframe\">\n",
       "  <thead>\n",
       "    <tr style=\"text-align: right;\">\n",
       "      <th></th>\n",
       "      <th>trace</th>\n",
       "    </tr>\n",
       "    <tr>\n",
       "      <th>date</th>\n",
       "      <th></th>\n",
       "    </tr>\n",
       "  </thead>\n",
       "  <tbody>\n",
       "    <tr>\n",
       "      <th>1980-01-31</th>\n",
       "      <td>NaN</td>\n",
       "    </tr>\n",
       "    <tr>\n",
       "      <th>1980-02-01</th>\n",
       "      <td>0.013149</td>\n",
       "    </tr>\n",
       "    <tr>\n",
       "      <th>1980-02-04</th>\n",
       "      <td>0.010395</td>\n",
       "    </tr>\n",
       "    <tr>\n",
       "      <th>1980-02-05</th>\n",
       "      <td>0.007977</td>\n",
       "    </tr>\n",
       "    <tr>\n",
       "      <th>1980-02-06</th>\n",
       "      <td>0.012255</td>\n",
       "    </tr>\n",
       "    <tr>\n",
       "      <th>...</th>\n",
       "      <td>...</td>\n",
       "    </tr>\n",
       "    <tr>\n",
       "      <th>2024-12-24</th>\n",
       "      <td>0.012827</td>\n",
       "    </tr>\n",
       "    <tr>\n",
       "      <th>2024-12-26</th>\n",
       "      <td>0.012451</td>\n",
       "    </tr>\n",
       "    <tr>\n",
       "      <th>2024-12-27</th>\n",
       "      <td>0.012570</td>\n",
       "    </tr>\n",
       "    <tr>\n",
       "      <th>2024-12-30</th>\n",
       "      <td>0.013056</td>\n",
       "    </tr>\n",
       "    <tr>\n",
       "      <th>2024-12-31</th>\n",
       "      <td>0.012706</td>\n",
       "    </tr>\n",
       "  </tbody>\n",
       "</table>\n",
       "<p>11324 rows × 1 columns</p>\n",
       "</div>"
      ]
     },
     "execution_count": 9,
     "metadata": {},
     "output_type": "execute_result"
    }
   ],
   "execution_count": 9
  },
  {
   "metadata": {
    "ExecuteTime": {
     "end_time": "2025-06-19T07:05:38.186077Z",
     "start_time": "2025-06-19T07:05:38.180901Z"
    }
   },
   "cell_type": "code",
   "source": "trace[trace.isna().any(axis=1)]",
   "id": "652bae166cafc2db",
   "outputs": [
    {
     "data": {
      "text/plain": [
       "            trace\n",
       "date             \n",
       "1980-01-31    NaN"
      ],
      "text/html": [
       "<div>\n",
       "<style scoped>\n",
       "    .dataframe tbody tr th:only-of-type {\n",
       "        vertical-align: middle;\n",
       "    }\n",
       "\n",
       "    .dataframe tbody tr th {\n",
       "        vertical-align: top;\n",
       "    }\n",
       "\n",
       "    .dataframe thead th {\n",
       "        text-align: right;\n",
       "    }\n",
       "</style>\n",
       "<table border=\"1\" class=\"dataframe\">\n",
       "  <thead>\n",
       "    <tr style=\"text-align: right;\">\n",
       "      <th></th>\n",
       "      <th>trace</th>\n",
       "    </tr>\n",
       "    <tr>\n",
       "      <th>date</th>\n",
       "      <th></th>\n",
       "    </tr>\n",
       "  </thead>\n",
       "  <tbody>\n",
       "    <tr>\n",
       "      <th>1980-01-31</th>\n",
       "      <td>NaN</td>\n",
       "    </tr>\n",
       "  </tbody>\n",
       "</table>\n",
       "</div>"
      ]
     },
     "execution_count": 10,
     "metadata": {},
     "output_type": "execute_result"
    }
   ],
   "execution_count": 10
  },
  {
   "cell_type": "markdown",
   "id": "6352f15c93631ff3",
   "metadata": {},
   "source": "### 7. Universe Volatility."
  },
  {
   "cell_type": "code",
   "id": "6a30e91f9090cf56",
   "metadata": {
    "ExecuteTime": {
     "end_time": "2025-06-18T23:38:58.582994Z",
     "start_time": "2025-06-18T23:38:58.577687Z"
    }
   },
   "source": [
    "ew_vol = ew.rolling(window=252, min_periods=1).std().fillna(0)\n",
    "ew_vol"
   ],
   "outputs": [
    {
     "data": {
      "text/plain": [
       "                  ew\n",
       "date                \n",
       "1980-01-31  0.000000\n",
       "1980-02-01  0.007453\n",
       "1980-02-04  0.005285\n",
       "1980-02-05  0.004414\n",
       "1980-02-06  0.010827\n",
       "...              ...\n",
       "2024-12-24  0.027874\n",
       "2024-12-26  0.027871\n",
       "2024-12-27  0.027908\n",
       "2024-12-30  0.027998\n",
       "2024-12-31  0.028110\n",
       "\n",
       "[11324 rows x 1 columns]"
      ],
      "text/html": [
       "<div>\n",
       "<style scoped>\n",
       "    .dataframe tbody tr th:only-of-type {\n",
       "        vertical-align: middle;\n",
       "    }\n",
       "\n",
       "    .dataframe tbody tr th {\n",
       "        vertical-align: top;\n",
       "    }\n",
       "\n",
       "    .dataframe thead th {\n",
       "        text-align: right;\n",
       "    }\n",
       "</style>\n",
       "<table border=\"1\" class=\"dataframe\">\n",
       "  <thead>\n",
       "    <tr style=\"text-align: right;\">\n",
       "      <th></th>\n",
       "      <th>ew</th>\n",
       "    </tr>\n",
       "    <tr>\n",
       "      <th>date</th>\n",
       "      <th></th>\n",
       "    </tr>\n",
       "  </thead>\n",
       "  <tbody>\n",
       "    <tr>\n",
       "      <th>1980-01-31</th>\n",
       "      <td>0.000000</td>\n",
       "    </tr>\n",
       "    <tr>\n",
       "      <th>1980-02-01</th>\n",
       "      <td>0.007453</td>\n",
       "    </tr>\n",
       "    <tr>\n",
       "      <th>1980-02-04</th>\n",
       "      <td>0.005285</td>\n",
       "    </tr>\n",
       "    <tr>\n",
       "      <th>1980-02-05</th>\n",
       "      <td>0.004414</td>\n",
       "    </tr>\n",
       "    <tr>\n",
       "      <th>1980-02-06</th>\n",
       "      <td>0.010827</td>\n",
       "    </tr>\n",
       "    <tr>\n",
       "      <th>...</th>\n",
       "      <td>...</td>\n",
       "    </tr>\n",
       "    <tr>\n",
       "      <th>2024-12-24</th>\n",
       "      <td>0.027874</td>\n",
       "    </tr>\n",
       "    <tr>\n",
       "      <th>2024-12-26</th>\n",
       "      <td>0.027871</td>\n",
       "    </tr>\n",
       "    <tr>\n",
       "      <th>2024-12-27</th>\n",
       "      <td>0.027908</td>\n",
       "    </tr>\n",
       "    <tr>\n",
       "      <th>2024-12-30</th>\n",
       "      <td>0.027998</td>\n",
       "    </tr>\n",
       "    <tr>\n",
       "      <th>2024-12-31</th>\n",
       "      <td>0.028110</td>\n",
       "    </tr>\n",
       "  </tbody>\n",
       "</table>\n",
       "<p>11324 rows × 1 columns</p>\n",
       "</div>"
      ]
     },
     "execution_count": 12,
     "metadata": {},
     "output_type": "execute_result"
    }
   ],
   "execution_count": 12
  },
  {
   "cell_type": "markdown",
   "id": "97a9030f77d934b7",
   "metadata": {},
   "source": "### Append features."
  },
  {
   "cell_type": "code",
   "id": "f4e0a9f68ce2529d",
   "metadata": {
    "ExecuteTime": {
     "end_time": "2025-06-18T23:38:58.701214Z",
     "start_time": "2025-06-18T23:38:58.695567Z"
    }
   },
   "source": [
    "features = rolling_avg_corr.merge(avg_vol, how=\"inner\", left_index=True, right_index=True)\n",
    "features.shape"
   ],
   "outputs": [
    {
     "data": {
      "text/plain": [
       "(11324, 2)"
      ]
     },
     "execution_count": 13,
     "metadata": {},
     "output_type": "execute_result"
    }
   ],
   "execution_count": 13
  },
  {
   "cell_type": "code",
   "id": "d11af746876c1256",
   "metadata": {
    "ExecuteTime": {
     "end_time": "2025-06-18T23:38:58.836133Z",
     "start_time": "2025-06-18T23:38:58.830913Z"
    }
   },
   "source": [
    "features = features.merge(ewma, how=\"inner\", left_index=True, right_index=True)\n",
    "features.shape"
   ],
   "outputs": [
    {
     "data": {
      "text/plain": [
       "(11324, 3)"
      ]
     },
     "execution_count": 14,
     "metadata": {},
     "output_type": "execute_result"
    }
   ],
   "execution_count": 14
  },
  {
   "cell_type": "code",
   "id": "a047d6cc516a8a7c",
   "metadata": {
    "ExecuteTime": {
     "end_time": "2025-06-18T23:38:58.955092Z",
     "start_time": "2025-06-18T23:38:58.949791Z"
    }
   },
   "source": [
    "features = features.merge(lw, how=\"inner\", left_index=True, right_index=True)\n",
    "features.shape"
   ],
   "outputs": [
    {
     "data": {
      "text/plain": [
       "(11324, 4)"
      ]
     },
     "execution_count": 15,
     "metadata": {},
     "output_type": "execute_result"
    }
   ],
   "execution_count": 15
  },
  {
   "cell_type": "code",
   "id": "54ce8748c93baa0f",
   "metadata": {
    "ExecuteTime": {
     "end_time": "2025-06-18T23:38:59.047601Z",
     "start_time": "2025-06-18T23:38:59.040471Z"
    }
   },
   "source": [
    "features = features.merge(momentum, how=\"inner\", left_index=True, right_index=True)\n",
    "features.shape"
   ],
   "outputs": [
    {
     "data": {
      "text/plain": [
       "(11324, 5)"
      ]
     },
     "execution_count": 16,
     "metadata": {},
     "output_type": "execute_result"
    }
   ],
   "execution_count": 16
  },
  {
   "cell_type": "code",
   "id": "28ead313af7ecbf5",
   "metadata": {
    "ExecuteTime": {
     "end_time": "2025-06-18T23:38:59.245393Z",
     "start_time": "2025-06-18T23:38:59.237239Z"
    }
   },
   "source": [
    "features = features.merge(trace, how=\"inner\", left_index=True, right_index=True)\n",
    "features.shape"
   ],
   "outputs": [
    {
     "data": {
      "text/plain": [
       "(11324, 6)"
      ]
     },
     "execution_count": 17,
     "metadata": {},
     "output_type": "execute_result"
    }
   ],
   "execution_count": 17
  },
  {
   "cell_type": "code",
   "id": "2194ac5c1799d933",
   "metadata": {
    "ExecuteTime": {
     "end_time": "2025-06-18T23:38:59.295113Z",
     "start_time": "2025-06-18T23:38:59.288334Z"
    }
   },
   "source": [
    "features = features.merge(\n",
    "    ew_vol.rename(columns={\"ew\": \"universe_vol\"}), how=\"inner\", left_index=True, right_index=True\n",
    ")\n",
    "features.shape"
   ],
   "outputs": [
    {
     "data": {
      "text/plain": [
       "(11324, 7)"
      ]
     },
     "execution_count": 18,
     "metadata": {},
     "output_type": "execute_result"
    }
   ],
   "execution_count": 18
  },
  {
   "cell_type": "code",
   "id": "6876f2d2bdf7e578",
   "metadata": {
    "ExecuteTime": {
     "end_time": "2025-06-18T23:38:59.412269Z",
     "start_time": "2025-06-18T23:38:59.344948Z"
    }
   },
   "source": "# features.to_csv(\"init_features.csv\")",
   "outputs": [],
   "execution_count": 19
  },
  {
   "cell_type": "code",
   "id": "19cba7c11883e151",
   "metadata": {
    "ExecuteTime": {
     "end_time": "2025-06-19T07:05:47.653548Z",
     "start_time": "2025-06-19T07:05:47.640062Z"
    }
   },
   "source": [
    "# features = pd.read_csv(\"init_features.csv\")\n",
    "# features[\"date\"] = pd.to_datetime(features[\"date\"])\n",
    "# features = features.set_index(\"date\")"
   ],
   "outputs": [],
   "execution_count": 11
  },
  {
   "metadata": {
    "ExecuteTime": {
     "end_time": "2025-06-19T07:06:00.705463Z",
     "start_time": "2025-06-19T07:06:00.703105Z"
    }
   },
   "cell_type": "code",
   "source": "# features = features.drop(columns=[\"trace\"])",
   "id": "df104247d94f05ec",
   "outputs": [],
   "execution_count": 12
  },
  {
   "metadata": {
    "ExecuteTime": {
     "end_time": "2025-06-19T07:06:18.134967Z",
     "start_time": "2025-06-19T07:06:18.129492Z"
    }
   },
   "cell_type": "code",
   "source": [
    "# features = features.drop(columns=[\"trace\"])\n",
    "\n",
    "# features = features.merge(trace, how=\"inner\", left_index=True, right_index=True)\n",
    "# features.shape"
   ],
   "id": "dbcae38485321e56",
   "outputs": [
    {
     "data": {
      "text/plain": [
       "(11324, 7)"
      ]
     },
     "execution_count": 13,
     "metadata": {},
     "output_type": "execute_result"
    }
   ],
   "execution_count": 13
  },
  {
   "cell_type": "code",
   "id": "9c13554e9cdeaa59",
   "metadata": {
    "ExecuteTime": {
     "end_time": "2025-06-19T07:06:25.069334Z",
     "start_time": "2025-06-19T07:06:25.055184Z"
    }
   },
   "source": [
    "targets = pd.read_csv(\"targets.csv\")\n",
    "targets[\"start_date\"] = pd.to_datetime(targets[\"start_date\"])\n",
    "targets[\"end_date\"] = pd.to_datetime(targets[\"end_date\"])"
   ],
   "outputs": [],
   "execution_count": 14
  },
  {
   "cell_type": "code",
   "id": "decbbc1dd480614e",
   "metadata": {
    "ExecuteTime": {
     "end_time": "2025-06-19T07:06:26.049651Z",
     "start_time": "2025-06-19T07:06:26.043608Z"
    }
   },
   "source": [
    "data_df = targets.merge(features, how=\"right\", left_on=\"start_date\", right_index=True)\n",
    "data_df.shape"
   ],
   "outputs": [
    {
     "data": {
      "text/plain": [
       "(11324, 12)"
      ]
     },
     "execution_count": 15,
     "metadata": {},
     "output_type": "execute_result"
    }
   ],
   "execution_count": 15
  },
  {
   "cell_type": "code",
   "id": "eec26c1082cc3554",
   "metadata": {
    "ExecuteTime": {
     "end_time": "2025-06-19T07:06:26.564703Z",
     "start_time": "2025-06-19T07:06:26.554583Z"
    }
   },
   "source": [
    "data_df = data_df.rename(columns={\"start_date\": \"date\"})\n",
    "data_df = data_df.set_index(\"date\")\n",
    "data_df = data_df.drop(columns=[\"end_date\"])\n",
    "data_df"
   ],
   "outputs": [
    {
     "data": {
      "text/plain": [
       "            vol  naive_vol  shrinkage  avg_corr   avg_vol      ewma  \\\n",
       "date                                                                  \n",
       "1980-01-31  NaN        NaN        NaN       NaN       NaN -0.009858   \n",
       "1980-02-01  NaN        NaN        NaN  0.425287  0.016380 -0.004310   \n",
       "1980-02-04  NaN        NaN        NaN  0.301685  0.014983 -0.004159   \n",
       "1980-02-05  NaN        NaN        NaN  0.254350  0.013795 -0.003678   \n",
       "1980-02-06  NaN        NaN        NaN  0.310843  0.017848  0.001800   \n",
       "...         ...        ...        ...       ...       ...       ...   \n",
       "2024-12-24  NaN        NaN        NaN  0.233610  0.017114  0.033623   \n",
       "2024-12-26  NaN        NaN        NaN  0.244026  0.016803  0.032652   \n",
       "2024-12-27  NaN        NaN        NaN  0.245522  0.016762  0.029418   \n",
       "2024-12-30  NaN        NaN        NaN  0.266836  0.017095  0.024774   \n",
       "2024-12-31  NaN        NaN        NaN  0.258782  0.016899  0.020919   \n",
       "\n",
       "            lw_shrinkage  momentum_feature  universe_vol     trace  \n",
       "date                                                                \n",
       "1980-01-31      0.000000          0.233333      0.000000       NaN  \n",
       "1980-02-01      0.000000          0.433333      0.007453  0.013149  \n",
       "1980-02-04      0.270941          0.411111      0.005285  0.010395  \n",
       "1980-02-05      0.366452          0.466667      0.004414  0.007977  \n",
       "1980-02-06      0.408118          0.520000      0.010827  0.012255  \n",
       "...                  ...               ...           ...       ...  \n",
       "2024-12-24      0.427849          0.530159      0.027874  0.012827  \n",
       "2024-12-26      0.425807          0.520635      0.027871  0.012451  \n",
       "2024-12-27      0.381702          0.484127      0.027908  0.012570  \n",
       "2024-12-30      0.368413          0.453333      0.027998  0.013056  \n",
       "2024-12-31      0.355710          0.452381      0.028110  0.012706  \n",
       "\n",
       "[11324 rows x 10 columns]"
      ],
      "text/html": [
       "<div>\n",
       "<style scoped>\n",
       "    .dataframe tbody tr th:only-of-type {\n",
       "        vertical-align: middle;\n",
       "    }\n",
       "\n",
       "    .dataframe tbody tr th {\n",
       "        vertical-align: top;\n",
       "    }\n",
       "\n",
       "    .dataframe thead th {\n",
       "        text-align: right;\n",
       "    }\n",
       "</style>\n",
       "<table border=\"1\" class=\"dataframe\">\n",
       "  <thead>\n",
       "    <tr style=\"text-align: right;\">\n",
       "      <th></th>\n",
       "      <th>vol</th>\n",
       "      <th>naive_vol</th>\n",
       "      <th>shrinkage</th>\n",
       "      <th>avg_corr</th>\n",
       "      <th>avg_vol</th>\n",
       "      <th>ewma</th>\n",
       "      <th>lw_shrinkage</th>\n",
       "      <th>momentum_feature</th>\n",
       "      <th>universe_vol</th>\n",
       "      <th>trace</th>\n",
       "    </tr>\n",
       "    <tr>\n",
       "      <th>date</th>\n",
       "      <th></th>\n",
       "      <th></th>\n",
       "      <th></th>\n",
       "      <th></th>\n",
       "      <th></th>\n",
       "      <th></th>\n",
       "      <th></th>\n",
       "      <th></th>\n",
       "      <th></th>\n",
       "      <th></th>\n",
       "    </tr>\n",
       "  </thead>\n",
       "  <tbody>\n",
       "    <tr>\n",
       "      <th>1980-01-31</th>\n",
       "      <td>NaN</td>\n",
       "      <td>NaN</td>\n",
       "      <td>NaN</td>\n",
       "      <td>NaN</td>\n",
       "      <td>NaN</td>\n",
       "      <td>-0.009858</td>\n",
       "      <td>0.000000</td>\n",
       "      <td>0.233333</td>\n",
       "      <td>0.000000</td>\n",
       "      <td>NaN</td>\n",
       "    </tr>\n",
       "    <tr>\n",
       "      <th>1980-02-01</th>\n",
       "      <td>NaN</td>\n",
       "      <td>NaN</td>\n",
       "      <td>NaN</td>\n",
       "      <td>0.425287</td>\n",
       "      <td>0.016380</td>\n",
       "      <td>-0.004310</td>\n",
       "      <td>0.000000</td>\n",
       "      <td>0.433333</td>\n",
       "      <td>0.007453</td>\n",
       "      <td>0.013149</td>\n",
       "    </tr>\n",
       "    <tr>\n",
       "      <th>1980-02-04</th>\n",
       "      <td>NaN</td>\n",
       "      <td>NaN</td>\n",
       "      <td>NaN</td>\n",
       "      <td>0.301685</td>\n",
       "      <td>0.014983</td>\n",
       "      <td>-0.004159</td>\n",
       "      <td>0.270941</td>\n",
       "      <td>0.411111</td>\n",
       "      <td>0.005285</td>\n",
       "      <td>0.010395</td>\n",
       "    </tr>\n",
       "    <tr>\n",
       "      <th>1980-02-05</th>\n",
       "      <td>NaN</td>\n",
       "      <td>NaN</td>\n",
       "      <td>NaN</td>\n",
       "      <td>0.254350</td>\n",
       "      <td>0.013795</td>\n",
       "      <td>-0.003678</td>\n",
       "      <td>0.366452</td>\n",
       "      <td>0.466667</td>\n",
       "      <td>0.004414</td>\n",
       "      <td>0.007977</td>\n",
       "    </tr>\n",
       "    <tr>\n",
       "      <th>1980-02-06</th>\n",
       "      <td>NaN</td>\n",
       "      <td>NaN</td>\n",
       "      <td>NaN</td>\n",
       "      <td>0.310843</td>\n",
       "      <td>0.017848</td>\n",
       "      <td>0.001800</td>\n",
       "      <td>0.408118</td>\n",
       "      <td>0.520000</td>\n",
       "      <td>0.010827</td>\n",
       "      <td>0.012255</td>\n",
       "    </tr>\n",
       "    <tr>\n",
       "      <th>...</th>\n",
       "      <td>...</td>\n",
       "      <td>...</td>\n",
       "      <td>...</td>\n",
       "      <td>...</td>\n",
       "      <td>...</td>\n",
       "      <td>...</td>\n",
       "      <td>...</td>\n",
       "      <td>...</td>\n",
       "      <td>...</td>\n",
       "      <td>...</td>\n",
       "    </tr>\n",
       "    <tr>\n",
       "      <th>2024-12-24</th>\n",
       "      <td>NaN</td>\n",
       "      <td>NaN</td>\n",
       "      <td>NaN</td>\n",
       "      <td>0.233610</td>\n",
       "      <td>0.017114</td>\n",
       "      <td>0.033623</td>\n",
       "      <td>0.427849</td>\n",
       "      <td>0.530159</td>\n",
       "      <td>0.027874</td>\n",
       "      <td>0.012827</td>\n",
       "    </tr>\n",
       "    <tr>\n",
       "      <th>2024-12-26</th>\n",
       "      <td>NaN</td>\n",
       "      <td>NaN</td>\n",
       "      <td>NaN</td>\n",
       "      <td>0.244026</td>\n",
       "      <td>0.016803</td>\n",
       "      <td>0.032652</td>\n",
       "      <td>0.425807</td>\n",
       "      <td>0.520635</td>\n",
       "      <td>0.027871</td>\n",
       "      <td>0.012451</td>\n",
       "    </tr>\n",
       "    <tr>\n",
       "      <th>2024-12-27</th>\n",
       "      <td>NaN</td>\n",
       "      <td>NaN</td>\n",
       "      <td>NaN</td>\n",
       "      <td>0.245522</td>\n",
       "      <td>0.016762</td>\n",
       "      <td>0.029418</td>\n",
       "      <td>0.381702</td>\n",
       "      <td>0.484127</td>\n",
       "      <td>0.027908</td>\n",
       "      <td>0.012570</td>\n",
       "    </tr>\n",
       "    <tr>\n",
       "      <th>2024-12-30</th>\n",
       "      <td>NaN</td>\n",
       "      <td>NaN</td>\n",
       "      <td>NaN</td>\n",
       "      <td>0.266836</td>\n",
       "      <td>0.017095</td>\n",
       "      <td>0.024774</td>\n",
       "      <td>0.368413</td>\n",
       "      <td>0.453333</td>\n",
       "      <td>0.027998</td>\n",
       "      <td>0.013056</td>\n",
       "    </tr>\n",
       "    <tr>\n",
       "      <th>2024-12-31</th>\n",
       "      <td>NaN</td>\n",
       "      <td>NaN</td>\n",
       "      <td>NaN</td>\n",
       "      <td>0.258782</td>\n",
       "      <td>0.016899</td>\n",
       "      <td>0.020919</td>\n",
       "      <td>0.355710</td>\n",
       "      <td>0.452381</td>\n",
       "      <td>0.028110</td>\n",
       "      <td>0.012706</td>\n",
       "    </tr>\n",
       "  </tbody>\n",
       "</table>\n",
       "<p>11324 rows × 10 columns</p>\n",
       "</div>"
      ]
     },
     "execution_count": 16,
     "metadata": {},
     "output_type": "execute_result"
    }
   ],
   "execution_count": 16
  },
  {
   "cell_type": "code",
   "id": "c5673b12c3f1b3b5",
   "metadata": {
    "ExecuteTime": {
     "end_time": "2025-06-19T07:06:27.272836Z",
     "start_time": "2025-06-19T07:06:27.264351Z"
    }
   },
   "source": [
    "data_df = data_df.rename(columns={\"shrinkage\": \"target\"})\n",
    "data_df"
   ],
   "outputs": [
    {
     "data": {
      "text/plain": [
       "            vol  naive_vol  target  avg_corr   avg_vol      ewma  \\\n",
       "date                                                               \n",
       "1980-01-31  NaN        NaN     NaN       NaN       NaN -0.009858   \n",
       "1980-02-01  NaN        NaN     NaN  0.425287  0.016380 -0.004310   \n",
       "1980-02-04  NaN        NaN     NaN  0.301685  0.014983 -0.004159   \n",
       "1980-02-05  NaN        NaN     NaN  0.254350  0.013795 -0.003678   \n",
       "1980-02-06  NaN        NaN     NaN  0.310843  0.017848  0.001800   \n",
       "...         ...        ...     ...       ...       ...       ...   \n",
       "2024-12-24  NaN        NaN     NaN  0.233610  0.017114  0.033623   \n",
       "2024-12-26  NaN        NaN     NaN  0.244026  0.016803  0.032652   \n",
       "2024-12-27  NaN        NaN     NaN  0.245522  0.016762  0.029418   \n",
       "2024-12-30  NaN        NaN     NaN  0.266836  0.017095  0.024774   \n",
       "2024-12-31  NaN        NaN     NaN  0.258782  0.016899  0.020919   \n",
       "\n",
       "            lw_shrinkage  momentum_feature  universe_vol     trace  \n",
       "date                                                                \n",
       "1980-01-31      0.000000          0.233333      0.000000       NaN  \n",
       "1980-02-01      0.000000          0.433333      0.007453  0.013149  \n",
       "1980-02-04      0.270941          0.411111      0.005285  0.010395  \n",
       "1980-02-05      0.366452          0.466667      0.004414  0.007977  \n",
       "1980-02-06      0.408118          0.520000      0.010827  0.012255  \n",
       "...                  ...               ...           ...       ...  \n",
       "2024-12-24      0.427849          0.530159      0.027874  0.012827  \n",
       "2024-12-26      0.425807          0.520635      0.027871  0.012451  \n",
       "2024-12-27      0.381702          0.484127      0.027908  0.012570  \n",
       "2024-12-30      0.368413          0.453333      0.027998  0.013056  \n",
       "2024-12-31      0.355710          0.452381      0.028110  0.012706  \n",
       "\n",
       "[11324 rows x 10 columns]"
      ],
      "text/html": [
       "<div>\n",
       "<style scoped>\n",
       "    .dataframe tbody tr th:only-of-type {\n",
       "        vertical-align: middle;\n",
       "    }\n",
       "\n",
       "    .dataframe tbody tr th {\n",
       "        vertical-align: top;\n",
       "    }\n",
       "\n",
       "    .dataframe thead th {\n",
       "        text-align: right;\n",
       "    }\n",
       "</style>\n",
       "<table border=\"1\" class=\"dataframe\">\n",
       "  <thead>\n",
       "    <tr style=\"text-align: right;\">\n",
       "      <th></th>\n",
       "      <th>vol</th>\n",
       "      <th>naive_vol</th>\n",
       "      <th>target</th>\n",
       "      <th>avg_corr</th>\n",
       "      <th>avg_vol</th>\n",
       "      <th>ewma</th>\n",
       "      <th>lw_shrinkage</th>\n",
       "      <th>momentum_feature</th>\n",
       "      <th>universe_vol</th>\n",
       "      <th>trace</th>\n",
       "    </tr>\n",
       "    <tr>\n",
       "      <th>date</th>\n",
       "      <th></th>\n",
       "      <th></th>\n",
       "      <th></th>\n",
       "      <th></th>\n",
       "      <th></th>\n",
       "      <th></th>\n",
       "      <th></th>\n",
       "      <th></th>\n",
       "      <th></th>\n",
       "      <th></th>\n",
       "    </tr>\n",
       "  </thead>\n",
       "  <tbody>\n",
       "    <tr>\n",
       "      <th>1980-01-31</th>\n",
       "      <td>NaN</td>\n",
       "      <td>NaN</td>\n",
       "      <td>NaN</td>\n",
       "      <td>NaN</td>\n",
       "      <td>NaN</td>\n",
       "      <td>-0.009858</td>\n",
       "      <td>0.000000</td>\n",
       "      <td>0.233333</td>\n",
       "      <td>0.000000</td>\n",
       "      <td>NaN</td>\n",
       "    </tr>\n",
       "    <tr>\n",
       "      <th>1980-02-01</th>\n",
       "      <td>NaN</td>\n",
       "      <td>NaN</td>\n",
       "      <td>NaN</td>\n",
       "      <td>0.425287</td>\n",
       "      <td>0.016380</td>\n",
       "      <td>-0.004310</td>\n",
       "      <td>0.000000</td>\n",
       "      <td>0.433333</td>\n",
       "      <td>0.007453</td>\n",
       "      <td>0.013149</td>\n",
       "    </tr>\n",
       "    <tr>\n",
       "      <th>1980-02-04</th>\n",
       "      <td>NaN</td>\n",
       "      <td>NaN</td>\n",
       "      <td>NaN</td>\n",
       "      <td>0.301685</td>\n",
       "      <td>0.014983</td>\n",
       "      <td>-0.004159</td>\n",
       "      <td>0.270941</td>\n",
       "      <td>0.411111</td>\n",
       "      <td>0.005285</td>\n",
       "      <td>0.010395</td>\n",
       "    </tr>\n",
       "    <tr>\n",
       "      <th>1980-02-05</th>\n",
       "      <td>NaN</td>\n",
       "      <td>NaN</td>\n",
       "      <td>NaN</td>\n",
       "      <td>0.254350</td>\n",
       "      <td>0.013795</td>\n",
       "      <td>-0.003678</td>\n",
       "      <td>0.366452</td>\n",
       "      <td>0.466667</td>\n",
       "      <td>0.004414</td>\n",
       "      <td>0.007977</td>\n",
       "    </tr>\n",
       "    <tr>\n",
       "      <th>1980-02-06</th>\n",
       "      <td>NaN</td>\n",
       "      <td>NaN</td>\n",
       "      <td>NaN</td>\n",
       "      <td>0.310843</td>\n",
       "      <td>0.017848</td>\n",
       "      <td>0.001800</td>\n",
       "      <td>0.408118</td>\n",
       "      <td>0.520000</td>\n",
       "      <td>0.010827</td>\n",
       "      <td>0.012255</td>\n",
       "    </tr>\n",
       "    <tr>\n",
       "      <th>...</th>\n",
       "      <td>...</td>\n",
       "      <td>...</td>\n",
       "      <td>...</td>\n",
       "      <td>...</td>\n",
       "      <td>...</td>\n",
       "      <td>...</td>\n",
       "      <td>...</td>\n",
       "      <td>...</td>\n",
       "      <td>...</td>\n",
       "      <td>...</td>\n",
       "    </tr>\n",
       "    <tr>\n",
       "      <th>2024-12-24</th>\n",
       "      <td>NaN</td>\n",
       "      <td>NaN</td>\n",
       "      <td>NaN</td>\n",
       "      <td>0.233610</td>\n",
       "      <td>0.017114</td>\n",
       "      <td>0.033623</td>\n",
       "      <td>0.427849</td>\n",
       "      <td>0.530159</td>\n",
       "      <td>0.027874</td>\n",
       "      <td>0.012827</td>\n",
       "    </tr>\n",
       "    <tr>\n",
       "      <th>2024-12-26</th>\n",
       "      <td>NaN</td>\n",
       "      <td>NaN</td>\n",
       "      <td>NaN</td>\n",
       "      <td>0.244026</td>\n",
       "      <td>0.016803</td>\n",
       "      <td>0.032652</td>\n",
       "      <td>0.425807</td>\n",
       "      <td>0.520635</td>\n",
       "      <td>0.027871</td>\n",
       "      <td>0.012451</td>\n",
       "    </tr>\n",
       "    <tr>\n",
       "      <th>2024-12-27</th>\n",
       "      <td>NaN</td>\n",
       "      <td>NaN</td>\n",
       "      <td>NaN</td>\n",
       "      <td>0.245522</td>\n",
       "      <td>0.016762</td>\n",
       "      <td>0.029418</td>\n",
       "      <td>0.381702</td>\n",
       "      <td>0.484127</td>\n",
       "      <td>0.027908</td>\n",
       "      <td>0.012570</td>\n",
       "    </tr>\n",
       "    <tr>\n",
       "      <th>2024-12-30</th>\n",
       "      <td>NaN</td>\n",
       "      <td>NaN</td>\n",
       "      <td>NaN</td>\n",
       "      <td>0.266836</td>\n",
       "      <td>0.017095</td>\n",
       "      <td>0.024774</td>\n",
       "      <td>0.368413</td>\n",
       "      <td>0.453333</td>\n",
       "      <td>0.027998</td>\n",
       "      <td>0.013056</td>\n",
       "    </tr>\n",
       "    <tr>\n",
       "      <th>2024-12-31</th>\n",
       "      <td>NaN</td>\n",
       "      <td>NaN</td>\n",
       "      <td>NaN</td>\n",
       "      <td>0.258782</td>\n",
       "      <td>0.016899</td>\n",
       "      <td>0.020919</td>\n",
       "      <td>0.355710</td>\n",
       "      <td>0.452381</td>\n",
       "      <td>0.028110</td>\n",
       "      <td>0.012706</td>\n",
       "    </tr>\n",
       "  </tbody>\n",
       "</table>\n",
       "<p>11324 rows × 10 columns</p>\n",
       "</div>"
      ]
     },
     "execution_count": 17,
     "metadata": {},
     "output_type": "execute_result"
    }
   ],
   "execution_count": 17
  },
  {
   "cell_type": "code",
   "id": "c01fe58eee035431",
   "metadata": {
    "ExecuteTime": {
     "end_time": "2025-06-19T07:06:27.855940Z",
     "start_time": "2025-06-19T07:06:27.848087Z"
    }
   },
   "source": [
    "dnk_features = data_df.loc[:, [\"target\"]].copy()\n",
    "dnk_features[\"target_rolling_mean\"] = (\n",
    "    dnk_features[\"target\"].rolling(window=252, min_periods=1).mean()\n",
    ")\n",
    "dnk_features[\"target_rolling_vol\"] = (\n",
    "    data_df[[\"vol\"]].rolling(window=252, min_periods=1).std().fillna(0)\n",
    ")\n",
    "dnk_features"
   ],
   "outputs": [
    {
     "data": {
      "text/plain": [
       "            target  target_rolling_mean  target_rolling_vol\n",
       "date                                                       \n",
       "1980-01-31     NaN                  NaN            0.000000\n",
       "1980-02-01     NaN                  NaN            0.000000\n",
       "1980-02-04     NaN                  NaN            0.000000\n",
       "1980-02-05     NaN                  NaN            0.000000\n",
       "1980-02-06     NaN                  NaN            0.000000\n",
       "...            ...                  ...                 ...\n",
       "2024-12-24     NaN             0.296446            0.001180\n",
       "2024-12-26     NaN             0.294942            0.001175\n",
       "2024-12-27     NaN             0.293464            0.001172\n",
       "2024-12-30     NaN             0.291969            0.001168\n",
       "2024-12-31     NaN             0.290489            0.001165\n",
       "\n",
       "[11324 rows x 3 columns]"
      ],
      "text/html": [
       "<div>\n",
       "<style scoped>\n",
       "    .dataframe tbody tr th:only-of-type {\n",
       "        vertical-align: middle;\n",
       "    }\n",
       "\n",
       "    .dataframe tbody tr th {\n",
       "        vertical-align: top;\n",
       "    }\n",
       "\n",
       "    .dataframe thead th {\n",
       "        text-align: right;\n",
       "    }\n",
       "</style>\n",
       "<table border=\"1\" class=\"dataframe\">\n",
       "  <thead>\n",
       "    <tr style=\"text-align: right;\">\n",
       "      <th></th>\n",
       "      <th>target</th>\n",
       "      <th>target_rolling_mean</th>\n",
       "      <th>target_rolling_vol</th>\n",
       "    </tr>\n",
       "    <tr>\n",
       "      <th>date</th>\n",
       "      <th></th>\n",
       "      <th></th>\n",
       "      <th></th>\n",
       "    </tr>\n",
       "  </thead>\n",
       "  <tbody>\n",
       "    <tr>\n",
       "      <th>1980-01-31</th>\n",
       "      <td>NaN</td>\n",
       "      <td>NaN</td>\n",
       "      <td>0.000000</td>\n",
       "    </tr>\n",
       "    <tr>\n",
       "      <th>1980-02-01</th>\n",
       "      <td>NaN</td>\n",
       "      <td>NaN</td>\n",
       "      <td>0.000000</td>\n",
       "    </tr>\n",
       "    <tr>\n",
       "      <th>1980-02-04</th>\n",
       "      <td>NaN</td>\n",
       "      <td>NaN</td>\n",
       "      <td>0.000000</td>\n",
       "    </tr>\n",
       "    <tr>\n",
       "      <th>1980-02-05</th>\n",
       "      <td>NaN</td>\n",
       "      <td>NaN</td>\n",
       "      <td>0.000000</td>\n",
       "    </tr>\n",
       "    <tr>\n",
       "      <th>1980-02-06</th>\n",
       "      <td>NaN</td>\n",
       "      <td>NaN</td>\n",
       "      <td>0.000000</td>\n",
       "    </tr>\n",
       "    <tr>\n",
       "      <th>...</th>\n",
       "      <td>...</td>\n",
       "      <td>...</td>\n",
       "      <td>...</td>\n",
       "    </tr>\n",
       "    <tr>\n",
       "      <th>2024-12-24</th>\n",
       "      <td>NaN</td>\n",
       "      <td>0.296446</td>\n",
       "      <td>0.001180</td>\n",
       "    </tr>\n",
       "    <tr>\n",
       "      <th>2024-12-26</th>\n",
       "      <td>NaN</td>\n",
       "      <td>0.294942</td>\n",
       "      <td>0.001175</td>\n",
       "    </tr>\n",
       "    <tr>\n",
       "      <th>2024-12-27</th>\n",
       "      <td>NaN</td>\n",
       "      <td>0.293464</td>\n",
       "      <td>0.001172</td>\n",
       "    </tr>\n",
       "    <tr>\n",
       "      <th>2024-12-30</th>\n",
       "      <td>NaN</td>\n",
       "      <td>0.291969</td>\n",
       "      <td>0.001168</td>\n",
       "    </tr>\n",
       "    <tr>\n",
       "      <th>2024-12-31</th>\n",
       "      <td>NaN</td>\n",
       "      <td>0.290489</td>\n",
       "      <td>0.001165</td>\n",
       "    </tr>\n",
       "  </tbody>\n",
       "</table>\n",
       "<p>11324 rows × 3 columns</p>\n",
       "</div>"
      ]
     },
     "execution_count": 18,
     "metadata": {},
     "output_type": "execute_result"
    }
   ],
   "execution_count": 18
  },
  {
   "cell_type": "code",
   "id": "d07d2f9efdfa8c1a",
   "metadata": {
    "ExecuteTime": {
     "end_time": "2025-06-19T07:06:28.418798Z",
     "start_time": "2025-06-19T07:06:28.413719Z"
    }
   },
   "source": [
    "data_df = data_df.merge(dnk_features, how=\"inner\", left_index=True, right_index=True)\n",
    "data_df.shape"
   ],
   "outputs": [
    {
     "data": {
      "text/plain": [
       "(11324, 13)"
      ]
     },
     "execution_count": 19,
     "metadata": {},
     "output_type": "execute_result"
    }
   ],
   "execution_count": 19
  },
  {
   "metadata": {
    "ExecuteTime": {
     "end_time": "2025-06-19T07:06:29.420990Z",
     "start_time": "2025-06-19T07:06:29.417838Z"
    }
   },
   "cell_type": "code",
   "source": "data_df.columns",
   "id": "b0da3e6a936d0364",
   "outputs": [
    {
     "data": {
      "text/plain": [
       "Index(['vol', 'naive_vol', 'target_x', 'avg_corr', 'avg_vol', 'ewma',\n",
       "       'lw_shrinkage', 'momentum_feature', 'universe_vol', 'trace', 'target_y',\n",
       "       'target_rolling_mean', 'target_rolling_vol'],\n",
       "      dtype='object')"
      ]
     },
     "execution_count": 20,
     "metadata": {},
     "output_type": "execute_result"
    }
   ],
   "execution_count": 20
  },
  {
   "cell_type": "code",
   "id": "5e20aec8e60a1adb",
   "metadata": {
    "ExecuteTime": {
     "end_time": "2025-06-19T07:06:32.324165Z",
     "start_time": "2025-06-19T07:06:32.318206Z"
    }
   },
   "source": "data_df = data_df.rename(columns={\"target_x\": \"target\", \"target_y\": \"lagged_target\"})",
   "outputs": [],
   "execution_count": 21
  },
  {
   "cell_type": "code",
   "id": "3428e56ef24fecc7",
   "metadata": {
    "ExecuteTime": {
     "end_time": "2025-06-19T07:06:33.445125Z",
     "start_time": "2025-06-19T07:06:33.438609Z"
    }
   },
   "source": [
    "new_data = data.merge(data_df, left_index=True, right_index=True)\n",
    "new_data.shape"
   ],
   "outputs": [
    {
     "data": {
      "text/plain": [
       "(11324, 164)"
      ]
     },
     "execution_count": 22,
     "metadata": {},
     "output_type": "execute_result"
    }
   ],
   "execution_count": 22
  },
  {
   "cell_type": "code",
   "id": "4895b808e086f054",
   "metadata": {
    "ExecuteTime": {
     "end_time": "2025-06-19T07:06:34.732812Z",
     "start_time": "2025-06-19T07:06:34.726926Z"
    }
   },
   "source": "new_data.columns",
   "outputs": [
    {
     "data": {
      "text/plain": [
       "Index(['10078', '10104', '10107', '10147', '10401', '10604', '11042', '11081',\n",
       "       '11308', '11471',\n",
       "       ...\n",
       "       'avg_corr_y', 'avg_vol_y', 'ewma_y', 'lw_shrinkage_y',\n",
       "       'momentum_feature_y', 'universe_vol_y', 'trace_y', 'lagged_target_y',\n",
       "       'target_rolling_mean_y', 'target_rolling_vol_y'],\n",
       "      dtype='object', length=164)"
      ]
     },
     "execution_count": 23,
     "metadata": {},
     "output_type": "execute_result"
    }
   ],
   "execution_count": 23
  },
  {
   "cell_type": "code",
   "id": "d2e5b71066f1cb23",
   "metadata": {
    "ExecuteTime": {
     "end_time": "2025-06-19T06:30:18.991013Z",
     "start_time": "2025-06-19T06:30:18.395421Z"
    }
   },
   "source": "new_data.to_csv(config.PATH_OUTPUT / config.DF_FILENAME)",
   "outputs": [],
   "execution_count": 43
  },
  {
   "cell_type": "code",
   "id": "58883dc2973f1c85",
   "metadata": {
    "ExecuteTime": {
     "end_time": "2025-06-19T07:07:32.593439Z",
     "start_time": "2025-06-19T07:07:32.586089Z"
    }
   },
   "source": [
    "data = data.drop(columns=[\"trace\"])\n",
    "\n",
    "data = data.merge(trace, how=\"inner\", left_index=True, right_index=True)\n",
    "data.shape"
   ],
   "outputs": [
    {
     "data": {
      "text/plain": [
       "(11324, 151)"
      ]
     },
     "execution_count": 24,
     "metadata": {},
     "output_type": "execute_result"
    }
   ],
   "execution_count": 24
  },
  {
   "metadata": {
    "ExecuteTime": {
     "end_time": "2025-06-19T07:07:37.574960Z",
     "start_time": "2025-06-19T07:07:37.086705Z"
    }
   },
   "cell_type": "code",
   "source": "# data.to_csv(config.PATH_OUTPUT / config.DF_FILENAME)",
   "id": "f5989e9e14f794a9",
   "outputs": [],
   "execution_count": 25
  },
  {
   "metadata": {
    "ExecuteTime": {
     "end_time": "2025-06-19T07:07:41.751598Z",
     "start_time": "2025-06-19T07:07:41.749578Z"
    }
   },
   "cell_type": "code",
   "source": "# data.columns",
   "id": "aab7786c270a9473",
   "outputs": [
    {
     "data": {
      "text/plain": [
       "Index(['10078', '10104', '10107', '10147', '10401', '10604', '11042', '11081',\n",
       "       '11308', '11471',\n",
       "       ...\n",
       "       'avg_corr', 'avg_vol', 'ewma', 'lw_shrinkage', 'momentum_feature',\n",
       "       'universe_vol', 'lagged_target', 'target_rolling_mean',\n",
       "       'target_rolling_vol', 'trace'],\n",
       "      dtype='object', length=151)"
      ]
     },
     "execution_count": 26,
     "metadata": {},
     "output_type": "execute_result"
    }
   ],
   "execution_count": 26
  },
  {
   "metadata": {},
   "cell_type": "code",
   "outputs": [],
   "execution_count": null,
   "source": "",
   "id": "bb12013c8071f57e"
  }
 ],
 "metadata": {
  "kernelspec": {
   "display_name": "Python 3",
   "language": "python",
   "name": "python3"
  },
  "language_info": {
   "codemirror_mode": {
    "name": "ipython",
    "version": 2
   },
   "file_extension": ".py",
   "mimetype": "text/x-python",
   "name": "python",
   "nbconvert_exporter": "python",
   "pygments_lexer": "ipython2",
   "version": "2.7.6"
  }
 },
 "nbformat": 4,
 "nbformat_minor": 5
}
