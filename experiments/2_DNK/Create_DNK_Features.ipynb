{
 "cells": [
  {
   "cell_type": "code",
   "id": "initial_id",
   "metadata": {
    "collapsed": true,
    "ExecuteTime": {
     "end_time": "2025-06-25T08:20:14.699876Z",
     "start_time": "2025-06-25T08:20:14.694530Z"
    }
   },
   "source": [
    "import numpy as np\n",
    "import pandas as pd\n",
    "\n",
    "from qamsi.utils.data import read_csv\n",
    "\n",
    "from run import Dataset\n",
    "\n",
    "DATASET = Dataset.TOPN_US\n",
    "TOP_N = 500\n",
    "\n",
    "config = DATASET.value(topn=TOP_N)\n",
    "config"
   ],
   "outputs": [
    {
     "data": {
      "text/plain": [
       "ExperimentConfig(RANDOM_SEED=12, PATH_OUTPUT=PosixPath('/Users/buchkovv/qamsi/data/output'), SAVE_PATH=PosixPath('/Users/buchkovv/qamsi/backtests/runs'), DF_FILENAME='top500_data.csv', PRESENCE_MATRIX_FILENAME='top500_presence_matrix.csv', START_DATE=Timestamp('2000-12-18 00:00:00'), END_DATE=Timestamp('2024-07-31 00:00:00'), REBALANCE_FREQ=21, HEDGE_FREQ=1, N_LOOKBEHIND_PERIODS=252, MIN_ROLLING_PERIODS=252, CAUSAL_WINDOW_SIZE=30, FACTORS=('spx',), TARGETS=('vol', 'naive_vol', 'target', 'cgp_ucb', 'irl', 'irl_gail', 'qis_shrinkage', 'qis_vol'), HEDGING_ASSETS=('spx_fut',), RF_NAME='acc_rate', MKT_NAME='spx', PATH_INPUT=PosixPath('/Users/buchkovv/qamsi/data/input'), INITIAL_DF_FILENAME='initial_df.csv', JKP_DATA_FILENAME='jkp_data.csv', STOCKS_LIST_FILENAME='spx_stocks_list.csv', INITIAL_FEATURES_FILENAME='initial_features_df.csv', RETURNS_FILENAME='returns_incl_div_consituents_w_name.csv', BETTER_RETURNS_FILENAME='returns_data_cleaned_better.parquet', ASSET_UNIVERSE=('spx',))"
      ]
     },
     "execution_count": 3,
     "metadata": {},
     "output_type": "execute_result"
    }
   ],
   "execution_count": 3
  },
  {
   "cell_type": "code",
   "id": "e59331b65f7ad9b",
   "metadata": {
    "ExecuteTime": {
     "end_time": "2025-06-25T08:20:16.435459Z",
     "start_time": "2025-06-25T08:20:14.709088Z"
    }
   },
   "source": [
    "data = read_csv(config.PATH_OUTPUT, config.DF_FILENAME)\n",
    "pm = read_csv(config.PATH_OUTPUT, config.PRESENCE_MATRIX_FILENAME)\n",
    "ret = data[pm.columns]"
   ],
   "outputs": [],
   "execution_count": 4
  },
  {
   "metadata": {
    "ExecuteTime": {
     "end_time": "2025-06-25T08:20:16.450646Z",
     "start_time": "2025-06-25T08:20:16.448574Z"
    }
   },
   "cell_type": "code",
   "source": "data.shape",
   "id": "fa64deac823a5ec9",
   "outputs": [
    {
     "data": {
      "text/plain": [
       "(11324, 2465)"
      ]
     },
     "execution_count": 5,
     "metadata": {},
     "output_type": "execute_result"
    }
   ],
   "execution_count": 5
  },
  {
   "metadata": {
    "ExecuteTime": {
     "end_time": "2025-06-25T08:20:16.463965Z",
     "start_time": "2025-06-25T08:20:16.462126Z"
    }
   },
   "cell_type": "code",
   "source": "data.index.is_unique",
   "id": "dd673cadacb95a45",
   "outputs": [
    {
     "data": {
      "text/plain": [
       "True"
      ]
     },
     "execution_count": 6,
     "metadata": {},
     "output_type": "execute_result"
    }
   ],
   "execution_count": 6
  },
  {
   "metadata": {
    "ExecuteTime": {
     "end_time": "2025-06-25T08:20:16.480876Z",
     "start_time": "2025-06-25T08:20:16.478420Z"
    }
   },
   "cell_type": "code",
   "source": [
    "# Function to compute rolling correlation\n",
    "def rolling_feature(df, feature_fn, pm, name):\n",
    "    # Initialize a list to store results\n",
    "    results = []\n",
    "\n",
    "    # Perform calculation for each rolling window\n",
    "    for end in df.index:\n",
    "        start = end - pd.DateOffset(months=1)\n",
    "\n",
    "        curr_matrix = pm.loc[:end].iloc[-1]\n",
    "        selection = curr_matrix[curr_matrix == 1].index.tolist()\n",
    "        rolling_window = df[selection].loc[start:end]\n",
    "\n",
    "        feature = feature_fn(rolling_window)\n",
    "\n",
    "        results.append([end, feature])\n",
    "\n",
    "    # Create a series with the results\n",
    "    rolling_feat = pd.DataFrame(results, columns=[\"date\", name])\n",
    "    rolling_feat[\"date\"] = pd.to_datetime(rolling_feat[\"date\"])\n",
    "    rolling_feat = rolling_feat.set_index(\"date\")\n",
    "    return rolling_feat"
   ],
   "id": "7749bf9bdf9bd6c6",
   "outputs": [],
   "execution_count": 7
  },
  {
   "metadata": {},
   "cell_type": "markdown",
   "source": "### 1. Avg Corr.",
   "id": "6b4fa2a74e34386"
  },
  {
   "cell_type": "code",
   "id": "247c20c24cbb2c8f",
   "metadata": {
    "ExecuteTime": {
     "end_time": "2025-06-25T08:21:12.891048Z",
     "start_time": "2025-06-25T08:20:16.500606Z"
    }
   },
   "source": [
    "# Function to compute the average of non-diagonal elements in each correlation matrix\n",
    "def avg_non_diagonal_elements(corr_matrix):\n",
    "    # Select the non-diagonal elements using numpy\n",
    "    non_diag = corr_matrix.values[np.triu_indices_from(corr_matrix, k=1)]\n",
    "    return np.nanmean(non_diag)\n",
    "\n",
    "def avg_corr(rolling_window):\n",
    "    # Compute the correlation matrix for the rolling window\n",
    "    corr_matrix = rolling_window.corr()\n",
    "\n",
    "    # Compute the average of non-diagonal elements\n",
    "    return avg_non_diagonal_elements(corr_matrix)\n",
    "\n",
    "# Calculate rolling average correlation of non-diagonal elements\n",
    "rolling_avg_corr = rolling_feature(ret, avg_corr, pm, \"avg_corr\")\n",
    "\n",
    "# Output rolling_avg_corr as the result\n",
    "rolling_avg_corr.shape"
   ],
   "outputs": [
    {
     "data": {
      "text/plain": [
       "(11324, 1)"
      ]
     },
     "execution_count": 8,
     "metadata": {},
     "output_type": "execute_result"
    }
   ],
   "execution_count": 8
  },
  {
   "cell_type": "markdown",
   "id": "f4f8ad83684db101",
   "metadata": {},
   "source": "### 2. Average volatility."
  },
  {
   "metadata": {
    "ExecuteTime": {
     "end_time": "2025-06-25T08:21:26.244105Z",
     "start_time": "2025-06-25T08:21:12.917205Z"
    }
   },
   "cell_type": "code",
   "source": [
    "avg_vol = rolling_feature(ret, lambda s: s.std(axis=0).mean(), pm, \"avg_vol\")\n",
    "avg_vol.shape"
   ],
   "id": "d4fb33ac68ca1c2a",
   "outputs": [
    {
     "data": {
      "text/plain": [
       "(11324, 1)"
      ]
     },
     "execution_count": 9,
     "metadata": {},
     "output_type": "execute_result"
    }
   ],
   "execution_count": 9
  },
  {
   "cell_type": "markdown",
   "id": "b2afd1782d5a9bc2",
   "metadata": {},
   "source": "### 3. EW Portfolio."
  },
  {
   "cell_type": "code",
   "id": "6db509b46d11a589",
   "metadata": {
    "ExecuteTime": {
     "end_time": "2025-06-25T08:21:38.397650Z",
     "start_time": "2025-06-25T08:21:26.267321Z"
    }
   },
   "source": [
    "ew = rolling_feature(ret, lambda s: np.prod(1 + np.nanmean(s, axis=1)) - 1, pm, \"ew\")\n",
    "ew"
   ],
   "outputs": [
    {
     "data": {
      "text/plain": [
       "                  ew\n",
       "date                \n",
       "1980-01-31 -0.005918\n",
       "1980-02-01 -0.001735\n",
       "1980-02-04 -0.005738\n",
       "1980-02-05 -0.005099\n",
       "1980-02-06 -0.000412\n",
       "...              ...\n",
       "2024-12-24 -0.035007\n",
       "2024-12-26 -0.042725\n",
       "2024-12-27 -0.050011\n",
       "2024-12-30 -0.060926\n",
       "2024-12-31 -0.058867\n",
       "\n",
       "[11324 rows x 1 columns]"
      ],
      "text/html": [
       "<div>\n",
       "<style scoped>\n",
       "    .dataframe tbody tr th:only-of-type {\n",
       "        vertical-align: middle;\n",
       "    }\n",
       "\n",
       "    .dataframe tbody tr th {\n",
       "        vertical-align: top;\n",
       "    }\n",
       "\n",
       "    .dataframe thead th {\n",
       "        text-align: right;\n",
       "    }\n",
       "</style>\n",
       "<table border=\"1\" class=\"dataframe\">\n",
       "  <thead>\n",
       "    <tr style=\"text-align: right;\">\n",
       "      <th></th>\n",
       "      <th>ew</th>\n",
       "    </tr>\n",
       "    <tr>\n",
       "      <th>date</th>\n",
       "      <th></th>\n",
       "    </tr>\n",
       "  </thead>\n",
       "  <tbody>\n",
       "    <tr>\n",
       "      <th>1980-01-31</th>\n",
       "      <td>-0.005918</td>\n",
       "    </tr>\n",
       "    <tr>\n",
       "      <th>1980-02-01</th>\n",
       "      <td>-0.001735</td>\n",
       "    </tr>\n",
       "    <tr>\n",
       "      <th>1980-02-04</th>\n",
       "      <td>-0.005738</td>\n",
       "    </tr>\n",
       "    <tr>\n",
       "      <th>1980-02-05</th>\n",
       "      <td>-0.005099</td>\n",
       "    </tr>\n",
       "    <tr>\n",
       "      <th>1980-02-06</th>\n",
       "      <td>-0.000412</td>\n",
       "    </tr>\n",
       "    <tr>\n",
       "      <th>...</th>\n",
       "      <td>...</td>\n",
       "    </tr>\n",
       "    <tr>\n",
       "      <th>2024-12-24</th>\n",
       "      <td>-0.035007</td>\n",
       "    </tr>\n",
       "    <tr>\n",
       "      <th>2024-12-26</th>\n",
       "      <td>-0.042725</td>\n",
       "    </tr>\n",
       "    <tr>\n",
       "      <th>2024-12-27</th>\n",
       "      <td>-0.050011</td>\n",
       "    </tr>\n",
       "    <tr>\n",
       "      <th>2024-12-30</th>\n",
       "      <td>-0.060926</td>\n",
       "    </tr>\n",
       "    <tr>\n",
       "      <th>2024-12-31</th>\n",
       "      <td>-0.058867</td>\n",
       "    </tr>\n",
       "  </tbody>\n",
       "</table>\n",
       "<p>11324 rows × 1 columns</p>\n",
       "</div>"
      ]
     },
     "execution_count": 10,
     "metadata": {},
     "output_type": "execute_result"
    }
   ],
   "execution_count": 10
  },
  {
   "metadata": {
    "ExecuteTime": {
     "end_time": "2025-06-25T08:21:39.484773Z",
     "start_time": "2025-06-25T08:21:38.428660Z"
    }
   },
   "cell_type": "code",
   "source": [
    "ewma = []\n",
    "for end in ew.index:\n",
    "    start = end - pd.DateOffset(months=1)\n",
    "\n",
    "    if end > ew.index[-1]:\n",
    "        break\n",
    "\n",
    "    sample = ew.loc[start:end]\n",
    "\n",
    "    ma = sample.ewm(alpha=0.1).mean().iloc[-1].item()\n",
    "\n",
    "    ewma.append([end, ma])"
   ],
   "id": "fe82876ea9486811",
   "outputs": [],
   "execution_count": 11
  },
  {
   "metadata": {
    "ExecuteTime": {
     "end_time": "2025-06-25T08:21:39.525775Z",
     "start_time": "2025-06-25T08:21:39.514446Z"
    }
   },
   "cell_type": "code",
   "source": [
    "ewma = pd.DataFrame(ewma, columns=[\"date\", \"ewma\"])\n",
    "ewma[\"date\"] = pd.to_datetime(ewma[\"date\"])\n",
    "ewma = ewma.set_index(\"date\")\n",
    "ewma"
   ],
   "id": "d8ca4c0f7fa29023",
   "outputs": [
    {
     "data": {
      "text/plain": [
       "                ewma\n",
       "date                \n",
       "1980-01-31 -0.005918\n",
       "1980-02-01 -0.003717\n",
       "1980-02-04 -0.004462\n",
       "1980-02-05 -0.004648\n",
       "1980-02-06 -0.003613\n",
       "...              ...\n",
       "2024-12-24  0.004023\n",
       "2024-12-26 -0.002005\n",
       "2024-12-27 -0.008291\n",
       "2024-12-30 -0.016266\n",
       "2024-12-31 -0.021050\n",
       "\n",
       "[11324 rows x 1 columns]"
      ],
      "text/html": [
       "<div>\n",
       "<style scoped>\n",
       "    .dataframe tbody tr th:only-of-type {\n",
       "        vertical-align: middle;\n",
       "    }\n",
       "\n",
       "    .dataframe tbody tr th {\n",
       "        vertical-align: top;\n",
       "    }\n",
       "\n",
       "    .dataframe thead th {\n",
       "        text-align: right;\n",
       "    }\n",
       "</style>\n",
       "<table border=\"1\" class=\"dataframe\">\n",
       "  <thead>\n",
       "    <tr style=\"text-align: right;\">\n",
       "      <th></th>\n",
       "      <th>ewma</th>\n",
       "    </tr>\n",
       "    <tr>\n",
       "      <th>date</th>\n",
       "      <th></th>\n",
       "    </tr>\n",
       "  </thead>\n",
       "  <tbody>\n",
       "    <tr>\n",
       "      <th>1980-01-31</th>\n",
       "      <td>-0.005918</td>\n",
       "    </tr>\n",
       "    <tr>\n",
       "      <th>1980-02-01</th>\n",
       "      <td>-0.003717</td>\n",
       "    </tr>\n",
       "    <tr>\n",
       "      <th>1980-02-04</th>\n",
       "      <td>-0.004462</td>\n",
       "    </tr>\n",
       "    <tr>\n",
       "      <th>1980-02-05</th>\n",
       "      <td>-0.004648</td>\n",
       "    </tr>\n",
       "    <tr>\n",
       "      <th>1980-02-06</th>\n",
       "      <td>-0.003613</td>\n",
       "    </tr>\n",
       "    <tr>\n",
       "      <th>...</th>\n",
       "      <td>...</td>\n",
       "    </tr>\n",
       "    <tr>\n",
       "      <th>2024-12-24</th>\n",
       "      <td>0.004023</td>\n",
       "    </tr>\n",
       "    <tr>\n",
       "      <th>2024-12-26</th>\n",
       "      <td>-0.002005</td>\n",
       "    </tr>\n",
       "    <tr>\n",
       "      <th>2024-12-27</th>\n",
       "      <td>-0.008291</td>\n",
       "    </tr>\n",
       "    <tr>\n",
       "      <th>2024-12-30</th>\n",
       "      <td>-0.016266</td>\n",
       "    </tr>\n",
       "    <tr>\n",
       "      <th>2024-12-31</th>\n",
       "      <td>-0.021050</td>\n",
       "    </tr>\n",
       "  </tbody>\n",
       "</table>\n",
       "<p>11324 rows × 1 columns</p>\n",
       "</div>"
      ]
     },
     "execution_count": 12,
     "metadata": {},
     "output_type": "execute_result"
    }
   ],
   "execution_count": 12
  },
  {
   "cell_type": "markdown",
   "id": "37f2efb979d65b82",
   "metadata": {},
   "source": "### 4. Ledoit-Wolf Shrinkage Intensity."
  },
  {
   "cell_type": "code",
   "id": "3da2b1a1e669381",
   "metadata": {
    "ExecuteTime": {
     "end_time": "2025-06-25T08:28:03.275619Z",
     "start_time": "2025-06-25T08:21:39.569449Z"
    }
   },
   "source": [
    "from sklearn.covariance import LedoitWolf\n",
    "\n",
    "def get_intensity(s: pd.DataFrame):\n",
    "    s = s.copy().fillna(0)\n",
    "    lw = LedoitWolf()\n",
    "    lw.fit(s)\n",
    "    return lw.shrinkage_\n",
    "\n",
    "lw = rolling_feature(ret, lambda s: get_intensity(s), pm, \"lw_shrinkage\")\n",
    "lw"
   ],
   "outputs": [
    {
     "data": {
      "text/plain": [
       "            lw_shrinkage\n",
       "date                    \n",
       "1980-01-31      0.000000\n",
       "1980-02-01      0.000000\n",
       "1980-02-04      0.307793\n",
       "1980-02-05      0.469367\n",
       "1980-02-06      0.560948\n",
       "...                  ...\n",
       "2024-12-24      0.498412\n",
       "2024-12-26      0.507959\n",
       "2024-12-27      0.475507\n",
       "2024-12-30      0.448953\n",
       "2024-12-31      0.449103\n",
       "\n",
       "[11324 rows x 1 columns]"
      ],
      "text/html": [
       "<div>\n",
       "<style scoped>\n",
       "    .dataframe tbody tr th:only-of-type {\n",
       "        vertical-align: middle;\n",
       "    }\n",
       "\n",
       "    .dataframe tbody tr th {\n",
       "        vertical-align: top;\n",
       "    }\n",
       "\n",
       "    .dataframe thead th {\n",
       "        text-align: right;\n",
       "    }\n",
       "</style>\n",
       "<table border=\"1\" class=\"dataframe\">\n",
       "  <thead>\n",
       "    <tr style=\"text-align: right;\">\n",
       "      <th></th>\n",
       "      <th>lw_shrinkage</th>\n",
       "    </tr>\n",
       "    <tr>\n",
       "      <th>date</th>\n",
       "      <th></th>\n",
       "    </tr>\n",
       "  </thead>\n",
       "  <tbody>\n",
       "    <tr>\n",
       "      <th>1980-01-31</th>\n",
       "      <td>0.000000</td>\n",
       "    </tr>\n",
       "    <tr>\n",
       "      <th>1980-02-01</th>\n",
       "      <td>0.000000</td>\n",
       "    </tr>\n",
       "    <tr>\n",
       "      <th>1980-02-04</th>\n",
       "      <td>0.307793</td>\n",
       "    </tr>\n",
       "    <tr>\n",
       "      <th>1980-02-05</th>\n",
       "      <td>0.469367</td>\n",
       "    </tr>\n",
       "    <tr>\n",
       "      <th>1980-02-06</th>\n",
       "      <td>0.560948</td>\n",
       "    </tr>\n",
       "    <tr>\n",
       "      <th>...</th>\n",
       "      <td>...</td>\n",
       "    </tr>\n",
       "    <tr>\n",
       "      <th>2024-12-24</th>\n",
       "      <td>0.498412</td>\n",
       "    </tr>\n",
       "    <tr>\n",
       "      <th>2024-12-26</th>\n",
       "      <td>0.507959</td>\n",
       "    </tr>\n",
       "    <tr>\n",
       "      <th>2024-12-27</th>\n",
       "      <td>0.475507</td>\n",
       "    </tr>\n",
       "    <tr>\n",
       "      <th>2024-12-30</th>\n",
       "      <td>0.448953</td>\n",
       "    </tr>\n",
       "    <tr>\n",
       "      <th>2024-12-31</th>\n",
       "      <td>0.449103</td>\n",
       "    </tr>\n",
       "  </tbody>\n",
       "</table>\n",
       "<p>11324 rows × 1 columns</p>\n",
       "</div>"
      ]
     },
     "execution_count": 13,
     "metadata": {},
     "output_type": "execute_result"
    }
   ],
   "execution_count": 13
  },
  {
   "cell_type": "markdown",
   "id": "de73e3c69368473",
   "metadata": {},
   "source": "### 5. Momentum"
  },
  {
   "metadata": {
    "ExecuteTime": {
     "end_time": "2025-06-25T08:28:16.143017Z",
     "start_time": "2025-06-25T08:28:03.424908Z"
    }
   },
   "cell_type": "code",
   "source": [
    "momentum = rolling_feature(ret, lambda s: np.nanmean(np.where(s, s > 0, 1), axis=0).mean(), pm, \"momentum_feature\")\n",
    "momentum"
   ],
   "id": "a1b9ad918c52beb1",
   "outputs": [
    {
     "data": {
      "text/plain": [
       "            momentum_feature\n",
       "date                        \n",
       "1980-01-31          0.438000\n",
       "1980-02-01          0.540000\n",
       "1980-02-04          0.515333\n",
       "1980-02-05          0.522500\n",
       "1980-02-06          0.536000\n",
       "...                      ...\n",
       "2024-12-24          0.469143\n",
       "2024-12-26          0.461143\n",
       "2024-12-27          0.440762\n",
       "2024-12-30          0.411200\n",
       "2024-12-31          0.418286\n",
       "\n",
       "[11324 rows x 1 columns]"
      ],
      "text/html": [
       "<div>\n",
       "<style scoped>\n",
       "    .dataframe tbody tr th:only-of-type {\n",
       "        vertical-align: middle;\n",
       "    }\n",
       "\n",
       "    .dataframe tbody tr th {\n",
       "        vertical-align: top;\n",
       "    }\n",
       "\n",
       "    .dataframe thead th {\n",
       "        text-align: right;\n",
       "    }\n",
       "</style>\n",
       "<table border=\"1\" class=\"dataframe\">\n",
       "  <thead>\n",
       "    <tr style=\"text-align: right;\">\n",
       "      <th></th>\n",
       "      <th>momentum_feature</th>\n",
       "    </tr>\n",
       "    <tr>\n",
       "      <th>date</th>\n",
       "      <th></th>\n",
       "    </tr>\n",
       "  </thead>\n",
       "  <tbody>\n",
       "    <tr>\n",
       "      <th>1980-01-31</th>\n",
       "      <td>0.438000</td>\n",
       "    </tr>\n",
       "    <tr>\n",
       "      <th>1980-02-01</th>\n",
       "      <td>0.540000</td>\n",
       "    </tr>\n",
       "    <tr>\n",
       "      <th>1980-02-04</th>\n",
       "      <td>0.515333</td>\n",
       "    </tr>\n",
       "    <tr>\n",
       "      <th>1980-02-05</th>\n",
       "      <td>0.522500</td>\n",
       "    </tr>\n",
       "    <tr>\n",
       "      <th>1980-02-06</th>\n",
       "      <td>0.536000</td>\n",
       "    </tr>\n",
       "    <tr>\n",
       "      <th>...</th>\n",
       "      <td>...</td>\n",
       "    </tr>\n",
       "    <tr>\n",
       "      <th>2024-12-24</th>\n",
       "      <td>0.469143</td>\n",
       "    </tr>\n",
       "    <tr>\n",
       "      <th>2024-12-26</th>\n",
       "      <td>0.461143</td>\n",
       "    </tr>\n",
       "    <tr>\n",
       "      <th>2024-12-27</th>\n",
       "      <td>0.440762</td>\n",
       "    </tr>\n",
       "    <tr>\n",
       "      <th>2024-12-30</th>\n",
       "      <td>0.411200</td>\n",
       "    </tr>\n",
       "    <tr>\n",
       "      <th>2024-12-31</th>\n",
       "      <td>0.418286</td>\n",
       "    </tr>\n",
       "  </tbody>\n",
       "</table>\n",
       "<p>11324 rows × 1 columns</p>\n",
       "</div>"
      ]
     },
     "execution_count": 14,
     "metadata": {},
     "output_type": "execute_result"
    }
   ],
   "execution_count": 14
  },
  {
   "cell_type": "markdown",
   "id": "cbdff7d7a753a8e7",
   "metadata": {},
   "source": "### 6. Trace."
  },
  {
   "metadata": {
    "ExecuteTime": {
     "end_time": "2025-06-25T08:28:40.573990Z",
     "start_time": "2025-06-25T08:28:16.185015Z"
    }
   },
   "cell_type": "code",
   "source": [
    "trace = rolling_feature(ret, lambda s: np.trace(s.fillna(0).cov()), pm, \"trace\")\n",
    "trace"
   ],
   "id": "c64eb669284541ea",
   "outputs": [
    {
     "data": {
      "text/plain": [
       "               trace\n",
       "date                \n",
       "1980-01-31       NaN\n",
       "1980-02-01  0.201057\n",
       "1980-02-04  0.159017\n",
       "1980-02-05  0.164364\n",
       "1980-02-06  0.178381\n",
       "...              ...\n",
       "2024-12-24  0.202987\n",
       "2024-12-26  0.190999\n",
       "2024-12-27  0.186034\n",
       "2024-12-30  0.188898\n",
       "2024-12-31  0.186385\n",
       "\n",
       "[11324 rows x 1 columns]"
      ],
      "text/html": [
       "<div>\n",
       "<style scoped>\n",
       "    .dataframe tbody tr th:only-of-type {\n",
       "        vertical-align: middle;\n",
       "    }\n",
       "\n",
       "    .dataframe tbody tr th {\n",
       "        vertical-align: top;\n",
       "    }\n",
       "\n",
       "    .dataframe thead th {\n",
       "        text-align: right;\n",
       "    }\n",
       "</style>\n",
       "<table border=\"1\" class=\"dataframe\">\n",
       "  <thead>\n",
       "    <tr style=\"text-align: right;\">\n",
       "      <th></th>\n",
       "      <th>trace</th>\n",
       "    </tr>\n",
       "    <tr>\n",
       "      <th>date</th>\n",
       "      <th></th>\n",
       "    </tr>\n",
       "  </thead>\n",
       "  <tbody>\n",
       "    <tr>\n",
       "      <th>1980-01-31</th>\n",
       "      <td>NaN</td>\n",
       "    </tr>\n",
       "    <tr>\n",
       "      <th>1980-02-01</th>\n",
       "      <td>0.201057</td>\n",
       "    </tr>\n",
       "    <tr>\n",
       "      <th>1980-02-04</th>\n",
       "      <td>0.159017</td>\n",
       "    </tr>\n",
       "    <tr>\n",
       "      <th>1980-02-05</th>\n",
       "      <td>0.164364</td>\n",
       "    </tr>\n",
       "    <tr>\n",
       "      <th>1980-02-06</th>\n",
       "      <td>0.178381</td>\n",
       "    </tr>\n",
       "    <tr>\n",
       "      <th>...</th>\n",
       "      <td>...</td>\n",
       "    </tr>\n",
       "    <tr>\n",
       "      <th>2024-12-24</th>\n",
       "      <td>0.202987</td>\n",
       "    </tr>\n",
       "    <tr>\n",
       "      <th>2024-12-26</th>\n",
       "      <td>0.190999</td>\n",
       "    </tr>\n",
       "    <tr>\n",
       "      <th>2024-12-27</th>\n",
       "      <td>0.186034</td>\n",
       "    </tr>\n",
       "    <tr>\n",
       "      <th>2024-12-30</th>\n",
       "      <td>0.188898</td>\n",
       "    </tr>\n",
       "    <tr>\n",
       "      <th>2024-12-31</th>\n",
       "      <td>0.186385</td>\n",
       "    </tr>\n",
       "  </tbody>\n",
       "</table>\n",
       "<p>11324 rows × 1 columns</p>\n",
       "</div>"
      ]
     },
     "execution_count": 15,
     "metadata": {},
     "output_type": "execute_result"
    }
   ],
   "execution_count": 15
  },
  {
   "metadata": {
    "ExecuteTime": {
     "end_time": "2025-06-25T08:28:40.704368Z",
     "start_time": "2025-06-25T08:28:40.698300Z"
    }
   },
   "cell_type": "code",
   "source": "trace[trace.isna().any(axis=1)]",
   "id": "652bae166cafc2db",
   "outputs": [
    {
     "data": {
      "text/plain": [
       "            trace\n",
       "date             \n",
       "1980-01-31    NaN"
      ],
      "text/html": [
       "<div>\n",
       "<style scoped>\n",
       "    .dataframe tbody tr th:only-of-type {\n",
       "        vertical-align: middle;\n",
       "    }\n",
       "\n",
       "    .dataframe tbody tr th {\n",
       "        vertical-align: top;\n",
       "    }\n",
       "\n",
       "    .dataframe thead th {\n",
       "        text-align: right;\n",
       "    }\n",
       "</style>\n",
       "<table border=\"1\" class=\"dataframe\">\n",
       "  <thead>\n",
       "    <tr style=\"text-align: right;\">\n",
       "      <th></th>\n",
       "      <th>trace</th>\n",
       "    </tr>\n",
       "    <tr>\n",
       "      <th>date</th>\n",
       "      <th></th>\n",
       "    </tr>\n",
       "  </thead>\n",
       "  <tbody>\n",
       "    <tr>\n",
       "      <th>1980-01-31</th>\n",
       "      <td>NaN</td>\n",
       "    </tr>\n",
       "  </tbody>\n",
       "</table>\n",
       "</div>"
      ]
     },
     "execution_count": 16,
     "metadata": {},
     "output_type": "execute_result"
    }
   ],
   "execution_count": 16
  },
  {
   "cell_type": "markdown",
   "id": "6352f15c93631ff3",
   "metadata": {},
   "source": "### 7. Universe Volatility."
  },
  {
   "cell_type": "code",
   "id": "6a30e91f9090cf56",
   "metadata": {
    "ExecuteTime": {
     "end_time": "2025-06-25T08:28:40.833616Z",
     "start_time": "2025-06-25T08:28:40.829841Z"
    }
   },
   "source": [
    "ew_vol = ew.rolling(window=252, min_periods=1).std().fillna(0)\n",
    "ew_vol"
   ],
   "outputs": [
    {
     "data": {
      "text/plain": [
       "                  ew\n",
       "date                \n",
       "1980-01-31  0.000000\n",
       "1980-02-01  0.002958\n",
       "1980-02-04  0.002365\n",
       "1980-02-05  0.001957\n",
       "1980-02-06  0.002533\n",
       "...              ...\n",
       "2024-12-24  0.027635\n",
       "2024-12-26  0.027736\n",
       "2024-12-27  0.027887\n",
       "2024-12-30  0.028117\n",
       "2024-12-31  0.028340\n",
       "\n",
       "[11324 rows x 1 columns]"
      ],
      "text/html": [
       "<div>\n",
       "<style scoped>\n",
       "    .dataframe tbody tr th:only-of-type {\n",
       "        vertical-align: middle;\n",
       "    }\n",
       "\n",
       "    .dataframe tbody tr th {\n",
       "        vertical-align: top;\n",
       "    }\n",
       "\n",
       "    .dataframe thead th {\n",
       "        text-align: right;\n",
       "    }\n",
       "</style>\n",
       "<table border=\"1\" class=\"dataframe\">\n",
       "  <thead>\n",
       "    <tr style=\"text-align: right;\">\n",
       "      <th></th>\n",
       "      <th>ew</th>\n",
       "    </tr>\n",
       "    <tr>\n",
       "      <th>date</th>\n",
       "      <th></th>\n",
       "    </tr>\n",
       "  </thead>\n",
       "  <tbody>\n",
       "    <tr>\n",
       "      <th>1980-01-31</th>\n",
       "      <td>0.000000</td>\n",
       "    </tr>\n",
       "    <tr>\n",
       "      <th>1980-02-01</th>\n",
       "      <td>0.002958</td>\n",
       "    </tr>\n",
       "    <tr>\n",
       "      <th>1980-02-04</th>\n",
       "      <td>0.002365</td>\n",
       "    </tr>\n",
       "    <tr>\n",
       "      <th>1980-02-05</th>\n",
       "      <td>0.001957</td>\n",
       "    </tr>\n",
       "    <tr>\n",
       "      <th>1980-02-06</th>\n",
       "      <td>0.002533</td>\n",
       "    </tr>\n",
       "    <tr>\n",
       "      <th>...</th>\n",
       "      <td>...</td>\n",
       "    </tr>\n",
       "    <tr>\n",
       "      <th>2024-12-24</th>\n",
       "      <td>0.027635</td>\n",
       "    </tr>\n",
       "    <tr>\n",
       "      <th>2024-12-26</th>\n",
       "      <td>0.027736</td>\n",
       "    </tr>\n",
       "    <tr>\n",
       "      <th>2024-12-27</th>\n",
       "      <td>0.027887</td>\n",
       "    </tr>\n",
       "    <tr>\n",
       "      <th>2024-12-30</th>\n",
       "      <td>0.028117</td>\n",
       "    </tr>\n",
       "    <tr>\n",
       "      <th>2024-12-31</th>\n",
       "      <td>0.028340</td>\n",
       "    </tr>\n",
       "  </tbody>\n",
       "</table>\n",
       "<p>11324 rows × 1 columns</p>\n",
       "</div>"
      ]
     },
     "execution_count": 17,
     "metadata": {},
     "output_type": "execute_result"
    }
   ],
   "execution_count": 17
  },
  {
   "cell_type": "markdown",
   "id": "97a9030f77d934b7",
   "metadata": {},
   "source": "### Append features."
  },
  {
   "cell_type": "code",
   "id": "f4e0a9f68ce2529d",
   "metadata": {
    "ExecuteTime": {
     "end_time": "2025-06-25T08:28:40.913383Z",
     "start_time": "2025-06-25T08:28:40.910491Z"
    }
   },
   "source": [
    "features = rolling_avg_corr.merge(avg_vol, how=\"inner\", left_index=True, right_index=True)\n",
    "features.shape"
   ],
   "outputs": [
    {
     "data": {
      "text/plain": [
       "(11324, 2)"
      ]
     },
     "execution_count": 18,
     "metadata": {},
     "output_type": "execute_result"
    }
   ],
   "execution_count": 18
  },
  {
   "cell_type": "code",
   "id": "d11af746876c1256",
   "metadata": {
    "ExecuteTime": {
     "end_time": "2025-06-25T08:28:40.974303Z",
     "start_time": "2025-06-25T08:28:40.971782Z"
    }
   },
   "source": [
    "features = features.merge(ewma, how=\"inner\", left_index=True, right_index=True)\n",
    "features.shape"
   ],
   "outputs": [
    {
     "data": {
      "text/plain": [
       "(11324, 3)"
      ]
     },
     "execution_count": 19,
     "metadata": {},
     "output_type": "execute_result"
    }
   ],
   "execution_count": 19
  },
  {
   "cell_type": "code",
   "id": "a047d6cc516a8a7c",
   "metadata": {
    "ExecuteTime": {
     "end_time": "2025-06-25T08:28:41.015147Z",
     "start_time": "2025-06-25T08:28:41.012517Z"
    }
   },
   "source": [
    "features = features.merge(lw, how=\"inner\", left_index=True, right_index=True)\n",
    "features.shape"
   ],
   "outputs": [
    {
     "data": {
      "text/plain": [
       "(11324, 4)"
      ]
     },
     "execution_count": 20,
     "metadata": {},
     "output_type": "execute_result"
    }
   ],
   "execution_count": 20
  },
  {
   "cell_type": "code",
   "id": "54ce8748c93baa0f",
   "metadata": {
    "ExecuteTime": {
     "end_time": "2025-06-25T08:28:41.056951Z",
     "start_time": "2025-06-25T08:28:41.053086Z"
    }
   },
   "source": [
    "features = features.merge(momentum, how=\"inner\", left_index=True, right_index=True)\n",
    "features.shape"
   ],
   "outputs": [
    {
     "data": {
      "text/plain": [
       "(11324, 5)"
      ]
     },
     "execution_count": 21,
     "metadata": {},
     "output_type": "execute_result"
    }
   ],
   "execution_count": 21
  },
  {
   "cell_type": "code",
   "id": "28ead313af7ecbf5",
   "metadata": {
    "ExecuteTime": {
     "end_time": "2025-06-25T08:28:41.090972Z",
     "start_time": "2025-06-25T08:28:41.088388Z"
    }
   },
   "source": [
    "features = features.merge(trace, how=\"inner\", left_index=True, right_index=True)\n",
    "features.shape"
   ],
   "outputs": [
    {
     "data": {
      "text/plain": [
       "(11324, 6)"
      ]
     },
     "execution_count": 22,
     "metadata": {},
     "output_type": "execute_result"
    }
   ],
   "execution_count": 22
  },
  {
   "cell_type": "code",
   "id": "2194ac5c1799d933",
   "metadata": {
    "ExecuteTime": {
     "end_time": "2025-06-25T08:28:41.116984Z",
     "start_time": "2025-06-25T08:28:41.113958Z"
    }
   },
   "source": [
    "features = features.merge(\n",
    "    ew_vol.rename(columns={\"ew\": \"universe_vol\"}), how=\"inner\", left_index=True, right_index=True\n",
    ")\n",
    "features.shape"
   ],
   "outputs": [
    {
     "data": {
      "text/plain": [
       "(11324, 7)"
      ]
     },
     "execution_count": 23,
     "metadata": {},
     "output_type": "execute_result"
    }
   ],
   "execution_count": 23
  },
  {
   "cell_type": "code",
   "id": "6876f2d2bdf7e578",
   "metadata": {
    "ExecuteTime": {
     "end_time": "2025-06-25T08:28:41.141498Z",
     "start_time": "2025-06-25T08:28:41.140105Z"
    }
   },
   "source": "# features.to_csv(\"init_features.csv\")",
   "outputs": [],
   "execution_count": 24
  },
  {
   "cell_type": "code",
   "id": "19cba7c11883e151",
   "metadata": {
    "ExecuteTime": {
     "end_time": "2025-06-25T08:28:41.165171Z",
     "start_time": "2025-06-25T08:28:41.163870Z"
    }
   },
   "source": [
    "# features = pd.read_csv(\"init_features.csv\")\n",
    "# features[\"date\"] = pd.to_datetime(features[\"date\"])\n",
    "# features = features.set_index(\"date\")"
   ],
   "outputs": [],
   "execution_count": 25
  },
  {
   "metadata": {
    "ExecuteTime": {
     "end_time": "2025-06-25T08:28:41.188027Z",
     "start_time": "2025-06-25T08:28:41.186744Z"
    }
   },
   "cell_type": "code",
   "source": "# features = features.drop(columns=[\"trace\"])",
   "id": "df104247d94f05ec",
   "outputs": [],
   "execution_count": 26
  },
  {
   "metadata": {
    "ExecuteTime": {
     "end_time": "2025-06-25T08:28:41.210403Z",
     "start_time": "2025-06-25T08:28:41.209148Z"
    }
   },
   "cell_type": "code",
   "source": [
    "# features = features.drop(columns=[\"trace\"])\n",
    "\n",
    "# features = features.merge(trace, how=\"inner\", left_index=True, right_index=True)\n",
    "# features.shape"
   ],
   "id": "dbcae38485321e56",
   "outputs": [],
   "execution_count": 27
  },
  {
   "cell_type": "code",
   "id": "9c13554e9cdeaa59",
   "metadata": {
    "ExecuteTime": {
     "end_time": "2025-06-25T08:28:41.242142Z",
     "start_time": "2025-06-25T08:28:41.231974Z"
    }
   },
   "source": [
    "targets = pd.read_csv(f\"targets_{TOP_N}.csv\")\n",
    "targets[\"start_date\"] = pd.to_datetime(targets[\"start_date\"])\n",
    "targets[\"end_date\"] = pd.to_datetime(targets[\"end_date\"])"
   ],
   "outputs": [],
   "execution_count": 28
  },
  {
   "cell_type": "code",
   "id": "decbbc1dd480614e",
   "metadata": {
    "ExecuteTime": {
     "end_time": "2025-06-25T08:28:41.267518Z",
     "start_time": "2025-06-25T08:28:41.263792Z"
    }
   },
   "source": [
    "data_df = targets.merge(features, how=\"right\", left_on=\"start_date\", right_index=True)\n",
    "data_df.shape"
   ],
   "outputs": [
    {
     "data": {
      "text/plain": [
       "(11324, 12)"
      ]
     },
     "execution_count": 29,
     "metadata": {},
     "output_type": "execute_result"
    }
   ],
   "execution_count": 29
  },
  {
   "cell_type": "code",
   "id": "eec26c1082cc3554",
   "metadata": {
    "ExecuteTime": {
     "end_time": "2025-06-25T08:28:41.297533Z",
     "start_time": "2025-06-25T08:28:41.291604Z"
    }
   },
   "source": [
    "data_df = data_df.rename(columns={\"start_date\": \"date\"})\n",
    "data_df = data_df.set_index(\"date\")\n",
    "data_df = data_df.drop(columns=[\"end_date\"])\n",
    "data_df"
   ],
   "outputs": [
    {
     "data": {
      "text/plain": [
       "            vol  naive_vol  shrinkage  avg_corr   avg_vol      ewma  \\\n",
       "date                                                                  \n",
       "1980-01-31  NaN        NaN        NaN       NaN       NaN -0.005918   \n",
       "1980-02-01  NaN        NaN        NaN  0.039339  0.014624 -0.003717   \n",
       "1980-02-04  NaN        NaN        NaN  0.066038  0.014648 -0.004462   \n",
       "1980-02-05  NaN        NaN        NaN  0.044011  0.015299 -0.004648   \n",
       "1980-02-06  NaN        NaN        NaN  0.045337  0.016311 -0.003613   \n",
       "...         ...        ...        ...       ...       ...       ...   \n",
       "2024-12-24  NaN        NaN        NaN  0.280020  0.017608  0.004023   \n",
       "2024-12-26  NaN        NaN        NaN  0.279611  0.016998 -0.002005   \n",
       "2024-12-27  NaN        NaN        NaN  0.292113  0.016732 -0.008291   \n",
       "2024-12-30  NaN        NaN        NaN  0.303308  0.016887 -0.016266   \n",
       "2024-12-31  NaN        NaN        NaN  0.300766  0.016729 -0.021050   \n",
       "\n",
       "            lw_shrinkage  momentum_feature     trace  universe_vol  \n",
       "date                                                                \n",
       "1980-01-31      0.000000          0.438000       NaN      0.000000  \n",
       "1980-02-01      0.000000          0.540000  0.201057      0.002958  \n",
       "1980-02-04      0.307793          0.515333  0.159017      0.002365  \n",
       "1980-02-05      0.469367          0.522500  0.164364      0.001957  \n",
       "1980-02-06      0.560948          0.536000  0.178381      0.002533  \n",
       "...                  ...               ...       ...           ...  \n",
       "2024-12-24      0.498412          0.469143  0.202987      0.027635  \n",
       "2024-12-26      0.507959          0.461143  0.190999      0.027736  \n",
       "2024-12-27      0.475507          0.440762  0.186034      0.027887  \n",
       "2024-12-30      0.448953          0.411200  0.188898      0.028117  \n",
       "2024-12-31      0.449103          0.418286  0.186385      0.028340  \n",
       "\n",
       "[11324 rows x 10 columns]"
      ],
      "text/html": [
       "<div>\n",
       "<style scoped>\n",
       "    .dataframe tbody tr th:only-of-type {\n",
       "        vertical-align: middle;\n",
       "    }\n",
       "\n",
       "    .dataframe tbody tr th {\n",
       "        vertical-align: top;\n",
       "    }\n",
       "\n",
       "    .dataframe thead th {\n",
       "        text-align: right;\n",
       "    }\n",
       "</style>\n",
       "<table border=\"1\" class=\"dataframe\">\n",
       "  <thead>\n",
       "    <tr style=\"text-align: right;\">\n",
       "      <th></th>\n",
       "      <th>vol</th>\n",
       "      <th>naive_vol</th>\n",
       "      <th>shrinkage</th>\n",
       "      <th>avg_corr</th>\n",
       "      <th>avg_vol</th>\n",
       "      <th>ewma</th>\n",
       "      <th>lw_shrinkage</th>\n",
       "      <th>momentum_feature</th>\n",
       "      <th>trace</th>\n",
       "      <th>universe_vol</th>\n",
       "    </tr>\n",
       "    <tr>\n",
       "      <th>date</th>\n",
       "      <th></th>\n",
       "      <th></th>\n",
       "      <th></th>\n",
       "      <th></th>\n",
       "      <th></th>\n",
       "      <th></th>\n",
       "      <th></th>\n",
       "      <th></th>\n",
       "      <th></th>\n",
       "      <th></th>\n",
       "    </tr>\n",
       "  </thead>\n",
       "  <tbody>\n",
       "    <tr>\n",
       "      <th>1980-01-31</th>\n",
       "      <td>NaN</td>\n",
       "      <td>NaN</td>\n",
       "      <td>NaN</td>\n",
       "      <td>NaN</td>\n",
       "      <td>NaN</td>\n",
       "      <td>-0.005918</td>\n",
       "      <td>0.000000</td>\n",
       "      <td>0.438000</td>\n",
       "      <td>NaN</td>\n",
       "      <td>0.000000</td>\n",
       "    </tr>\n",
       "    <tr>\n",
       "      <th>1980-02-01</th>\n",
       "      <td>NaN</td>\n",
       "      <td>NaN</td>\n",
       "      <td>NaN</td>\n",
       "      <td>0.039339</td>\n",
       "      <td>0.014624</td>\n",
       "      <td>-0.003717</td>\n",
       "      <td>0.000000</td>\n",
       "      <td>0.540000</td>\n",
       "      <td>0.201057</td>\n",
       "      <td>0.002958</td>\n",
       "    </tr>\n",
       "    <tr>\n",
       "      <th>1980-02-04</th>\n",
       "      <td>NaN</td>\n",
       "      <td>NaN</td>\n",
       "      <td>NaN</td>\n",
       "      <td>0.066038</td>\n",
       "      <td>0.014648</td>\n",
       "      <td>-0.004462</td>\n",
       "      <td>0.307793</td>\n",
       "      <td>0.515333</td>\n",
       "      <td>0.159017</td>\n",
       "      <td>0.002365</td>\n",
       "    </tr>\n",
       "    <tr>\n",
       "      <th>1980-02-05</th>\n",
       "      <td>NaN</td>\n",
       "      <td>NaN</td>\n",
       "      <td>NaN</td>\n",
       "      <td>0.044011</td>\n",
       "      <td>0.015299</td>\n",
       "      <td>-0.004648</td>\n",
       "      <td>0.469367</td>\n",
       "      <td>0.522500</td>\n",
       "      <td>0.164364</td>\n",
       "      <td>0.001957</td>\n",
       "    </tr>\n",
       "    <tr>\n",
       "      <th>1980-02-06</th>\n",
       "      <td>NaN</td>\n",
       "      <td>NaN</td>\n",
       "      <td>NaN</td>\n",
       "      <td>0.045337</td>\n",
       "      <td>0.016311</td>\n",
       "      <td>-0.003613</td>\n",
       "      <td>0.560948</td>\n",
       "      <td>0.536000</td>\n",
       "      <td>0.178381</td>\n",
       "      <td>0.002533</td>\n",
       "    </tr>\n",
       "    <tr>\n",
       "      <th>...</th>\n",
       "      <td>...</td>\n",
       "      <td>...</td>\n",
       "      <td>...</td>\n",
       "      <td>...</td>\n",
       "      <td>...</td>\n",
       "      <td>...</td>\n",
       "      <td>...</td>\n",
       "      <td>...</td>\n",
       "      <td>...</td>\n",
       "      <td>...</td>\n",
       "    </tr>\n",
       "    <tr>\n",
       "      <th>2024-12-24</th>\n",
       "      <td>NaN</td>\n",
       "      <td>NaN</td>\n",
       "      <td>NaN</td>\n",
       "      <td>0.280020</td>\n",
       "      <td>0.017608</td>\n",
       "      <td>0.004023</td>\n",
       "      <td>0.498412</td>\n",
       "      <td>0.469143</td>\n",
       "      <td>0.202987</td>\n",
       "      <td>0.027635</td>\n",
       "    </tr>\n",
       "    <tr>\n",
       "      <th>2024-12-26</th>\n",
       "      <td>NaN</td>\n",
       "      <td>NaN</td>\n",
       "      <td>NaN</td>\n",
       "      <td>0.279611</td>\n",
       "      <td>0.016998</td>\n",
       "      <td>-0.002005</td>\n",
       "      <td>0.507959</td>\n",
       "      <td>0.461143</td>\n",
       "      <td>0.190999</td>\n",
       "      <td>0.027736</td>\n",
       "    </tr>\n",
       "    <tr>\n",
       "      <th>2024-12-27</th>\n",
       "      <td>NaN</td>\n",
       "      <td>NaN</td>\n",
       "      <td>NaN</td>\n",
       "      <td>0.292113</td>\n",
       "      <td>0.016732</td>\n",
       "      <td>-0.008291</td>\n",
       "      <td>0.475507</td>\n",
       "      <td>0.440762</td>\n",
       "      <td>0.186034</td>\n",
       "      <td>0.027887</td>\n",
       "    </tr>\n",
       "    <tr>\n",
       "      <th>2024-12-30</th>\n",
       "      <td>NaN</td>\n",
       "      <td>NaN</td>\n",
       "      <td>NaN</td>\n",
       "      <td>0.303308</td>\n",
       "      <td>0.016887</td>\n",
       "      <td>-0.016266</td>\n",
       "      <td>0.448953</td>\n",
       "      <td>0.411200</td>\n",
       "      <td>0.188898</td>\n",
       "      <td>0.028117</td>\n",
       "    </tr>\n",
       "    <tr>\n",
       "      <th>2024-12-31</th>\n",
       "      <td>NaN</td>\n",
       "      <td>NaN</td>\n",
       "      <td>NaN</td>\n",
       "      <td>0.300766</td>\n",
       "      <td>0.016729</td>\n",
       "      <td>-0.021050</td>\n",
       "      <td>0.449103</td>\n",
       "      <td>0.418286</td>\n",
       "      <td>0.186385</td>\n",
       "      <td>0.028340</td>\n",
       "    </tr>\n",
       "  </tbody>\n",
       "</table>\n",
       "<p>11324 rows × 10 columns</p>\n",
       "</div>"
      ]
     },
     "execution_count": 30,
     "metadata": {},
     "output_type": "execute_result"
    }
   ],
   "execution_count": 30
  },
  {
   "cell_type": "code",
   "id": "c5673b12c3f1b3b5",
   "metadata": {
    "ExecuteTime": {
     "end_time": "2025-06-25T08:28:41.342467Z",
     "start_time": "2025-06-25T08:28:41.337724Z"
    }
   },
   "source": [
    "data_df = data_df.rename(columns={\"shrinkage\": \"target\"})\n",
    "data_df"
   ],
   "outputs": [
    {
     "data": {
      "text/plain": [
       "            vol  naive_vol  target  avg_corr   avg_vol      ewma  \\\n",
       "date                                                               \n",
       "1980-01-31  NaN        NaN     NaN       NaN       NaN -0.005918   \n",
       "1980-02-01  NaN        NaN     NaN  0.039339  0.014624 -0.003717   \n",
       "1980-02-04  NaN        NaN     NaN  0.066038  0.014648 -0.004462   \n",
       "1980-02-05  NaN        NaN     NaN  0.044011  0.015299 -0.004648   \n",
       "1980-02-06  NaN        NaN     NaN  0.045337  0.016311 -0.003613   \n",
       "...         ...        ...     ...       ...       ...       ...   \n",
       "2024-12-24  NaN        NaN     NaN  0.280020  0.017608  0.004023   \n",
       "2024-12-26  NaN        NaN     NaN  0.279611  0.016998 -0.002005   \n",
       "2024-12-27  NaN        NaN     NaN  0.292113  0.016732 -0.008291   \n",
       "2024-12-30  NaN        NaN     NaN  0.303308  0.016887 -0.016266   \n",
       "2024-12-31  NaN        NaN     NaN  0.300766  0.016729 -0.021050   \n",
       "\n",
       "            lw_shrinkage  momentum_feature     trace  universe_vol  \n",
       "date                                                                \n",
       "1980-01-31      0.000000          0.438000       NaN      0.000000  \n",
       "1980-02-01      0.000000          0.540000  0.201057      0.002958  \n",
       "1980-02-04      0.307793          0.515333  0.159017      0.002365  \n",
       "1980-02-05      0.469367          0.522500  0.164364      0.001957  \n",
       "1980-02-06      0.560948          0.536000  0.178381      0.002533  \n",
       "...                  ...               ...       ...           ...  \n",
       "2024-12-24      0.498412          0.469143  0.202987      0.027635  \n",
       "2024-12-26      0.507959          0.461143  0.190999      0.027736  \n",
       "2024-12-27      0.475507          0.440762  0.186034      0.027887  \n",
       "2024-12-30      0.448953          0.411200  0.188898      0.028117  \n",
       "2024-12-31      0.449103          0.418286  0.186385      0.028340  \n",
       "\n",
       "[11324 rows x 10 columns]"
      ],
      "text/html": [
       "<div>\n",
       "<style scoped>\n",
       "    .dataframe tbody tr th:only-of-type {\n",
       "        vertical-align: middle;\n",
       "    }\n",
       "\n",
       "    .dataframe tbody tr th {\n",
       "        vertical-align: top;\n",
       "    }\n",
       "\n",
       "    .dataframe thead th {\n",
       "        text-align: right;\n",
       "    }\n",
       "</style>\n",
       "<table border=\"1\" class=\"dataframe\">\n",
       "  <thead>\n",
       "    <tr style=\"text-align: right;\">\n",
       "      <th></th>\n",
       "      <th>vol</th>\n",
       "      <th>naive_vol</th>\n",
       "      <th>target</th>\n",
       "      <th>avg_corr</th>\n",
       "      <th>avg_vol</th>\n",
       "      <th>ewma</th>\n",
       "      <th>lw_shrinkage</th>\n",
       "      <th>momentum_feature</th>\n",
       "      <th>trace</th>\n",
       "      <th>universe_vol</th>\n",
       "    </tr>\n",
       "    <tr>\n",
       "      <th>date</th>\n",
       "      <th></th>\n",
       "      <th></th>\n",
       "      <th></th>\n",
       "      <th></th>\n",
       "      <th></th>\n",
       "      <th></th>\n",
       "      <th></th>\n",
       "      <th></th>\n",
       "      <th></th>\n",
       "      <th></th>\n",
       "    </tr>\n",
       "  </thead>\n",
       "  <tbody>\n",
       "    <tr>\n",
       "      <th>1980-01-31</th>\n",
       "      <td>NaN</td>\n",
       "      <td>NaN</td>\n",
       "      <td>NaN</td>\n",
       "      <td>NaN</td>\n",
       "      <td>NaN</td>\n",
       "      <td>-0.005918</td>\n",
       "      <td>0.000000</td>\n",
       "      <td>0.438000</td>\n",
       "      <td>NaN</td>\n",
       "      <td>0.000000</td>\n",
       "    </tr>\n",
       "    <tr>\n",
       "      <th>1980-02-01</th>\n",
       "      <td>NaN</td>\n",
       "      <td>NaN</td>\n",
       "      <td>NaN</td>\n",
       "      <td>0.039339</td>\n",
       "      <td>0.014624</td>\n",
       "      <td>-0.003717</td>\n",
       "      <td>0.000000</td>\n",
       "      <td>0.540000</td>\n",
       "      <td>0.201057</td>\n",
       "      <td>0.002958</td>\n",
       "    </tr>\n",
       "    <tr>\n",
       "      <th>1980-02-04</th>\n",
       "      <td>NaN</td>\n",
       "      <td>NaN</td>\n",
       "      <td>NaN</td>\n",
       "      <td>0.066038</td>\n",
       "      <td>0.014648</td>\n",
       "      <td>-0.004462</td>\n",
       "      <td>0.307793</td>\n",
       "      <td>0.515333</td>\n",
       "      <td>0.159017</td>\n",
       "      <td>0.002365</td>\n",
       "    </tr>\n",
       "    <tr>\n",
       "      <th>1980-02-05</th>\n",
       "      <td>NaN</td>\n",
       "      <td>NaN</td>\n",
       "      <td>NaN</td>\n",
       "      <td>0.044011</td>\n",
       "      <td>0.015299</td>\n",
       "      <td>-0.004648</td>\n",
       "      <td>0.469367</td>\n",
       "      <td>0.522500</td>\n",
       "      <td>0.164364</td>\n",
       "      <td>0.001957</td>\n",
       "    </tr>\n",
       "    <tr>\n",
       "      <th>1980-02-06</th>\n",
       "      <td>NaN</td>\n",
       "      <td>NaN</td>\n",
       "      <td>NaN</td>\n",
       "      <td>0.045337</td>\n",
       "      <td>0.016311</td>\n",
       "      <td>-0.003613</td>\n",
       "      <td>0.560948</td>\n",
       "      <td>0.536000</td>\n",
       "      <td>0.178381</td>\n",
       "      <td>0.002533</td>\n",
       "    </tr>\n",
       "    <tr>\n",
       "      <th>...</th>\n",
       "      <td>...</td>\n",
       "      <td>...</td>\n",
       "      <td>...</td>\n",
       "      <td>...</td>\n",
       "      <td>...</td>\n",
       "      <td>...</td>\n",
       "      <td>...</td>\n",
       "      <td>...</td>\n",
       "      <td>...</td>\n",
       "      <td>...</td>\n",
       "    </tr>\n",
       "    <tr>\n",
       "      <th>2024-12-24</th>\n",
       "      <td>NaN</td>\n",
       "      <td>NaN</td>\n",
       "      <td>NaN</td>\n",
       "      <td>0.280020</td>\n",
       "      <td>0.017608</td>\n",
       "      <td>0.004023</td>\n",
       "      <td>0.498412</td>\n",
       "      <td>0.469143</td>\n",
       "      <td>0.202987</td>\n",
       "      <td>0.027635</td>\n",
       "    </tr>\n",
       "    <tr>\n",
       "      <th>2024-12-26</th>\n",
       "      <td>NaN</td>\n",
       "      <td>NaN</td>\n",
       "      <td>NaN</td>\n",
       "      <td>0.279611</td>\n",
       "      <td>0.016998</td>\n",
       "      <td>-0.002005</td>\n",
       "      <td>0.507959</td>\n",
       "      <td>0.461143</td>\n",
       "      <td>0.190999</td>\n",
       "      <td>0.027736</td>\n",
       "    </tr>\n",
       "    <tr>\n",
       "      <th>2024-12-27</th>\n",
       "      <td>NaN</td>\n",
       "      <td>NaN</td>\n",
       "      <td>NaN</td>\n",
       "      <td>0.292113</td>\n",
       "      <td>0.016732</td>\n",
       "      <td>-0.008291</td>\n",
       "      <td>0.475507</td>\n",
       "      <td>0.440762</td>\n",
       "      <td>0.186034</td>\n",
       "      <td>0.027887</td>\n",
       "    </tr>\n",
       "    <tr>\n",
       "      <th>2024-12-30</th>\n",
       "      <td>NaN</td>\n",
       "      <td>NaN</td>\n",
       "      <td>NaN</td>\n",
       "      <td>0.303308</td>\n",
       "      <td>0.016887</td>\n",
       "      <td>-0.016266</td>\n",
       "      <td>0.448953</td>\n",
       "      <td>0.411200</td>\n",
       "      <td>0.188898</td>\n",
       "      <td>0.028117</td>\n",
       "    </tr>\n",
       "    <tr>\n",
       "      <th>2024-12-31</th>\n",
       "      <td>NaN</td>\n",
       "      <td>NaN</td>\n",
       "      <td>NaN</td>\n",
       "      <td>0.300766</td>\n",
       "      <td>0.016729</td>\n",
       "      <td>-0.021050</td>\n",
       "      <td>0.449103</td>\n",
       "      <td>0.418286</td>\n",
       "      <td>0.186385</td>\n",
       "      <td>0.028340</td>\n",
       "    </tr>\n",
       "  </tbody>\n",
       "</table>\n",
       "<p>11324 rows × 10 columns</p>\n",
       "</div>"
      ]
     },
     "execution_count": 31,
     "metadata": {},
     "output_type": "execute_result"
    }
   ],
   "execution_count": 31
  },
  {
   "cell_type": "code",
   "id": "c01fe58eee035431",
   "metadata": {
    "ExecuteTime": {
     "end_time": "2025-06-25T08:28:41.400052Z",
     "start_time": "2025-06-25T08:28:41.395054Z"
    }
   },
   "source": [
    "dnk_features = data_df.loc[:, [\"target\"]].copy()\n",
    "dnk_features[\"target_rolling_mean\"] = (\n",
    "    dnk_features[\"target\"].rolling(window=252, min_periods=1).mean()\n",
    ")\n",
    "dnk_features[\"target_rolling_vol\"] = (\n",
    "    data_df[[\"vol\"]].rolling(window=252, min_periods=1).std().fillna(0)\n",
    ")\n",
    "dnk_features"
   ],
   "outputs": [
    {
     "data": {
      "text/plain": [
       "            target  target_rolling_mean  target_rolling_vol\n",
       "date                                                       \n",
       "1980-01-31     NaN                  NaN            0.000000\n",
       "1980-02-01     NaN                  NaN            0.000000\n",
       "1980-02-04     NaN                  NaN            0.000000\n",
       "1980-02-05     NaN                  NaN            0.000000\n",
       "1980-02-06     NaN                  NaN            0.000000\n",
       "...            ...                  ...                 ...\n",
       "2024-12-24     NaN             0.662188            0.000666\n",
       "2024-12-26     NaN             0.661763            0.000658\n",
       "2024-12-27     NaN             0.661501            0.000651\n",
       "2024-12-30     NaN             0.661335            0.000645\n",
       "2024-12-31     NaN             0.661298            0.000638\n",
       "\n",
       "[11324 rows x 3 columns]"
      ],
      "text/html": [
       "<div>\n",
       "<style scoped>\n",
       "    .dataframe tbody tr th:only-of-type {\n",
       "        vertical-align: middle;\n",
       "    }\n",
       "\n",
       "    .dataframe tbody tr th {\n",
       "        vertical-align: top;\n",
       "    }\n",
       "\n",
       "    .dataframe thead th {\n",
       "        text-align: right;\n",
       "    }\n",
       "</style>\n",
       "<table border=\"1\" class=\"dataframe\">\n",
       "  <thead>\n",
       "    <tr style=\"text-align: right;\">\n",
       "      <th></th>\n",
       "      <th>target</th>\n",
       "      <th>target_rolling_mean</th>\n",
       "      <th>target_rolling_vol</th>\n",
       "    </tr>\n",
       "    <tr>\n",
       "      <th>date</th>\n",
       "      <th></th>\n",
       "      <th></th>\n",
       "      <th></th>\n",
       "    </tr>\n",
       "  </thead>\n",
       "  <tbody>\n",
       "    <tr>\n",
       "      <th>1980-01-31</th>\n",
       "      <td>NaN</td>\n",
       "      <td>NaN</td>\n",
       "      <td>0.000000</td>\n",
       "    </tr>\n",
       "    <tr>\n",
       "      <th>1980-02-01</th>\n",
       "      <td>NaN</td>\n",
       "      <td>NaN</td>\n",
       "      <td>0.000000</td>\n",
       "    </tr>\n",
       "    <tr>\n",
       "      <th>1980-02-04</th>\n",
       "      <td>NaN</td>\n",
       "      <td>NaN</td>\n",
       "      <td>0.000000</td>\n",
       "    </tr>\n",
       "    <tr>\n",
       "      <th>1980-02-05</th>\n",
       "      <td>NaN</td>\n",
       "      <td>NaN</td>\n",
       "      <td>0.000000</td>\n",
       "    </tr>\n",
       "    <tr>\n",
       "      <th>1980-02-06</th>\n",
       "      <td>NaN</td>\n",
       "      <td>NaN</td>\n",
       "      <td>0.000000</td>\n",
       "    </tr>\n",
       "    <tr>\n",
       "      <th>...</th>\n",
       "      <td>...</td>\n",
       "      <td>...</td>\n",
       "      <td>...</td>\n",
       "    </tr>\n",
       "    <tr>\n",
       "      <th>2024-12-24</th>\n",
       "      <td>NaN</td>\n",
       "      <td>0.662188</td>\n",
       "      <td>0.000666</td>\n",
       "    </tr>\n",
       "    <tr>\n",
       "      <th>2024-12-26</th>\n",
       "      <td>NaN</td>\n",
       "      <td>0.661763</td>\n",
       "      <td>0.000658</td>\n",
       "    </tr>\n",
       "    <tr>\n",
       "      <th>2024-12-27</th>\n",
       "      <td>NaN</td>\n",
       "      <td>0.661501</td>\n",
       "      <td>0.000651</td>\n",
       "    </tr>\n",
       "    <tr>\n",
       "      <th>2024-12-30</th>\n",
       "      <td>NaN</td>\n",
       "      <td>0.661335</td>\n",
       "      <td>0.000645</td>\n",
       "    </tr>\n",
       "    <tr>\n",
       "      <th>2024-12-31</th>\n",
       "      <td>NaN</td>\n",
       "      <td>0.661298</td>\n",
       "      <td>0.000638</td>\n",
       "    </tr>\n",
       "  </tbody>\n",
       "</table>\n",
       "<p>11324 rows × 3 columns</p>\n",
       "</div>"
      ]
     },
     "execution_count": 32,
     "metadata": {},
     "output_type": "execute_result"
    }
   ],
   "execution_count": 32
  },
  {
   "cell_type": "code",
   "id": "d07d2f9efdfa8c1a",
   "metadata": {
    "ExecuteTime": {
     "end_time": "2025-06-25T08:28:41.462006Z",
     "start_time": "2025-06-25T08:28:41.459269Z"
    }
   },
   "source": [
    "data_df = data_df.merge(dnk_features, how=\"inner\", left_index=True, right_index=True)\n",
    "data_df.shape"
   ],
   "outputs": [
    {
     "data": {
      "text/plain": [
       "(11324, 13)"
      ]
     },
     "execution_count": 33,
     "metadata": {},
     "output_type": "execute_result"
    }
   ],
   "execution_count": 33
  },
  {
   "metadata": {
    "ExecuteTime": {
     "end_time": "2025-06-25T08:28:41.518649Z",
     "start_time": "2025-06-25T08:28:41.516903Z"
    }
   },
   "cell_type": "code",
   "source": "data_df.columns",
   "id": "b0da3e6a936d0364",
   "outputs": [
    {
     "data": {
      "text/plain": [
       "Index(['vol', 'naive_vol', 'target_x', 'avg_corr', 'avg_vol', 'ewma',\n",
       "       'lw_shrinkage', 'momentum_feature', 'trace', 'universe_vol', 'target_y',\n",
       "       'target_rolling_mean', 'target_rolling_vol'],\n",
       "      dtype='object')"
      ]
     },
     "execution_count": 34,
     "metadata": {},
     "output_type": "execute_result"
    }
   ],
   "execution_count": 34
  },
  {
   "cell_type": "code",
   "id": "5e20aec8e60a1adb",
   "metadata": {
    "ExecuteTime": {
     "end_time": "2025-06-25T08:28:41.566551Z",
     "start_time": "2025-06-25T08:28:41.564428Z"
    }
   },
   "source": "data_df = data_df.rename(columns={\"target_x\": \"target\", \"target_y\": \"lagged_target\"})",
   "outputs": [],
   "execution_count": 35
  },
  {
   "cell_type": "code",
   "id": "3428e56ef24fecc7",
   "metadata": {
    "ExecuteTime": {
     "end_time": "2025-06-25T08:28:41.614379Z",
     "start_time": "2025-06-25T08:28:41.595519Z"
    }
   },
   "source": [
    "new_data = data.merge(data_df, left_index=True, right_index=True)\n",
    "new_data.shape"
   ],
   "outputs": [
    {
     "data": {
      "text/plain": [
       "(11324, 2478)"
      ]
     },
     "execution_count": 36,
     "metadata": {},
     "output_type": "execute_result"
    }
   ],
   "execution_count": 36
  },
  {
   "cell_type": "code",
   "id": "4895b808e086f054",
   "metadata": {
    "ExecuteTime": {
     "end_time": "2025-06-25T08:28:41.648893Z",
     "start_time": "2025-06-25T08:28:41.646800Z"
    }
   },
   "source": "new_data.columns",
   "outputs": [
    {
     "data": {
      "text/plain": [
       "Index(['10006', '10078', '10095', '10104', '10107', '10108', '10119', '10137',\n",
       "       '10138', '10145',\n",
       "       ...\n",
       "       'avg_corr', 'avg_vol', 'ewma', 'lw_shrinkage', 'momentum_feature',\n",
       "       'trace', 'universe_vol', 'lagged_target', 'target_rolling_mean',\n",
       "       'target_rolling_vol'],\n",
       "      dtype='object', length=2478)"
      ]
     },
     "execution_count": 37,
     "metadata": {},
     "output_type": "execute_result"
    }
   ],
   "execution_count": 37
  },
  {
   "metadata": {
    "ExecuteTime": {
     "end_time": "2025-06-25T08:28:41.681123Z",
     "start_time": "2025-06-25T08:28:41.678248Z"
    }
   },
   "cell_type": "code",
   "source": "new_data.index.is_unique",
   "id": "88702133540c0c60",
   "outputs": [
    {
     "data": {
      "text/plain": [
       "True"
      ]
     },
     "execution_count": 38,
     "metadata": {},
     "output_type": "execute_result"
    }
   ],
   "execution_count": 38
  },
  {
   "cell_type": "code",
   "id": "d2e5b71066f1cb23",
   "metadata": {
    "ExecuteTime": {
     "end_time": "2025-06-25T08:28:47.413612Z",
     "start_time": "2025-06-25T08:28:41.706126Z"
    }
   },
   "source": "new_data.to_csv(config.PATH_OUTPUT / config.DF_FILENAME)",
   "outputs": [],
   "execution_count": 39
  },
  {
   "cell_type": "code",
   "id": "58883dc2973f1c85",
   "metadata": {
    "ExecuteTime": {
     "end_time": "2025-06-25T08:28:47.438926Z",
     "start_time": "2025-06-25T08:28:47.437695Z"
    }
   },
   "source": [
    "# data = data.drop(columns=[\"trace\"])\n",
    "#\n",
    "# data = data.merge(trace, how=\"inner\", left_index=True, right_index=True)\n",
    "# data.shape"
   ],
   "outputs": [],
   "execution_count": 40
  },
  {
   "metadata": {
    "ExecuteTime": {
     "end_time": "2025-06-25T08:28:47.463296Z",
     "start_time": "2025-06-25T08:28:47.462021Z"
    }
   },
   "cell_type": "code",
   "source": "# data.to_csv(config.PATH_OUTPUT / config.DF_FILENAME)",
   "id": "f5989e9e14f794a9",
   "outputs": [],
   "execution_count": 41
  },
  {
   "metadata": {
    "ExecuteTime": {
     "end_time": "2025-06-25T08:28:47.486521Z",
     "start_time": "2025-06-25T08:28:47.485127Z"
    }
   },
   "cell_type": "code",
   "source": "# data.columns",
   "id": "aab7786c270a9473",
   "outputs": [],
   "execution_count": 42
  },
  {
   "metadata": {
    "ExecuteTime": {
     "end_time": "2025-06-25T08:28:47.514593Z",
     "start_time": "2025-06-25T08:28:47.513470Z"
    }
   },
   "cell_type": "code",
   "source": "",
   "id": "bb12013c8071f57e",
   "outputs": [],
   "execution_count": null
  }
 ],
 "metadata": {
  "kernelspec": {
   "display_name": "Python 3",
   "language": "python",
   "name": "python3"
  },
  "language_info": {
   "codemirror_mode": {
    "name": "ipython",
    "version": 2
   },
   "file_extension": ".py",
   "mimetype": "text/x-python",
   "name": "python",
   "nbconvert_exporter": "python",
   "pygments_lexer": "ipython2",
   "version": "2.7.6"
  }
 },
 "nbformat": 4,
 "nbformat_minor": 5
}
