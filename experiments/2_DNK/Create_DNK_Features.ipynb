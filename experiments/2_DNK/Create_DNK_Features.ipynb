{
 "cells": [
  {
   "cell_type": "code",
   "id": "initial_id",
   "metadata": {
    "collapsed": true,
    "ExecuteTime": {
     "end_time": "2025-06-20T19:39:55.117399Z",
     "start_time": "2025-06-20T19:39:55.112546Z"
    }
   },
   "source": [
    "import numpy as np\n",
    "import pandas as pd\n",
    "\n",
    "from qamsi.utils.data import read_csv\n",
    "\n",
    "from run import Dataset\n",
    "\n",
    "DATASET = Dataset.TOPN_US\n",
    "TOP_N = 30\n",
    "\n",
    "config = DATASET.value(topn=TOP_N)\n",
    "config"
   ],
   "outputs": [
    {
     "data": {
      "text/plain": [
       "ExperimentConfig(RANDOM_SEED=12, PATH_OUTPUT=PosixPath('/Users/buchkovv/qamsi/data/output'), SAVE_PATH=PosixPath('/Users/buchkovv/qamsi/backtests/runs'), DF_FILENAME='top50_data.csv', PRESENCE_MATRIX_FILENAME='top50_presence_matrix.csv', START_DATE=Timestamp('2000-12-18 00:00:00'), END_DATE=Timestamp('2024-07-31 00:00:00'), REBALANCE_FREQ=21, HEDGE_FREQ=1, N_LOOKBEHIND_PERIODS=252, MIN_ROLLING_PERIODS=252, CAUSAL_WINDOW_SIZE=21, FACTORS=('spx',), TARGETS=('vol', 'naive_vol', 'target', 'cgp_ucb', 'irl'), HEDGING_ASSETS=('spx_fut',), RF_NAME='acc_rate', MKT_NAME='spx', PATH_INPUT=PosixPath('/Users/buchkovv/qamsi/data/input'), INITIAL_DF_FILENAME='initial_df.csv', JKP_DATA_FILENAME='jkp_data.csv', STOCKS_LIST_FILENAME='spx_stocks_list.csv', INITIAL_FEATURES_FILENAME='initial_features_df.csv', RETURNS_FILENAME='returns_incl_div_consituents_w_name.csv', BETTER_RETURNS_FILENAME='returns_data_cleaned_better.parquet', ASSET_UNIVERSE=('spx',))"
      ]
     },
     "execution_count": 11,
     "metadata": {},
     "output_type": "execute_result"
    }
   ],
   "execution_count": 11
  },
  {
   "cell_type": "code",
   "id": "e59331b65f7ad9b",
   "metadata": {
    "ExecuteTime": {
     "end_time": "2025-06-20T19:39:55.318557Z",
     "start_time": "2025-06-20T19:39:55.144923Z"
    }
   },
   "source": [
    "data = read_csv(config.PATH_OUTPUT, config.DF_FILENAME)\n",
    "pm = read_csv(config.PATH_OUTPUT, config.PRESENCE_MATRIX_FILENAME)\n",
    "ret = data[pm.columns]"
   ],
   "outputs": [],
   "execution_count": 12
  },
  {
   "metadata": {
    "ExecuteTime": {
     "end_time": "2025-06-20T19:39:55.355278Z",
     "start_time": "2025-06-20T19:39:55.352404Z"
    }
   },
   "cell_type": "code",
   "source": "data.shape",
   "id": "fa64deac823a5ec9",
   "outputs": [
    {
     "data": {
      "text/plain": [
       "(11324, 238)"
      ]
     },
     "execution_count": 13,
     "metadata": {},
     "output_type": "execute_result"
    }
   ],
   "execution_count": 13
  },
  {
   "metadata": {
    "ExecuteTime": {
     "end_time": "2025-06-20T19:39:55.389583Z",
     "start_time": "2025-06-20T19:39:55.386490Z"
    }
   },
   "cell_type": "code",
   "source": "data.index.is_unique",
   "id": "dd673cadacb95a45",
   "outputs": [
    {
     "data": {
      "text/plain": [
       "True"
      ]
     },
     "execution_count": 14,
     "metadata": {},
     "output_type": "execute_result"
    }
   ],
   "execution_count": 14
  },
  {
   "metadata": {
    "ExecuteTime": {
     "end_time": "2025-06-20T19:39:55.415326Z",
     "start_time": "2025-06-20T19:39:55.411386Z"
    }
   },
   "cell_type": "code",
   "source": [
    "# Function to compute rolling correlation\n",
    "def rolling_feature(df, feature_fn, pm, name):\n",
    "    # Initialize a list to store results\n",
    "    results = []\n",
    "\n",
    "    # Perform calculation for each rolling window\n",
    "    for end in df.index:\n",
    "        start = end - pd.DateOffset(months=1)\n",
    "\n",
    "        curr_matrix = pm.loc[:end].iloc[-1]\n",
    "        selection = curr_matrix[curr_matrix == 1].index.tolist()\n",
    "        rolling_window = df[selection].loc[start:end]\n",
    "\n",
    "        feature = feature_fn(rolling_window)\n",
    "\n",
    "        results.append([end, feature])\n",
    "\n",
    "    # Create a series with the results\n",
    "    rolling_feat = pd.DataFrame(results, columns=[\"date\", name])\n",
    "    rolling_feat[\"date\"] = pd.to_datetime(rolling_feat[\"date\"])\n",
    "    rolling_feat = rolling_feat.set_index(\"date\")\n",
    "    return rolling_feat"
   ],
   "id": "7749bf9bdf9bd6c6",
   "outputs": [],
   "execution_count": 15
  },
  {
   "metadata": {},
   "cell_type": "markdown",
   "source": "### 1. Avg Corr.",
   "id": "6b4fa2a74e34386"
  },
  {
   "cell_type": "code",
   "id": "247c20c24cbb2c8f",
   "metadata": {
    "ExecuteTime": {
     "end_time": "2025-06-20T19:40:02.975999Z",
     "start_time": "2025-06-20T19:39:55.454515Z"
    }
   },
   "source": [
    "# Function to compute the average of non-diagonal elements in each correlation matrix\n",
    "def avg_non_diagonal_elements(corr_matrix):\n",
    "    # Select the non-diagonal elements using numpy\n",
    "    non_diag = corr_matrix.values[np.triu_indices_from(corr_matrix, k=1)]\n",
    "    return np.nanmean(non_diag)\n",
    "\n",
    "def avg_corr(rolling_window):\n",
    "    # Compute the correlation matrix for the rolling window\n",
    "    corr_matrix = rolling_window.corr()\n",
    "\n",
    "    # Compute the average of non-diagonal elements\n",
    "    return avg_non_diagonal_elements(corr_matrix)\n",
    "\n",
    "# Calculate rolling average correlation of non-diagonal elements\n",
    "rolling_avg_corr = rolling_feature(ret, avg_corr, pm, \"avg_corr\")\n",
    "\n",
    "# Output rolling_avg_corr as the result\n",
    "rolling_avg_corr.shape"
   ],
   "outputs": [
    {
     "data": {
      "text/plain": [
       "(11324, 1)"
      ]
     },
     "execution_count": 16,
     "metadata": {},
     "output_type": "execute_result"
    }
   ],
   "execution_count": 16
  },
  {
   "cell_type": "markdown",
   "id": "f4f8ad83684db101",
   "metadata": {},
   "source": "### 2. Average volatility."
  },
  {
   "metadata": {
    "ExecuteTime": {
     "end_time": "2025-06-20T19:40:10.383462Z",
     "start_time": "2025-06-20T19:40:02.999735Z"
    }
   },
   "cell_type": "code",
   "source": [
    "avg_vol = rolling_feature(ret, lambda s: s.std(axis=0).mean(), pm, \"avg_vol\")\n",
    "avg_vol.shape"
   ],
   "id": "d4fb33ac68ca1c2a",
   "outputs": [
    {
     "data": {
      "text/plain": [
       "(11324, 1)"
      ]
     },
     "execution_count": 17,
     "metadata": {},
     "output_type": "execute_result"
    }
   ],
   "execution_count": 17
  },
  {
   "cell_type": "markdown",
   "id": "b2afd1782d5a9bc2",
   "metadata": {},
   "source": "### 3. EW Portfolio."
  },
  {
   "cell_type": "code",
   "id": "6db509b46d11a589",
   "metadata": {
    "ExecuteTime": {
     "end_time": "2025-06-20T19:40:16.944836Z",
     "start_time": "2025-06-20T19:40:10.404802Z"
    }
   },
   "source": [
    "ew = rolling_feature(ret, lambda s: np.prod(1 + np.nanmean(s, axis=1)) - 1, pm, \"ew\")\n",
    "ew"
   ],
   "outputs": [
    {
     "data": {
      "text/plain": [
       "                  ew\n",
       "date                \n",
       "1980-01-31 -0.010653\n",
       "1980-02-01 -0.000624\n",
       "1980-02-04 -0.005363\n",
       "1980-02-05 -0.002280\n",
       "1980-02-06  0.012727\n",
       "...              ...\n",
       "2024-12-24  0.004639\n",
       "2024-12-26  0.001528\n",
       "2024-12-27 -0.014119\n",
       "2024-12-30 -0.025538\n",
       "2024-12-31 -0.025929\n",
       "\n",
       "[11324 rows x 1 columns]"
      ],
      "text/html": [
       "<div>\n",
       "<style scoped>\n",
       "    .dataframe tbody tr th:only-of-type {\n",
       "        vertical-align: middle;\n",
       "    }\n",
       "\n",
       "    .dataframe tbody tr th {\n",
       "        vertical-align: top;\n",
       "    }\n",
       "\n",
       "    .dataframe thead th {\n",
       "        text-align: right;\n",
       "    }\n",
       "</style>\n",
       "<table border=\"1\" class=\"dataframe\">\n",
       "  <thead>\n",
       "    <tr style=\"text-align: right;\">\n",
       "      <th></th>\n",
       "      <th>ew</th>\n",
       "    </tr>\n",
       "    <tr>\n",
       "      <th>date</th>\n",
       "      <th></th>\n",
       "    </tr>\n",
       "  </thead>\n",
       "  <tbody>\n",
       "    <tr>\n",
       "      <th>1980-01-31</th>\n",
       "      <td>-0.010653</td>\n",
       "    </tr>\n",
       "    <tr>\n",
       "      <th>1980-02-01</th>\n",
       "      <td>-0.000624</td>\n",
       "    </tr>\n",
       "    <tr>\n",
       "      <th>1980-02-04</th>\n",
       "      <td>-0.005363</td>\n",
       "    </tr>\n",
       "    <tr>\n",
       "      <th>1980-02-05</th>\n",
       "      <td>-0.002280</td>\n",
       "    </tr>\n",
       "    <tr>\n",
       "      <th>1980-02-06</th>\n",
       "      <td>0.012727</td>\n",
       "    </tr>\n",
       "    <tr>\n",
       "      <th>...</th>\n",
       "      <td>...</td>\n",
       "    </tr>\n",
       "    <tr>\n",
       "      <th>2024-12-24</th>\n",
       "      <td>0.004639</td>\n",
       "    </tr>\n",
       "    <tr>\n",
       "      <th>2024-12-26</th>\n",
       "      <td>0.001528</td>\n",
       "    </tr>\n",
       "    <tr>\n",
       "      <th>2024-12-27</th>\n",
       "      <td>-0.014119</td>\n",
       "    </tr>\n",
       "    <tr>\n",
       "      <th>2024-12-30</th>\n",
       "      <td>-0.025538</td>\n",
       "    </tr>\n",
       "    <tr>\n",
       "      <th>2024-12-31</th>\n",
       "      <td>-0.025929</td>\n",
       "    </tr>\n",
       "  </tbody>\n",
       "</table>\n",
       "<p>11324 rows × 1 columns</p>\n",
       "</div>"
      ]
     },
     "execution_count": 18,
     "metadata": {},
     "output_type": "execute_result"
    }
   ],
   "execution_count": 18
  },
  {
   "metadata": {
    "ExecuteTime": {
     "end_time": "2025-06-20T19:40:18.258041Z",
     "start_time": "2025-06-20T19:40:16.979834Z"
    }
   },
   "cell_type": "code",
   "source": [
    "ewma = []\n",
    "for end in ew.index:\n",
    "    start = end - pd.DateOffset(months=1)\n",
    "\n",
    "    if end > ew.index[-1]:\n",
    "        break\n",
    "\n",
    "    sample = ew.loc[start:end]\n",
    "\n",
    "    ma = sample.ewm(alpha=0.1).mean().iloc[-1].item()\n",
    "\n",
    "    ewma.append([end, ma])"
   ],
   "id": "fe82876ea9486811",
   "outputs": [],
   "execution_count": 19
  },
  {
   "metadata": {
    "ExecuteTime": {
     "end_time": "2025-06-20T19:40:18.311008Z",
     "start_time": "2025-06-20T19:40:18.299161Z"
    }
   },
   "cell_type": "code",
   "source": [
    "ewma = pd.DataFrame(ewma, columns=[\"date\", \"ewma\"])\n",
    "ewma[\"date\"] = pd.to_datetime(ewma[\"date\"])\n",
    "ewma = ewma.set_index(\"date\")\n",
    "ewma"
   ],
   "id": "d8ca4c0f7fa29023",
   "outputs": [
    {
     "data": {
      "text/plain": [
       "                ewma\n",
       "date                \n",
       "1980-01-31 -0.010653\n",
       "1980-02-01 -0.005375\n",
       "1980-02-04 -0.005370\n",
       "1980-02-05 -0.004472\n",
       "1980-02-06 -0.000272\n",
       "...              ...\n",
       "2024-12-24  0.019695\n",
       "2024-12-26  0.017447\n",
       "2024-12-27  0.013544\n",
       "2024-12-30  0.008303\n",
       "2024-12-31  0.004459\n",
       "\n",
       "[11324 rows x 1 columns]"
      ],
      "text/html": [
       "<div>\n",
       "<style scoped>\n",
       "    .dataframe tbody tr th:only-of-type {\n",
       "        vertical-align: middle;\n",
       "    }\n",
       "\n",
       "    .dataframe tbody tr th {\n",
       "        vertical-align: top;\n",
       "    }\n",
       "\n",
       "    .dataframe thead th {\n",
       "        text-align: right;\n",
       "    }\n",
       "</style>\n",
       "<table border=\"1\" class=\"dataframe\">\n",
       "  <thead>\n",
       "    <tr style=\"text-align: right;\">\n",
       "      <th></th>\n",
       "      <th>ewma</th>\n",
       "    </tr>\n",
       "    <tr>\n",
       "      <th>date</th>\n",
       "      <th></th>\n",
       "    </tr>\n",
       "  </thead>\n",
       "  <tbody>\n",
       "    <tr>\n",
       "      <th>1980-01-31</th>\n",
       "      <td>-0.010653</td>\n",
       "    </tr>\n",
       "    <tr>\n",
       "      <th>1980-02-01</th>\n",
       "      <td>-0.005375</td>\n",
       "    </tr>\n",
       "    <tr>\n",
       "      <th>1980-02-04</th>\n",
       "      <td>-0.005370</td>\n",
       "    </tr>\n",
       "    <tr>\n",
       "      <th>1980-02-05</th>\n",
       "      <td>-0.004472</td>\n",
       "    </tr>\n",
       "    <tr>\n",
       "      <th>1980-02-06</th>\n",
       "      <td>-0.000272</td>\n",
       "    </tr>\n",
       "    <tr>\n",
       "      <th>...</th>\n",
       "      <td>...</td>\n",
       "    </tr>\n",
       "    <tr>\n",
       "      <th>2024-12-24</th>\n",
       "      <td>0.019695</td>\n",
       "    </tr>\n",
       "    <tr>\n",
       "      <th>2024-12-26</th>\n",
       "      <td>0.017447</td>\n",
       "    </tr>\n",
       "    <tr>\n",
       "      <th>2024-12-27</th>\n",
       "      <td>0.013544</td>\n",
       "    </tr>\n",
       "    <tr>\n",
       "      <th>2024-12-30</th>\n",
       "      <td>0.008303</td>\n",
       "    </tr>\n",
       "    <tr>\n",
       "      <th>2024-12-31</th>\n",
       "      <td>0.004459</td>\n",
       "    </tr>\n",
       "  </tbody>\n",
       "</table>\n",
       "<p>11324 rows × 1 columns</p>\n",
       "</div>"
      ]
     },
     "execution_count": 20,
     "metadata": {},
     "output_type": "execute_result"
    }
   ],
   "execution_count": 20
  },
  {
   "cell_type": "markdown",
   "id": "37f2efb979d65b82",
   "metadata": {},
   "source": "### 4. Ledoit-Wolf Shrinkage Intensity."
  },
  {
   "cell_type": "code",
   "id": "3da2b1a1e669381",
   "metadata": {
    "ExecuteTime": {
     "end_time": "2025-06-20T19:40:32.199501Z",
     "start_time": "2025-06-20T19:40:18.352984Z"
    }
   },
   "source": [
    "from sklearn.covariance import LedoitWolf\n",
    "\n",
    "def get_intensity(s: pd.DataFrame):\n",
    "    s = s.copy().fillna(0)\n",
    "    lw = LedoitWolf()\n",
    "    lw.fit(s)\n",
    "    return lw.shrinkage_\n",
    "\n",
    "lw = rolling_feature(ret, lambda s: get_intensity(s), pm, \"lw_shrinkage\")\n",
    "lw"
   ],
   "outputs": [
    {
     "data": {
      "text/plain": [
       "            lw_shrinkage\n",
       "date                    \n",
       "1980-01-31  0.000000e+00\n",
       "1980-02-01 -1.102724e-16\n",
       "1980-02-04  2.858294e-01\n",
       "1980-02-05  3.661982e-01\n",
       "1980-02-06  4.687317e-01\n",
       "...                  ...\n",
       "2024-12-24  4.683230e-01\n",
       "2024-12-26  4.620570e-01\n",
       "2024-12-27  4.185235e-01\n",
       "2024-12-30  4.048315e-01\n",
       "2024-12-31  3.940538e-01\n",
       "\n",
       "[11324 rows x 1 columns]"
      ],
      "text/html": [
       "<div>\n",
       "<style scoped>\n",
       "    .dataframe tbody tr th:only-of-type {\n",
       "        vertical-align: middle;\n",
       "    }\n",
       "\n",
       "    .dataframe tbody tr th {\n",
       "        vertical-align: top;\n",
       "    }\n",
       "\n",
       "    .dataframe thead th {\n",
       "        text-align: right;\n",
       "    }\n",
       "</style>\n",
       "<table border=\"1\" class=\"dataframe\">\n",
       "  <thead>\n",
       "    <tr style=\"text-align: right;\">\n",
       "      <th></th>\n",
       "      <th>lw_shrinkage</th>\n",
       "    </tr>\n",
       "    <tr>\n",
       "      <th>date</th>\n",
       "      <th></th>\n",
       "    </tr>\n",
       "  </thead>\n",
       "  <tbody>\n",
       "    <tr>\n",
       "      <th>1980-01-31</th>\n",
       "      <td>0.000000e+00</td>\n",
       "    </tr>\n",
       "    <tr>\n",
       "      <th>1980-02-01</th>\n",
       "      <td>-1.102724e-16</td>\n",
       "    </tr>\n",
       "    <tr>\n",
       "      <th>1980-02-04</th>\n",
       "      <td>2.858294e-01</td>\n",
       "    </tr>\n",
       "    <tr>\n",
       "      <th>1980-02-05</th>\n",
       "      <td>3.661982e-01</td>\n",
       "    </tr>\n",
       "    <tr>\n",
       "      <th>1980-02-06</th>\n",
       "      <td>4.687317e-01</td>\n",
       "    </tr>\n",
       "    <tr>\n",
       "      <th>...</th>\n",
       "      <td>...</td>\n",
       "    </tr>\n",
       "    <tr>\n",
       "      <th>2024-12-24</th>\n",
       "      <td>4.683230e-01</td>\n",
       "    </tr>\n",
       "    <tr>\n",
       "      <th>2024-12-26</th>\n",
       "      <td>4.620570e-01</td>\n",
       "    </tr>\n",
       "    <tr>\n",
       "      <th>2024-12-27</th>\n",
       "      <td>4.185235e-01</td>\n",
       "    </tr>\n",
       "    <tr>\n",
       "      <th>2024-12-30</th>\n",
       "      <td>4.048315e-01</td>\n",
       "    </tr>\n",
       "    <tr>\n",
       "      <th>2024-12-31</th>\n",
       "      <td>3.940538e-01</td>\n",
       "    </tr>\n",
       "  </tbody>\n",
       "</table>\n",
       "<p>11324 rows × 1 columns</p>\n",
       "</div>"
      ]
     },
     "execution_count": 21,
     "metadata": {},
     "output_type": "execute_result"
    }
   ],
   "execution_count": 21
  },
  {
   "cell_type": "markdown",
   "id": "de73e3c69368473",
   "metadata": {},
   "source": "### 5. Momentum"
  },
  {
   "metadata": {
    "ExecuteTime": {
     "end_time": "2025-06-20T19:40:39.200551Z",
     "start_time": "2025-06-20T19:40:32.257009Z"
    }
   },
   "cell_type": "code",
   "source": [
    "momentum = rolling_feature(ret, lambda s: np.nanmean(np.where(s, s > 0, 1), axis=0).mean(), pm, \"momentum_feature\")\n",
    "momentum"
   ],
   "id": "a1b9ad918c52beb1",
   "outputs": [
    {
     "data": {
      "text/plain": [
       "            momentum_feature\n",
       "date                        \n",
       "1980-01-31          0.260000\n",
       "1980-02-01          0.470000\n",
       "1980-02-04          0.426667\n",
       "1980-02-05          0.480000\n",
       "1980-02-06          0.508000\n",
       "...                      ...\n",
       "2024-12-24          0.518095\n",
       "2024-12-26          0.509524\n",
       "2024-12-27          0.476190\n",
       "2024-12-30          0.447000\n",
       "2024-12-31          0.451429\n",
       "\n",
       "[11324 rows x 1 columns]"
      ],
      "text/html": [
       "<div>\n",
       "<style scoped>\n",
       "    .dataframe tbody tr th:only-of-type {\n",
       "        vertical-align: middle;\n",
       "    }\n",
       "\n",
       "    .dataframe tbody tr th {\n",
       "        vertical-align: top;\n",
       "    }\n",
       "\n",
       "    .dataframe thead th {\n",
       "        text-align: right;\n",
       "    }\n",
       "</style>\n",
       "<table border=\"1\" class=\"dataframe\">\n",
       "  <thead>\n",
       "    <tr style=\"text-align: right;\">\n",
       "      <th></th>\n",
       "      <th>momentum_feature</th>\n",
       "    </tr>\n",
       "    <tr>\n",
       "      <th>date</th>\n",
       "      <th></th>\n",
       "    </tr>\n",
       "  </thead>\n",
       "  <tbody>\n",
       "    <tr>\n",
       "      <th>1980-01-31</th>\n",
       "      <td>0.260000</td>\n",
       "    </tr>\n",
       "    <tr>\n",
       "      <th>1980-02-01</th>\n",
       "      <td>0.470000</td>\n",
       "    </tr>\n",
       "    <tr>\n",
       "      <th>1980-02-04</th>\n",
       "      <td>0.426667</td>\n",
       "    </tr>\n",
       "    <tr>\n",
       "      <th>1980-02-05</th>\n",
       "      <td>0.480000</td>\n",
       "    </tr>\n",
       "    <tr>\n",
       "      <th>1980-02-06</th>\n",
       "      <td>0.508000</td>\n",
       "    </tr>\n",
       "    <tr>\n",
       "      <th>...</th>\n",
       "      <td>...</td>\n",
       "    </tr>\n",
       "    <tr>\n",
       "      <th>2024-12-24</th>\n",
       "      <td>0.518095</td>\n",
       "    </tr>\n",
       "    <tr>\n",
       "      <th>2024-12-26</th>\n",
       "      <td>0.509524</td>\n",
       "    </tr>\n",
       "    <tr>\n",
       "      <th>2024-12-27</th>\n",
       "      <td>0.476190</td>\n",
       "    </tr>\n",
       "    <tr>\n",
       "      <th>2024-12-30</th>\n",
       "      <td>0.447000</td>\n",
       "    </tr>\n",
       "    <tr>\n",
       "      <th>2024-12-31</th>\n",
       "      <td>0.451429</td>\n",
       "    </tr>\n",
       "  </tbody>\n",
       "</table>\n",
       "<p>11324 rows × 1 columns</p>\n",
       "</div>"
      ]
     },
     "execution_count": 22,
     "metadata": {},
     "output_type": "execute_result"
    }
   ],
   "execution_count": 22
  },
  {
   "cell_type": "markdown",
   "id": "cbdff7d7a753a8e7",
   "metadata": {},
   "source": "### 6. Trace."
  },
  {
   "metadata": {
    "ExecuteTime": {
     "end_time": "2025-06-20T19:40:46.653528Z",
     "start_time": "2025-06-20T19:40:39.335895Z"
    }
   },
   "cell_type": "code",
   "source": [
    "trace = rolling_feature(ret, lambda s: np.trace(s.fillna(0).cov()), pm, \"trace\")\n",
    "trace"
   ],
   "id": "c64eb669284541ea",
   "outputs": [
    {
     "data": {
      "text/plain": [
       "               trace\n",
       "date                \n",
       "1980-01-31       NaN\n",
       "1980-02-01  0.022397\n",
       "1980-02-04  0.017359\n",
       "1980-02-05  0.014489\n",
       "1980-02-06  0.020418\n",
       "...              ...\n",
       "2024-12-24  0.017803\n",
       "2024-12-26  0.017242\n",
       "2024-12-27  0.017252\n",
       "2024-12-30  0.017874\n",
       "2024-12-31  0.017530\n",
       "\n",
       "[11324 rows x 1 columns]"
      ],
      "text/html": [
       "<div>\n",
       "<style scoped>\n",
       "    .dataframe tbody tr th:only-of-type {\n",
       "        vertical-align: middle;\n",
       "    }\n",
       "\n",
       "    .dataframe tbody tr th {\n",
       "        vertical-align: top;\n",
       "    }\n",
       "\n",
       "    .dataframe thead th {\n",
       "        text-align: right;\n",
       "    }\n",
       "</style>\n",
       "<table border=\"1\" class=\"dataframe\">\n",
       "  <thead>\n",
       "    <tr style=\"text-align: right;\">\n",
       "      <th></th>\n",
       "      <th>trace</th>\n",
       "    </tr>\n",
       "    <tr>\n",
       "      <th>date</th>\n",
       "      <th></th>\n",
       "    </tr>\n",
       "  </thead>\n",
       "  <tbody>\n",
       "    <tr>\n",
       "      <th>1980-01-31</th>\n",
       "      <td>NaN</td>\n",
       "    </tr>\n",
       "    <tr>\n",
       "      <th>1980-02-01</th>\n",
       "      <td>0.022397</td>\n",
       "    </tr>\n",
       "    <tr>\n",
       "      <th>1980-02-04</th>\n",
       "      <td>0.017359</td>\n",
       "    </tr>\n",
       "    <tr>\n",
       "      <th>1980-02-05</th>\n",
       "      <td>0.014489</td>\n",
       "    </tr>\n",
       "    <tr>\n",
       "      <th>1980-02-06</th>\n",
       "      <td>0.020418</td>\n",
       "    </tr>\n",
       "    <tr>\n",
       "      <th>...</th>\n",
       "      <td>...</td>\n",
       "    </tr>\n",
       "    <tr>\n",
       "      <th>2024-12-24</th>\n",
       "      <td>0.017803</td>\n",
       "    </tr>\n",
       "    <tr>\n",
       "      <th>2024-12-26</th>\n",
       "      <td>0.017242</td>\n",
       "    </tr>\n",
       "    <tr>\n",
       "      <th>2024-12-27</th>\n",
       "      <td>0.017252</td>\n",
       "    </tr>\n",
       "    <tr>\n",
       "      <th>2024-12-30</th>\n",
       "      <td>0.017874</td>\n",
       "    </tr>\n",
       "    <tr>\n",
       "      <th>2024-12-31</th>\n",
       "      <td>0.017530</td>\n",
       "    </tr>\n",
       "  </tbody>\n",
       "</table>\n",
       "<p>11324 rows × 1 columns</p>\n",
       "</div>"
      ]
     },
     "execution_count": 23,
     "metadata": {},
     "output_type": "execute_result"
    }
   ],
   "execution_count": 23
  },
  {
   "metadata": {
    "ExecuteTime": {
     "end_time": "2025-06-20T19:40:46.797994Z",
     "start_time": "2025-06-20T19:40:46.791529Z"
    }
   },
   "cell_type": "code",
   "source": "trace[trace.isna().any(axis=1)]",
   "id": "652bae166cafc2db",
   "outputs": [
    {
     "data": {
      "text/plain": [
       "            trace\n",
       "date             \n",
       "1980-01-31    NaN"
      ],
      "text/html": [
       "<div>\n",
       "<style scoped>\n",
       "    .dataframe tbody tr th:only-of-type {\n",
       "        vertical-align: middle;\n",
       "    }\n",
       "\n",
       "    .dataframe tbody tr th {\n",
       "        vertical-align: top;\n",
       "    }\n",
       "\n",
       "    .dataframe thead th {\n",
       "        text-align: right;\n",
       "    }\n",
       "</style>\n",
       "<table border=\"1\" class=\"dataframe\">\n",
       "  <thead>\n",
       "    <tr style=\"text-align: right;\">\n",
       "      <th></th>\n",
       "      <th>trace</th>\n",
       "    </tr>\n",
       "    <tr>\n",
       "      <th>date</th>\n",
       "      <th></th>\n",
       "    </tr>\n",
       "  </thead>\n",
       "  <tbody>\n",
       "    <tr>\n",
       "      <th>1980-01-31</th>\n",
       "      <td>NaN</td>\n",
       "    </tr>\n",
       "  </tbody>\n",
       "</table>\n",
       "</div>"
      ]
     },
     "execution_count": 24,
     "metadata": {},
     "output_type": "execute_result"
    }
   ],
   "execution_count": 24
  },
  {
   "cell_type": "markdown",
   "id": "6352f15c93631ff3",
   "metadata": {},
   "source": "### 7. Universe Volatility."
  },
  {
   "cell_type": "code",
   "id": "6a30e91f9090cf56",
   "metadata": {
    "ExecuteTime": {
     "end_time": "2025-06-20T19:40:46.892056Z",
     "start_time": "2025-06-20T19:40:46.888056Z"
    }
   },
   "source": [
    "ew_vol = ew.rolling(window=252, min_periods=1).std().fillna(0)\n",
    "ew_vol"
   ],
   "outputs": [
    {
     "data": {
      "text/plain": [
       "                  ew\n",
       "date                \n",
       "1980-01-31  0.000000\n",
       "1980-02-01  0.007092\n",
       "1980-02-04  0.005017\n",
       "1980-02-05  0.004410\n",
       "1980-02-06  0.008691\n",
       "...              ...\n",
       "2024-12-24  0.024600\n",
       "2024-12-26  0.024623\n",
       "2024-12-27  0.024719\n",
       "2024-12-30  0.024883\n",
       "2024-12-31  0.025057\n",
       "\n",
       "[11324 rows x 1 columns]"
      ],
      "text/html": [
       "<div>\n",
       "<style scoped>\n",
       "    .dataframe tbody tr th:only-of-type {\n",
       "        vertical-align: middle;\n",
       "    }\n",
       "\n",
       "    .dataframe tbody tr th {\n",
       "        vertical-align: top;\n",
       "    }\n",
       "\n",
       "    .dataframe thead th {\n",
       "        text-align: right;\n",
       "    }\n",
       "</style>\n",
       "<table border=\"1\" class=\"dataframe\">\n",
       "  <thead>\n",
       "    <tr style=\"text-align: right;\">\n",
       "      <th></th>\n",
       "      <th>ew</th>\n",
       "    </tr>\n",
       "    <tr>\n",
       "      <th>date</th>\n",
       "      <th></th>\n",
       "    </tr>\n",
       "  </thead>\n",
       "  <tbody>\n",
       "    <tr>\n",
       "      <th>1980-01-31</th>\n",
       "      <td>0.000000</td>\n",
       "    </tr>\n",
       "    <tr>\n",
       "      <th>1980-02-01</th>\n",
       "      <td>0.007092</td>\n",
       "    </tr>\n",
       "    <tr>\n",
       "      <th>1980-02-04</th>\n",
       "      <td>0.005017</td>\n",
       "    </tr>\n",
       "    <tr>\n",
       "      <th>1980-02-05</th>\n",
       "      <td>0.004410</td>\n",
       "    </tr>\n",
       "    <tr>\n",
       "      <th>1980-02-06</th>\n",
       "      <td>0.008691</td>\n",
       "    </tr>\n",
       "    <tr>\n",
       "      <th>...</th>\n",
       "      <td>...</td>\n",
       "    </tr>\n",
       "    <tr>\n",
       "      <th>2024-12-24</th>\n",
       "      <td>0.024600</td>\n",
       "    </tr>\n",
       "    <tr>\n",
       "      <th>2024-12-26</th>\n",
       "      <td>0.024623</td>\n",
       "    </tr>\n",
       "    <tr>\n",
       "      <th>2024-12-27</th>\n",
       "      <td>0.024719</td>\n",
       "    </tr>\n",
       "    <tr>\n",
       "      <th>2024-12-30</th>\n",
       "      <td>0.024883</td>\n",
       "    </tr>\n",
       "    <tr>\n",
       "      <th>2024-12-31</th>\n",
       "      <td>0.025057</td>\n",
       "    </tr>\n",
       "  </tbody>\n",
       "</table>\n",
       "<p>11324 rows × 1 columns</p>\n",
       "</div>"
      ]
     },
     "execution_count": 25,
     "metadata": {},
     "output_type": "execute_result"
    }
   ],
   "execution_count": 25
  },
  {
   "cell_type": "markdown",
   "id": "97a9030f77d934b7",
   "metadata": {},
   "source": "### Append features."
  },
  {
   "cell_type": "code",
   "id": "f4e0a9f68ce2529d",
   "metadata": {
    "ExecuteTime": {
     "end_time": "2025-06-20T19:40:46.998810Z",
     "start_time": "2025-06-20T19:40:46.996062Z"
    }
   },
   "source": [
    "features = rolling_avg_corr.merge(avg_vol, how=\"inner\", left_index=True, right_index=True)\n",
    "features.shape"
   ],
   "outputs": [
    {
     "data": {
      "text/plain": [
       "(11324, 2)"
      ]
     },
     "execution_count": 26,
     "metadata": {},
     "output_type": "execute_result"
    }
   ],
   "execution_count": 26
  },
  {
   "cell_type": "code",
   "id": "d11af746876c1256",
   "metadata": {
    "ExecuteTime": {
     "end_time": "2025-06-20T19:40:47.067940Z",
     "start_time": "2025-06-20T19:40:47.064874Z"
    }
   },
   "source": [
    "features = features.merge(ewma, how=\"inner\", left_index=True, right_index=True)\n",
    "features.shape"
   ],
   "outputs": [
    {
     "data": {
      "text/plain": [
       "(11324, 3)"
      ]
     },
     "execution_count": 27,
     "metadata": {},
     "output_type": "execute_result"
    }
   ],
   "execution_count": 27
  },
  {
   "cell_type": "code",
   "id": "a047d6cc516a8a7c",
   "metadata": {
    "ExecuteTime": {
     "end_time": "2025-06-20T19:40:47.175493Z",
     "start_time": "2025-06-20T19:40:47.130762Z"
    }
   },
   "source": [
    "features = features.merge(lw, how=\"inner\", left_index=True, right_index=True)\n",
    "features.shape"
   ],
   "outputs": [
    {
     "data": {
      "text/plain": [
       "(11324, 4)"
      ]
     },
     "execution_count": 28,
     "metadata": {},
     "output_type": "execute_result"
    }
   ],
   "execution_count": 28
  },
  {
   "cell_type": "code",
   "id": "54ce8748c93baa0f",
   "metadata": {
    "ExecuteTime": {
     "end_time": "2025-06-20T19:40:47.243484Z",
     "start_time": "2025-06-20T19:40:47.238346Z"
    }
   },
   "source": [
    "features = features.merge(momentum, how=\"inner\", left_index=True, right_index=True)\n",
    "features.shape"
   ],
   "outputs": [
    {
     "data": {
      "text/plain": [
       "(11324, 5)"
      ]
     },
     "execution_count": 29,
     "metadata": {},
     "output_type": "execute_result"
    }
   ],
   "execution_count": 29
  },
  {
   "cell_type": "code",
   "id": "28ead313af7ecbf5",
   "metadata": {
    "ExecuteTime": {
     "end_time": "2025-06-20T19:40:47.296090Z",
     "start_time": "2025-06-20T19:40:47.288210Z"
    }
   },
   "source": [
    "features = features.merge(trace, how=\"inner\", left_index=True, right_index=True)\n",
    "features.shape"
   ],
   "outputs": [
    {
     "data": {
      "text/plain": [
       "(11324, 6)"
      ]
     },
     "execution_count": 30,
     "metadata": {},
     "output_type": "execute_result"
    }
   ],
   "execution_count": 30
  },
  {
   "cell_type": "code",
   "id": "2194ac5c1799d933",
   "metadata": {
    "ExecuteTime": {
     "end_time": "2025-06-20T19:40:47.354398Z",
     "start_time": "2025-06-20T19:40:47.349621Z"
    }
   },
   "source": [
    "features = features.merge(\n",
    "    ew_vol.rename(columns={\"ew\": \"universe_vol\"}), how=\"inner\", left_index=True, right_index=True\n",
    ")\n",
    "features.shape"
   ],
   "outputs": [
    {
     "data": {
      "text/plain": [
       "(11324, 7)"
      ]
     },
     "execution_count": 31,
     "metadata": {},
     "output_type": "execute_result"
    }
   ],
   "execution_count": 31
  },
  {
   "cell_type": "code",
   "id": "6876f2d2bdf7e578",
   "metadata": {
    "ExecuteTime": {
     "end_time": "2025-06-20T19:40:47.376779Z",
     "start_time": "2025-06-20T19:40:47.375460Z"
    }
   },
   "source": "# features.to_csv(\"init_features.csv\")",
   "outputs": [],
   "execution_count": 32
  },
  {
   "cell_type": "code",
   "id": "19cba7c11883e151",
   "metadata": {
    "ExecuteTime": {
     "end_time": "2025-06-20T19:40:47.404259Z",
     "start_time": "2025-06-20T19:40:47.402853Z"
    }
   },
   "source": [
    "# features = pd.read_csv(\"init_features.csv\")\n",
    "# features[\"date\"] = pd.to_datetime(features[\"date\"])\n",
    "# features = features.set_index(\"date\")"
   ],
   "outputs": [],
   "execution_count": 33
  },
  {
   "metadata": {
    "ExecuteTime": {
     "end_time": "2025-06-20T19:40:47.424439Z",
     "start_time": "2025-06-20T19:40:47.423163Z"
    }
   },
   "cell_type": "code",
   "source": "# features = features.drop(columns=[\"trace\"])",
   "id": "df104247d94f05ec",
   "outputs": [],
   "execution_count": 34
  },
  {
   "metadata": {
    "ExecuteTime": {
     "end_time": "2025-06-20T19:40:47.444350Z",
     "start_time": "2025-06-20T19:40:47.443105Z"
    }
   },
   "cell_type": "code",
   "source": [
    "# features = features.drop(columns=[\"trace\"])\n",
    "\n",
    "# features = features.merge(trace, how=\"inner\", left_index=True, right_index=True)\n",
    "# features.shape"
   ],
   "id": "dbcae38485321e56",
   "outputs": [],
   "execution_count": 35
  },
  {
   "cell_type": "code",
   "id": "9c13554e9cdeaa59",
   "metadata": {
    "ExecuteTime": {
     "end_time": "2025-06-20T19:42:26.507206Z",
     "start_time": "2025-06-20T19:42:26.495852Z"
    }
   },
   "source": [
    "targets = pd.read_csv(f\"targets_{TOP_N}.csv\")\n",
    "targets[\"start_date\"] = pd.to_datetime(targets[\"start_date\"])\n",
    "targets[\"end_date\"] = pd.to_datetime(targets[\"end_date\"])"
   ],
   "outputs": [],
   "execution_count": 52
  },
  {
   "cell_type": "code",
   "id": "decbbc1dd480614e",
   "metadata": {
    "ExecuteTime": {
     "end_time": "2025-06-20T19:42:27.394666Z",
     "start_time": "2025-06-20T19:42:27.389785Z"
    }
   },
   "source": [
    "data_df = targets.merge(features, how=\"right\", left_on=\"start_date\", right_index=True)\n",
    "data_df.shape"
   ],
   "outputs": [
    {
     "data": {
      "text/plain": [
       "(11324, 12)"
      ]
     },
     "execution_count": 53,
     "metadata": {},
     "output_type": "execute_result"
    }
   ],
   "execution_count": 53
  },
  {
   "cell_type": "code",
   "id": "eec26c1082cc3554",
   "metadata": {
    "ExecuteTime": {
     "end_time": "2025-06-20T19:42:29.251180Z",
     "start_time": "2025-06-20T19:42:29.245099Z"
    }
   },
   "source": [
    "data_df = data_df.rename(columns={\"start_date\": \"date\"})\n",
    "data_df = data_df.set_index(\"date\")\n",
    "data_df = data_df.drop(columns=[\"end_date\"])\n",
    "data_df"
   ],
   "outputs": [
    {
     "data": {
      "text/plain": [
       "            vol  naive_vol  shrinkage  avg_corr   avg_vol      ewma  \\\n",
       "date                                                                  \n",
       "1980-01-31  NaN        NaN        NaN       NaN       NaN -0.010653   \n",
       "1980-02-01  NaN        NaN        NaN  0.397551  0.017011 -0.005375   \n",
       "1980-02-04  NaN        NaN        NaN  0.285805  0.015355 -0.005370   \n",
       "1980-02-05  NaN        NaN        NaN  0.252465  0.014577 -0.004472   \n",
       "1980-02-06  NaN        NaN        NaN  0.220178  0.017591 -0.000272   \n",
       "...         ...        ...        ...       ...       ...       ...   \n",
       "2024-12-24  NaN        NaN        NaN  0.259081  0.016060  0.019695   \n",
       "2024-12-26  NaN        NaN        NaN  0.265835  0.015733  0.017447   \n",
       "2024-12-27  NaN        NaN        NaN  0.267151  0.015642  0.013544   \n",
       "2024-12-30  NaN        NaN        NaN  0.290094  0.015918  0.008303   \n",
       "2024-12-31  NaN        NaN        NaN  0.294976  0.015840  0.004459   \n",
       "\n",
       "            lw_shrinkage  momentum_feature     trace  universe_vol  \n",
       "date                                                                \n",
       "1980-01-31  0.000000e+00          0.260000       NaN      0.000000  \n",
       "1980-02-01 -1.102724e-16          0.470000  0.022397      0.007092  \n",
       "1980-02-04  2.858294e-01          0.426667  0.017359      0.005017  \n",
       "1980-02-05  3.661982e-01          0.480000  0.014489      0.004410  \n",
       "1980-02-06  4.687317e-01          0.508000  0.020418      0.008691  \n",
       "...                  ...               ...       ...           ...  \n",
       "2024-12-24  4.683230e-01          0.518095  0.017803      0.024600  \n",
       "2024-12-26  4.620570e-01          0.509524  0.017242      0.024623  \n",
       "2024-12-27  4.185235e-01          0.476190  0.017252      0.024719  \n",
       "2024-12-30  4.048315e-01          0.447000  0.017874      0.024883  \n",
       "2024-12-31  3.940538e-01          0.451429  0.017530      0.025057  \n",
       "\n",
       "[11324 rows x 10 columns]"
      ],
      "text/html": [
       "<div>\n",
       "<style scoped>\n",
       "    .dataframe tbody tr th:only-of-type {\n",
       "        vertical-align: middle;\n",
       "    }\n",
       "\n",
       "    .dataframe tbody tr th {\n",
       "        vertical-align: top;\n",
       "    }\n",
       "\n",
       "    .dataframe thead th {\n",
       "        text-align: right;\n",
       "    }\n",
       "</style>\n",
       "<table border=\"1\" class=\"dataframe\">\n",
       "  <thead>\n",
       "    <tr style=\"text-align: right;\">\n",
       "      <th></th>\n",
       "      <th>vol</th>\n",
       "      <th>naive_vol</th>\n",
       "      <th>shrinkage</th>\n",
       "      <th>avg_corr</th>\n",
       "      <th>avg_vol</th>\n",
       "      <th>ewma</th>\n",
       "      <th>lw_shrinkage</th>\n",
       "      <th>momentum_feature</th>\n",
       "      <th>trace</th>\n",
       "      <th>universe_vol</th>\n",
       "    </tr>\n",
       "    <tr>\n",
       "      <th>date</th>\n",
       "      <th></th>\n",
       "      <th></th>\n",
       "      <th></th>\n",
       "      <th></th>\n",
       "      <th></th>\n",
       "      <th></th>\n",
       "      <th></th>\n",
       "      <th></th>\n",
       "      <th></th>\n",
       "      <th></th>\n",
       "    </tr>\n",
       "  </thead>\n",
       "  <tbody>\n",
       "    <tr>\n",
       "      <th>1980-01-31</th>\n",
       "      <td>NaN</td>\n",
       "      <td>NaN</td>\n",
       "      <td>NaN</td>\n",
       "      <td>NaN</td>\n",
       "      <td>NaN</td>\n",
       "      <td>-0.010653</td>\n",
       "      <td>0.000000e+00</td>\n",
       "      <td>0.260000</td>\n",
       "      <td>NaN</td>\n",
       "      <td>0.000000</td>\n",
       "    </tr>\n",
       "    <tr>\n",
       "      <th>1980-02-01</th>\n",
       "      <td>NaN</td>\n",
       "      <td>NaN</td>\n",
       "      <td>NaN</td>\n",
       "      <td>0.397551</td>\n",
       "      <td>0.017011</td>\n",
       "      <td>-0.005375</td>\n",
       "      <td>-1.102724e-16</td>\n",
       "      <td>0.470000</td>\n",
       "      <td>0.022397</td>\n",
       "      <td>0.007092</td>\n",
       "    </tr>\n",
       "    <tr>\n",
       "      <th>1980-02-04</th>\n",
       "      <td>NaN</td>\n",
       "      <td>NaN</td>\n",
       "      <td>NaN</td>\n",
       "      <td>0.285805</td>\n",
       "      <td>0.015355</td>\n",
       "      <td>-0.005370</td>\n",
       "      <td>2.858294e-01</td>\n",
       "      <td>0.426667</td>\n",
       "      <td>0.017359</td>\n",
       "      <td>0.005017</td>\n",
       "    </tr>\n",
       "    <tr>\n",
       "      <th>1980-02-05</th>\n",
       "      <td>NaN</td>\n",
       "      <td>NaN</td>\n",
       "      <td>NaN</td>\n",
       "      <td>0.252465</td>\n",
       "      <td>0.014577</td>\n",
       "      <td>-0.004472</td>\n",
       "      <td>3.661982e-01</td>\n",
       "      <td>0.480000</td>\n",
       "      <td>0.014489</td>\n",
       "      <td>0.004410</td>\n",
       "    </tr>\n",
       "    <tr>\n",
       "      <th>1980-02-06</th>\n",
       "      <td>NaN</td>\n",
       "      <td>NaN</td>\n",
       "      <td>NaN</td>\n",
       "      <td>0.220178</td>\n",
       "      <td>0.017591</td>\n",
       "      <td>-0.000272</td>\n",
       "      <td>4.687317e-01</td>\n",
       "      <td>0.508000</td>\n",
       "      <td>0.020418</td>\n",
       "      <td>0.008691</td>\n",
       "    </tr>\n",
       "    <tr>\n",
       "      <th>...</th>\n",
       "      <td>...</td>\n",
       "      <td>...</td>\n",
       "      <td>...</td>\n",
       "      <td>...</td>\n",
       "      <td>...</td>\n",
       "      <td>...</td>\n",
       "      <td>...</td>\n",
       "      <td>...</td>\n",
       "      <td>...</td>\n",
       "      <td>...</td>\n",
       "    </tr>\n",
       "    <tr>\n",
       "      <th>2024-12-24</th>\n",
       "      <td>NaN</td>\n",
       "      <td>NaN</td>\n",
       "      <td>NaN</td>\n",
       "      <td>0.259081</td>\n",
       "      <td>0.016060</td>\n",
       "      <td>0.019695</td>\n",
       "      <td>4.683230e-01</td>\n",
       "      <td>0.518095</td>\n",
       "      <td>0.017803</td>\n",
       "      <td>0.024600</td>\n",
       "    </tr>\n",
       "    <tr>\n",
       "      <th>2024-12-26</th>\n",
       "      <td>NaN</td>\n",
       "      <td>NaN</td>\n",
       "      <td>NaN</td>\n",
       "      <td>0.265835</td>\n",
       "      <td>0.015733</td>\n",
       "      <td>0.017447</td>\n",
       "      <td>4.620570e-01</td>\n",
       "      <td>0.509524</td>\n",
       "      <td>0.017242</td>\n",
       "      <td>0.024623</td>\n",
       "    </tr>\n",
       "    <tr>\n",
       "      <th>2024-12-27</th>\n",
       "      <td>NaN</td>\n",
       "      <td>NaN</td>\n",
       "      <td>NaN</td>\n",
       "      <td>0.267151</td>\n",
       "      <td>0.015642</td>\n",
       "      <td>0.013544</td>\n",
       "      <td>4.185235e-01</td>\n",
       "      <td>0.476190</td>\n",
       "      <td>0.017252</td>\n",
       "      <td>0.024719</td>\n",
       "    </tr>\n",
       "    <tr>\n",
       "      <th>2024-12-30</th>\n",
       "      <td>NaN</td>\n",
       "      <td>NaN</td>\n",
       "      <td>NaN</td>\n",
       "      <td>0.290094</td>\n",
       "      <td>0.015918</td>\n",
       "      <td>0.008303</td>\n",
       "      <td>4.048315e-01</td>\n",
       "      <td>0.447000</td>\n",
       "      <td>0.017874</td>\n",
       "      <td>0.024883</td>\n",
       "    </tr>\n",
       "    <tr>\n",
       "      <th>2024-12-31</th>\n",
       "      <td>NaN</td>\n",
       "      <td>NaN</td>\n",
       "      <td>NaN</td>\n",
       "      <td>0.294976</td>\n",
       "      <td>0.015840</td>\n",
       "      <td>0.004459</td>\n",
       "      <td>3.940538e-01</td>\n",
       "      <td>0.451429</td>\n",
       "      <td>0.017530</td>\n",
       "      <td>0.025057</td>\n",
       "    </tr>\n",
       "  </tbody>\n",
       "</table>\n",
       "<p>11324 rows × 10 columns</p>\n",
       "</div>"
      ]
     },
     "execution_count": 54,
     "metadata": {},
     "output_type": "execute_result"
    }
   ],
   "execution_count": 54
  },
  {
   "cell_type": "code",
   "id": "c5673b12c3f1b3b5",
   "metadata": {
    "ExecuteTime": {
     "end_time": "2025-06-20T19:42:31.133422Z",
     "start_time": "2025-06-20T19:42:31.127645Z"
    }
   },
   "source": [
    "data_df = data_df.rename(columns={\"shrinkage\": \"target\"})\n",
    "data_df"
   ],
   "outputs": [
    {
     "data": {
      "text/plain": [
       "            vol  naive_vol  target  avg_corr   avg_vol      ewma  \\\n",
       "date                                                               \n",
       "1980-01-31  NaN        NaN     NaN       NaN       NaN -0.010653   \n",
       "1980-02-01  NaN        NaN     NaN  0.397551  0.017011 -0.005375   \n",
       "1980-02-04  NaN        NaN     NaN  0.285805  0.015355 -0.005370   \n",
       "1980-02-05  NaN        NaN     NaN  0.252465  0.014577 -0.004472   \n",
       "1980-02-06  NaN        NaN     NaN  0.220178  0.017591 -0.000272   \n",
       "...         ...        ...     ...       ...       ...       ...   \n",
       "2024-12-24  NaN        NaN     NaN  0.259081  0.016060  0.019695   \n",
       "2024-12-26  NaN        NaN     NaN  0.265835  0.015733  0.017447   \n",
       "2024-12-27  NaN        NaN     NaN  0.267151  0.015642  0.013544   \n",
       "2024-12-30  NaN        NaN     NaN  0.290094  0.015918  0.008303   \n",
       "2024-12-31  NaN        NaN     NaN  0.294976  0.015840  0.004459   \n",
       "\n",
       "            lw_shrinkage  momentum_feature     trace  universe_vol  \n",
       "date                                                                \n",
       "1980-01-31  0.000000e+00          0.260000       NaN      0.000000  \n",
       "1980-02-01 -1.102724e-16          0.470000  0.022397      0.007092  \n",
       "1980-02-04  2.858294e-01          0.426667  0.017359      0.005017  \n",
       "1980-02-05  3.661982e-01          0.480000  0.014489      0.004410  \n",
       "1980-02-06  4.687317e-01          0.508000  0.020418      0.008691  \n",
       "...                  ...               ...       ...           ...  \n",
       "2024-12-24  4.683230e-01          0.518095  0.017803      0.024600  \n",
       "2024-12-26  4.620570e-01          0.509524  0.017242      0.024623  \n",
       "2024-12-27  4.185235e-01          0.476190  0.017252      0.024719  \n",
       "2024-12-30  4.048315e-01          0.447000  0.017874      0.024883  \n",
       "2024-12-31  3.940538e-01          0.451429  0.017530      0.025057  \n",
       "\n",
       "[11324 rows x 10 columns]"
      ],
      "text/html": [
       "<div>\n",
       "<style scoped>\n",
       "    .dataframe tbody tr th:only-of-type {\n",
       "        vertical-align: middle;\n",
       "    }\n",
       "\n",
       "    .dataframe tbody tr th {\n",
       "        vertical-align: top;\n",
       "    }\n",
       "\n",
       "    .dataframe thead th {\n",
       "        text-align: right;\n",
       "    }\n",
       "</style>\n",
       "<table border=\"1\" class=\"dataframe\">\n",
       "  <thead>\n",
       "    <tr style=\"text-align: right;\">\n",
       "      <th></th>\n",
       "      <th>vol</th>\n",
       "      <th>naive_vol</th>\n",
       "      <th>target</th>\n",
       "      <th>avg_corr</th>\n",
       "      <th>avg_vol</th>\n",
       "      <th>ewma</th>\n",
       "      <th>lw_shrinkage</th>\n",
       "      <th>momentum_feature</th>\n",
       "      <th>trace</th>\n",
       "      <th>universe_vol</th>\n",
       "    </tr>\n",
       "    <tr>\n",
       "      <th>date</th>\n",
       "      <th></th>\n",
       "      <th></th>\n",
       "      <th></th>\n",
       "      <th></th>\n",
       "      <th></th>\n",
       "      <th></th>\n",
       "      <th></th>\n",
       "      <th></th>\n",
       "      <th></th>\n",
       "      <th></th>\n",
       "    </tr>\n",
       "  </thead>\n",
       "  <tbody>\n",
       "    <tr>\n",
       "      <th>1980-01-31</th>\n",
       "      <td>NaN</td>\n",
       "      <td>NaN</td>\n",
       "      <td>NaN</td>\n",
       "      <td>NaN</td>\n",
       "      <td>NaN</td>\n",
       "      <td>-0.010653</td>\n",
       "      <td>0.000000e+00</td>\n",
       "      <td>0.260000</td>\n",
       "      <td>NaN</td>\n",
       "      <td>0.000000</td>\n",
       "    </tr>\n",
       "    <tr>\n",
       "      <th>1980-02-01</th>\n",
       "      <td>NaN</td>\n",
       "      <td>NaN</td>\n",
       "      <td>NaN</td>\n",
       "      <td>0.397551</td>\n",
       "      <td>0.017011</td>\n",
       "      <td>-0.005375</td>\n",
       "      <td>-1.102724e-16</td>\n",
       "      <td>0.470000</td>\n",
       "      <td>0.022397</td>\n",
       "      <td>0.007092</td>\n",
       "    </tr>\n",
       "    <tr>\n",
       "      <th>1980-02-04</th>\n",
       "      <td>NaN</td>\n",
       "      <td>NaN</td>\n",
       "      <td>NaN</td>\n",
       "      <td>0.285805</td>\n",
       "      <td>0.015355</td>\n",
       "      <td>-0.005370</td>\n",
       "      <td>2.858294e-01</td>\n",
       "      <td>0.426667</td>\n",
       "      <td>0.017359</td>\n",
       "      <td>0.005017</td>\n",
       "    </tr>\n",
       "    <tr>\n",
       "      <th>1980-02-05</th>\n",
       "      <td>NaN</td>\n",
       "      <td>NaN</td>\n",
       "      <td>NaN</td>\n",
       "      <td>0.252465</td>\n",
       "      <td>0.014577</td>\n",
       "      <td>-0.004472</td>\n",
       "      <td>3.661982e-01</td>\n",
       "      <td>0.480000</td>\n",
       "      <td>0.014489</td>\n",
       "      <td>0.004410</td>\n",
       "    </tr>\n",
       "    <tr>\n",
       "      <th>1980-02-06</th>\n",
       "      <td>NaN</td>\n",
       "      <td>NaN</td>\n",
       "      <td>NaN</td>\n",
       "      <td>0.220178</td>\n",
       "      <td>0.017591</td>\n",
       "      <td>-0.000272</td>\n",
       "      <td>4.687317e-01</td>\n",
       "      <td>0.508000</td>\n",
       "      <td>0.020418</td>\n",
       "      <td>0.008691</td>\n",
       "    </tr>\n",
       "    <tr>\n",
       "      <th>...</th>\n",
       "      <td>...</td>\n",
       "      <td>...</td>\n",
       "      <td>...</td>\n",
       "      <td>...</td>\n",
       "      <td>...</td>\n",
       "      <td>...</td>\n",
       "      <td>...</td>\n",
       "      <td>...</td>\n",
       "      <td>...</td>\n",
       "      <td>...</td>\n",
       "    </tr>\n",
       "    <tr>\n",
       "      <th>2024-12-24</th>\n",
       "      <td>NaN</td>\n",
       "      <td>NaN</td>\n",
       "      <td>NaN</td>\n",
       "      <td>0.259081</td>\n",
       "      <td>0.016060</td>\n",
       "      <td>0.019695</td>\n",
       "      <td>4.683230e-01</td>\n",
       "      <td>0.518095</td>\n",
       "      <td>0.017803</td>\n",
       "      <td>0.024600</td>\n",
       "    </tr>\n",
       "    <tr>\n",
       "      <th>2024-12-26</th>\n",
       "      <td>NaN</td>\n",
       "      <td>NaN</td>\n",
       "      <td>NaN</td>\n",
       "      <td>0.265835</td>\n",
       "      <td>0.015733</td>\n",
       "      <td>0.017447</td>\n",
       "      <td>4.620570e-01</td>\n",
       "      <td>0.509524</td>\n",
       "      <td>0.017242</td>\n",
       "      <td>0.024623</td>\n",
       "    </tr>\n",
       "    <tr>\n",
       "      <th>2024-12-27</th>\n",
       "      <td>NaN</td>\n",
       "      <td>NaN</td>\n",
       "      <td>NaN</td>\n",
       "      <td>0.267151</td>\n",
       "      <td>0.015642</td>\n",
       "      <td>0.013544</td>\n",
       "      <td>4.185235e-01</td>\n",
       "      <td>0.476190</td>\n",
       "      <td>0.017252</td>\n",
       "      <td>0.024719</td>\n",
       "    </tr>\n",
       "    <tr>\n",
       "      <th>2024-12-30</th>\n",
       "      <td>NaN</td>\n",
       "      <td>NaN</td>\n",
       "      <td>NaN</td>\n",
       "      <td>0.290094</td>\n",
       "      <td>0.015918</td>\n",
       "      <td>0.008303</td>\n",
       "      <td>4.048315e-01</td>\n",
       "      <td>0.447000</td>\n",
       "      <td>0.017874</td>\n",
       "      <td>0.024883</td>\n",
       "    </tr>\n",
       "    <tr>\n",
       "      <th>2024-12-31</th>\n",
       "      <td>NaN</td>\n",
       "      <td>NaN</td>\n",
       "      <td>NaN</td>\n",
       "      <td>0.294976</td>\n",
       "      <td>0.015840</td>\n",
       "      <td>0.004459</td>\n",
       "      <td>3.940538e-01</td>\n",
       "      <td>0.451429</td>\n",
       "      <td>0.017530</td>\n",
       "      <td>0.025057</td>\n",
       "    </tr>\n",
       "  </tbody>\n",
       "</table>\n",
       "<p>11324 rows × 10 columns</p>\n",
       "</div>"
      ]
     },
     "execution_count": 55,
     "metadata": {},
     "output_type": "execute_result"
    }
   ],
   "execution_count": 55
  },
  {
   "cell_type": "code",
   "id": "c01fe58eee035431",
   "metadata": {
    "ExecuteTime": {
     "end_time": "2025-06-20T19:42:32.441947Z",
     "start_time": "2025-06-20T19:42:32.419625Z"
    }
   },
   "source": [
    "dnk_features = data_df.loc[:, [\"target\"]].copy()\n",
    "dnk_features[\"target_rolling_mean\"] = (\n",
    "    dnk_features[\"target\"].rolling(window=252, min_periods=1).mean()\n",
    ")\n",
    "dnk_features[\"target_rolling_vol\"] = (\n",
    "    data_df[[\"vol\"]].rolling(window=252, min_periods=1).std().fillna(0)\n",
    ")\n",
    "dnk_features"
   ],
   "outputs": [
    {
     "data": {
      "text/plain": [
       "            target  target_rolling_mean  target_rolling_vol\n",
       "date                                                       \n",
       "1980-01-31     NaN                  NaN            0.000000\n",
       "1980-02-01     NaN                  NaN            0.000000\n",
       "1980-02-04     NaN                  NaN            0.000000\n",
       "1980-02-05     NaN                  NaN            0.000000\n",
       "1980-02-06     NaN                  NaN            0.000000\n",
       "...            ...                  ...                 ...\n",
       "2024-12-24     NaN             0.523562            0.000745\n",
       "2024-12-26     NaN             0.521987            0.000746\n",
       "2024-12-27     NaN             0.520368            0.000748\n",
       "2024-12-30     NaN             0.518686            0.000751\n",
       "2024-12-31     NaN             0.516907            0.000753\n",
       "\n",
       "[11324 rows x 3 columns]"
      ],
      "text/html": [
       "<div>\n",
       "<style scoped>\n",
       "    .dataframe tbody tr th:only-of-type {\n",
       "        vertical-align: middle;\n",
       "    }\n",
       "\n",
       "    .dataframe tbody tr th {\n",
       "        vertical-align: top;\n",
       "    }\n",
       "\n",
       "    .dataframe thead th {\n",
       "        text-align: right;\n",
       "    }\n",
       "</style>\n",
       "<table border=\"1\" class=\"dataframe\">\n",
       "  <thead>\n",
       "    <tr style=\"text-align: right;\">\n",
       "      <th></th>\n",
       "      <th>target</th>\n",
       "      <th>target_rolling_mean</th>\n",
       "      <th>target_rolling_vol</th>\n",
       "    </tr>\n",
       "    <tr>\n",
       "      <th>date</th>\n",
       "      <th></th>\n",
       "      <th></th>\n",
       "      <th></th>\n",
       "    </tr>\n",
       "  </thead>\n",
       "  <tbody>\n",
       "    <tr>\n",
       "      <th>1980-01-31</th>\n",
       "      <td>NaN</td>\n",
       "      <td>NaN</td>\n",
       "      <td>0.000000</td>\n",
       "    </tr>\n",
       "    <tr>\n",
       "      <th>1980-02-01</th>\n",
       "      <td>NaN</td>\n",
       "      <td>NaN</td>\n",
       "      <td>0.000000</td>\n",
       "    </tr>\n",
       "    <tr>\n",
       "      <th>1980-02-04</th>\n",
       "      <td>NaN</td>\n",
       "      <td>NaN</td>\n",
       "      <td>0.000000</td>\n",
       "    </tr>\n",
       "    <tr>\n",
       "      <th>1980-02-05</th>\n",
       "      <td>NaN</td>\n",
       "      <td>NaN</td>\n",
       "      <td>0.000000</td>\n",
       "    </tr>\n",
       "    <tr>\n",
       "      <th>1980-02-06</th>\n",
       "      <td>NaN</td>\n",
       "      <td>NaN</td>\n",
       "      <td>0.000000</td>\n",
       "    </tr>\n",
       "    <tr>\n",
       "      <th>...</th>\n",
       "      <td>...</td>\n",
       "      <td>...</td>\n",
       "      <td>...</td>\n",
       "    </tr>\n",
       "    <tr>\n",
       "      <th>2024-12-24</th>\n",
       "      <td>NaN</td>\n",
       "      <td>0.523562</td>\n",
       "      <td>0.000745</td>\n",
       "    </tr>\n",
       "    <tr>\n",
       "      <th>2024-12-26</th>\n",
       "      <td>NaN</td>\n",
       "      <td>0.521987</td>\n",
       "      <td>0.000746</td>\n",
       "    </tr>\n",
       "    <tr>\n",
       "      <th>2024-12-27</th>\n",
       "      <td>NaN</td>\n",
       "      <td>0.520368</td>\n",
       "      <td>0.000748</td>\n",
       "    </tr>\n",
       "    <tr>\n",
       "      <th>2024-12-30</th>\n",
       "      <td>NaN</td>\n",
       "      <td>0.518686</td>\n",
       "      <td>0.000751</td>\n",
       "    </tr>\n",
       "    <tr>\n",
       "      <th>2024-12-31</th>\n",
       "      <td>NaN</td>\n",
       "      <td>0.516907</td>\n",
       "      <td>0.000753</td>\n",
       "    </tr>\n",
       "  </tbody>\n",
       "</table>\n",
       "<p>11324 rows × 3 columns</p>\n",
       "</div>"
      ]
     },
     "execution_count": 56,
     "metadata": {},
     "output_type": "execute_result"
    }
   ],
   "execution_count": 56
  },
  {
   "cell_type": "code",
   "id": "d07d2f9efdfa8c1a",
   "metadata": {
    "ExecuteTime": {
     "end_time": "2025-06-20T19:42:33.828366Z",
     "start_time": "2025-06-20T19:42:33.823688Z"
    }
   },
   "source": [
    "data_df = data_df.merge(dnk_features, how=\"inner\", left_index=True, right_index=True)\n",
    "data_df.shape"
   ],
   "outputs": [
    {
     "data": {
      "text/plain": [
       "(11324, 13)"
      ]
     },
     "execution_count": 57,
     "metadata": {},
     "output_type": "execute_result"
    }
   ],
   "execution_count": 57
  },
  {
   "metadata": {
    "ExecuteTime": {
     "end_time": "2025-06-20T19:42:35.704811Z",
     "start_time": "2025-06-20T19:42:35.701312Z"
    }
   },
   "cell_type": "code",
   "source": "data_df.columns",
   "id": "b0da3e6a936d0364",
   "outputs": [
    {
     "data": {
      "text/plain": [
       "Index(['vol', 'naive_vol', 'target_x', 'avg_corr', 'avg_vol', 'ewma',\n",
       "       'lw_shrinkage', 'momentum_feature', 'trace', 'universe_vol', 'target_y',\n",
       "       'target_rolling_mean', 'target_rolling_vol'],\n",
       "      dtype='object')"
      ]
     },
     "execution_count": 58,
     "metadata": {},
     "output_type": "execute_result"
    }
   ],
   "execution_count": 58
  },
  {
   "cell_type": "code",
   "id": "5e20aec8e60a1adb",
   "metadata": {
    "ExecuteTime": {
     "end_time": "2025-06-20T19:42:36.236686Z",
     "start_time": "2025-06-20T19:42:36.232967Z"
    }
   },
   "source": "data_df = data_df.rename(columns={\"target_x\": \"target\", \"target_y\": \"lagged_target\"})",
   "outputs": [],
   "execution_count": 59
  },
  {
   "cell_type": "code",
   "id": "3428e56ef24fecc7",
   "metadata": {
    "ExecuteTime": {
     "end_time": "2025-06-20T19:42:37.073308Z",
     "start_time": "2025-06-20T19:42:37.065454Z"
    }
   },
   "source": [
    "new_data = data.merge(data_df, left_index=True, right_index=True)\n",
    "new_data.shape"
   ],
   "outputs": [
    {
     "data": {
      "text/plain": [
       "(11324, 251)"
      ]
     },
     "execution_count": 60,
     "metadata": {},
     "output_type": "execute_result"
    }
   ],
   "execution_count": 60
  },
  {
   "cell_type": "code",
   "id": "4895b808e086f054",
   "metadata": {
    "ExecuteTime": {
     "end_time": "2025-06-20T19:42:38.001168Z",
     "start_time": "2025-06-20T19:42:37.975397Z"
    }
   },
   "source": "new_data.columns",
   "outputs": [
    {
     "data": {
      "text/plain": [
       "Index(['10078', '10104', '10107', '10145', '10147', '10161', '10401', '10604',\n",
       "       '10890', '11042',\n",
       "       ...\n",
       "       'avg_corr', 'avg_vol', 'ewma', 'lw_shrinkage', 'momentum_feature',\n",
       "       'trace', 'universe_vol', 'lagged_target', 'target_rolling_mean',\n",
       "       'target_rolling_vol'],\n",
       "      dtype='object', length=251)"
      ]
     },
     "execution_count": 61,
     "metadata": {},
     "output_type": "execute_result"
    }
   ],
   "execution_count": 61
  },
  {
   "metadata": {
    "ExecuteTime": {
     "end_time": "2025-06-20T19:42:49.166488Z",
     "start_time": "2025-06-20T19:42:49.164558Z"
    }
   },
   "cell_type": "code",
   "source": "new_data.index.is_unique",
   "id": "88702133540c0c60",
   "outputs": [
    {
     "data": {
      "text/plain": [
       "True"
      ]
     },
     "execution_count": 63,
     "metadata": {},
     "output_type": "execute_result"
    }
   ],
   "execution_count": 63
  },
  {
   "cell_type": "code",
   "id": "d2e5b71066f1cb23",
   "metadata": {
    "ExecuteTime": {
     "end_time": "2025-06-20T19:42:54.585381Z",
     "start_time": "2025-06-20T19:42:53.725010Z"
    }
   },
   "source": "new_data.to_csv(config.PATH_OUTPUT / config.DF_FILENAME)",
   "outputs": [],
   "execution_count": 64
  },
  {
   "cell_type": "code",
   "id": "58883dc2973f1c85",
   "metadata": {
    "ExecuteTime": {
     "end_time": "2025-06-20T19:40:48.996058Z",
     "start_time": "2025-06-20T19:40:48.994521Z"
    }
   },
   "source": [
    "# data = data.drop(columns=[\"trace\"])\n",
    "#\n",
    "# data = data.merge(trace, how=\"inner\", left_index=True, right_index=True)\n",
    "# data.shape"
   ],
   "outputs": [],
   "execution_count": 47
  },
  {
   "metadata": {
    "ExecuteTime": {
     "end_time": "2025-06-20T19:41:13.608752Z",
     "start_time": "2025-06-20T19:41:12.862052Z"
    }
   },
   "cell_type": "code",
   "source": "# data.to_csv(config.PATH_OUTPUT / config.DF_FILENAME)",
   "id": "f5989e9e14f794a9",
   "outputs": [],
   "execution_count": 50
  },
  {
   "metadata": {
    "ExecuteTime": {
     "end_time": "2025-06-20T19:40:49.046972Z",
     "start_time": "2025-06-20T19:40:49.045514Z"
    }
   },
   "cell_type": "code",
   "source": "# data.columns",
   "id": "aab7786c270a9473",
   "outputs": [],
   "execution_count": 49
  },
  {
   "metadata": {
    "ExecuteTime": {
     "end_time": "2025-06-20T19:40:49.074338Z",
     "start_time": "2025-06-20T19:40:49.073164Z"
    }
   },
   "cell_type": "code",
   "source": "",
   "id": "bb12013c8071f57e",
   "outputs": [],
   "execution_count": null
  }
 ],
 "metadata": {
  "kernelspec": {
   "display_name": "Python 3",
   "language": "python",
   "name": "python3"
  },
  "language_info": {
   "codemirror_mode": {
    "name": "ipython",
    "version": 2
   },
   "file_extension": ".py",
   "mimetype": "text/x-python",
   "name": "python",
   "nbconvert_exporter": "python",
   "pygments_lexer": "ipython2",
   "version": "2.7.6"
  }
 },
 "nbformat": 4,
 "nbformat_minor": 5
}
