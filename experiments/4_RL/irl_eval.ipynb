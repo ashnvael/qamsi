{
 "cells": [
  {
   "cell_type": "code",
   "id": "initial_id",
   "metadata": {
    "collapsed": true,
    "ExecuteTime": {
     "end_time": "2025-06-25T15:04:47.644425Z",
     "start_time": "2025-06-25T15:04:43.494478Z"
    }
   },
   "source": [
    "from pathlib import Path\n",
    "\n",
    "from qamsi.utils.data import read_csv\n",
    "from run import Dataset\n",
    "\n",
    "TOP_N = 50\n",
    "DATASET = Dataset.TOPN_US.value(topn=TOP_N)\n",
    "\n",
    "recent = read_csv(\".\", f\"irl_{TOP_N}.csv\")"
   ],
   "outputs": [],
   "execution_count": 1
  },
  {
   "metadata": {
    "ExecuteTime": {
     "end_time": "2025-06-25T14:04:43.049945Z",
     "start_time": "2025-06-25T14:04:43.047723Z"
    }
   },
   "cell_type": "code",
   "source": "recent[\"irl\"] = recent[\"irl\"].apply(lambda x: x.strip(\"[]\"))",
   "id": "432f25edb6788c23",
   "outputs": [],
   "execution_count": 2
  },
  {
   "metadata": {
    "ExecuteTime": {
     "end_time": "2025-06-25T14:04:43.091205Z",
     "start_time": "2025-06-25T14:04:43.089219Z"
    }
   },
   "cell_type": "code",
   "source": "recent[\"irl\"] = recent[\"irl\"].astype(float)",
   "id": "7c41df534fbba81d",
   "outputs": [],
   "execution_count": 3
  },
  {
   "metadata": {
    "ExecuteTime": {
     "end_time": "2025-06-25T15:04:47.875461Z",
     "start_time": "2025-06-25T15:04:47.719565Z"
    }
   },
   "cell_type": "code",
   "source": "data_df = read_csv(\"../../data/output\", DATASET.DF_FILENAME)",
   "id": "69dc51be4e245f40",
   "outputs": [],
   "execution_count": 2
  },
  {
   "metadata": {
    "ExecuteTime": {
     "end_time": "2025-06-25T14:04:44.080144Z",
     "start_time": "2025-06-25T14:04:44.077503Z"
    }
   },
   "cell_type": "code",
   "source": "data_df.shape",
   "id": "ff53be166843cb23",
   "outputs": [
    {
     "data": {
      "text/plain": [
       "(11324, 2485)"
      ]
     },
     "execution_count": 5,
     "metadata": {},
     "output_type": "execute_result"
    }
   ],
   "execution_count": 5
  },
  {
   "metadata": {
    "ExecuteTime": {
     "end_time": "2025-06-25T14:04:44.113364Z",
     "start_time": "2025-06-25T14:04:44.089915Z"
    }
   },
   "cell_type": "code",
   "source": [
    "data_df = data_df.merge(recent, how=\"left\", left_index=True, right_index=True)\n",
    "data_df.shape"
   ],
   "id": "8458524a285bbef1",
   "outputs": [
    {
     "data": {
      "text/plain": [
       "(11324, 2486)"
      ]
     },
     "execution_count": 6,
     "metadata": {},
     "output_type": "execute_result"
    }
   ],
   "execution_count": 6
  },
  {
   "metadata": {
    "ExecuteTime": {
     "end_time": "2025-06-25T14:04:44.128165Z",
     "start_time": "2025-06-25T14:04:44.125890Z"
    }
   },
   "cell_type": "code",
   "source": "data_df.columns",
   "id": "4db9dba436928e1c",
   "outputs": [
    {
     "data": {
      "text/plain": [
       "Index(['10006', '10078', '10095', '10104', '10107', '10108', '10119', '10137',\n",
       "       '10138', '10145',\n",
       "       ...\n",
       "       'target_rolling_mean', 'target_rolling_vol', 'low_risk', 'momentum',\n",
       "       'quality', 'size', 'value', 'spx', 'acc_rate', 'irl'],\n",
       "      dtype='object', length=2486)"
      ]
     },
     "execution_count": 7,
     "metadata": {},
     "output_type": "execute_result"
    }
   ],
   "execution_count": 7
  },
  {
   "metadata": {
    "ExecuteTime": {
     "end_time": "2025-06-25T14:04:44.140724Z",
     "start_time": "2025-06-25T14:04:44.139402Z"
    }
   },
   "cell_type": "code",
   "source": "# data_df = data_df.drop(columns=[\"irl_x\", \"irl_y\"])",
   "id": "930593159154485d",
   "outputs": [],
   "execution_count": 8
  },
  {
   "metadata": {
    "ExecuteTime": {
     "end_time": "2025-06-25T15:05:29.611664Z",
     "start_time": "2025-06-25T15:05:28.288738Z"
    }
   },
   "cell_type": "code",
   "source": "data_df.to_csv(Path(\"../../data/output\") / DATASET.DF_FILENAME)",
   "id": "32d31425a9a142d9",
   "outputs": [],
   "execution_count": 5
  },
  {
   "metadata": {
    "ExecuteTime": {
     "end_time": "2025-06-25T14:04:49.790760Z",
     "start_time": "2025-06-25T14:04:49.789625Z"
    }
   },
   "cell_type": "code",
   "source": "",
   "id": "8e2d38f7b39fc780",
   "outputs": [],
   "execution_count": null
  }
 ],
 "metadata": {
  "kernelspec": {
   "display_name": "Python 3",
   "language": "python",
   "name": "python3"
  },
  "language_info": {
   "codemirror_mode": {
    "name": "ipython",
    "version": 2
   },
   "file_extension": ".py",
   "mimetype": "text/x-python",
   "name": "python",
   "nbconvert_exporter": "python",
   "pygments_lexer": "ipython2",
   "version": "2.7.6"
  }
 },
 "nbformat": 4,
 "nbformat_minor": 5
}
