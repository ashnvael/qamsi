{
 "cells": [
  {
   "cell_type": "code",
   "id": "initial_id",
   "metadata": {
    "collapsed": true,
    "ExecuteTime": {
     "end_time": "2025-06-19T22:42:09.797649Z",
     "start_time": "2025-06-19T22:42:09.791806Z"
    }
   },
   "source": [
    "from pathlib import Path\n",
    "\n",
    "from qamsi.utils.data import read_csv\n",
    "from run import Dataset\n",
    "\n",
    "DATASET = Dataset.TOPN_US.value(topn=30)\n",
    "\n",
    "recent = read_csv(\".\", \"irl.csv\")"
   ],
   "outputs": [],
   "execution_count": 30
  },
  {
   "metadata": {
    "ExecuteTime": {
     "end_time": "2025-06-19T22:42:09.968648Z",
     "start_time": "2025-06-19T22:42:09.965296Z"
    }
   },
   "cell_type": "code",
   "source": "recent[\"irl\"] = recent[\"irl\"].apply(lambda x: x.strip(\"[]\"))",
   "id": "432f25edb6788c23",
   "outputs": [],
   "execution_count": 31
  },
  {
   "metadata": {
    "ExecuteTime": {
     "end_time": "2025-06-19T22:42:10.187506Z",
     "start_time": "2025-06-19T22:42:10.183419Z"
    }
   },
   "cell_type": "code",
   "source": "recent[\"irl\"] = recent[\"irl\"].astype(float)",
   "id": "7c41df534fbba81d",
   "outputs": [],
   "execution_count": 32
  },
  {
   "metadata": {
    "ExecuteTime": {
     "end_time": "2025-06-19T22:42:10.470027Z",
     "start_time": "2025-06-19T22:42:10.385290Z"
    }
   },
   "cell_type": "code",
   "source": "data_df = read_csv(\"../../data/output\", DATASET.DF_FILENAME)",
   "id": "69dc51be4e245f40",
   "outputs": [],
   "execution_count": 33
  },
  {
   "metadata": {
    "ExecuteTime": {
     "end_time": "2025-06-19T22:42:10.634527Z",
     "start_time": "2025-06-19T22:42:10.631862Z"
    }
   },
   "cell_type": "code",
   "source": "data_df.shape",
   "id": "ff53be166843cb23",
   "outputs": [
    {
     "data": {
      "text/plain": [
       "(11324, 152)"
      ]
     },
     "execution_count": 34,
     "metadata": {},
     "output_type": "execute_result"
    }
   ],
   "execution_count": 34
  },
  {
   "metadata": {
    "ExecuteTime": {
     "end_time": "2025-06-19T22:42:11.137157Z",
     "start_time": "2025-06-19T22:42:11.132063Z"
    }
   },
   "cell_type": "code",
   "source": [
    "data_df = data_df.merge(recent, how=\"left\", left_index=True, right_index=True)\n",
    "data_df.shape"
   ],
   "id": "8458524a285bbef1",
   "outputs": [
    {
     "data": {
      "text/plain": [
       "(11324, 153)"
      ]
     },
     "execution_count": 35,
     "metadata": {},
     "output_type": "execute_result"
    }
   ],
   "execution_count": 35
  },
  {
   "metadata": {
    "ExecuteTime": {
     "end_time": "2025-06-19T22:42:11.843922Z",
     "start_time": "2025-06-19T22:42:11.840421Z"
    }
   },
   "cell_type": "code",
   "source": "data_df.columns",
   "id": "4db9dba436928e1c",
   "outputs": [
    {
     "data": {
      "text/plain": [
       "Index(['10078', '10104', '10107', '10147', '10401', '10604', '11042', '11081',\n",
       "       '11308', '11471',\n",
       "       ...\n",
       "       'ewma', 'lw_shrinkage', 'momentum_feature', 'universe_vol',\n",
       "       'lagged_target', 'target_rolling_mean', 'target_rolling_vol', 'trace',\n",
       "       'cgp_ucb', 'irl'],\n",
       "      dtype='object', length=153)"
      ]
     },
     "execution_count": 36,
     "metadata": {},
     "output_type": "execute_result"
    }
   ],
   "execution_count": 36
  },
  {
   "metadata": {
    "ExecuteTime": {
     "end_time": "2025-06-19T22:42:14.266779Z",
     "start_time": "2025-06-19T22:42:13.800924Z"
    }
   },
   "cell_type": "code",
   "source": "data_df.to_csv(Path(\"../../data/output\") / DATASET.DF_FILENAME)",
   "id": "32d31425a9a142d9",
   "outputs": [],
   "execution_count": 37
  },
  {
   "metadata": {},
   "cell_type": "code",
   "outputs": [],
   "execution_count": null,
   "source": "",
   "id": "8e2d38f7b39fc780"
  }
 ],
 "metadata": {
  "kernelspec": {
   "display_name": "Python 3",
   "language": "python",
   "name": "python3"
  },
  "language_info": {
   "codemirror_mode": {
    "name": "ipython",
    "version": 2
   },
   "file_extension": ".py",
   "mimetype": "text/x-python",
   "name": "python",
   "nbconvert_exporter": "python",
   "pygments_lexer": "ipython2",
   "version": "2.7.6"
  }
 },
 "nbformat": 4,
 "nbformat_minor": 5
}
