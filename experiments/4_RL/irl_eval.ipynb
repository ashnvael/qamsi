{
 "cells": [
  {
   "cell_type": "code",
   "id": "initial_id",
   "metadata": {
    "collapsed": true,
    "ExecuteTime": {
     "end_time": "2025-06-17T05:14:32.944679Z",
     "start_time": "2025-06-17T05:14:32.754609Z"
    }
   },
   "source": [
    "import pandas as pd\n",
    "from qamsi.utils.data import read_csv\n",
    "\n",
    "recent = read_csv(\".\", \"irl_new.csv\")\n",
    "# for i in range(2, 3):\n",
    "#     ckpt = read_csv(\".\", f\"cgp_ucb_{i}.csv\")\n",
    "#     recent = pd.concat([recent, ckpt], axis=0)"
   ],
   "outputs": [],
   "execution_count": 1
  },
  {
   "metadata": {
    "ExecuteTime": {
     "end_time": "2025-06-17T05:14:33.005183Z",
     "start_time": "2025-06-17T05:14:33.000530Z"
    }
   },
   "cell_type": "code",
   "source": "recent",
   "id": "432f25edb6788c23",
   "outputs": [
    {
     "data": {
      "text/plain": [
       "             cgp_ucb\n",
       "date                \n",
       "1981-03-10  0.053022\n",
       "1981-03-11  0.593967\n",
       "1981-03-12  0.039361\n",
       "1981-03-13  0.804005\n",
       "1981-03-16  0.060737\n",
       "...              ...\n",
       "2023-11-10  0.282826\n",
       "2023-11-13  0.181057\n",
       "2023-11-14  0.373044\n",
       "2023-11-15  0.239807\n",
       "2023-11-16  0.256825\n",
       "\n",
       "[10764 rows x 1 columns]"
      ],
      "text/html": [
       "<div>\n",
       "<style scoped>\n",
       "    .dataframe tbody tr th:only-of-type {\n",
       "        vertical-align: middle;\n",
       "    }\n",
       "\n",
       "    .dataframe tbody tr th {\n",
       "        vertical-align: top;\n",
       "    }\n",
       "\n",
       "    .dataframe thead th {\n",
       "        text-align: right;\n",
       "    }\n",
       "</style>\n",
       "<table border=\"1\" class=\"dataframe\">\n",
       "  <thead>\n",
       "    <tr style=\"text-align: right;\">\n",
       "      <th></th>\n",
       "      <th>cgp_ucb</th>\n",
       "    </tr>\n",
       "    <tr>\n",
       "      <th>date</th>\n",
       "      <th></th>\n",
       "    </tr>\n",
       "  </thead>\n",
       "  <tbody>\n",
       "    <tr>\n",
       "      <th>1981-03-10</th>\n",
       "      <td>0.053022</td>\n",
       "    </tr>\n",
       "    <tr>\n",
       "      <th>1981-03-11</th>\n",
       "      <td>0.593967</td>\n",
       "    </tr>\n",
       "    <tr>\n",
       "      <th>1981-03-12</th>\n",
       "      <td>0.039361</td>\n",
       "    </tr>\n",
       "    <tr>\n",
       "      <th>1981-03-13</th>\n",
       "      <td>0.804005</td>\n",
       "    </tr>\n",
       "    <tr>\n",
       "      <th>1981-03-16</th>\n",
       "      <td>0.060737</td>\n",
       "    </tr>\n",
       "    <tr>\n",
       "      <th>...</th>\n",
       "      <td>...</td>\n",
       "    </tr>\n",
       "    <tr>\n",
       "      <th>2023-11-10</th>\n",
       "      <td>0.282826</td>\n",
       "    </tr>\n",
       "    <tr>\n",
       "      <th>2023-11-13</th>\n",
       "      <td>0.181057</td>\n",
       "    </tr>\n",
       "    <tr>\n",
       "      <th>2023-11-14</th>\n",
       "      <td>0.373044</td>\n",
       "    </tr>\n",
       "    <tr>\n",
       "      <th>2023-11-15</th>\n",
       "      <td>0.239807</td>\n",
       "    </tr>\n",
       "    <tr>\n",
       "      <th>2023-11-16</th>\n",
       "      <td>0.256825</td>\n",
       "    </tr>\n",
       "  </tbody>\n",
       "</table>\n",
       "<p>10764 rows × 1 columns</p>\n",
       "</div>"
      ]
     },
     "execution_count": 2,
     "metadata": {},
     "output_type": "execute_result"
    }
   ],
   "execution_count": 2
  },
  {
   "metadata": {
    "ExecuteTime": {
     "end_time": "2025-06-17T05:14:33.485007Z",
     "start_time": "2025-06-17T05:14:33.020465Z"
    }
   },
   "cell_type": "code",
   "source": "data_df = read_csv(\"../../data/output/\", \"dnk_spx_data.csv\")",
   "id": "69dc51be4e245f40",
   "outputs": [],
   "execution_count": 3
  },
  {
   "metadata": {
    "ExecuteTime": {
     "end_time": "2025-06-17T05:14:33.510272Z",
     "start_time": "2025-06-17T05:14:33.508185Z"
    }
   },
   "cell_type": "code",
   "source": "data_df.shape",
   "id": "ff53be166843cb23",
   "outputs": [
    {
     "data": {
      "text/plain": [
       "(10813, 1478)"
      ]
     },
     "execution_count": 4,
     "metadata": {},
     "output_type": "execute_result"
    }
   ],
   "execution_count": 4
  },
  {
   "metadata": {
    "ExecuteTime": {
     "end_time": "2025-06-17T05:14:33.543211Z",
     "start_time": "2025-06-17T05:14:33.530168Z"
    }
   },
   "cell_type": "code",
   "source": "data_df = data_df.drop(columns=[\"end_date\"])",
   "id": "d047aadf36f0176f",
   "outputs": [],
   "execution_count": 5
  },
  {
   "metadata": {
    "ExecuteTime": {
     "end_time": "2025-06-17T05:14:33.563481Z",
     "start_time": "2025-06-17T05:14:33.552031Z"
    }
   },
   "cell_type": "code",
   "source": [
    "data_df = data_df.merge(recent, how=\"left\", left_index=True, right_index=True)\n",
    "data_df.shape"
   ],
   "id": "8458524a285bbef1",
   "outputs": [
    {
     "data": {
      "text/plain": [
       "(10813, 1478)"
      ]
     },
     "execution_count": 6,
     "metadata": {},
     "output_type": "execute_result"
    }
   ],
   "execution_count": 6
  },
  {
   "metadata": {
    "ExecuteTime": {
     "end_time": "2025-06-17T05:14:44.882673Z",
     "start_time": "2025-06-17T05:14:44.880430Z"
    }
   },
   "cell_type": "code",
   "source": "data_df.columns",
   "id": "4db9dba436928e1c",
   "outputs": [
    {
     "data": {
      "text/plain": [
       "Index(['10006', '10057', '10078', '10104', '10107', '10108', '10137', '10138',\n",
       "       '10145', '10147',\n",
       "       ...\n",
       "       'stocks_vol', 'ewma', 'lw_intensity', 'momentum_feature', 'trace',\n",
       "       'universe_vol', 'lagged_target', 'target_rolling_mean',\n",
       "       'target_rolling_vol', 'cgp_ucb'],\n",
       "      dtype='object', length=1478)"
      ]
     },
     "execution_count": 8,
     "metadata": {},
     "output_type": "execute_result"
    }
   ],
   "execution_count": 8
  },
  {
   "metadata": {
    "ExecuteTime": {
     "end_time": "2025-06-17T05:14:59.722385Z",
     "start_time": "2025-06-17T05:14:59.684683Z"
    }
   },
   "cell_type": "code",
   "source": "# data_df = data_df.rename(columns={\"cgp_ucb\": \"irl\"})",
   "id": "6d646a18b50f1b8b",
   "outputs": [],
   "execution_count": 9
  },
  {
   "metadata": {
    "ExecuteTime": {
     "end_time": "2025-06-17T05:15:03.936850Z",
     "start_time": "2025-06-17T05:15:03.930806Z"
    }
   },
   "cell_type": "code",
   "source": [
    "opt = data_df[\"irl\"]\n",
    "opt[opt.notna()].loc[:\"2000-12-29\"]"
   ],
   "id": "42df61d007928867",
   "outputs": [
    {
     "data": {
      "text/plain": [
       "date\n",
       "1981-03-10    0.053022\n",
       "1981-03-11    0.593967\n",
       "1981-03-12    0.039361\n",
       "1981-03-13    0.804005\n",
       "1981-03-16    0.060737\n",
       "                ...   \n",
       "2000-12-21    0.042814\n",
       "2000-12-26    0.041602\n",
       "2000-12-27    0.039330\n",
       "2000-12-28    0.035206\n",
       "2000-12-29    0.033887\n",
       "Name: irl, Length: 4856, dtype: float64"
      ]
     },
     "execution_count": 10,
     "metadata": {},
     "output_type": "execute_result"
    }
   ],
   "execution_count": 10
  },
  {
   "metadata": {
    "ExecuteTime": {
     "end_time": "2025-06-17T05:15:05.103730Z",
     "start_time": "2025-06-17T05:15:05.100515Z"
    }
   },
   "cell_type": "code",
   "source": "data_df.columns",
   "id": "8d5eae7ef9328bee",
   "outputs": [
    {
     "data": {
      "text/plain": [
       "Index(['10006', '10057', '10078', '10104', '10107', '10108', '10137', '10138',\n",
       "       '10145', '10147',\n",
       "       ...\n",
       "       'stocks_vol', 'ewma', 'lw_intensity', 'momentum_feature', 'trace',\n",
       "       'universe_vol', 'lagged_target', 'target_rolling_mean',\n",
       "       'target_rolling_vol', 'irl'],\n",
       "      dtype='object', length=1478)"
      ]
     },
     "execution_count": 11,
     "metadata": {},
     "output_type": "execute_result"
    }
   ],
   "execution_count": 11
  },
  {
   "metadata": {
    "ExecuteTime": {
     "end_time": "2025-06-17T05:14:33.841034Z",
     "start_time": "2025-06-16T15:08:19.874292Z"
    }
   },
   "cell_type": "code",
   "source": "# data_df = data_df.drop(columns=\"cgp_ucb\")",
   "id": "2790e3952896edcf",
   "outputs": [],
   "execution_count": 28
  },
  {
   "metadata": {
    "ExecuteTime": {
     "end_time": "2025-06-17T05:15:14.156601Z",
     "start_time": "2025-06-17T05:15:11.103176Z"
    }
   },
   "cell_type": "code",
   "source": "data_df.to_csv(\"../../data/output/spx_data.csv\")",
   "id": "b10479b0dbe81675",
   "outputs": [],
   "execution_count": 12
  },
  {
   "metadata": {
    "ExecuteTime": {
     "end_time": "2025-06-17T05:14:33.841535Z",
     "start_time": "2025-06-16T15:08:19.895722Z"
    }
   },
   "cell_type": "code",
   "source": "",
   "id": "32d31425a9a142d9",
   "outputs": [],
   "execution_count": null
  }
 ],
 "metadata": {
  "kernelspec": {
   "display_name": "Python 3",
   "language": "python",
   "name": "python3"
  },
  "language_info": {
   "codemirror_mode": {
    "name": "ipython",
    "version": 2
   },
   "file_extension": ".py",
   "mimetype": "text/x-python",
   "name": "python",
   "nbconvert_exporter": "python",
   "pygments_lexer": "ipython2",
   "version": "2.7.6"
  }
 },
 "nbformat": 4,
 "nbformat_minor": 5
}
