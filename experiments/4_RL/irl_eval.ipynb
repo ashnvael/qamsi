{
 "cells": [
  {
   "cell_type": "code",
   "id": "initial_id",
   "metadata": {
    "collapsed": true,
    "ExecuteTime": {
     "end_time": "2025-06-21T08:17:22.507633Z",
     "start_time": "2025-06-21T08:17:22.501640Z"
    }
   },
   "source": [
    "from pathlib import Path\n",
    "\n",
    "from qamsi.utils.data import read_csv\n",
    "from run import Dataset\n",
    "\n",
    "TOP_N = 50\n",
    "DATASET = Dataset.TOPN_US.value(topn=TOP_N)\n",
    "\n",
    "recent = read_csv(\".\", f\"irl_{TOP_N}.csv\")"
   ],
   "outputs": [],
   "execution_count": 12
  },
  {
   "metadata": {
    "ExecuteTime": {
     "end_time": "2025-06-21T08:17:22.516772Z",
     "start_time": "2025-06-21T08:17:22.514610Z"
    }
   },
   "cell_type": "code",
   "source": "recent[\"irl\"] = recent[\"irl\"].apply(lambda x: x.strip(\"[]\"))",
   "id": "432f25edb6788c23",
   "outputs": [],
   "execution_count": 13
  },
  {
   "metadata": {
    "ExecuteTime": {
     "end_time": "2025-06-21T08:17:22.527506Z",
     "start_time": "2025-06-21T08:17:22.525706Z"
    }
   },
   "cell_type": "code",
   "source": "recent[\"irl\"] = recent[\"irl\"].astype(float)",
   "id": "7c41df534fbba81d",
   "outputs": [],
   "execution_count": 14
  },
  {
   "metadata": {
    "ExecuteTime": {
     "end_time": "2025-06-21T08:17:22.644688Z",
     "start_time": "2025-06-21T08:17:22.535714Z"
    }
   },
   "cell_type": "code",
   "source": "data_df = read_csv(\"../../data/output\", DATASET.DF_FILENAME)",
   "id": "69dc51be4e245f40",
   "outputs": [],
   "execution_count": 15
  },
  {
   "metadata": {
    "ExecuteTime": {
     "end_time": "2025-06-21T08:17:22.655311Z",
     "start_time": "2025-06-21T08:17:22.653527Z"
    }
   },
   "cell_type": "code",
   "source": "data_df.shape",
   "id": "ff53be166843cb23",
   "outputs": [
    {
     "data": {
      "text/plain": [
       "(11324, 251)"
      ]
     },
     "execution_count": 16,
     "metadata": {},
     "output_type": "execute_result"
    }
   ],
   "execution_count": 16
  },
  {
   "metadata": {
    "ExecuteTime": {
     "end_time": "2025-06-21T08:17:22.668712Z",
     "start_time": "2025-06-21T08:17:22.664357Z"
    }
   },
   "cell_type": "code",
   "source": [
    "data_df = data_df.merge(recent, how=\"left\", left_index=True, right_index=True)\n",
    "data_df.shape"
   ],
   "id": "8458524a285bbef1",
   "outputs": [
    {
     "data": {
      "text/plain": [
       "(11324, 252)"
      ]
     },
     "execution_count": 17,
     "metadata": {},
     "output_type": "execute_result"
    }
   ],
   "execution_count": 17
  },
  {
   "metadata": {
    "ExecuteTime": {
     "end_time": "2025-06-21T08:17:22.683713Z",
     "start_time": "2025-06-21T08:17:22.681497Z"
    }
   },
   "cell_type": "code",
   "source": "data_df.columns",
   "id": "4db9dba436928e1c",
   "outputs": [
    {
     "data": {
      "text/plain": [
       "Index(['10078', '10104', '10107', '10145', '10147', '10161', '10401', '10604',\n",
       "       '10890', '11042',\n",
       "       ...\n",
       "       'avg_vol', 'ewma', 'lw_shrinkage', 'momentum_feature', 'trace',\n",
       "       'universe_vol', 'lagged_target', 'target_rolling_mean',\n",
       "       'target_rolling_vol', 'irl'],\n",
       "      dtype='object', length=252)"
      ]
     },
     "execution_count": 18,
     "metadata": {},
     "output_type": "execute_result"
    }
   ],
   "execution_count": 18
  },
  {
   "metadata": {
    "ExecuteTime": {
     "end_time": "2025-06-21T08:17:22.720243Z",
     "start_time": "2025-06-21T08:17:22.718038Z"
    }
   },
   "cell_type": "code",
   "source": "# data_df = data_df.drop(columns=[\"irl_x\", \"irl_y\"])",
   "id": "930593159154485d",
   "outputs": [],
   "execution_count": 19
  },
  {
   "metadata": {
    "ExecuteTime": {
     "end_time": "2025-06-21T08:17:26.876999Z",
     "start_time": "2025-06-21T08:17:26.002479Z"
    }
   },
   "cell_type": "code",
   "source": "data_df.to_csv(Path(\"../../data/output\") / DATASET.DF_FILENAME)",
   "id": "32d31425a9a142d9",
   "outputs": [],
   "execution_count": 21
  },
  {
   "metadata": {
    "ExecuteTime": {
     "end_time": "2025-06-21T08:17:22.746372Z",
     "start_time": "2025-06-21T08:17:22.744317Z"
    }
   },
   "cell_type": "code",
   "source": "",
   "id": "8e2d38f7b39fc780",
   "outputs": [],
   "execution_count": null
  }
 ],
 "metadata": {
  "kernelspec": {
   "display_name": "Python 3",
   "language": "python",
   "name": "python3"
  },
  "language_info": {
   "codemirror_mode": {
    "name": "ipython",
    "version": 2
   },
   "file_extension": ".py",
   "mimetype": "text/x-python",
   "name": "python",
   "nbconvert_exporter": "python",
   "pygments_lexer": "ipython2",
   "version": "2.7.6"
  }
 },
 "nbformat": 4,
 "nbformat_minor": 5
}
