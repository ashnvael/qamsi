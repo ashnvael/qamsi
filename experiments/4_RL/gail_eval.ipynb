{
 "cells": [
  {
   "cell_type": "code",
   "id": "initial_id",
   "metadata": {
    "collapsed": true,
    "ExecuteTime": {
     "end_time": "2025-06-21T14:03:28.976097Z",
     "start_time": "2025-06-21T14:03:27.649769Z"
    }
   },
   "source": [
    "from pathlib import Path\n",
    "\n",
    "from qamsi.utils.data import read_csv\n",
    "from run import Dataset\n",
    "\n",
    "TOP_N = 30\n",
    "DATASET = Dataset.TOPN_US.value(topn=TOP_N)\n",
    "\n",
    "recent = read_csv(\".\", f\"gail_irl_{TOP_N}.csv\")"
   ],
   "outputs": [],
   "execution_count": 1
  },
  {
   "metadata": {
    "ExecuteTime": {
     "end_time": "2025-06-21T14:03:29.015210Z",
     "start_time": "2025-06-21T14:03:29.012839Z"
    }
   },
   "cell_type": "code",
   "source": "recent[\"irl_gail\"] = recent[\"irl_gail\"].apply(lambda x: x.strip(\"[]\"))",
   "id": "432f25edb6788c23",
   "outputs": [],
   "execution_count": 2
  },
  {
   "metadata": {
    "ExecuteTime": {
     "end_time": "2025-06-21T14:03:29.023063Z",
     "start_time": "2025-06-21T14:03:29.020940Z"
    }
   },
   "cell_type": "code",
   "source": "recent[\"irl_gail\"] = recent[\"irl_gail\"].astype(float)",
   "id": "7c41df534fbba81d",
   "outputs": [],
   "execution_count": 3
  },
  {
   "metadata": {
    "ExecuteTime": {
     "end_time": "2025-06-21T14:03:29.096592Z",
     "start_time": "2025-06-21T14:03:29.028074Z"
    }
   },
   "cell_type": "code",
   "source": "data_df = read_csv(\"../../data/output\", DATASET.DF_FILENAME)",
   "id": "69dc51be4e245f40",
   "outputs": [],
   "execution_count": 4
  },
  {
   "metadata": {
    "ExecuteTime": {
     "end_time": "2025-06-21T14:03:29.107100Z",
     "start_time": "2025-06-21T14:03:29.104216Z"
    }
   },
   "cell_type": "code",
   "source": "data_df.shape",
   "id": "ff53be166843cb23",
   "outputs": [
    {
     "data": {
      "text/plain": [
       "(11324, 153)"
      ]
     },
     "execution_count": 5,
     "metadata": {},
     "output_type": "execute_result"
    }
   ],
   "execution_count": 5
  },
  {
   "metadata": {
    "ExecuteTime": {
     "end_time": "2025-06-21T14:03:29.118576Z",
     "start_time": "2025-06-21T14:03:29.115499Z"
    }
   },
   "cell_type": "code",
   "source": [
    "data_df = data_df.merge(recent, how=\"left\", left_index=True, right_index=True)\n",
    "data_df.shape"
   ],
   "id": "8458524a285bbef1",
   "outputs": [
    {
     "data": {
      "text/plain": [
       "(11324, 154)"
      ]
     },
     "execution_count": 6,
     "metadata": {},
     "output_type": "execute_result"
    }
   ],
   "execution_count": 6
  },
  {
   "metadata": {
    "ExecuteTime": {
     "end_time": "2025-06-21T14:03:29.133487Z",
     "start_time": "2025-06-21T14:03:29.131280Z"
    }
   },
   "cell_type": "code",
   "source": "data_df.columns",
   "id": "4db9dba436928e1c",
   "outputs": [
    {
     "data": {
      "text/plain": [
       "Index(['10078', '10104', '10107', '10147', '10401', '10604', '11042', '11081',\n",
       "       '11308', '11471',\n",
       "       ...\n",
       "       'lw_shrinkage', 'momentum_feature', 'universe_vol', 'lagged_target',\n",
       "       'target_rolling_mean', 'target_rolling_vol', 'trace', 'cgp_ucb', 'irl',\n",
       "       'irl_gail'],\n",
       "      dtype='object', length=154)"
      ]
     },
     "execution_count": 7,
     "metadata": {},
     "output_type": "execute_result"
    }
   ],
   "execution_count": 7
  },
  {
   "metadata": {
    "ExecuteTime": {
     "end_time": "2025-06-21T14:03:29.584845Z",
     "start_time": "2025-06-21T14:03:29.142809Z"
    }
   },
   "cell_type": "code",
   "source": "data_df.to_csv(Path(\"../../data/output\") / DATASET.DF_FILENAME)",
   "id": "32d31425a9a142d9",
   "outputs": [],
   "execution_count": 8
  }
 ],
 "metadata": {
  "kernelspec": {
   "display_name": "Python 3",
   "language": "python",
   "name": "python3"
  },
  "language_info": {
   "codemirror_mode": {
    "name": "ipython",
    "version": 2
   },
   "file_extension": ".py",
   "mimetype": "text/x-python",
   "name": "python",
   "nbconvert_exporter": "python",
   "pygments_lexer": "ipython2",
   "version": "2.7.6"
  }
 },
 "nbformat": 4,
 "nbformat_minor": 5
}
