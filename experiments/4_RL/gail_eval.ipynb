{
 "cells": [
  {
   "cell_type": "code",
   "id": "initial_id",
   "metadata": {
    "collapsed": true,
    "ExecuteTime": {
     "end_time": "2025-06-25T19:24:52.029729Z",
     "start_time": "2025-06-25T19:24:49.960018Z"
    }
   },
   "source": [
    "from pathlib import Path\n",
    "\n",
    "from qamsi.utils.data import read_csv\n",
    "from run import Dataset\n",
    "\n",
    "TOP_N = 500\n",
    "DATASET = Dataset.TOPN_US.value(topn=TOP_N)\n",
    "\n",
    "recent = read_csv(\".\", f\"gail_irl_{TOP_N}.csv\")"
   ],
   "outputs": [],
   "execution_count": 1
  },
  {
   "metadata": {
    "ExecuteTime": {
     "end_time": "2025-06-25T19:24:52.045705Z",
     "start_time": "2025-06-25T19:24:52.042655Z"
    }
   },
   "cell_type": "code",
   "source": "recent[\"irl_gail\"] = recent[\"irl_gail\"].apply(lambda x: x.strip(\"[]\"))",
   "id": "432f25edb6788c23",
   "outputs": [],
   "execution_count": 2
  },
  {
   "metadata": {
    "ExecuteTime": {
     "end_time": "2025-06-25T19:24:52.095979Z",
     "start_time": "2025-06-25T19:24:52.093809Z"
    }
   },
   "cell_type": "code",
   "source": "recent[\"irl_gail\"] = recent[\"irl_gail\"].astype(float)",
   "id": "7c41df534fbba81d",
   "outputs": [],
   "execution_count": 3
  },
  {
   "metadata": {
    "ExecuteTime": {
     "end_time": "2025-06-25T19:24:53.199172Z",
     "start_time": "2025-06-25T19:24:52.153182Z"
    }
   },
   "cell_type": "code",
   "source": "data_df = read_csv(\"../../data/output\", DATASET.DF_FILENAME)",
   "id": "69dc51be4e245f40",
   "outputs": [],
   "execution_count": 4
  },
  {
   "metadata": {
    "ExecuteTime": {
     "end_time": "2025-06-25T19:24:53.210781Z",
     "start_time": "2025-06-25T19:24:53.207927Z"
    }
   },
   "cell_type": "code",
   "source": "data_df.shape",
   "id": "ff53be166843cb23",
   "outputs": [
    {
     "data": {
      "text/plain": [
       "(11324, 2486)"
      ]
     },
     "execution_count": 5,
     "metadata": {},
     "output_type": "execute_result"
    }
   ],
   "execution_count": 5
  },
  {
   "metadata": {
    "ExecuteTime": {
     "end_time": "2025-06-25T19:24:53.269872Z",
     "start_time": "2025-06-25T19:24:53.240519Z"
    }
   },
   "cell_type": "code",
   "source": [
    "data_df = data_df.merge(recent, how=\"left\", left_index=True, right_index=True)\n",
    "data_df.shape"
   ],
   "id": "8458524a285bbef1",
   "outputs": [
    {
     "data": {
      "text/plain": [
       "(11324, 2487)"
      ]
     },
     "execution_count": 6,
     "metadata": {},
     "output_type": "execute_result"
    }
   ],
   "execution_count": 6
  },
  {
   "metadata": {
    "ExecuteTime": {
     "end_time": "2025-06-25T19:24:53.284753Z",
     "start_time": "2025-06-25T19:24:53.282384Z"
    }
   },
   "cell_type": "code",
   "source": "data_df.columns",
   "id": "4db9dba436928e1c",
   "outputs": [
    {
     "data": {
      "text/plain": [
       "Index(['10006', '10078', '10095', '10104', '10107', '10108', '10119', '10137',\n",
       "       '10138', '10145',\n",
       "       ...\n",
       "       'target_rolling_vol', 'low_risk', 'momentum', 'quality', 'size',\n",
       "       'value', 'spx', 'acc_rate', 'irl', 'irl_gail'],\n",
       "      dtype='object', length=2487)"
      ]
     },
     "execution_count": 7,
     "metadata": {},
     "output_type": "execute_result"
    }
   ],
   "execution_count": 7
  },
  {
   "metadata": {
    "ExecuteTime": {
     "end_time": "2025-06-25T19:24:59.117803Z",
     "start_time": "2025-06-25T19:24:53.299663Z"
    }
   },
   "cell_type": "code",
   "source": "data_df.to_csv(Path(\"../../data/output\") / DATASET.DF_FILENAME)",
   "id": "32d31425a9a142d9",
   "outputs": [],
   "execution_count": 8
  }
 ],
 "metadata": {
  "kernelspec": {
   "display_name": "Python 3",
   "language": "python",
   "name": "python3"
  },
  "language_info": {
   "codemirror_mode": {
    "name": "ipython",
    "version": 2
   },
   "file_extension": ".py",
   "mimetype": "text/x-python",
   "name": "python",
   "nbconvert_exporter": "python",
   "pygments_lexer": "ipython2",
   "version": "2.7.6"
  }
 },
 "nbformat": 4,
 "nbformat_minor": 5
}
