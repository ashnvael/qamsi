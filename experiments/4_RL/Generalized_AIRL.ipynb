{
 "cells": [
  {
   "cell_type": "code",
   "execution_count": 2,
   "id": "44269006384bb931",
   "metadata": {
    "ExecuteTime": {
     "end_time": "2025-06-24T01:39:54.625044Z",
     "start_time": "2025-06-24T01:39:52.518978Z"
    }
   },
   "outputs": [],
   "source": [
    "from __future__ import annotations\n",
    "\n",
    "from typing import Callable\n",
    "\n",
    "from stable_baselines3.common.vec_env import DummyVecEnv\n",
    "from tqdm import tqdm\n",
    "\n",
    "import numpy as np\n",
    "import pandas as pd\n",
    "from sklearn.preprocessing import StandardScaler\n",
    "import matplotlib.pyplot as plt\n",
    "from IPython.display import clear_output\n",
    "\n",
    "import gym\n",
    "from gym import spaces\n",
    "\n",
    "from stable_baselines3 import SAC\n",
    "\n",
    "from imitation.policies.base import NonTrainablePolicy\n",
    "from imitation.algorithms.adversarial.airl import AIRL\n",
    "from imitation.data import rollout\n",
    "from imitation.data.wrappers import RolloutInfoWrapper\n",
    "from imitation.rewards.reward_nets import BasicShapedRewardNet\n",
    "from imitation.util.networks import RunningNorm\n",
    "\n",
    "from qamsi.config.trading_config import TradingConfig\n",
    "from qamsi.runner import Runner\n",
    "from qamsi.strategies.estimated.min_var import MinVariance\n",
    "from qamsi.cov_estimators.cov_estimators import CovEstimators\n",
    "from run import Dataset, initialize"
   ]
  },
  {
   "cell_type": "code",
   "execution_count": 3,
   "id": "b331b4bd870f88b6",
   "metadata": {
    "ExecuteTime": {
     "end_time": "2025-06-24T01:39:54.837923Z",
     "start_time": "2025-06-24T01:39:54.631851Z"
    }
   },
   "outputs": [
    {
     "name": "stdout",
     "output_type": "stream",
     "text": [
      "Backtest on 2000-12-29 00:00:00 to 2024-07-31 00:00:00\n",
      "Num Train Iterations: 283\n",
      "Num OOS Daily Points: 5932\n"
     ]
    }
   ],
   "source": [
    "REBAL_FREQ = \"ME\"\n",
    "DATASET = Dataset.TOPN_US\n",
    "TOP_N = 50\n",
    "\n",
    "TRADING_CONFIG = TradingConfig(\n",
    "    total_exposure=1,\n",
    "    max_exposure=None,\n",
    "    min_exposure=None,\n",
    "    trading_lag_days=1,\n",
    ")\n",
    "\n",
    "_, runner = initialize(\n",
    "    dataset=DATASET,\n",
    "    trading_config=TRADING_CONFIG,\n",
    "    topn=TOP_N,\n",
    "    rebal_freq=REBAL_FREQ,\n",
    ")"
   ]
  },
  {
   "cell_type": "code",
   "execution_count": 4,
   "id": "acabd889c2db653",
   "metadata": {
    "ExecuteTime": {
     "end_time": "2025-06-24T01:39:54.845254Z",
     "start_time": "2025-06-24T01:39:54.843664Z"
    }
   },
   "outputs": [],
   "source": [
    "def vol_to_reward(volatility: float | pd.Series) -> float | pd.Series:\n",
    "    return -volatility"
   ]
  },
  {
   "cell_type": "code",
   "execution_count": 5,
   "id": "e31fbaccd439157a",
   "metadata": {
    "ExecuteTime": {
     "end_time": "2025-06-24T01:39:54.854903Z",
     "start_time": "2025-06-24T01:39:54.849900Z"
    }
   },
   "outputs": [],
   "source": [
    "import gymnasium\n",
    "from gymnasium import spaces\n",
    "\n",
    "\n",
    "class BanditEnvironment(gymnasium.Env):\n",
    "    def __init__(\n",
    "        self,\n",
    "        experiment_runner: Runner,\n",
    "        start_date: pd.Timestamp,\n",
    "        train_end: pd.Timestamp,\n",
    "        min_reward: float,\n",
    "        max_reward: float,\n",
    "    ) -> None:\n",
    "        super().__init__()\n",
    "\n",
    "        self.min_reward = min_reward\n",
    "        self.max_reward = max_reward\n",
    "\n",
    "        self.experiment_runner = experiment_runner\n",
    "\n",
    "        scaler = StandardScaler()\n",
    "\n",
    "        self.features = self.experiment_runner.features.astype(np.float32)\n",
    "        scaler.fit(self.features.loc[self.features.index < train_end])\n",
    "        self.features = scaler.transform(self.features)\n",
    "        self.features = pd.DataFrame(\n",
    "            self.features,\n",
    "            columns=self.experiment_runner.features.columns,\n",
    "            index=self.experiment_runner.features.index,\n",
    "            dtype=np.float32,\n",
    "        )\n",
    "        self.features[\"n_stocks\"] = TOP_N\n",
    "        self.features = self.features.astype(np.float32)\n",
    "\n",
    "        self.action_space = spaces.Box(low=0, high=1, dtype=np.float32)\n",
    "\n",
    "        self.observation_space = spaces.Box(\n",
    "            low=-np.inf,\n",
    "            high=np.inf,\n",
    "            shape=(1, self.features.shape[1]),\n",
    "            dtype=np.float32,\n",
    "        )\n",
    "\n",
    "        self.start_dates = self.experiment_runner.returns.simple_returns.loc[\n",
    "            start_date:\n",
    "        ].index\n",
    "        self.end_dates = [\n",
    "            date + pd.tseries.offsets.BDay(n=21) for date in self.start_dates\n",
    "        ]\n",
    "\n",
    "        self.current_id = 0\n",
    "        self.current_start = self.start_dates[self.current_id]\n",
    "        self.current_end = self.end_dates[self.current_id]\n",
    "\n",
    "        self._action_hist = []\n",
    "\n",
    "    def __len__(self):\n",
    "        return len(self.start_dates)\n",
    "\n",
    "    def get_current_id(self):\n",
    "        return self.current_id\n",
    "\n",
    "    def get_current_date(self):\n",
    "        return self.current_start\n",
    "\n",
    "    def get_current_end_date(self):\n",
    "        return self.current_end\n",
    "\n",
    "    def reset(self, *args, **kwargs):\n",
    "        return self.get_context(), {}\n",
    "\n",
    "    def get_context(self):\n",
    "        return self.features.loc[self.current_start].fillna(0).to_numpy().reshape(1, -1)\n",
    "\n",
    "    def step(\n",
    "        self, action: np.array\n",
    "    ) -> tuple[np.ndarray, np.ndarray, np.ndarray, np.ndarray, dict]:\n",
    "        action = action[0]\n",
    "\n",
    "        self._action_hist.append([self.current_end, action])\n",
    "\n",
    "        estimator = CovEstimators.RISKFOLIO.value(\n",
    "            alpha=action,\n",
    "            estimator_type=\"shrunk\",\n",
    "        )\n",
    "\n",
    "        strategy = MinVariance(\n",
    "            cov_estimator=estimator,\n",
    "            trading_config=self.experiment_runner.trading_config,\n",
    "            window_size=365,\n",
    "        )\n",
    "\n",
    "        fitted_r = self.experiment_runner.run_one_step(\n",
    "            start_date=self.current_start,\n",
    "            end_date=self.current_end,\n",
    "            feature_processor=None,\n",
    "            strategy=strategy,\n",
    "        )\n",
    "\n",
    "        self.current_id += 1\n",
    "        self.current_start = self.start_dates[self.current_id]\n",
    "        self.current_end = self.end_dates[self.current_id]\n",
    "\n",
    "        obs = self.get_context()\n",
    "        vol = fitted_r.std().item()\n",
    "\n",
    "        reward = vol_to_reward(vol)\n",
    "        if self.min_reward is not None and self.max_reward is not None:\n",
    "            if reward < self.min_reward:\n",
    "                self.min_reward = reward\n",
    "            if reward > self.max_reward:\n",
    "                self.max_reward = reward\n",
    "            reward = (reward - self.min_reward) / (self.max_reward - self.min_reward)\n",
    "\n",
    "        done = 1\n",
    "\n",
    "        return obs, np.array([reward]), np.array([done]), np.array([0.0]), {}\n",
    "\n",
    "    @property\n",
    "    def action_hist(self):\n",
    "        return pd.DataFrame(self._action_hist, columns=[\"date\", \"cgp_ucb\"]).set_index(\n",
    "            \"date\"\n",
    "        )\n",
    "\n",
    "    def render(self, mode: str = \"human\", close: bool = False):\n",
    "        self.action_hist.plot()"
   ]
  },
  {
   "cell_type": "code",
   "execution_count": 6,
   "id": "5545e14bc258b511",
   "metadata": {
    "ExecuteTime": {
     "end_time": "2025-06-24T01:39:54.863821Z",
     "start_time": "2025-06-24T01:39:54.859497Z"
    }
   },
   "outputs": [],
   "source": [
    "import gymnasium\n",
    "\n",
    "\n",
    "class OptimalEnvironment(gymnasium.Env):\n",
    "    def __init__(\n",
    "        self,\n",
    "        experiment_runner: Runner,\n",
    "        true_optimal: pd.DataFrame,\n",
    "        start_date: pd.Timestamp,\n",
    "        train_end: pd.Timestamp,\n",
    "    ) -> None:\n",
    "        super().__init__()\n",
    "\n",
    "        self.experiment_runner = experiment_runner\n",
    "        self.true_optimal = true_optimal\n",
    "\n",
    "        scaler = StandardScaler()\n",
    "\n",
    "        self.features = self.experiment_runner.features.astype(np.float32)\n",
    "        scaler.fit(self.features.loc[self.features.index < train_end])\n",
    "        self.features = scaler.transform(self.features)\n",
    "        self.features = pd.DataFrame(\n",
    "            self.features,\n",
    "            columns=self.experiment_runner.features.columns,\n",
    "            index=self.experiment_runner.features.index,\n",
    "            dtype=np.float32,\n",
    "        )\n",
    "        self.features = self.features.merge(\n",
    "            self.true_optimal[[\"n_stocks\"]].astype(np.float32),\n",
    "            left_index=True,\n",
    "            right_index=True,\n",
    "        )\n",
    "\n",
    "        self.unique_n_stocks = self.true_optimal[\"n_stocks\"].unique()\n",
    "        self.optimal_rewards = {}\n",
    "        for n_stocks in self.unique_n_stocks:\n",
    "            sample = self.true_optimal[self.true_optimal[\"n_stocks\"] == n_stocks][\"vol\"]\n",
    "            self.optimal_rewards[n_stocks] = vol_to_reward(sample).astype(np.float32)\n",
    "\n",
    "        self.action_space = spaces.Box(low=0, high=1, dtype=np.float32)\n",
    "\n",
    "        self.observation_space = spaces.Box(\n",
    "            low=-np.inf,\n",
    "            high=np.inf,\n",
    "            shape=(1, self.features.shape[1]),\n",
    "            dtype=np.float32,\n",
    "        )\n",
    "\n",
    "        self.start_dates = self.experiment_runner.returns.simple_returns.loc[\n",
    "            start_date:\n",
    "        ].index\n",
    "        self.end_dates = [\n",
    "            date + pd.tseries.offsets.BDay(n=21) for date in self.start_dates\n",
    "        ]\n",
    "\n",
    "        self.current_id = 0\n",
    "        self.current_start = self.start_dates[self.current_id]\n",
    "        self.current_end = self.end_dates[self.current_id]\n",
    "        self.current_n_stocks_id = 0\n",
    "        self.current_n_stocks = self.unique_n_stocks[0]\n",
    "\n",
    "        self._action_hist = []\n",
    "\n",
    "    def __len__(self):\n",
    "        return len(self.start_dates)\n",
    "\n",
    "    def get_current_id(self):\n",
    "        return self.current_id\n",
    "\n",
    "    def get_current_date(self):\n",
    "        return self.current_start\n",
    "\n",
    "    def get_current_end_date(self):\n",
    "        return self.current_end\n",
    "\n",
    "    def reset(self, *args, **kwargs):\n",
    "        return self.get_context(), {}\n",
    "\n",
    "    def get_context(self):\n",
    "        context = (\n",
    "            self.features[self.features[\"n_stocks\"] == self.current_n_stocks]\n",
    "            .loc[self.current_start]\n",
    "            .fillna(0)\n",
    "            .to_numpy()\n",
    "            .reshape(1, -1)\n",
    "        )\n",
    "        return context\n",
    "\n",
    "    def step(self, action: np.array) -> tuple[np.ndarray, float, float, float, dict]:\n",
    "        action = action[0]\n",
    "\n",
    "        self._action_hist.append([self.current_end, action])\n",
    "\n",
    "        obs = self.get_context()\n",
    "        reward = self.optimal_rewards[self.current_n_stocks][self.current_start].astype(\n",
    "            np.float32\n",
    "        )\n",
    "        done = 1\n",
    "\n",
    "        if self.current_n_stocks_id >= len(self.unique_n_stocks) - 1:\n",
    "            self.current_n_stocks_id = 0\n",
    "            self.current_id += 1\n",
    "            self.current_start = self.start_dates[self.current_id]\n",
    "            self.current_end = self.end_dates[self.current_id]\n",
    "        else:\n",
    "            self.current_n_stocks_id += 1\n",
    "            self.current_n_stocks = self.unique_n_stocks[self.current_n_stocks_id]\n",
    "\n",
    "        return obs, reward, done, 0.0, {}\n",
    "\n",
    "    @property\n",
    "    def action_hist(self):\n",
    "        return pd.DataFrame(self._action_hist, columns=[\"date\", \"cgp_ucb\"]).set_index(\n",
    "            \"date\"\n",
    "        )\n",
    "\n",
    "    def render(self, mode: str = \"human\", close: bool = False):\n",
    "        self.action_hist.plot()"
   ]
  },
  {
   "cell_type": "code",
   "execution_count": 7,
   "id": "5970d240f4b4759e",
   "metadata": {
    "ExecuteTime": {
     "end_time": "2025-06-24T01:39:54.871813Z",
     "start_time": "2025-06-24T01:39:54.868657Z"
    }
   },
   "outputs": [],
   "source": [
    "class ExpertPolicy(NonTrainablePolicy):\n",
    "    def __init__(self, env: gym.Env, optimal_policy: pd.Series) -> None:\n",
    "        super().__init__(\n",
    "            observation_space=env.observation_space, action_space=env.action_space\n",
    "        )\n",
    "        self.policy = optimal_policy.to_numpy()\n",
    "        self.current_id = 0\n",
    "\n",
    "    def _choose_action(\n",
    "        self,\n",
    "        obs: np.ndarray,\n",
    "    ) -> np.ndarray:\n",
    "        action = self.policy[self.current_id].round(1)\n",
    "        self.current_id += 1\n",
    "        return np.array([action])\n",
    "\n",
    "\n",
    "def plot_regret(\n",
    "    train_regrets: list[float],\n",
    "    val_regrets: list[float],\n",
    "):\n",
    "    clear_output()\n",
    "    n_cols = 2\n",
    "    fig, axs = plt.subplots(1, n_cols, figsize=(12, 4))\n",
    "\n",
    "    if n_cols == 1:\n",
    "        axs = [axs]\n",
    "\n",
    "    axs[0].plot(range(1, len(train_regrets) + 1), train_regrets, label=\"CGP-UCB\")\n",
    "    axs[0].plot(range(1, len(val_regrets) + 1), val_regrets, label=\"Optimal\")\n",
    "    axs[0].set_ylabel(\"Rewards\")\n",
    "\n",
    "    train_regrets = np.array(train_regrets)\n",
    "    val_regrets = np.array(val_regrets)\n",
    "\n",
    "    axs[1].plot(\n",
    "        range(1, len(train_regrets) + 1), val_regrets - train_regrets, label=\"CGP-UCB\"\n",
    "    )\n",
    "    axs[1].set_ylabel(\"Regret\")\n",
    "\n",
    "    for ax in axs:\n",
    "        ax.set_xlabel(\"epoch\")\n",
    "        ax.legend()\n",
    "\n",
    "    plt.show()\n",
    "\n",
    "\n",
    "# Function to initialize an environment instance\n",
    "def make_env(\n",
    "    experiment_runner: Runner,\n",
    "    start_date: pd.Timestamp,\n",
    "    train_end: pd.Timestamp,\n",
    "    min_reward: float,\n",
    "    max_reward: float,\n",
    ") -> Callable:\n",
    "    \"\"\"\n",
    "    Returns a callable that creates an instance of BanditEnvironment.\n",
    "\n",
    "    Args:\n",
    "        experiment_runner: The Runner instance required by the environment.\n",
    "        start_date: Start date of the environment.\n",
    "        train_end: Training end date.\n",
    "\n",
    "    Returns:\n",
    "        A callable function that creates an environment.\n",
    "    \"\"\"\n",
    "\n",
    "    def _init():\n",
    "        return BanditEnvironment(\n",
    "            experiment_runner, start_date, train_end, min_reward, max_reward\n",
    "        )\n",
    "\n",
    "    return _init\n",
    "\n",
    "\n",
    "# Function to initialize an environment instance\n",
    "def make_optimal_env(\n",
    "    experiment_runner: Runner,\n",
    "    true_optimal: pd.DataFrame,\n",
    "    start_date: pd.Timestamp,\n",
    "    train_end: pd.Timestamp,\n",
    ") -> Callable:\n",
    "    \"\"\"\n",
    "    Returns a callable that creates an instance of BanditEnvironment.\n",
    "\n",
    "    Args:\n",
    "        experiment_runner: The Runner instance required by the environment.\n",
    "        start_date: Start date of the environment.\n",
    "        train_end: Training end date.\n",
    "\n",
    "    Returns:\n",
    "        A callable function that creates an environment.\n",
    "    \"\"\"\n",
    "\n",
    "    def _init():\n",
    "        return RolloutInfoWrapper(\n",
    "            OptimalEnvironment(experiment_runner, true_optimal, start_date, train_end)\n",
    "        )\n",
    "\n",
    "    return _init"
   ]
  },
  {
   "cell_type": "code",
   "execution_count": 8,
   "id": "51d92cee49f85997",
   "metadata": {
    "ExecuteTime": {
     "end_time": "2025-06-24T01:40:01.146062Z",
     "start_time": "2025-06-24T01:39:54.876138Z"
    }
   },
   "outputs": [
    {
     "name": "stdout",
     "output_type": "stream",
     "text": [
      "Backtest on 2000-12-29 00:00:00 to 2024-07-31 00:00:00\n",
      "Num Train Iterations: 283\n",
      "Num OOS Daily Points: 5932\n"
     ]
    }
   ],
   "source": [
    "START_DATE = \"1982-01-01\"\n",
    "\n",
    "start_date = pd.Timestamp(START_DATE)\n",
    "train_end = pd.Timestamp(\"1999-12-31\")\n",
    "\n",
    "rebal_dates = runner.init_backtester().rebal_schedule\n",
    "\n",
    "true_optimal = pd.read_csv(\"targets_30.csv\")\n",
    "true_optimal[\"start_date\"] = pd.to_datetime(true_optimal[\"start_date\"])\n",
    "true_optimal = true_optimal.set_index(\"start_date\")\n",
    "true_optimal = true_optimal.loc[start_date:]\n",
    "true_optimal[\"reward\"] = -true_optimal[\"vol\"]\n",
    "true_optimal[\"n_stocks\"] = 30\n",
    "for n in [100]:\n",
    "    true_optimal_ = pd.read_csv(f\"targets_{TOP_N}.csv\")\n",
    "    true_optimal_[\"start_date\"] = pd.to_datetime(true_optimal_[\"start_date\"])\n",
    "    true_optimal_ = true_optimal_.set_index(\"start_date\")\n",
    "    true_optimal_ = true_optimal_.loc[start_date:]\n",
    "    true_optimal_[\"reward\"] = -true_optimal_[\"vol\"]\n",
    "    true_optimal_[\"n_stocks\"] = n\n",
    "    true_optimal = pd.concat([true_optimal, true_optimal_], axis=0)\n",
    "\n",
    "\n",
    "true_optimal_train = true_optimal.loc[true_optimal.index < train_end]\n",
    "min_reward = true_optimal_train[\"reward\"].min()\n",
    "max_reward = true_optimal_train[\"reward\"].max()\n",
    "# min_reward = None\n",
    "# max_reward = None\n",
    "if min_reward is not None and max_reward is not None:\n",
    "    true_optimal[\"reward\"] = (true_optimal[\"reward\"] - min_reward) / (\n",
    "        max_reward - min_reward\n",
    "    )\n",
    "\n",
    "# Number of environments to vectorize (e.g., 4 parallel environments)\n",
    "n_envs = 1\n",
    "\n",
    "# Create the vectorized environment using DummyVecEnv\n",
    "env = DummyVecEnv(\n",
    "    [\n",
    "        make_env(runner, start_date, train_end, min_reward, max_reward)\n",
    "        for _ in range(n_envs)\n",
    "    ]\n",
    ")\n",
    "optimal_env = DummyVecEnv(\n",
    "    [\n",
    "        make_optimal_env(runner, true_optimal, start_date, train_end)\n",
    "        for _ in range(n_envs)\n",
    "    ]\n",
    ")\n",
    "\n",
    "expert = ExpertPolicy(env, true_optimal[\"shrinkage\"].astype(np.float32))\n",
    "rollouts = rollout.rollout(\n",
    "    expert,\n",
    "    optimal_env,\n",
    "    rollout.make_sample_until(\n",
    "        min_timesteps=len(true_optimal.loc[true_optimal.index < train_end]),\n",
    "        min_episodes=None,\n",
    "    ),\n",
    "    rng=np.random.default_rng(12),\n",
    "    verbose=True,\n",
    ")"
   ]
  },
  {
   "cell_type": "code",
   "execution_count": 9,
   "id": "f8f209497ee9d699",
   "metadata": {},
   "outputs": [
    {
     "name": "stdout",
     "output_type": "stream",
     "text": [
      "--------------------------------------------------\n",
      "| mean/                               |          |\n",
      "|    disc/disc_acc                    | 1        |\n",
      "|    disc/disc_acc_expert             | 1        |\n",
      "|    disc/disc_acc_gen                | 1        |\n",
      "|    disc/disc_entropy                | 0        |\n",
      "|    disc/disc_loss                   | 0        |\n",
      "|    disc/disc_proportion_expert_pred | 0.5      |\n",
      "|    disc/disc_proportion_expert_true | 0.5      |\n",
      "|    disc/global_step                 | 4.55e+03 |\n",
      "|    disc/n_expert                    | 2.05e+03 |\n",
      "|    disc/n_generated                 | 2.05e+03 |\n",
      "|    gen/rollout/ep_rew_wrapped_mean  | -52      |\n",
      "|    gen/train/actor_loss             | 30.9     |\n",
      "|    gen/train/critic_loss            | 21       |\n",
      "|    gen/train/ent_coef               | 0.269    |\n",
      "|    gen/train/ent_coef_loss          | -1.95    |\n",
      "|    gen/train/learning_rate          | 0.0003   |\n",
      "|    gen/train/n_updates              | 4.45e+03 |\n",
      "--------------------------------------------------\n"
     ]
    },
    {
     "name": "stderr",
     "output_type": "stream",
     "text": [
      "round: 100%|██████████| 4549/4549 [37:55<00:00,  2.00it/s]\n"
     ]
    }
   ],
   "source": [
    "# learner = RecurrentPPO(\"MlpLstmPolicy\", env, verbose=1, device=\"mps\")\n",
    "learner = SAC(\"MlpPolicy\", env, verbose=0, device=\"mps\")\n",
    "reward_net = BasicShapedRewardNet(\n",
    "    observation_space=env.observation_space,\n",
    "    action_space=env.action_space,\n",
    "    normalize_input_layer=RunningNorm,\n",
    ")\n",
    "trainer = AIRL(\n",
    "    demonstrations=rollouts,\n",
    "    demo_batch_size=2048,\n",
    "    gen_replay_buffer_capacity=512,\n",
    "    n_disc_updates_per_round=16,\n",
    "    venv=env,\n",
    "    gen_algo=learner,\n",
    "    reward_net=reward_net,\n",
    ")\n",
    "\n",
    "train_data = true_optimal.loc[true_optimal.index < train_end]\n",
    "trainer.train(len(train_data) // 2, callback=lambda x: clear_output())"
   ]
  },
  {
   "cell_type": "code",
   "execution_count": 10,
   "id": "59018baba81ed96b",
   "metadata": {
    "ExecuteTime": {
     "end_time": "2025-06-24T02:23:53.512624Z",
     "start_time": "2025-06-24T02:17:57.438649Z"
    }
   },
   "outputs": [
    {
     "name": "stderr",
     "output_type": "stream",
     "text": [
      "Date: 2024-07-02 00:00:00, Action: 0.160536, Reward: 0.939089:  71%|███████   | 6163/8663 [05:56<02:24, 17.31it/s]\n"
     ]
    }
   ],
   "source": [
    "obs = env.reset()\n",
    "rewards = []\n",
    "optimal_values = []\n",
    "optimal_actions = []\n",
    "last_date = runner.features.index.max()\n",
    "for t in (pbar := tqdm(range(len(true_optimal) // 2 - 2_048))):\n",
    "    if env.envs[0].get_current_end_date() >= last_date:\n",
    "        break\n",
    "\n",
    "    action, _states = trainer.policy.predict(obs, deterministic=True)\n",
    "    obs, reward, done, info = env.step(action)\n",
    "\n",
    "    current_date = env.envs[0].get_current_date()\n",
    "    # true_optimal_action = true_optimal.loc[current_date, \"shrinkage\"]\n",
    "    # true_optimal_value = true_optimal.loc[current_date, \"reward\"]\n",
    "\n",
    "    # pbar.set_description(\n",
    "    #     f\"Date: {current_date}, Action: {action.item():.6f}, Optimal Action: {true_optimal_action:.6f}, Reward: {reward.item():.6f}, Optimal Reward: {true_optimal_value:.6f}\"\n",
    "    # )\n",
    "\n",
    "    pbar.set_description(\n",
    "        f\"Date: {current_date}, Action: {action.item():.6f}, Reward: {reward.item():.6f}\"\n",
    "    )\n",
    "\n",
    "    # env.action_hist.to_csv(\"rl.csv\", index=True, header=True)\n",
    "\n",
    "    rewards.append(reward.item())\n",
    "\n",
    "    # true_optimal_action = (\n",
    "    #     true_optimal.loc[current_date, \"shrinkage\"]\n",
    "    #     if current_date in true_optimal.index\n",
    "    #     else 0.0\n",
    "    # )\n",
    "    # true_optimal_value = (\n",
    "    #     true_optimal.loc[current_date, \"reward\"]\n",
    "    #     if current_date in true_optimal.index\n",
    "    #     else 0.0\n",
    "    # )\n",
    "    #\n",
    "    # optimal_values.append(true_optimal_value)\n",
    "    # if t % 20 == 0 and t > 0:\n",
    "    #     plot_regret(rewards, optimal_values)\n",
    "\n",
    "    optimal_actions.append([current_date, action])\n",
    "    #\n",
    "    # if t % 20 == 0:\n",
    "    #     env.action_hist.to_csv(\"cgp_ucb.csv\", index=True, header=True)"
   ]
  },
  {
   "cell_type": "code",
   "execution_count": 11,
   "id": "854d413ae6085fee",
   "metadata": {
    "ExecuteTime": {
     "end_time": "2025-06-24T02:23:53.543718Z",
     "start_time": "2025-06-24T02:23:53.536746Z"
    }
   },
   "outputs": [
    {
     "data": {
      "text/plain": [
       "start_date\n",
       "1982-01-04    0.906600\n",
       "1982-01-05    0.912183\n",
       "1982-01-06    0.908233\n",
       "1982-01-07    0.903701\n",
       "1982-01-08    0.905770\n",
       "                ...   \n",
       "2024-06-24    0.959247\n",
       "2024-06-25    0.959987\n",
       "2024-06-26    0.954574\n",
       "2024-06-27    0.948903\n",
       "2024-06-28    0.951645\n",
       "Name: reward, Length: 21422, dtype: float64"
      ]
     },
     "execution_count": 11,
     "metadata": {},
     "output_type": "execute_result"
    }
   ],
   "source": [
    "true_optimal[\"reward\"]"
   ]
  },
  {
   "cell_type": "code",
   "execution_count": 12,
   "id": "c7ba5401910fcc8f",
   "metadata": {
    "ExecuteTime": {
     "end_time": "2025-06-24T02:23:53.600312Z",
     "start_time": "2025-06-24T02:23:53.596603Z"
    }
   },
   "outputs": [
    {
     "data": {
      "text/plain": [
       "-0.002440183928517"
      ]
     },
     "execution_count": 12,
     "metadata": {},
     "output_type": "execute_result"
    }
   ],
   "source": [
    "max_reward"
   ]
  },
  {
   "cell_type": "code",
   "execution_count": 13,
   "id": "bb0affcbe1b3ffc8",
   "metadata": {
    "ExecuteTime": {
     "end_time": "2025-06-24T02:23:53.658398Z",
     "start_time": "2025-06-24T02:23:53.655304Z"
    }
   },
   "outputs": [
    {
     "data": {
      "text/plain": [
       "-0.0575247175944734"
      ]
     },
     "execution_count": 13,
     "metadata": {},
     "output_type": "execute_result"
    }
   ],
   "source": [
    "min_reward"
   ]
  },
  {
   "cell_type": "code",
   "execution_count": 14,
   "id": "a243918086207ddf",
   "metadata": {
    "ExecuteTime": {
     "end_time": "2025-06-24T02:23:53.822049Z",
     "start_time": "2025-06-24T02:23:53.693136Z"
    }
   },
   "outputs": [],
   "source": [
    "optim = pd.DataFrame(optimal_actions, columns=[\"date\", \"irl\"]).set_index(\"date\")\n",
    "optim.to_csv(f\"irl_{TOP_N}.csv\", index=True, header=True)"
   ]
  },
  {
   "cell_type": "code",
   "execution_count": 15,
   "id": "3d4ec484c0c257ab",
   "metadata": {
    "ExecuteTime": {
     "end_time": "2025-06-24T02:23:53.834380Z",
     "start_time": "2025-06-24T02:23:53.832790Z"
    }
   },
   "outputs": [],
   "source": [
    "# env.envs[0].action_hist.to_csv(\"irl_new.csv\", index=True, header=True)"
   ]
  },
  {
   "cell_type": "code",
   "execution_count": 16,
   "id": "b99c651e84e4113f",
   "metadata": {
    "ExecuteTime": {
     "end_time": "2025-06-24T02:23:53.848025Z",
     "start_time": "2025-06-24T02:23:53.846402Z"
    }
   },
   "outputs": [],
   "source": [
    "# optim.to_csv(\"irl.csv\", index=True, header=True)"
   ]
  },
  {
   "cell_type": "code",
   "execution_count": 17,
   "id": "20afde68e78177b2",
   "metadata": {
    "ExecuteTime": {
     "end_time": "2025-06-24T02:23:53.865483Z",
     "start_time": "2025-06-24T02:23:53.860965Z"
    }
   },
   "outputs": [
    {
     "data": {
      "text/html": [
       "<div>\n",
       "<style scoped>\n",
       "    .dataframe tbody tr th:only-of-type {\n",
       "        vertical-align: middle;\n",
       "    }\n",
       "\n",
       "    .dataframe tbody tr th {\n",
       "        vertical-align: top;\n",
       "    }\n",
       "\n",
       "    .dataframe thead th {\n",
       "        text-align: right;\n",
       "    }\n",
       "</style>\n",
       "<table border=\"1\" class=\"dataframe\">\n",
       "  <thead>\n",
       "    <tr style=\"text-align: right;\">\n",
       "      <th></th>\n",
       "      <th>irl</th>\n",
       "    </tr>\n",
       "    <tr>\n",
       "      <th>date</th>\n",
       "      <th></th>\n",
       "    </tr>\n",
       "  </thead>\n",
       "  <tbody>\n",
       "    <tr>\n",
       "      <th>2000-01-03</th>\n",
       "      <td>[[0.275839]]</td>\n",
       "    </tr>\n",
       "    <tr>\n",
       "      <th>2000-01-04</th>\n",
       "      <td>[[0.2775755]]</td>\n",
       "    </tr>\n",
       "    <tr>\n",
       "      <th>2000-01-05</th>\n",
       "      <td>[[0.2574773]]</td>\n",
       "    </tr>\n",
       "    <tr>\n",
       "      <th>2000-01-06</th>\n",
       "      <td>[[0.2739584]]</td>\n",
       "    </tr>\n",
       "    <tr>\n",
       "      <th>2000-01-07</th>\n",
       "      <td>[[0.30425665]]</td>\n",
       "    </tr>\n",
       "    <tr>\n",
       "      <th>...</th>\n",
       "      <td>...</td>\n",
       "    </tr>\n",
       "    <tr>\n",
       "      <th>2024-06-26</th>\n",
       "      <td>[[0.15209359]]</td>\n",
       "    </tr>\n",
       "    <tr>\n",
       "      <th>2024-06-27</th>\n",
       "      <td>[[0.14965713]]</td>\n",
       "    </tr>\n",
       "    <tr>\n",
       "      <th>2024-06-28</th>\n",
       "      <td>[[0.15425164]]</td>\n",
       "    </tr>\n",
       "    <tr>\n",
       "      <th>2024-07-01</th>\n",
       "      <td>[[0.1502018]]</td>\n",
       "    </tr>\n",
       "    <tr>\n",
       "      <th>2024-07-02</th>\n",
       "      <td>[[0.16053575]]</td>\n",
       "    </tr>\n",
       "  </tbody>\n",
       "</table>\n",
       "<p>6163 rows × 1 columns</p>\n",
       "</div>"
      ],
      "text/plain": [
       "                       irl\n",
       "date                      \n",
       "2000-01-03    [[0.275839]]\n",
       "2000-01-04   [[0.2775755]]\n",
       "2000-01-05   [[0.2574773]]\n",
       "2000-01-06   [[0.2739584]]\n",
       "2000-01-07  [[0.30425665]]\n",
       "...                    ...\n",
       "2024-06-26  [[0.15209359]]\n",
       "2024-06-27  [[0.14965713]]\n",
       "2024-06-28  [[0.15425164]]\n",
       "2024-07-01   [[0.1502018]]\n",
       "2024-07-02  [[0.16053575]]\n",
       "\n",
       "[6163 rows x 1 columns]"
      ]
     },
     "execution_count": 17,
     "metadata": {},
     "output_type": "execute_result"
    }
   ],
   "source": [
    "optim"
   ]
  },
  {
   "cell_type": "code",
   "execution_count": 18,
   "id": "910c38c92bf2b659",
   "metadata": {
    "ExecuteTime": {
     "end_time": "2025-06-24T02:23:53.895178Z",
     "start_time": "2025-06-24T02:23:53.893688Z"
    }
   },
   "outputs": [],
   "source": [
    "# from qamsi.utils.data import read_csv\n",
    "#\n",
    "# optimal_df = read_csv(\".\", \"irl.csv\")"
   ]
  },
  {
   "cell_type": "code",
   "execution_count": 19,
   "id": "6c434bfd7ad26594",
   "metadata": {
    "ExecuteTime": {
     "end_time": "2025-06-24T02:23:53.921412Z",
     "start_time": "2025-06-24T02:23:53.919785Z"
    }
   },
   "outputs": [],
   "source": [
    "optimal = optim.copy()"
   ]
  },
  {
   "cell_type": "code",
   "execution_count": 20,
   "id": "5ea0a6fe203af640",
   "metadata": {
    "ExecuteTime": {
     "end_time": "2025-06-24T02:23:53.943439Z",
     "start_time": "2025-06-24T02:23:53.939920Z"
    }
   },
   "outputs": [
    {
     "data": {
      "text/plain": [
       "date\n",
       "2000-01-03      [[0.275839]]\n",
       "2000-01-04     [[0.2775755]]\n",
       "2000-01-05     [[0.2574773]]\n",
       "2000-01-06     [[0.2739584]]\n",
       "2000-01-07    [[0.30425665]]\n",
       "                   ...      \n",
       "2024-06-26    [[0.15209359]]\n",
       "2024-06-27    [[0.14965713]]\n",
       "2024-06-28    [[0.15425164]]\n",
       "2024-07-01     [[0.1502018]]\n",
       "2024-07-02    [[0.16053575]]\n",
       "Name: irl, Length: 6163, dtype: object"
      ]
     },
     "execution_count": 20,
     "metadata": {},
     "output_type": "execute_result"
    }
   ],
   "source": [
    "optimal = optimal.iloc[:, 0]\n",
    "optimal"
   ]
  },
  {
   "cell_type": "code",
   "execution_count": 21,
   "id": "3d5e5893287e40ac",
   "metadata": {
    "ExecuteTime": {
     "end_time": "2025-06-24T02:23:54.222938Z",
     "start_time": "2025-06-24T02:23:53.974958Z"
    }
   },
   "outputs": [
    {
     "ename": "AttributeError",
     "evalue": "'numpy.ndarray' object has no attribute 'strip'",
     "output_type": "error",
     "traceback": [
      "\u001b[31m---------------------------------------------------------------------------\u001b[39m",
      "\u001b[31mAttributeError\u001b[39m                            Traceback (most recent call last)",
      "\u001b[36mCell\u001b[39m\u001b[36m \u001b[39m\u001b[32mIn[21]\u001b[39m\u001b[32m, line 1\u001b[39m\n\u001b[32m----> \u001b[39m\u001b[32m1\u001b[39m optimal_ = \u001b[43moptimal\u001b[49m\u001b[43m.\u001b[49m\u001b[43mapply\u001b[49m\u001b[43m(\u001b[49m\u001b[38;5;28;43;01mlambda\u001b[39;49;00m\u001b[43m \u001b[49m\u001b[43mx\u001b[49m\u001b[43m:\u001b[49m\u001b[43m \u001b[49m\u001b[43mx\u001b[49m\u001b[43m.\u001b[49m\u001b[43mstrip\u001b[49m\u001b[43m(\u001b[49m\u001b[33;43m\"\u001b[39;49m\u001b[33;43m[]\u001b[39;49m\u001b[33;43m\"\u001b[39;49m\u001b[43m)\u001b[49m\u001b[43m)\u001b[49m\n\u001b[32m      2\u001b[39m optimal_\n",
      "\u001b[36mFile \u001b[39m\u001b[32m~/qamsi/.venv/lib/python3.12/site-packages/pandas/core/series.py:4935\u001b[39m, in \u001b[36mSeries.apply\u001b[39m\u001b[34m(self, func, convert_dtype, args, by_row, **kwargs)\u001b[39m\n\u001b[32m   4800\u001b[39m \u001b[38;5;28;01mdef\u001b[39;00m\u001b[38;5;250m \u001b[39m\u001b[34mapply\u001b[39m(\n\u001b[32m   4801\u001b[39m     \u001b[38;5;28mself\u001b[39m,\n\u001b[32m   4802\u001b[39m     func: AggFuncType,\n\u001b[32m   (...)\u001b[39m\u001b[32m   4807\u001b[39m     **kwargs,\n\u001b[32m   4808\u001b[39m ) -> DataFrame | Series:\n\u001b[32m   4809\u001b[39m \u001b[38;5;250m    \u001b[39m\u001b[33;03m\"\"\"\u001b[39;00m\n\u001b[32m   4810\u001b[39m \u001b[33;03m    Invoke function on values of Series.\u001b[39;00m\n\u001b[32m   4811\u001b[39m \n\u001b[32m   (...)\u001b[39m\u001b[32m   4926\u001b[39m \u001b[33;03m    dtype: float64\u001b[39;00m\n\u001b[32m   4927\u001b[39m \u001b[33;03m    \"\"\"\u001b[39;00m\n\u001b[32m   4928\u001b[39m     \u001b[38;5;28;01mreturn\u001b[39;00m \u001b[43mSeriesApply\u001b[49m\u001b[43m(\u001b[49m\n\u001b[32m   4929\u001b[39m \u001b[43m        \u001b[49m\u001b[38;5;28;43mself\u001b[39;49m\u001b[43m,\u001b[49m\n\u001b[32m   4930\u001b[39m \u001b[43m        \u001b[49m\u001b[43mfunc\u001b[49m\u001b[43m,\u001b[49m\n\u001b[32m   4931\u001b[39m \u001b[43m        \u001b[49m\u001b[43mconvert_dtype\u001b[49m\u001b[43m=\u001b[49m\u001b[43mconvert_dtype\u001b[49m\u001b[43m,\u001b[49m\n\u001b[32m   4932\u001b[39m \u001b[43m        \u001b[49m\u001b[43mby_row\u001b[49m\u001b[43m=\u001b[49m\u001b[43mby_row\u001b[49m\u001b[43m,\u001b[49m\n\u001b[32m   4933\u001b[39m \u001b[43m        \u001b[49m\u001b[43margs\u001b[49m\u001b[43m=\u001b[49m\u001b[43margs\u001b[49m\u001b[43m,\u001b[49m\n\u001b[32m   4934\u001b[39m \u001b[43m        \u001b[49m\u001b[43mkwargs\u001b[49m\u001b[43m=\u001b[49m\u001b[43mkwargs\u001b[49m\u001b[43m,\u001b[49m\n\u001b[32m-> \u001b[39m\u001b[32m4935\u001b[39m \u001b[43m    \u001b[49m\u001b[43m)\u001b[49m\u001b[43m.\u001b[49m\u001b[43mapply\u001b[49m\u001b[43m(\u001b[49m\u001b[43m)\u001b[49m\n",
      "\u001b[36mFile \u001b[39m\u001b[32m~/qamsi/.venv/lib/python3.12/site-packages/pandas/core/apply.py:1422\u001b[39m, in \u001b[36mSeriesApply.apply\u001b[39m\u001b[34m(self)\u001b[39m\n\u001b[32m   1419\u001b[39m     \u001b[38;5;28;01mreturn\u001b[39;00m \u001b[38;5;28mself\u001b[39m.apply_compat()\n\u001b[32m   1421\u001b[39m \u001b[38;5;66;03m# self.func is Callable\u001b[39;00m\n\u001b[32m-> \u001b[39m\u001b[32m1422\u001b[39m \u001b[38;5;28;01mreturn\u001b[39;00m \u001b[38;5;28;43mself\u001b[39;49m\u001b[43m.\u001b[49m\u001b[43mapply_standard\u001b[49m\u001b[43m(\u001b[49m\u001b[43m)\u001b[49m\n",
      "\u001b[36mFile \u001b[39m\u001b[32m~/qamsi/.venv/lib/python3.12/site-packages/pandas/core/apply.py:1502\u001b[39m, in \u001b[36mSeriesApply.apply_standard\u001b[39m\u001b[34m(self)\u001b[39m\n\u001b[32m   1496\u001b[39m \u001b[38;5;66;03m# row-wise access\u001b[39;00m\n\u001b[32m   1497\u001b[39m \u001b[38;5;66;03m# apply doesn't have a `na_action` keyword and for backward compat reasons\u001b[39;00m\n\u001b[32m   1498\u001b[39m \u001b[38;5;66;03m# we need to give `na_action=\"ignore\"` for categorical data.\u001b[39;00m\n\u001b[32m   1499\u001b[39m \u001b[38;5;66;03m# TODO: remove the `na_action=\"ignore\"` when that default has been changed in\u001b[39;00m\n\u001b[32m   1500\u001b[39m \u001b[38;5;66;03m#  Categorical (GH51645).\u001b[39;00m\n\u001b[32m   1501\u001b[39m action = \u001b[33m\"\u001b[39m\u001b[33mignore\u001b[39m\u001b[33m\"\u001b[39m \u001b[38;5;28;01mif\u001b[39;00m \u001b[38;5;28misinstance\u001b[39m(obj.dtype, CategoricalDtype) \u001b[38;5;28;01melse\u001b[39;00m \u001b[38;5;28;01mNone\u001b[39;00m\n\u001b[32m-> \u001b[39m\u001b[32m1502\u001b[39m mapped = \u001b[43mobj\u001b[49m\u001b[43m.\u001b[49m\u001b[43m_map_values\u001b[49m\u001b[43m(\u001b[49m\n\u001b[32m   1503\u001b[39m \u001b[43m    \u001b[49m\u001b[43mmapper\u001b[49m\u001b[43m=\u001b[49m\u001b[43mcurried\u001b[49m\u001b[43m,\u001b[49m\u001b[43m \u001b[49m\u001b[43mna_action\u001b[49m\u001b[43m=\u001b[49m\u001b[43maction\u001b[49m\u001b[43m,\u001b[49m\u001b[43m \u001b[49m\u001b[43mconvert\u001b[49m\u001b[43m=\u001b[49m\u001b[38;5;28;43mself\u001b[39;49m\u001b[43m.\u001b[49m\u001b[43mconvert_dtype\u001b[49m\n\u001b[32m   1504\u001b[39m \u001b[43m\u001b[49m\u001b[43m)\u001b[49m\n\u001b[32m   1506\u001b[39m \u001b[38;5;28;01mif\u001b[39;00m \u001b[38;5;28mlen\u001b[39m(mapped) \u001b[38;5;129;01mand\u001b[39;00m \u001b[38;5;28misinstance\u001b[39m(mapped[\u001b[32m0\u001b[39m], ABCSeries):\n\u001b[32m   1507\u001b[39m     \u001b[38;5;66;03m# GH#43986 Need to do list(mapped) in order to get treated as nested\u001b[39;00m\n\u001b[32m   1508\u001b[39m     \u001b[38;5;66;03m#  See also GH#25959 regarding EA support\u001b[39;00m\n\u001b[32m   1509\u001b[39m     \u001b[38;5;28;01mreturn\u001b[39;00m obj._constructor_expanddim(\u001b[38;5;28mlist\u001b[39m(mapped), index=obj.index)\n",
      "\u001b[36mFile \u001b[39m\u001b[32m~/qamsi/.venv/lib/python3.12/site-packages/pandas/core/base.py:925\u001b[39m, in \u001b[36mIndexOpsMixin._map_values\u001b[39m\u001b[34m(self, mapper, na_action, convert)\u001b[39m\n\u001b[32m    922\u001b[39m \u001b[38;5;28;01mif\u001b[39;00m \u001b[38;5;28misinstance\u001b[39m(arr, ExtensionArray):\n\u001b[32m    923\u001b[39m     \u001b[38;5;28;01mreturn\u001b[39;00m arr.map(mapper, na_action=na_action)\n\u001b[32m--> \u001b[39m\u001b[32m925\u001b[39m \u001b[38;5;28;01mreturn\u001b[39;00m \u001b[43malgorithms\u001b[49m\u001b[43m.\u001b[49m\u001b[43mmap_array\u001b[49m\u001b[43m(\u001b[49m\u001b[43marr\u001b[49m\u001b[43m,\u001b[49m\u001b[43m \u001b[49m\u001b[43mmapper\u001b[49m\u001b[43m,\u001b[49m\u001b[43m \u001b[49m\u001b[43mna_action\u001b[49m\u001b[43m=\u001b[49m\u001b[43mna_action\u001b[49m\u001b[43m,\u001b[49m\u001b[43m \u001b[49m\u001b[43mconvert\u001b[49m\u001b[43m=\u001b[49m\u001b[43mconvert\u001b[49m\u001b[43m)\u001b[49m\n",
      "\u001b[36mFile \u001b[39m\u001b[32m~/qamsi/.venv/lib/python3.12/site-packages/pandas/core/algorithms.py:1743\u001b[39m, in \u001b[36mmap_array\u001b[39m\u001b[34m(arr, mapper, na_action, convert)\u001b[39m\n\u001b[32m   1741\u001b[39m values = arr.astype(\u001b[38;5;28mobject\u001b[39m, copy=\u001b[38;5;28;01mFalse\u001b[39;00m)\n\u001b[32m   1742\u001b[39m \u001b[38;5;28;01mif\u001b[39;00m na_action \u001b[38;5;129;01mis\u001b[39;00m \u001b[38;5;28;01mNone\u001b[39;00m:\n\u001b[32m-> \u001b[39m\u001b[32m1743\u001b[39m     \u001b[38;5;28;01mreturn\u001b[39;00m \u001b[43mlib\u001b[49m\u001b[43m.\u001b[49m\u001b[43mmap_infer\u001b[49m\u001b[43m(\u001b[49m\u001b[43mvalues\u001b[49m\u001b[43m,\u001b[49m\u001b[43m \u001b[49m\u001b[43mmapper\u001b[49m\u001b[43m,\u001b[49m\u001b[43m \u001b[49m\u001b[43mconvert\u001b[49m\u001b[43m=\u001b[49m\u001b[43mconvert\u001b[49m\u001b[43m)\u001b[49m\n\u001b[32m   1744\u001b[39m \u001b[38;5;28;01melse\u001b[39;00m:\n\u001b[32m   1745\u001b[39m     \u001b[38;5;28;01mreturn\u001b[39;00m lib.map_infer_mask(\n\u001b[32m   1746\u001b[39m         values, mapper, mask=isna(values).view(np.uint8), convert=convert\n\u001b[32m   1747\u001b[39m     )\n",
      "\u001b[36mFile \u001b[39m\u001b[32mpandas/_libs/lib.pyx:2999\u001b[39m, in \u001b[36mpandas._libs.lib.map_infer\u001b[39m\u001b[34m()\u001b[39m\n",
      "\u001b[36mCell\u001b[39m\u001b[36m \u001b[39m\u001b[32mIn[21]\u001b[39m\u001b[32m, line 1\u001b[39m, in \u001b[36m<lambda>\u001b[39m\u001b[34m(x)\u001b[39m\n\u001b[32m----> \u001b[39m\u001b[32m1\u001b[39m optimal_ = optimal.apply(\u001b[38;5;28;01mlambda\u001b[39;00m x: \u001b[43mx\u001b[49m\u001b[43m.\u001b[49m\u001b[43mstrip\u001b[49m(\u001b[33m\"\u001b[39m\u001b[33m[]\u001b[39m\u001b[33m\"\u001b[39m))\n\u001b[32m      2\u001b[39m optimal_\n",
      "\u001b[31mAttributeError\u001b[39m: 'numpy.ndarray' object has no attribute 'strip'"
     ]
    }
   ],
   "source": [
    "optimal_ = optimal.apply(lambda x: x.strip(\"[]\"))\n",
    "optimal_"
   ]
  },
  {
   "cell_type": "code",
   "execution_count": 33,
   "id": "58316269a104897a",
   "metadata": {
    "ExecuteTime": {
     "end_time": "2025-06-24T02:23:54.224833Z",
     "start_time": "2025-06-16T17:55:28.122272Z"
    }
   },
   "outputs": [],
   "source": [
    "optimal_ = optimal_.astype(float)"
   ]
  },
  {
   "cell_type": "code",
   "execution_count": 34,
   "id": "f2c0f66a9d0bc003",
   "metadata": {
    "ExecuteTime": {
     "end_time": "2025-06-24T02:23:54.225070Z",
     "start_time": "2025-06-16T17:55:28.780964Z"
    }
   },
   "outputs": [
    {
     "data": {
      "text/plain": [
       "<Axes: xlabel='date'>"
      ]
     },
     "execution_count": 34,
     "metadata": {},
     "output_type": "execute_result"
    },
    {
     "data": {
      "image/png": "[encoded data removed]",
      "text/plain": [
       "<Figure size 640x480 with 1 Axes>"
      ]
     },
     "metadata": {},
     "output_type": "display_data"
    }
   ],
   "source": [
    "optimal_.plot()"
   ]
  },
  {
   "cell_type": "code",
   "execution_count": 39,
   "id": "5abcbcdbf868147f",
   "metadata": {
    "ExecuteTime": {
     "end_time": "2025-06-24T02:23:54.225271Z",
     "start_time": "2025-06-16T17:57:06.318712Z"
    }
   },
   "outputs": [
    {
     "data": {
      "text/plain": [
       "<Axes: xlabel='start_date'>"
      ]
     },
     "execution_count": 39,
     "metadata": {},
     "output_type": "execute_result"
    },
    {
     "data": {
      "image/png": "[encoded data removed]",
      "text/plain": [
       "<Figure size 640x480 with 1 Axes>"
      ]
     },
     "metadata": {},
     "output_type": "display_data"
    }
   ],
   "source": [
    "true_optimal[\"shrinkage\"].plot()"
   ]
  },
  {
   "cell_type": "code",
   "execution_count": 41,
   "id": "8104d9c5978bad43",
   "metadata": {
    "ExecuteTime": {
     "end_time": "2025-06-24T02:23:54.225686Z",
     "start_time": "2025-06-16T17:57:43.477643Z"
    }
   },
   "outputs": [
    {
     "data": {
      "image/png": "[encoded data removed]",
      "text/plain": [
       "<Figure size 1200x400 with 1 Axes>"
      ]
     },
     "metadata": {},
     "output_type": "display_data"
    }
   ],
   "source": [
    "p = optimal_.to_frame(\"irl\").merge(\n",
    "    true_optimal[\"shrinkage\"], how=\"inner\", left_index=True, right_index=True\n",
    ")\n",
    "p.plot(figsize=(12, 4));"
   ]
  },
  {
   "cell_type": "code",
   "execution_count": 42,
   "id": "95b3abeb3005b339",
   "metadata": {
    "ExecuteTime": {
     "end_time": "2025-06-24T02:23:54.226122Z",
     "start_time": "2025-06-16T17:57:54.425290Z"
    }
   },
   "outputs": [
    {
     "data": {
      "text/plain": [
       "np.float64(0.20459914)"
      ]
     },
     "execution_count": 42,
     "metadata": {},
     "output_type": "execute_result"
    }
   ],
   "source": [
    "optimal_.max()"
   ]
  },
  {
   "cell_type": "code",
   "execution_count": 43,
   "id": "3142216e87eef122",
   "metadata": {
    "ExecuteTime": {
     "end_time": "2025-06-24T02:23:54.226374Z",
     "start_time": "2025-06-16T17:57:58.943429Z"
    }
   },
   "outputs": [
    {
     "data": {
      "text/plain": [
       "np.float64(0.0)"
      ]
     },
     "execution_count": 43,
     "metadata": {},
     "output_type": "execute_result"
    }
   ],
   "source": [
    "optimal_.min()"
   ]
  },
  {
   "cell_type": "code",
   "execution_count": 44,
   "id": "149177a8c81e75ee",
   "metadata": {
    "ExecuteTime": {
     "end_time": "2025-06-24T02:23:54.226600Z",
     "start_time": "2025-06-16T17:58:22.810791Z"
    }
   },
   "outputs": [],
   "source": [
    "optimal_.to_frame(\"irl\").to_csv(\"irl_.csv\")"
   ]
  }
 ],
 "metadata": {},
 "nbformat": 4,
 "nbformat_minor": 5
}
