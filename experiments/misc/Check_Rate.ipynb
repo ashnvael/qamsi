{
 "cells": [
  {
   "cell_type": "code",
   "id": "initial_id",
   "metadata": {
    "collapsed": true,
    "ExecuteTime": {
     "end_time": "2025-06-23T11:30:10.328373Z",
     "start_time": "2025-06-23T11:30:10.326302Z"
    }
   },
   "source": [
    "from __future__ import annotations\n",
    "\n",
    "from qamsi.utils.data import read_csv\n",
    "\n",
    "from run import Dataset\n",
    "\n",
    "DATASET = Dataset.TOPN_US.value(topn=50)"
   ],
   "outputs": [],
   "execution_count": 2
  },
  {
   "metadata": {
    "ExecuteTime": {
     "end_time": "2025-06-23T11:30:11.150051Z",
     "start_time": "2025-06-23T11:30:11.037520Z"
    }
   },
   "cell_type": "code",
   "source": "data_df = read_csv(\"../../data/output\", DATASET.DF_FILENAME)",
   "id": "ccfce0e161419e8f",
   "outputs": [],
   "execution_count": 3
  },
  {
   "metadata": {
    "ExecuteTime": {
     "end_time": "2025-06-23T11:30:16.365834Z",
     "start_time": "2025-06-23T11:30:16.361874Z"
    }
   },
   "cell_type": "code",
   "source": "data_df[\"acc_rate\"]",
   "id": "5dbd2f42e4e931a3",
   "outputs": [
    {
     "data": {
      "text/plain": [
       "date\n",
       "1980-01-31    0.000100\n",
       "1980-02-01    0.000122\n",
       "1980-02-04    0.000367\n",
       "1980-02-05    0.000122\n",
       "1980-02-06    0.000122\n",
       "                ...   \n",
       "2024-12-24         NaN\n",
       "2024-12-26         NaN\n",
       "2024-12-27         NaN\n",
       "2024-12-30         NaN\n",
       "2024-12-31         NaN\n",
       "Name: acc_rate, Length: 11324, dtype: float64"
      ]
     },
     "execution_count": 4,
     "metadata": {},
     "output_type": "execute_result"
    }
   ],
   "execution_count": 4
  },
  {
   "metadata": {
    "ExecuteTime": {
     "end_time": "2025-06-23T11:31:49.680899Z",
     "start_time": "2025-06-23T11:31:49.678238Z"
    }
   },
   "cell_type": "code",
   "source": "data_df[\"acc_rate\"].loc[\"2007-01-01\":\"2007-12-31\"].add(1).prod() - 1",
   "id": "203cd3a965835eb6",
   "outputs": [
    {
     "data": {
      "text/plain": [
       "0.01868534748581796"
      ]
     },
     "execution_count": 7,
     "metadata": {},
     "output_type": "execute_result"
    }
   ],
   "execution_count": 7
  },
  {
   "metadata": {
    "ExecuteTime": {
     "end_time": "2025-06-23T11:33:52.961411Z",
     "start_time": "2025-06-23T11:33:52.449265Z"
    }
   },
   "cell_type": "code",
   "source": [
    "import pandas as pd\n",
    "\n",
    "ff = pd.read_excel(\"../../data/ff/FFDaily.xlsx\")\n",
    "ff = ff.rename(columns={\"Date\": \"date\"})\n",
    "ff[\"date\"] = pd.to_datetime(ff[\"date\"], format=\"%Y%m%d\")\n",
    "ff = ff.set_index(\"date\")\n",
    "ff"
   ],
   "id": "a1f01913889f4578",
   "outputs": [
    {
     "data": {
      "text/plain": [
       "            Mkt-RF   SMB   HML     RF\n",
       "date                                 \n",
       "1926-07-01    0.10 -0.25 -0.27  0.009\n",
       "1926-07-02    0.45 -0.33 -0.06  0.009\n",
       "1926-07-06    0.17  0.30 -0.39  0.009\n",
       "1926-07-07    0.09 -0.58  0.02  0.009\n",
       "1926-07-08    0.21 -0.38  0.19  0.009\n",
       "...            ...   ...   ...    ...\n",
       "2024-08-26   -0.34  0.10  0.16  0.022\n",
       "2024-08-27    0.06 -0.86  0.02  0.022\n",
       "2024-08-28   -0.67 -0.55  1.14  0.022\n",
       "2024-08-29    0.08  0.38  0.28  0.022\n",
       "2024-08-30    0.98 -0.55  0.04  0.022\n",
       "\n",
       "[25817 rows x 4 columns]"
      ],
      "text/html": [
       "<div>\n",
       "<style scoped>\n",
       "    .dataframe tbody tr th:only-of-type {\n",
       "        vertical-align: middle;\n",
       "    }\n",
       "\n",
       "    .dataframe tbody tr th {\n",
       "        vertical-align: top;\n",
       "    }\n",
       "\n",
       "    .dataframe thead th {\n",
       "        text-align: right;\n",
       "    }\n",
       "</style>\n",
       "<table border=\"1\" class=\"dataframe\">\n",
       "  <thead>\n",
       "    <tr style=\"text-align: right;\">\n",
       "      <th></th>\n",
       "      <th>Mkt-RF</th>\n",
       "      <th>SMB</th>\n",
       "      <th>HML</th>\n",
       "      <th>RF</th>\n",
       "    </tr>\n",
       "    <tr>\n",
       "      <th>date</th>\n",
       "      <th></th>\n",
       "      <th></th>\n",
       "      <th></th>\n",
       "      <th></th>\n",
       "    </tr>\n",
       "  </thead>\n",
       "  <tbody>\n",
       "    <tr>\n",
       "      <th>1926-07-01</th>\n",
       "      <td>0.10</td>\n",
       "      <td>-0.25</td>\n",
       "      <td>-0.27</td>\n",
       "      <td>0.009</td>\n",
       "    </tr>\n",
       "    <tr>\n",
       "      <th>1926-07-02</th>\n",
       "      <td>0.45</td>\n",
       "      <td>-0.33</td>\n",
       "      <td>-0.06</td>\n",
       "      <td>0.009</td>\n",
       "    </tr>\n",
       "    <tr>\n",
       "      <th>1926-07-06</th>\n",
       "      <td>0.17</td>\n",
       "      <td>0.30</td>\n",
       "      <td>-0.39</td>\n",
       "      <td>0.009</td>\n",
       "    </tr>\n",
       "    <tr>\n",
       "      <th>1926-07-07</th>\n",
       "      <td>0.09</td>\n",
       "      <td>-0.58</td>\n",
       "      <td>0.02</td>\n",
       "      <td>0.009</td>\n",
       "    </tr>\n",
       "    <tr>\n",
       "      <th>1926-07-08</th>\n",
       "      <td>0.21</td>\n",
       "      <td>-0.38</td>\n",
       "      <td>0.19</td>\n",
       "      <td>0.009</td>\n",
       "    </tr>\n",
       "    <tr>\n",
       "      <th>...</th>\n",
       "      <td>...</td>\n",
       "      <td>...</td>\n",
       "      <td>...</td>\n",
       "      <td>...</td>\n",
       "    </tr>\n",
       "    <tr>\n",
       "      <th>2024-08-26</th>\n",
       "      <td>-0.34</td>\n",
       "      <td>0.10</td>\n",
       "      <td>0.16</td>\n",
       "      <td>0.022</td>\n",
       "    </tr>\n",
       "    <tr>\n",
       "      <th>2024-08-27</th>\n",
       "      <td>0.06</td>\n",
       "      <td>-0.86</td>\n",
       "      <td>0.02</td>\n",
       "      <td>0.022</td>\n",
       "    </tr>\n",
       "    <tr>\n",
       "      <th>2024-08-28</th>\n",
       "      <td>-0.67</td>\n",
       "      <td>-0.55</td>\n",
       "      <td>1.14</td>\n",
       "      <td>0.022</td>\n",
       "    </tr>\n",
       "    <tr>\n",
       "      <th>2024-08-29</th>\n",
       "      <td>0.08</td>\n",
       "      <td>0.38</td>\n",
       "      <td>0.28</td>\n",
       "      <td>0.022</td>\n",
       "    </tr>\n",
       "    <tr>\n",
       "      <th>2024-08-30</th>\n",
       "      <td>0.98</td>\n",
       "      <td>-0.55</td>\n",
       "      <td>0.04</td>\n",
       "      <td>0.022</td>\n",
       "    </tr>\n",
       "  </tbody>\n",
       "</table>\n",
       "<p>25817 rows × 4 columns</p>\n",
       "</div>"
      ]
     },
     "execution_count": 12,
     "metadata": {},
     "output_type": "execute_result"
    }
   ],
   "execution_count": 12
  },
  {
   "metadata": {
    "ExecuteTime": {
     "end_time": "2025-06-23T11:33:55.444036Z",
     "start_time": "2025-06-23T11:33:55.385476Z"
    }
   },
   "cell_type": "code",
   "source": "ff[\"RF\"].plot();",
   "id": "27faa69b2cca8fbc",
   "outputs": [
    {
     "data": {
      "text/plain": [
       "<Figure size 640x480 with 1 Axes>"
      ],
      "image/png": "[encoded data removed]"
     },
     "metadata": {},
     "output_type": "display_data"
    }
   ],
   "execution_count": 13
  },
  {
   "metadata": {
    "ExecuteTime": {
     "end_time": "2025-06-23T11:34:06.441985Z",
     "start_time": "2025-06-23T11:34:06.438725Z"
    }
   },
   "cell_type": "code",
   "source": "ff[\"RF\"].loc[\"2007-01-01\":\"2007-12-31\"].add(1).prod() - 1",
   "id": "c94abe7f73f34b70",
   "outputs": [
    {
     "data": {
      "text/plain": [
       "89.517993656017"
      ]
     },
     "execution_count": 14,
     "metadata": {},
     "output_type": "execute_result"
    }
   ],
   "execution_count": 14
  },
  {
   "metadata": {
    "ExecuteTime": {
     "end_time": "2025-06-23T11:36:45.356584Z",
     "start_time": "2025-06-23T11:36:45.353606Z"
    }
   },
   "cell_type": "code",
   "source": "(ff[\"RF\"] / 100).loc[\"2007-01-01\":\"2007-12-31\"].add(1).prod() - 1",
   "id": "bb9517cfbc6f5373",
   "outputs": [
    {
     "data": {
      "text/plain": [
       "0.046515216923431746"
      ]
     },
     "execution_count": 16,
     "metadata": {},
     "output_type": "execute_result"
    }
   ],
   "execution_count": 16
  },
  {
   "metadata": {
    "ExecuteTime": {
     "end_time": "2025-06-23T11:49:25.965185Z",
     "start_time": "2025-06-23T11:49:06.379230Z"
    }
   },
   "cell_type": "code",
   "source": [
    "from pathlib import Path\n",
    "\n",
    "import pandas as pd\n",
    "\n",
    "from qamsi.market_data.risk_free_conventions import accrue_risk_free_rate\n",
    "from qamsi.utils.data import read_csv\n",
    "from run import Dataset\n",
    "\n",
    "DATASET = Dataset.TOPN_US.value(topn=30)\n",
    "data_df = read_csv(\"../../data/output\", DATASET.DF_FILENAME)\n",
    "\n",
    "rf = pd.read_excel(Path(\"../../data/ff\") / \"FFDaily.xlsx\")\n",
    "rf = rf.rename(columns={\"Date\": \"date\", \"RF\": \"rf\"})\n",
    "rf[\"date\"] = pd.to_datetime(rf[\"date\"], format=\"%Y%m%d\")\n",
    "rf = rf.set_index(\"date\")\n",
    "rf = rf[\"rf\"] / 100\n",
    "\n",
    "rf = rf.rename(\"acc_rate\")\n",
    "# rf = accrue_risk_free_rate(rf_rate=rf).rename(\"acc_rate\")\n",
    "\n",
    "data_df = data_df.drop(columns=[\"acc_rate\"])\n",
    "data_df = data_df.merge(rf, left_index=True, right_index=True)"
   ],
   "id": "46560681d9143d7c",
   "outputs": [],
   "execution_count": 1
  },
  {
   "metadata": {
    "ExecuteTime": {
     "end_time": "2025-06-23T11:44:46.813181Z",
     "start_time": "2025-06-23T11:44:46.808841Z"
    }
   },
   "cell_type": "code",
   "source": "data_df[\"acc_rate\"].loc[\"2007-01-01\":\"2007-12-31\"].add(1).prod() - 1",
   "id": "3e04b59711ae2474",
   "outputs": [
    {
     "data": {
      "text/plain": [
       "0.046515216923431746"
      ]
     },
     "execution_count": 15,
     "metadata": {},
     "output_type": "execute_result"
    }
   ],
   "execution_count": 15
  },
  {
   "metadata": {
    "ExecuteTime": {
     "end_time": "2025-06-23T11:44:47.722191Z",
     "start_time": "2025-06-23T11:44:47.247037Z"
    }
   },
   "cell_type": "code",
   "source": "data_df.to_csv(Path(\"../../data/output\") / DATASET.DF_FILENAME)",
   "id": "f2d65ad296c2ff87",
   "outputs": [],
   "execution_count": 16
  },
  {
   "metadata": {},
   "cell_type": "code",
   "outputs": [],
   "execution_count": null,
   "source": "",
   "id": "ab2554e876ac52f1"
  }
 ],
 "metadata": {
  "kernelspec": {
   "display_name": "Python 3",
   "language": "python",
   "name": "python3"
  },
  "language_info": {
   "codemirror_mode": {
    "name": "ipython",
    "version": 2
   },
   "file_extension": ".py",
   "mimetype": "text/x-python",
   "name": "python",
   "nbconvert_exporter": "python",
   "pygments_lexer": "ipython2",
   "version": "2.7.6"
  }
 },
 "nbformat": 4,
 "nbformat_minor": 5
}
