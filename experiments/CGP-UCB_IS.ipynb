{
 "cells": [
  {
   "cell_type": "code",
   "execution_count": 1,
   "id": "c938048095b7c652",
   "metadata": {
    "ExecuteTime": {
     "end_time": "2025-06-11T16:35:03.288918Z",
     "start_time": "2025-06-11T16:35:03.272940Z"
    }
   },
   "outputs": [],
   "source": [
    "from __future__ import annotations\n",
    "\n",
    "%load_ext autoreload\n",
    "%autoreload 2"
   ]
  },
  {
   "cell_type": "code",
   "execution_count": 2,
   "id": "2fbe5e05f5cd986c",
   "metadata": {
    "ExecuteTime": {
     "end_time": "2025-06-11T16:35:04.778370Z",
     "start_time": "2025-06-11T16:35:03.321209Z"
    }
   },
   "outputs": [
    {
     "name": "stdout",
     "output_type": "stream",
     "text": [
      "(CVXPY) Jun 11 06:35:04 PM: Encountered unexpected exception importing solver PROXQP:\n",
      "ImportError(\"dlopen(/Users/buchkovv/qamsi/.venv/lib/python3.12/site-packages/cmeel.prefix/lib/python3.12/site-packages/proxsuite/proxsuite_pywrap.cpython-312-darwin.so, 0x0002): Library not loaded: @rpath/libc++.1.dylib\\n  Referenced from: <73C5C23C-530A-3E0E-A88E-7897A0C69618> /Users/buchkovv/qamsi/.venv/lib/python3.12/site-packages/cmeel.prefix/lib/python3.12/site-packages/proxsuite/proxsuite_pywrap.cpython-312-darwin.so\\n  Reason: tried: '/Users/runner/miniconda3/envs/proxsuite/lib/libc++.1.dylib' (no such file), '/System/Volumes/Preboot/Cryptexes/OS/Users/runner/miniconda3/envs/proxsuite/lib/libc++.1.dylib' (no such file), '/var/folders/0j/bwqcs4y508s2n4ck4dhf3rpc0000gn/T/cmeel-qko5evau/whl/cmeel.prefix/lib/libc++.1.dylib' (no such file), '/System/Volumes/Preboot/Cryptexes/OS/var/folders/0j/bwqcs4y508s2n4ck4dhf3rpc0000gn/T/cmeel-qko5evau/whl/cmeel.prefix/lib/libc++.1.dylib' (no such file), '/Users/runner/miniconda3/envs/proxsuite/lib/libc++.1.dylib' (no such file), '/System/Volumes/Preboot/Cryptexes/OS/Users/runner/miniconda3/envs/proxsuite/lib/libc++.1.dylib' (no such file), '/var/folders/0j/bwqcs4y508s2n4ck4dhf3rpc0000gn/T/cmeel-qko5evau/whl/cmeel.prefix/lib/libc++.1.dylib' (no such file), '/System/Volumes/Preboot/Cryptexes/OS/var/folders/0j/bwqcs4y508s2n4ck4dhf3rpc0000gn/T/cmeel-qko5evau/whl/cmeel.prefix/lib/libc++.1.dylib' (no such file), '/Users/buchkovv/.pyenv/versions/3.12.5/lib/libc++.1.dylib' (no such file), '/System/Volumes/Preboot/Cryptexes/OS/Users/buchkovv/.pyenv/versions/3.12.5/lib/libc++.1.dylib' (no such file), '/opt/homebrew/lib/libc++.1.dylib' (no such file), '/System/Volumes/Preboot/Cryptexes/OS/opt/homebrew/lib/libc++.1.dylib' (no such file), '/Users/buchkovv/.pyenv/versions/3.12.5/lib/libc++.1.dylib' (no such file), '/System/Volumes/Preboot/Cryptexes/OS/Users/buchkovv/.pyenv/versions/3.12.5/lib/libc++.1.dylib' (no such file), '/opt/homebrew/lib/libc++.1.dylib' (no such file), '/System/Volumes/Preboot/Cryptexes/OS/opt/homebrew/lib/libc++.1.dylib' (no such file)\")\n"
     ]
    }
   ],
   "source": [
    "import pandas as pd\n",
    "from qamsi.config.trading_config import TradingConfig\n",
    "from qamsi.runner import Runner\n",
    "from qamsi.strategies.estimated.min_var import MinVariance\n",
    "from qamsi.cov_estimators.cov_estimators import CovEstimators\n",
    "from qamsi.features.preprocessor import Preprocessor\n",
    "from run import Dataset"
   ]
  },
  {
   "cell_type": "code",
   "execution_count": 3,
   "id": "cf2b5227b46112a9",
   "metadata": {
    "ExecuteTime": {
     "end_time": "2025-06-11T16:35:04.800179Z",
     "start_time": "2025-06-11T16:35:04.784244Z"
    }
   },
   "outputs": [],
   "source": [
    "REBAL_FREQ = \"ME\"\n",
    "DATASET = Dataset.SPX_US\n",
    "ESTIMATION_WINDOW = 365 * 1\n",
    "\n",
    "ESTIMATOR = CovEstimators.STATIC_FACTOR_MODEL.value(\n",
    "    factor_cov_estimator=CovEstimators.HISTORICAL.value(),\n",
    "    residual_cov_estimator=CovEstimators.SHRINKAGE_PCA.value(),\n",
    ")"
   ]
  },
  {
   "cell_type": "code",
   "execution_count": 4,
   "id": "b4161979a825cfbb",
   "metadata": {
    "ExecuteTime": {
     "end_time": "2025-06-11T16:35:05.259438Z",
     "start_time": "2025-06-11T16:35:04.805927Z"
    }
   },
   "outputs": [
    {
     "name": "stdout",
     "output_type": "stream",
     "text": [
      "Backtest on 2004-03-19 00:00:00 to 2023-12-29 00:00:00\n"
     ]
    }
   ],
   "source": [
    "experiment_config = DATASET.value()\n",
    "\n",
    "stocks = tuple(\n",
    "    pd.read_csv(experiment_config.PATH_OUTPUT / experiment_config.STOCKS_LIST_FILENAME)\n",
    "    .iloc[:, 0]\n",
    "    .astype(str)\n",
    "    .tolist(),\n",
    ")\n",
    "experiment_config.ASSET_UNIVERSE = stocks  # type: ignore  # noqa: PGH003\n",
    "\n",
    "experiment_config.MIN_ROLLING_PERIODS = ESTIMATION_WINDOW + 1\n",
    "experiment_config.N_LOOKBEHIND_PERIODS = None\n",
    "experiment_config.REBALANCE_FREQ = REBAL_FREQ\n",
    "\n",
    "factors = pd.read_csv(experiment_config.PATH_OUTPUT / \"factors.csv\")\n",
    "factors[\"date\"] = pd.to_datetime(factors[\"date\"])\n",
    "factors = factors.set_index(\"date\")\n",
    "factor_names = tuple(factors.columns.astype(str).tolist())\n",
    "experiment_config.FACTORS = factor_names\n",
    "\n",
    "prices = [stock + \"_Price\" for stock in list(stocks)]\n",
    "preprocessor = Preprocessor(\n",
    "    exclude_names=[\n",
    "        *list(stocks),\n",
    "        experiment_config.RF_NAME,\n",
    "        *experiment_config.HEDGING_ASSETS,\n",
    "        *factor_names,\n",
    "        *prices,\n",
    "    ],\n",
    ")\n",
    "\n",
    "trading_config = TradingConfig(\n",
    "    broker_fee=0.05 / 100,\n",
    "    bid_ask_spread=0.03 / 100,\n",
    "    total_exposure=1,\n",
    "    max_exposure=1,\n",
    "    min_exposure=0,\n",
    "    trading_lag_days=1,\n",
    ")\n",
    "\n",
    "runner = Runner(\n",
    "    experiment_config=experiment_config,\n",
    "    trading_config=trading_config,\n",
    "    verbose=True,\n",
    ")"
   ]
  },
  {
   "cell_type": "code",
   "execution_count": 5,
   "id": "b566c5868828a17",
   "metadata": {
    "ExecuteTime": {
     "end_time": "2025-06-11T16:35:05.281335Z",
     "start_time": "2025-06-11T16:35:05.268189Z"
    }
   },
   "outputs": [],
   "source": [
    "strategy = MinVariance(\n",
    "    cov_estimator=ESTIMATOR,\n",
    "    trading_config=trading_config,\n",
    "    window_size=ESTIMATION_WINDOW,\n",
    ")\n",
    "\n",
    "strategy_name = ESTIMATOR.__class__.__name__"
   ]
  },
  {
   "cell_type": "code",
   "execution_count": 15,
   "id": "81ecaf3404998e7d",
   "metadata": {
    "ExecuteTime": {
     "end_time": "2025-06-11T16:41:21.510406Z",
     "start_time": "2025-06-11T16:41:21.482830Z"
    }
   },
   "outputs": [],
   "source": [
    "full_ret = runner.returns.simple_returns.sub(runner.rf, axis=0)\n",
    "\n",
    "YEAR = \"2008\"\n",
    "\n",
    "ret = full_ret.loc[f\"{YEAR}-01-01\" : f\"{YEAR}-12-31\"]\n",
    "factors = runner.factors.loc[f\"{YEAR}-01-01\" : f\"{YEAR}-12-31\"]\n",
    "feat = runner.features.loc[f\"{YEAR}-01-01\" : f\"{YEAR}-12-31\"]\n",
    "\n",
    "n_valid_points = (~ret.isna()).sum(axis=0) / len(ret)\n",
    "valid_stocks = list(n_valid_points[n_valid_points >= 1.0].index)\n",
    "\n",
    "ret = ret[valid_stocks]"
   ]
  },
  {
   "cell_type": "code",
   "execution_count": 10,
   "id": "b3d9ee424daae689",
   "metadata": {
    "ExecuteTime": {
     "end_time": "2025-06-11T16:36:17.624379Z",
     "start_time": "2025-06-11T16:36:17.609814Z"
    }
   },
   "outputs": [],
   "source": [
    "from qamsi.strategies.optimization_data import TrainingData, PredictionData\n",
    "\n",
    "train = TrainingData(\n",
    "    simple_excess_returns=ret,\n",
    "    factors=factors,\n",
    "    features=feat.iloc[:-1],\n",
    ")\n",
    "pred = PredictionData(\n",
    "    features=feat,\n",
    ")"
   ]
  },
  {
   "cell_type": "code",
   "execution_count": 17,
   "id": "bdf88a0e23064099",
   "metadata": {
    "ExecuteTime": {
     "end_time": "2025-06-11T16:41:48.180990Z",
     "start_time": "2025-06-11T16:41:47.642532Z"
    }
   },
   "outputs": [],
   "source": [
    "strategy.fit(train)"
   ]
  },
  {
   "cell_type": "code",
   "execution_count": 18,
   "id": "228c16b9d87e2085",
   "metadata": {
    "ExecuteTime": {
     "end_time": "2025-06-11T16:42:02.378616Z",
     "start_time": "2025-06-11T16:42:02.352212Z"
    }
   },
   "outputs": [
    {
     "ename": "AttributeError",
     "evalue": "'NoneType' object has no attribute 'index'",
     "output_type": "error",
     "traceback": [
      "\u001b[31m---------------------------------------------------------------------------\u001b[39m",
      "\u001b[31mAttributeError\u001b[39m                            Traceback (most recent call last)",
      "\u001b[36mCell\u001b[39m\u001b[36m \u001b[39m\u001b[32mIn[18]\u001b[39m\u001b[32m, line 1\u001b[39m\n\u001b[32m----> \u001b[39m\u001b[32m1\u001b[39m w = \u001b[43mstrategy\u001b[49m\u001b[43m.\u001b[49m\u001b[43mget_weights\u001b[49m\u001b[43m(\u001b[49m\u001b[43mpred\u001b[49m\u001b[43m)\u001b[49m\n\u001b[32m      2\u001b[39m w.shape\n",
      "\u001b[36mFile \u001b[39m\u001b[32m~/qamsi/qamsi/strategies/base_strategy.py:60\u001b[39m, in \u001b[36mBaseStrategy.get_weights\u001b[39m\u001b[34m(self, prediction_data)\u001b[39m\n\u001b[32m     59\u001b[39m \u001b[38;5;28;01mdef\u001b[39;00m\u001b[38;5;250m \u001b[39m\u001b[34mget_weights\u001b[39m(\u001b[38;5;28mself\u001b[39m, prediction_data: PredictionData) -> pd.DataFrame:\n\u001b[32m---> \u001b[39m\u001b[32m60\u001b[39m     rebal_date = \u001b[43mprediction_data\u001b[49m\u001b[43m.\u001b[49m\u001b[43mfeatures\u001b[49m\u001b[43m.\u001b[49m\u001b[43mindex\u001b[49m[-\u001b[32m1\u001b[39m]\n\u001b[32m     61\u001b[39m     init_weights = pd.DataFrame(\u001b[32m0.0\u001b[39m, index=[rebal_date], columns=\u001b[38;5;28mself\u001b[39m.all_assets)\n\u001b[32m     62\u001b[39m     \u001b[38;5;28;01mreturn\u001b[39;00m \u001b[38;5;28mself\u001b[39m._get_weights(\n\u001b[32m     63\u001b[39m         prediction_data=prediction_data, weights_=init_weights.copy()\n\u001b[32m     64\u001b[39m     )\n",
      "\u001b[31mAttributeError\u001b[39m: 'NoneType' object has no attribute 'index'"
     ]
    }
   ],
   "source": [
    "w = strategy.get_weights(pred)\n",
    "w.shape"
   ]
  },
  {
   "cell_type": "code",
   "execution_count": 16,
   "id": "ac083956bf669439",
   "metadata": {
    "ExecuteTime": {
     "end_time": "2025-06-11T16:41:40.680713Z",
     "start_time": "2025-06-11T16:41:40.666555Z"
    }
   },
   "outputs": [
    {
     "data": {
      "text/plain": [
       "(21, 1033)"
      ]
     },
     "execution_count": 16,
     "metadata": {},
     "output_type": "execute_result"
    }
   ],
   "source": [
    "realized_ret = full_ret.loc[ret.index.max() + pd.Timedelta(days=1) :].iloc[:21]\n",
    "realized_ret.shape"
   ]
  },
  {
   "cell_type": "code",
   "execution_count": 13,
   "id": "ac482784904d89a3",
   "metadata": {},
   "outputs": [
    {
     "name": "stderr",
     "output_type": "stream",
     "text": [
      "Computing Weights: 100%|██████████| 221/221 [02:25<00:00,  1.52it/s]\n"
     ]
    },
    {
     "data": {
      "text/plain": [
       "StrategyStatistics:\n",
       "* final_nav = 3.702012\n",
       "* geom_avg_total_r = 0.092541\n",
       "* geom_avg_xs_r = 0.057501\n",
       "* std_xs_r = 0.139489\n",
       "* min_xs_r = -0.085674\n",
       "* max_xs_r = 0.089431\n",
       "* skew = -0.137467\n",
       "* kurtosis = 20.392237\n",
       "* max_dd = -0.310051\n",
       "* sharpe = 0.412225\n",
       "* alpha_buy_hold = -0.004748\n",
       "* tracking_error_buy_hold = 0.143017\n",
       "* ir_buy_hold = -0.033199\n",
       "* factor_loadings = {'low_risk': 0.48878135637228004, 'momentum': -0.00863650410739029, 'quality': -0.027654241695449267, 'size': 0.09794482176001071, 'value': -0.1143133287338174, 'spx': 0.6739049913007401}\n",
       "* alpha_benchmark = 0.007223\n",
       "* alpha_benchmark_pvalue = 0.634304\n",
       "* tracking_error_benchmark = 0.078309\n",
       "* ir_benchmark = 0.092243\n",
       "* ttest_pval = 0.609001\n",
       "* levene_pval = 0.000000\n",
       "* timing_ability_coef = -0.027671\n",
       "* timing_ability_pval = 0.075862"
      ]
     },
     "execution_count": 13,
     "metadata": {},
     "output_type": "execute_result"
    }
   ],
   "source": [
    "runner(\n",
    "    feature_processor=preprocessor,\n",
    "    strategy=strategy,\n",
    ")"
   ]
  }
 ],
 "metadata": {},
 "nbformat": 4,
 "nbformat_minor": 5
}
