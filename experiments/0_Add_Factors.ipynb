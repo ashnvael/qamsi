{
 "cells": [
  {
   "cell_type": "code",
   "execution_count": 1,
   "id": "236852551755433",
   "metadata": {
    "ExecuteTime": {
     "end_time": "2025-03-23T17:54:30.332310Z",
     "start_time": "2025-03-23T17:54:30.312469Z"
    }
   },
   "outputs": [],
   "source": [
    "%load_ext autoreload\n",
    "%autoreload 2"
   ]
  },
  {
   "cell_type": "code",
   "execution_count": 2,
   "id": "e278b4e258d9634c",
   "metadata": {
    "ExecuteTime": {
     "end_time": "2025-03-23T17:54:30.400466Z",
     "start_time": "2025-03-23T17:54:30.394346Z"
    }
   },
   "outputs": [],
   "source": [
    "import pandas as pd\n",
    "\n",
    "from config.experiment_config import ExperimentConfig"
   ]
  },
  {
   "cell_type": "code",
   "execution_count": 3,
   "id": "7f827f30d35697ab",
   "metadata": {
    "ExecuteTime": {
     "end_time": "2025-03-23T17:57:28.155454Z",
     "start_time": "2025-03-23T17:57:28.043969Z"
    }
   },
   "outputs": [
    {
     "data": {
      "text/html": [
       "<div>\n",
       "<style scoped>\n",
       "    .dataframe tbody tr th:only-of-type {\n",
       "        vertical-align: middle;\n",
       "    }\n",
       "\n",
       "    .dataframe tbody tr th {\n",
       "        vertical-align: top;\n",
       "    }\n",
       "\n",
       "    .dataframe thead th {\n",
       "        text-align: right;\n",
       "    }\n",
       "</style>\n",
       "<table border=\"1\" class=\"dataframe\">\n",
       "  <thead>\n",
       "    <tr style=\"text-align: right;\">\n",
       "      <th></th>\n",
       "      <th>location</th>\n",
       "      <th>name</th>\n",
       "      <th>freq</th>\n",
       "      <th>weighting</th>\n",
       "      <th>n_factors</th>\n",
       "      <th>date</th>\n",
       "      <th>ret</th>\n",
       "    </tr>\n",
       "  </thead>\n",
       "  <tbody>\n",
       "    <tr>\n",
       "      <th>0</th>\n",
       "      <td>usa</td>\n",
       "      <td>accruals</td>\n",
       "      <td>daily</td>\n",
       "      <td>vw_cap</td>\n",
       "      <td>1</td>\n",
       "      <td>1946-01-02</td>\n",
       "      <td>-0.002154</td>\n",
       "    </tr>\n",
       "    <tr>\n",
       "      <th>1</th>\n",
       "      <td>usa</td>\n",
       "      <td>accruals</td>\n",
       "      <td>daily</td>\n",
       "      <td>vw_cap</td>\n",
       "      <td>1</td>\n",
       "      <td>1946-01-03</td>\n",
       "      <td>0.000381</td>\n",
       "    </tr>\n",
       "    <tr>\n",
       "      <th>2</th>\n",
       "      <td>usa</td>\n",
       "      <td>accruals</td>\n",
       "      <td>daily</td>\n",
       "      <td>vw_cap</td>\n",
       "      <td>1</td>\n",
       "      <td>1946-01-04</td>\n",
       "      <td>0.002920</td>\n",
       "    </tr>\n",
       "    <tr>\n",
       "      <th>3</th>\n",
       "      <td>usa</td>\n",
       "      <td>accruals</td>\n",
       "      <td>daily</td>\n",
       "      <td>vw_cap</td>\n",
       "      <td>1</td>\n",
       "      <td>1946-01-05</td>\n",
       "      <td>0.001483</td>\n",
       "    </tr>\n",
       "    <tr>\n",
       "      <th>4</th>\n",
       "      <td>usa</td>\n",
       "      <td>accruals</td>\n",
       "      <td>daily</td>\n",
       "      <td>vw_cap</td>\n",
       "      <td>1</td>\n",
       "      <td>1946-01-07</td>\n",
       "      <td>0.000729</td>\n",
       "    </tr>\n",
       "  </tbody>\n",
       "</table>\n",
       "</div>"
      ],
      "text/plain": [
       "  location      name   freq weighting  n_factors        date       ret\n",
       "0      usa  accruals  daily    vw_cap          1  1946-01-02 -0.002154\n",
       "1      usa  accruals  daily    vw_cap          1  1946-01-03  0.000381\n",
       "2      usa  accruals  daily    vw_cap          1  1946-01-04  0.002920\n",
       "3      usa  accruals  daily    vw_cap          1  1946-01-05  0.001483\n",
       "4      usa  accruals  daily    vw_cap          1  1946-01-07  0.000729"
      ]
     },
     "execution_count": 3,
     "metadata": {},
     "output_type": "execute_result"
    }
   ],
   "source": [
    "factors_df = pd.read_csv(\n",
    "    ExperimentConfig.PATH_FACTOR_DATA / ExperimentConfig.FACTORS_FILENAME\n",
    ")\n",
    "factors_df.head()"
   ]
  },
  {
   "cell_type": "code",
   "execution_count": 4,
   "id": "d27173ffea2c37c6",
   "metadata": {
    "ExecuteTime": {
     "end_time": "2025-03-23T17:57:28.703980Z",
     "start_time": "2025-03-23T17:57:28.684481Z"
    }
   },
   "outputs": [
    {
     "data": {
      "text/plain": [
       "array(['accruals', 'debt_issuance', 'investment', 'low_leverage',\n",
       "       'low_risk', 'momentum', 'profit_growth', 'profitability',\n",
       "       'quality', 'seasonality', 'short_term_reversal', 'size', 'value'],\n",
       "      dtype=object)"
      ]
     },
     "execution_count": 4,
     "metadata": {},
     "output_type": "execute_result"
    }
   ],
   "source": [
    "available_factors = pd.unique(factors_df.name)\n",
    "available_factors"
   ]
  },
  {
   "cell_type": "code",
   "execution_count": 5,
   "id": "25abbca81a7b11d7",
   "metadata": {
    "ExecuteTime": {
     "end_time": "2025-03-23T17:57:29.437535Z",
     "start_time": "2025-03-23T17:57:29.400548Z"
    }
   },
   "outputs": [],
   "source": [
    "FACTORS = [\"low_risk\", \"momentum\", \"quality\", \"size\", \"value\"]\n",
    "factors_df = factors_df[factors_df.name.isin(FACTORS)]\n",
    "factors_df[\"date\"] = pd.to_datetime(factors_df[\"date\"])\n",
    "factors_df = factors_df.set_index(\"date\")"
   ]
  },
  {
   "cell_type": "code",
   "execution_count": 6,
   "id": "c02ec14aea03e577",
   "metadata": {
    "ExecuteTime": {
     "end_time": "2025-03-23T17:58:13.685936Z",
     "start_time": "2025-03-23T17:58:13.130912Z"
    }
   },
   "outputs": [],
   "source": [
    "full_df = pd.read_csv(ExperimentConfig.PATH_OUTPUT / ExperimentConfig.DF_FILENAME)\n",
    "full_df[\"date\"] = pd.to_datetime(full_df[\"date\"])\n",
    "full_df = full_df.set_index(\"date\")"
   ]
  },
  {
   "cell_type": "code",
   "execution_count": 7,
   "id": "4f477fd354e1df7f",
   "metadata": {
    "ExecuteTime": {
     "end_time": "2025-03-23T18:00:04.940447Z",
     "start_time": "2025-03-23T18:00:04.900939Z"
    }
   },
   "outputs": [],
   "source": [
    "for factor in factors_df[\"name\"].unique():\n",
    "    full_df[factor] = factors_df[factors_df[\"name\"] == factor][\"ret\"].reindex(\n",
    "        full_df.index\n",
    "    )"
   ]
  },
  {
   "cell_type": "code",
   "execution_count": 8,
   "id": "15ed94ed43efbf4a",
   "metadata": {
    "ExecuteTime": {
     "end_time": "2025-03-23T18:02:44.966213Z",
     "start_time": "2025-03-23T18:02:44.956361Z"
    }
   },
   "outputs": [],
   "source": [
    "for factor in FACTORS:\n",
    "    full_df[factor] = full_df[factor] + full_df[\"acc_rate\"]"
   ]
  },
  {
   "cell_type": "code",
   "execution_count": 9,
   "id": "f69ad8c36954b5e3",
   "metadata": {
    "ExecuteTime": {
     "end_time": "2025-03-23T18:02:57.301342Z",
     "start_time": "2025-03-23T18:02:53.658309Z"
    }
   },
   "outputs": [],
   "source": [
    "full_df.to_csv(ExperimentConfig.PATH_OUTPUT / ExperimentConfig.DF_FILENAME)"
   ]
  },
  {
   "cell_type": "code",
   "execution_count": null,
   "id": "f47a62cc0b6af7ad",
   "metadata": {},
   "outputs": [],
   "source": []
  }
 ],
 "metadata": {
  "kernelspec": {
   "display_name": "Python 3",
   "language": "python",
   "name": "python3"
  },
  "language_info": {
   "codemirror_mode": {
    "name": "ipython",
    "version": 3
   },
   "file_extension": ".py",
   "mimetype": "text/x-python",
   "name": "python",
   "nbconvert_exporter": "python",
   "pygments_lexer": "ipython3",
   "version": "3.12.2"
  }
 },
 "nbformat": 4,
 "nbformat_minor": 5
}
