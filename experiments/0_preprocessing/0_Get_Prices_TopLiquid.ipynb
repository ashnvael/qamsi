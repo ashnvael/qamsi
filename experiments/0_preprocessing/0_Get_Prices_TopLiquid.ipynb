{
 "cells": [
  {
   "cell_type": "code",
   "id": "initial_id",
   "metadata": {
    "ExecuteTime": {
     "end_time": "2025-06-20T19:34:53.347240Z",
     "start_time": "2025-06-20T19:34:53.072234Z"
    }
   },
   "source": [
    "from __future__ import annotations\n",
    "\n",
    "from pathlib import Path\n",
    "\n",
    "import numpy as np\n",
    "import pandas as pd"
   ],
   "outputs": [],
   "execution_count": 1
  },
  {
   "cell_type": "code",
   "id": "4a39d6f772450bea",
   "metadata": {
    "ExecuteTime": {
     "end_time": "2025-06-20T19:37:38.088961Z",
     "start_time": "2025-06-20T19:34:53.384324Z"
    }
   },
   "source": [
    "jkp_data = pd.read_csv(Path(\"../../data/crsp_raw\") / \"crsp_80s.csv\")\n",
    "jkp_data = jkp_data.rename(columns={c: c.lower() for c in jkp_data.columns})\n",
    "jkp_data = jkp_data.dropna(subset=[\"permno\"])\n",
    "jkp_data[\"permno\"] = jkp_data[\"permno\"].astype(int)\n",
    "jkp_data[\"date\"] = pd.to_datetime(jkp_data[\"date\"])\n",
    "jkp_data = jkp_data.sort_values([\"date\", \"permno\"])\n",
    "jkp_data = jkp_data.drop_duplicates(subset=[\"date\", \"permno\"])\n",
    "jkp_data = jkp_data.set_index([\"date\", \"permno\"])\n",
    "jkp_data.head()"
   ],
   "outputs": [
    {
     "name": "stderr",
     "output_type": "stream",
     "text": [
      "/var/folders/sr/lzvmv9j54ks_jl4x99t250r00000gn/T/ipykernel_56978/2717679415.py:1: DtypeWarning: Columns (5,6,9,18,19,20,22,24,38,40,49,57) have mixed types. Specify dtype option on import or set low_memory=False.\n",
      "  jkp_data = pd.read_csv(Path(\"../../data/crsp_raw\") / \"crsp_80s.csv\")\n"
     ]
    },
    {
     "data": {
      "text/plain": [
       "                  nameendt  shrcd  exchcd siccd    ncusip ticker  \\\n",
       "date       permno                                                  \n",
       "1980-01-02 10006       NaN     10       1  3743     80010    ACF   \n",
       "           10057       NaN     11       1  3541  00462610    AMT   \n",
       "           10058       NaN     10       3  5099  00077410   ABKC   \n",
       "           10103       NaN     10       3  3496  00087410   ACSC   \n",
       "           10137       NaN     11       1  4911  01741110    AYP   \n",
       "\n",
       "                                        comnam shrcls tsymbol  naics  ...  \\\n",
       "date       permno                                                     ...   \n",
       "1980-01-02 10006          A C F INDUSTRIES INC    NaN     NaN    NaN  ...   \n",
       "           10057           ACME CLEVELAND CORP    NaN     NaN    NaN  ...   \n",
       "           10058      A B K C O INDUSTRIES INC    NaN     NaN    NaN  ...   \n",
       "           10103          A C S INDUSTRIES INC    NaN     NaN    NaN  ...   \n",
       "           10137   ALLEGHENY POWER SYSTEMS INC    NaN     NaN    NaN  ...   \n",
       "\n",
       "                  cfacpr cfacshr openprc  numtrd       retx    vwretd  \\\n",
       "date       permno                                                       \n",
       "1980-01-02 10006     1.0     1.0     NaN     NaN   0.007299 -0.020089   \n",
       "           10057     1.0     1.0     NaN     NaN  -0.004785 -0.020089   \n",
       "           10058     1.0     1.0     NaN     NaN   0.000000 -0.020089   \n",
       "           10103     1.0     1.0     NaN     NaN   0.166667 -0.020089   \n",
       "           10137     2.0     2.0     NaN     NaN  -0.024194 -0.020089   \n",
       "\n",
       "                     vwretx    ewretd    ewretx    sprtrn  \n",
       "date       permno                                          \n",
       "1980-01-02 10006  -0.020121 -0.011686 -0.011707 -0.020196  \n",
       "           10057  -0.020121 -0.011686 -0.011707 -0.020196  \n",
       "           10058  -0.020121 -0.011686 -0.011707 -0.020196  \n",
       "           10103  -0.020121 -0.011686 -0.011707 -0.020196  \n",
       "           10137  -0.020121 -0.011686 -0.011707 -0.020196  \n",
       "\n",
       "[5 rows x 61 columns]"
      ],
      "text/html": [
       "<div>\n",
       "<style scoped>\n",
       "    .dataframe tbody tr th:only-of-type {\n",
       "        vertical-align: middle;\n",
       "    }\n",
       "\n",
       "    .dataframe tbody tr th {\n",
       "        vertical-align: top;\n",
       "    }\n",
       "\n",
       "    .dataframe thead th {\n",
       "        text-align: right;\n",
       "    }\n",
       "</style>\n",
       "<table border=\"1\" class=\"dataframe\">\n",
       "  <thead>\n",
       "    <tr style=\"text-align: right;\">\n",
       "      <th></th>\n",
       "      <th></th>\n",
       "      <th>nameendt</th>\n",
       "      <th>shrcd</th>\n",
       "      <th>exchcd</th>\n",
       "      <th>siccd</th>\n",
       "      <th>ncusip</th>\n",
       "      <th>ticker</th>\n",
       "      <th>comnam</th>\n",
       "      <th>shrcls</th>\n",
       "      <th>tsymbol</th>\n",
       "      <th>naics</th>\n",
       "      <th>...</th>\n",
       "      <th>cfacpr</th>\n",
       "      <th>cfacshr</th>\n",
       "      <th>openprc</th>\n",
       "      <th>numtrd</th>\n",
       "      <th>retx</th>\n",
       "      <th>vwretd</th>\n",
       "      <th>vwretx</th>\n",
       "      <th>ewretd</th>\n",
       "      <th>ewretx</th>\n",
       "      <th>sprtrn</th>\n",
       "    </tr>\n",
       "    <tr>\n",
       "      <th>date</th>\n",
       "      <th>permno</th>\n",
       "      <th></th>\n",
       "      <th></th>\n",
       "      <th></th>\n",
       "      <th></th>\n",
       "      <th></th>\n",
       "      <th></th>\n",
       "      <th></th>\n",
       "      <th></th>\n",
       "      <th></th>\n",
       "      <th></th>\n",
       "      <th></th>\n",
       "      <th></th>\n",
       "      <th></th>\n",
       "      <th></th>\n",
       "      <th></th>\n",
       "      <th></th>\n",
       "      <th></th>\n",
       "      <th></th>\n",
       "      <th></th>\n",
       "      <th></th>\n",
       "      <th></th>\n",
       "    </tr>\n",
       "  </thead>\n",
       "  <tbody>\n",
       "    <tr>\n",
       "      <th rowspan=\"5\" valign=\"top\">1980-01-02</th>\n",
       "      <th>10006</th>\n",
       "      <td>NaN</td>\n",
       "      <td>10</td>\n",
       "      <td>1</td>\n",
       "      <td>3743</td>\n",
       "      <td>80010</td>\n",
       "      <td>ACF</td>\n",
       "      <td>A C F INDUSTRIES INC</td>\n",
       "      <td>NaN</td>\n",
       "      <td>NaN</td>\n",
       "      <td>NaN</td>\n",
       "      <td>...</td>\n",
       "      <td>1.0</td>\n",
       "      <td>1.0</td>\n",
       "      <td>NaN</td>\n",
       "      <td>NaN</td>\n",
       "      <td>0.007299</td>\n",
       "      <td>-0.020089</td>\n",
       "      <td>-0.020121</td>\n",
       "      <td>-0.011686</td>\n",
       "      <td>-0.011707</td>\n",
       "      <td>-0.020196</td>\n",
       "    </tr>\n",
       "    <tr>\n",
       "      <th>10057</th>\n",
       "      <td>NaN</td>\n",
       "      <td>11</td>\n",
       "      <td>1</td>\n",
       "      <td>3541</td>\n",
       "      <td>00462610</td>\n",
       "      <td>AMT</td>\n",
       "      <td>ACME CLEVELAND CORP</td>\n",
       "      <td>NaN</td>\n",
       "      <td>NaN</td>\n",
       "      <td>NaN</td>\n",
       "      <td>...</td>\n",
       "      <td>1.0</td>\n",
       "      <td>1.0</td>\n",
       "      <td>NaN</td>\n",
       "      <td>NaN</td>\n",
       "      <td>-0.004785</td>\n",
       "      <td>-0.020089</td>\n",
       "      <td>-0.020121</td>\n",
       "      <td>-0.011686</td>\n",
       "      <td>-0.011707</td>\n",
       "      <td>-0.020196</td>\n",
       "    </tr>\n",
       "    <tr>\n",
       "      <th>10058</th>\n",
       "      <td>NaN</td>\n",
       "      <td>10</td>\n",
       "      <td>3</td>\n",
       "      <td>5099</td>\n",
       "      <td>00077410</td>\n",
       "      <td>ABKC</td>\n",
       "      <td>A B K C O INDUSTRIES INC</td>\n",
       "      <td>NaN</td>\n",
       "      <td>NaN</td>\n",
       "      <td>NaN</td>\n",
       "      <td>...</td>\n",
       "      <td>1.0</td>\n",
       "      <td>1.0</td>\n",
       "      <td>NaN</td>\n",
       "      <td>NaN</td>\n",
       "      <td>0.000000</td>\n",
       "      <td>-0.020089</td>\n",
       "      <td>-0.020121</td>\n",
       "      <td>-0.011686</td>\n",
       "      <td>-0.011707</td>\n",
       "      <td>-0.020196</td>\n",
       "    </tr>\n",
       "    <tr>\n",
       "      <th>10103</th>\n",
       "      <td>NaN</td>\n",
       "      <td>10</td>\n",
       "      <td>3</td>\n",
       "      <td>3496</td>\n",
       "      <td>00087410</td>\n",
       "      <td>ACSC</td>\n",
       "      <td>A C S INDUSTRIES INC</td>\n",
       "      <td>NaN</td>\n",
       "      <td>NaN</td>\n",
       "      <td>NaN</td>\n",
       "      <td>...</td>\n",
       "      <td>1.0</td>\n",
       "      <td>1.0</td>\n",
       "      <td>NaN</td>\n",
       "      <td>NaN</td>\n",
       "      <td>0.166667</td>\n",
       "      <td>-0.020089</td>\n",
       "      <td>-0.020121</td>\n",
       "      <td>-0.011686</td>\n",
       "      <td>-0.011707</td>\n",
       "      <td>-0.020196</td>\n",
       "    </tr>\n",
       "    <tr>\n",
       "      <th>10137</th>\n",
       "      <td>NaN</td>\n",
       "      <td>11</td>\n",
       "      <td>1</td>\n",
       "      <td>4911</td>\n",
       "      <td>01741110</td>\n",
       "      <td>AYP</td>\n",
       "      <td>ALLEGHENY POWER SYSTEMS INC</td>\n",
       "      <td>NaN</td>\n",
       "      <td>NaN</td>\n",
       "      <td>NaN</td>\n",
       "      <td>...</td>\n",
       "      <td>2.0</td>\n",
       "      <td>2.0</td>\n",
       "      <td>NaN</td>\n",
       "      <td>NaN</td>\n",
       "      <td>-0.024194</td>\n",
       "      <td>-0.020089</td>\n",
       "      <td>-0.020121</td>\n",
       "      <td>-0.011686</td>\n",
       "      <td>-0.011707</td>\n",
       "      <td>-0.020196</td>\n",
       "    </tr>\n",
       "  </tbody>\n",
       "</table>\n",
       "<p>5 rows × 61 columns</p>\n",
       "</div>"
      ]
     },
     "execution_count": 2,
     "metadata": {},
     "output_type": "execute_result"
    }
   ],
   "execution_count": 2
  },
  {
   "metadata": {
    "ExecuteTime": {
     "end_time": "2025-06-20T19:38:05.292814Z",
     "start_time": "2025-06-20T19:37:38.117585Z"
    }
   },
   "cell_type": "code",
   "source": [
    "mapping = jkp_data.reset_index()[[\"permno\", \"comnam\"]].drop_duplicates()\n",
    "mapping = mapping.set_index(\"permno\")"
   ],
   "id": "fd9bcb04a96586dc",
   "outputs": [],
   "execution_count": 3
  },
  {
   "metadata": {
    "ExecuteTime": {
     "end_time": "2025-06-20T19:38:05.341344Z",
     "start_time": "2025-06-20T19:38:05.315500Z"
    }
   },
   "cell_type": "code",
   "source": "mapping.to_csv(Path(\"../../data/output\") / \"crsp_mapping.csv\")",
   "id": "ac5bd222be3434ea",
   "outputs": [],
   "execution_count": 4
  },
  {
   "cell_type": "code",
   "id": "5b8d7f0c354f3490",
   "metadata": {
    "ExecuteTime": {
     "end_time": "2025-06-20T19:38:36.641432Z",
     "start_time": "2025-06-20T19:38:05.347397Z"
    }
   },
   "source": [
    "CRSP_IGNORED = [-66, -77, -88, -99]\n",
    "\n",
    "jkp_data = jkp_data[\n",
    "    (jkp_data[\"ret\"] != CRSP_IGNORED[0])\n",
    "    & (jkp_data[\"ret\"] != CRSP_IGNORED[1])\n",
    "    & (jkp_data[\"ret\"] != CRSP_IGNORED[2])\n",
    "    & (jkp_data[\"ret\"] != CRSP_IGNORED[3])\n",
    "]"
   ],
   "outputs": [],
   "execution_count": 5
  },
  {
   "cell_type": "code",
   "id": "1c620b54c0e0bb8",
   "metadata": {
    "ExecuteTime": {
     "end_time": "2025-06-20T19:38:44.593216Z",
     "start_time": "2025-06-20T19:38:36.647962Z"
    }
   },
   "source": [
    "jkp_data[\"ret\"] = jkp_data[\"ret\"].replace(\"C\", np.nan).astype(float)"
   ],
   "outputs": [],
   "execution_count": 6
  },
  {
   "metadata": {
    "ExecuteTime": {
     "end_time": "2025-06-20T19:38:44.605865Z",
     "start_time": "2025-06-20T19:38:44.604386Z"
    }
   },
   "cell_type": "code",
   "source": "# jkp_data[\"prc\"] = np.abs(jkp_data[\"prc\"]) / jkp_data[\"cfacpr\"].ffill().fillna(1).replace(0, 1.0)",
   "id": "5ae3507ba91b892d",
   "outputs": [],
   "execution_count": 7
  },
  {
   "cell_type": "code",
   "id": "9ffe9156880bef11",
   "metadata": {
    "ExecuteTime": {
     "end_time": "2025-06-20T19:38:44.762070Z",
     "start_time": "2025-06-20T19:38:44.612105Z"
    }
   },
   "source": "jkp_data[\"mktcap\"] = jkp_data[\"shrout\"] * 1_000 * jkp_data[\"prc\"]",
   "outputs": [],
   "execution_count": 8
  },
  {
   "metadata": {
    "ExecuteTime": {
     "end_time": "2025-06-20T19:39:13.693092Z",
     "start_time": "2025-06-20T19:38:44.764458Z"
    }
   },
   "cell_type": "code",
   "source": "dolvol = jkp_data.reset_index().pivot(index=\"date\", columns=\"permno\", values=\"mktcap\")",
   "id": "56ab5940a14a2cd0",
   "outputs": [],
   "execution_count": 9
  },
  {
   "metadata": {
    "ExecuteTime": {
     "end_time": "2025-06-20T19:39:14.105882Z",
     "start_time": "2025-06-20T19:39:13.709553Z"
    }
   },
   "cell_type": "code",
   "source": "dolvol = dolvol.resample(\"ME\").last()",
   "id": "66f433627a697dbf",
   "outputs": [],
   "execution_count": 10
  },
  {
   "metadata": {
    "ExecuteTime": {
     "end_time": "2025-06-20T19:39:14.420471Z",
     "start_time": "2025-06-20T19:39:14.133868Z"
    }
   },
   "cell_type": "code",
   "source": [
    "N_LARGEST = 50\n",
    "\n",
    "presence_matrix = dolvol.apply(lambda x: x >= x.nlargest(N_LARGEST).min(), axis=1).astype(float)\n",
    "presence_matrix[presence_matrix == 0] = np.nan"
   ],
   "id": "724b732be0ebcf80",
   "outputs": [],
   "execution_count": 11
  },
  {
   "metadata": {
    "ExecuteTime": {
     "end_time": "2025-06-20T19:39:14.449748Z",
     "start_time": "2025-06-20T19:39:14.442966Z"
    }
   },
   "cell_type": "code",
   "source": [
    "presence_matrix = presence_matrix.dropna(axis=1, how=\"all\")\n",
    "presence_matrix.shape"
   ],
   "id": "946b88de6c16e456",
   "outputs": [
    {
     "data": {
      "text/plain": [
       "(540, 231)"
      ]
     },
     "execution_count": 12,
     "metadata": {},
     "output_type": "execute_result"
    }
   ],
   "execution_count": 12
  },
  {
   "cell_type": "code",
   "id": "ec54a391104e5812",
   "metadata": {
    "ExecuteTime": {
     "end_time": "2025-06-20T19:39:16.673521Z",
     "start_time": "2025-06-20T19:39:14.466934Z"
    }
   },
   "source": [
    "pivoted_returns = (\n",
    "    jkp_data.loc[jkp_data.index.get_level_values(\"permno\").isin(presence_matrix.columns)]\n",
    "    .reset_index()\n",
    "    .pivot_table(index=\"date\", columns=\"permno\", values=\"ret\")\n",
    ")"
   ],
   "outputs": [],
   "execution_count": 13
  },
  {
   "metadata": {
    "ExecuteTime": {
     "end_time": "2025-06-20T19:39:16.697727Z",
     "start_time": "2025-06-20T19:39:16.696174Z"
    }
   },
   "cell_type": "code",
   "source": [
    "last_selection = presence_matrix.iloc[-1]\n",
    "last_selection = last_selection[last_selection.notna()].index"
   ],
   "id": "82d42f3430495a6c",
   "outputs": [],
   "execution_count": 14
  },
  {
   "metadata": {
    "ExecuteTime": {
     "end_time": "2025-06-20T19:39:16.719778Z",
     "start_time": "2025-06-20T19:39:16.717865Z"
    }
   },
   "cell_type": "code",
   "source": "last_selection",
   "id": "d6ede199e5ecfe93",
   "outputs": [
    {
     "data": {
      "text/plain": [
       "Index([10104, 10107, 11308, 11850, 12060, 12490, 13407, 13447, 13721, 13856,\n",
       "       14541, 14542, 14593, 17778, 18163, 18542, 20482, 22111, 22752, 26403,\n",
       "       38703, 43449, 47896, 50876, 55976, 59176, 59408, 61241, 62092, 66181,\n",
       "       69032, 75510, 76076, 78975, 83443, 84788, 86580, 86868, 87055, 88352,\n",
       "       89393, 90215, 90319, 91233, 91937, 92602, 92611, 92655, 93002, 93436],\n",
       "      dtype='int64', name='permno')"
      ]
     },
     "execution_count": 15,
     "metadata": {},
     "output_type": "execute_result"
    }
   ],
   "execution_count": 15
  },
  {
   "metadata": {
    "ExecuteTime": {
     "end_time": "2025-06-20T19:39:16.727660Z",
     "start_time": "2025-06-20T19:39:16.726416Z"
    }
   },
   "cell_type": "code",
   "source": [
    "# df_data = jkp_data.reset_index()\n",
    "# df_data[df_data[\"permno\"].isin(last_selection)][\"comnam\"].drop_duplicates()"
   ],
   "id": "d2c286b640283411",
   "outputs": [],
   "execution_count": 16
  },
  {
   "cell_type": "code",
   "id": "a5bddae6d601c977",
   "metadata": {
    "ExecuteTime": {
     "end_time": "2025-06-20T19:39:16.746838Z",
     "start_time": "2025-06-20T19:39:16.745587Z"
    }
   },
   "source": "full_df = pivoted_returns",
   "outputs": [],
   "execution_count": 17
  },
  {
   "cell_type": "code",
   "id": "19efef8506fe16f1",
   "metadata": {
    "ExecuteTime": {
     "end_time": "2025-06-20T19:39:16.779890Z",
     "start_time": "2025-06-20T19:39:16.778069Z"
    }
   },
   "source": [
    "valid_cols = presence_matrix.columns.intersection(full_df.columns)\n",
    "len(valid_cols)"
   ],
   "outputs": [
    {
     "data": {
      "text/plain": [
       "231"
      ]
     },
     "execution_count": 18,
     "metadata": {},
     "output_type": "execute_result"
    }
   ],
   "execution_count": 18
  },
  {
   "cell_type": "code",
   "id": "e48a2cab62006503",
   "metadata": {
    "ExecuteTime": {
     "end_time": "2025-06-20T19:39:16.804861Z",
     "start_time": "2025-06-20T19:39:16.801954Z"
    }
   },
   "source": [
    "presence_matrix = presence_matrix.reset_index()\n",
    "presence_matrix[\"date\"] = pd.to_datetime(presence_matrix[\"date\"])\n",
    "presence_matrix = presence_matrix.set_index(\"date\")"
   ],
   "outputs": [],
   "execution_count": 19
  },
  {
   "metadata": {
    "ExecuteTime": {
     "end_time": "2025-06-20T19:39:16.839248Z",
     "start_time": "2025-06-20T19:39:16.831195Z"
    }
   },
   "cell_type": "code",
   "source": "presence_matrix",
   "id": "6dfe515ac093f668",
   "outputs": [
    {
     "data": {
      "text/plain": [
       "permno      10078  10104  10107  10145  10147  10161  10401  10604  10890  \\\n",
       "date                                                                        \n",
       "1980-01-31    NaN    NaN    NaN    NaN    NaN    NaN    1.0    1.0    1.0   \n",
       "1980-02-29    NaN    NaN    NaN    NaN    NaN    1.0    1.0    1.0    1.0   \n",
       "1980-03-31    NaN    NaN    NaN    NaN    NaN    NaN    1.0    1.0    1.0   \n",
       "1980-04-30    NaN    NaN    NaN    NaN    NaN    NaN    1.0    1.0    1.0   \n",
       "1980-05-31    NaN    NaN    NaN    NaN    NaN    NaN    1.0    1.0    NaN   \n",
       "...           ...    ...    ...    ...    ...    ...    ...    ...    ...   \n",
       "2024-08-31    NaN    1.0    1.0    NaN    NaN    NaN    NaN    NaN    NaN   \n",
       "2024-09-30    NaN    1.0    1.0    NaN    NaN    NaN    NaN    NaN    NaN   \n",
       "2024-10-31    NaN    1.0    1.0    NaN    NaN    NaN    NaN    NaN    NaN   \n",
       "2024-11-30    NaN    1.0    1.0    NaN    NaN    NaN    NaN    NaN    NaN   \n",
       "2024-12-31    NaN    1.0    1.0    NaN    NaN    NaN    NaN    NaN    NaN   \n",
       "\n",
       "permno      11042  ...  90319  90386  91233  91937  92602  92611  92618  \\\n",
       "date               ...                                                    \n",
       "1980-01-31    NaN  ...    NaN    NaN    NaN    NaN    NaN    NaN    NaN   \n",
       "1980-02-29    NaN  ...    NaN    NaN    NaN    NaN    NaN    NaN    NaN   \n",
       "1980-03-31    NaN  ...    NaN    NaN    NaN    NaN    NaN    NaN    NaN   \n",
       "1980-04-30    NaN  ...    NaN    NaN    NaN    NaN    NaN    NaN    NaN   \n",
       "1980-05-31    NaN  ...    NaN    NaN    NaN    NaN    NaN    NaN    NaN   \n",
       "...           ...  ...    ...    ...    ...    ...    ...    ...    ...   \n",
       "2024-08-31    NaN  ...    1.0    NaN    1.0    1.0    1.0    1.0    NaN   \n",
       "2024-09-30    NaN  ...    1.0    NaN    1.0    1.0    1.0    1.0    NaN   \n",
       "2024-10-31    NaN  ...    1.0    NaN    1.0    1.0    1.0    1.0    NaN   \n",
       "2024-11-30    NaN  ...    1.0    NaN    1.0    1.0    1.0    1.0    NaN   \n",
       "2024-12-31    NaN  ...    1.0    NaN    1.0    1.0    1.0    1.0    NaN   \n",
       "\n",
       "permno      92655  93002  93436  \n",
       "date                             \n",
       "1980-01-31    NaN    NaN    NaN  \n",
       "1980-02-29    NaN    NaN    NaN  \n",
       "1980-03-31    NaN    NaN    NaN  \n",
       "1980-04-30    NaN    NaN    NaN  \n",
       "1980-05-31    NaN    NaN    NaN  \n",
       "...           ...    ...    ...  \n",
       "2024-08-31    1.0    1.0    1.0  \n",
       "2024-09-30    1.0    1.0    1.0  \n",
       "2024-10-31    1.0    1.0    1.0  \n",
       "2024-11-30    1.0    1.0    1.0  \n",
       "2024-12-31    1.0    1.0    1.0  \n",
       "\n",
       "[540 rows x 231 columns]"
      ],
      "text/html": [
       "<div>\n",
       "<style scoped>\n",
       "    .dataframe tbody tr th:only-of-type {\n",
       "        vertical-align: middle;\n",
       "    }\n",
       "\n",
       "    .dataframe tbody tr th {\n",
       "        vertical-align: top;\n",
       "    }\n",
       "\n",
       "    .dataframe thead th {\n",
       "        text-align: right;\n",
       "    }\n",
       "</style>\n",
       "<table border=\"1\" class=\"dataframe\">\n",
       "  <thead>\n",
       "    <tr style=\"text-align: right;\">\n",
       "      <th>permno</th>\n",
       "      <th>10078</th>\n",
       "      <th>10104</th>\n",
       "      <th>10107</th>\n",
       "      <th>10145</th>\n",
       "      <th>10147</th>\n",
       "      <th>10161</th>\n",
       "      <th>10401</th>\n",
       "      <th>10604</th>\n",
       "      <th>10890</th>\n",
       "      <th>11042</th>\n",
       "      <th>...</th>\n",
       "      <th>90319</th>\n",
       "      <th>90386</th>\n",
       "      <th>91233</th>\n",
       "      <th>91937</th>\n",
       "      <th>92602</th>\n",
       "      <th>92611</th>\n",
       "      <th>92618</th>\n",
       "      <th>92655</th>\n",
       "      <th>93002</th>\n",
       "      <th>93436</th>\n",
       "    </tr>\n",
       "    <tr>\n",
       "      <th>date</th>\n",
       "      <th></th>\n",
       "      <th></th>\n",
       "      <th></th>\n",
       "      <th></th>\n",
       "      <th></th>\n",
       "      <th></th>\n",
       "      <th></th>\n",
       "      <th></th>\n",
       "      <th></th>\n",
       "      <th></th>\n",
       "      <th></th>\n",
       "      <th></th>\n",
       "      <th></th>\n",
       "      <th></th>\n",
       "      <th></th>\n",
       "      <th></th>\n",
       "      <th></th>\n",
       "      <th></th>\n",
       "      <th></th>\n",
       "      <th></th>\n",
       "      <th></th>\n",
       "    </tr>\n",
       "  </thead>\n",
       "  <tbody>\n",
       "    <tr>\n",
       "      <th>1980-01-31</th>\n",
       "      <td>NaN</td>\n",
       "      <td>NaN</td>\n",
       "      <td>NaN</td>\n",
       "      <td>NaN</td>\n",
       "      <td>NaN</td>\n",
       "      <td>NaN</td>\n",
       "      <td>1.0</td>\n",
       "      <td>1.0</td>\n",
       "      <td>1.0</td>\n",
       "      <td>NaN</td>\n",
       "      <td>...</td>\n",
       "      <td>NaN</td>\n",
       "      <td>NaN</td>\n",
       "      <td>NaN</td>\n",
       "      <td>NaN</td>\n",
       "      <td>NaN</td>\n",
       "      <td>NaN</td>\n",
       "      <td>NaN</td>\n",
       "      <td>NaN</td>\n",
       "      <td>NaN</td>\n",
       "      <td>NaN</td>\n",
       "    </tr>\n",
       "    <tr>\n",
       "      <th>1980-02-29</th>\n",
       "      <td>NaN</td>\n",
       "      <td>NaN</td>\n",
       "      <td>NaN</td>\n",
       "      <td>NaN</td>\n",
       "      <td>NaN</td>\n",
       "      <td>1.0</td>\n",
       "      <td>1.0</td>\n",
       "      <td>1.0</td>\n",
       "      <td>1.0</td>\n",
       "      <td>NaN</td>\n",
       "      <td>...</td>\n",
       "      <td>NaN</td>\n",
       "      <td>NaN</td>\n",
       "      <td>NaN</td>\n",
       "      <td>NaN</td>\n",
       "      <td>NaN</td>\n",
       "      <td>NaN</td>\n",
       "      <td>NaN</td>\n",
       "      <td>NaN</td>\n",
       "      <td>NaN</td>\n",
       "      <td>NaN</td>\n",
       "    </tr>\n",
       "    <tr>\n",
       "      <th>1980-03-31</th>\n",
       "      <td>NaN</td>\n",
       "      <td>NaN</td>\n",
       "      <td>NaN</td>\n",
       "      <td>NaN</td>\n",
       "      <td>NaN</td>\n",
       "      <td>NaN</td>\n",
       "      <td>1.0</td>\n",
       "      <td>1.0</td>\n",
       "      <td>1.0</td>\n",
       "      <td>NaN</td>\n",
       "      <td>...</td>\n",
       "      <td>NaN</td>\n",
       "      <td>NaN</td>\n",
       "      <td>NaN</td>\n",
       "      <td>NaN</td>\n",
       "      <td>NaN</td>\n",
       "      <td>NaN</td>\n",
       "      <td>NaN</td>\n",
       "      <td>NaN</td>\n",
       "      <td>NaN</td>\n",
       "      <td>NaN</td>\n",
       "    </tr>\n",
       "    <tr>\n",
       "      <th>1980-04-30</th>\n",
       "      <td>NaN</td>\n",
       "      <td>NaN</td>\n",
       "      <td>NaN</td>\n",
       "      <td>NaN</td>\n",
       "      <td>NaN</td>\n",
       "      <td>NaN</td>\n",
       "      <td>1.0</td>\n",
       "      <td>1.0</td>\n",
       "      <td>1.0</td>\n",
       "      <td>NaN</td>\n",
       "      <td>...</td>\n",
       "      <td>NaN</td>\n",
       "      <td>NaN</td>\n",
       "      <td>NaN</td>\n",
       "      <td>NaN</td>\n",
       "      <td>NaN</td>\n",
       "      <td>NaN</td>\n",
       "      <td>NaN</td>\n",
       "      <td>NaN</td>\n",
       "      <td>NaN</td>\n",
       "      <td>NaN</td>\n",
       "    </tr>\n",
       "    <tr>\n",
       "      <th>1980-05-31</th>\n",
       "      <td>NaN</td>\n",
       "      <td>NaN</td>\n",
       "      <td>NaN</td>\n",
       "      <td>NaN</td>\n",
       "      <td>NaN</td>\n",
       "      <td>NaN</td>\n",
       "      <td>1.0</td>\n",
       "      <td>1.0</td>\n",
       "      <td>NaN</td>\n",
       "      <td>NaN</td>\n",
       "      <td>...</td>\n",
       "      <td>NaN</td>\n",
       "      <td>NaN</td>\n",
       "      <td>NaN</td>\n",
       "      <td>NaN</td>\n",
       "      <td>NaN</td>\n",
       "      <td>NaN</td>\n",
       "      <td>NaN</td>\n",
       "      <td>NaN</td>\n",
       "      <td>NaN</td>\n",
       "      <td>NaN</td>\n",
       "    </tr>\n",
       "    <tr>\n",
       "      <th>...</th>\n",
       "      <td>...</td>\n",
       "      <td>...</td>\n",
       "      <td>...</td>\n",
       "      <td>...</td>\n",
       "      <td>...</td>\n",
       "      <td>...</td>\n",
       "      <td>...</td>\n",
       "      <td>...</td>\n",
       "      <td>...</td>\n",
       "      <td>...</td>\n",
       "      <td>...</td>\n",
       "      <td>...</td>\n",
       "      <td>...</td>\n",
       "      <td>...</td>\n",
       "      <td>...</td>\n",
       "      <td>...</td>\n",
       "      <td>...</td>\n",
       "      <td>...</td>\n",
       "      <td>...</td>\n",
       "      <td>...</td>\n",
       "      <td>...</td>\n",
       "    </tr>\n",
       "    <tr>\n",
       "      <th>2024-08-31</th>\n",
       "      <td>NaN</td>\n",
       "      <td>1.0</td>\n",
       "      <td>1.0</td>\n",
       "      <td>NaN</td>\n",
       "      <td>NaN</td>\n",
       "      <td>NaN</td>\n",
       "      <td>NaN</td>\n",
       "      <td>NaN</td>\n",
       "      <td>NaN</td>\n",
       "      <td>NaN</td>\n",
       "      <td>...</td>\n",
       "      <td>1.0</td>\n",
       "      <td>NaN</td>\n",
       "      <td>1.0</td>\n",
       "      <td>1.0</td>\n",
       "      <td>1.0</td>\n",
       "      <td>1.0</td>\n",
       "      <td>NaN</td>\n",
       "      <td>1.0</td>\n",
       "      <td>1.0</td>\n",
       "      <td>1.0</td>\n",
       "    </tr>\n",
       "    <tr>\n",
       "      <th>2024-09-30</th>\n",
       "      <td>NaN</td>\n",
       "      <td>1.0</td>\n",
       "      <td>1.0</td>\n",
       "      <td>NaN</td>\n",
       "      <td>NaN</td>\n",
       "      <td>NaN</td>\n",
       "      <td>NaN</td>\n",
       "      <td>NaN</td>\n",
       "      <td>NaN</td>\n",
       "      <td>NaN</td>\n",
       "      <td>...</td>\n",
       "      <td>1.0</td>\n",
       "      <td>NaN</td>\n",
       "      <td>1.0</td>\n",
       "      <td>1.0</td>\n",
       "      <td>1.0</td>\n",
       "      <td>1.0</td>\n",
       "      <td>NaN</td>\n",
       "      <td>1.0</td>\n",
       "      <td>1.0</td>\n",
       "      <td>1.0</td>\n",
       "    </tr>\n",
       "    <tr>\n",
       "      <th>2024-10-31</th>\n",
       "      <td>NaN</td>\n",
       "      <td>1.0</td>\n",
       "      <td>1.0</td>\n",
       "      <td>NaN</td>\n",
       "      <td>NaN</td>\n",
       "      <td>NaN</td>\n",
       "      <td>NaN</td>\n",
       "      <td>NaN</td>\n",
       "      <td>NaN</td>\n",
       "      <td>NaN</td>\n",
       "      <td>...</td>\n",
       "      <td>1.0</td>\n",
       "      <td>NaN</td>\n",
       "      <td>1.0</td>\n",
       "      <td>1.0</td>\n",
       "      <td>1.0</td>\n",
       "      <td>1.0</td>\n",
       "      <td>NaN</td>\n",
       "      <td>1.0</td>\n",
       "      <td>1.0</td>\n",
       "      <td>1.0</td>\n",
       "    </tr>\n",
       "    <tr>\n",
       "      <th>2024-11-30</th>\n",
       "      <td>NaN</td>\n",
       "      <td>1.0</td>\n",
       "      <td>1.0</td>\n",
       "      <td>NaN</td>\n",
       "      <td>NaN</td>\n",
       "      <td>NaN</td>\n",
       "      <td>NaN</td>\n",
       "      <td>NaN</td>\n",
       "      <td>NaN</td>\n",
       "      <td>NaN</td>\n",
       "      <td>...</td>\n",
       "      <td>1.0</td>\n",
       "      <td>NaN</td>\n",
       "      <td>1.0</td>\n",
       "      <td>1.0</td>\n",
       "      <td>1.0</td>\n",
       "      <td>1.0</td>\n",
       "      <td>NaN</td>\n",
       "      <td>1.0</td>\n",
       "      <td>1.0</td>\n",
       "      <td>1.0</td>\n",
       "    </tr>\n",
       "    <tr>\n",
       "      <th>2024-12-31</th>\n",
       "      <td>NaN</td>\n",
       "      <td>1.0</td>\n",
       "      <td>1.0</td>\n",
       "      <td>NaN</td>\n",
       "      <td>NaN</td>\n",
       "      <td>NaN</td>\n",
       "      <td>NaN</td>\n",
       "      <td>NaN</td>\n",
       "      <td>NaN</td>\n",
       "      <td>NaN</td>\n",
       "      <td>...</td>\n",
       "      <td>1.0</td>\n",
       "      <td>NaN</td>\n",
       "      <td>1.0</td>\n",
       "      <td>1.0</td>\n",
       "      <td>1.0</td>\n",
       "      <td>1.0</td>\n",
       "      <td>NaN</td>\n",
       "      <td>1.0</td>\n",
       "      <td>1.0</td>\n",
       "      <td>1.0</td>\n",
       "    </tr>\n",
       "  </tbody>\n",
       "</table>\n",
       "<p>540 rows × 231 columns</p>\n",
       "</div>"
      ]
     },
     "execution_count": 20,
     "metadata": {},
     "output_type": "execute_result"
    }
   ],
   "execution_count": 20
  },
  {
   "metadata": {
    "ExecuteTime": {
     "end_time": "2025-06-20T19:39:16.895085Z",
     "start_time": "2025-06-20T19:39:16.889234Z"
    }
   },
   "cell_type": "code",
   "source": "presence_matrix = presence_matrix.resample(\"D\").ffill()",
   "id": "3c3ad65685a9811f",
   "outputs": [],
   "execution_count": 21
  },
  {
   "cell_type": "code",
   "id": "e3ee7dbacb916c5e",
   "metadata": {
    "ExecuteTime": {
     "end_time": "2025-06-20T19:39:16.969388Z",
     "start_time": "2025-06-20T19:39:16.958091Z"
    }
   },
   "source": [
    "merged_index = full_df.merge(\n",
    "    presence_matrix, left_index=True, right_index=True, how=\"inner\"\n",
    ").index"
   ],
   "outputs": [],
   "execution_count": 22
  },
  {
   "cell_type": "code",
   "id": "17b677f33b56158a",
   "metadata": {
    "ExecuteTime": {
     "end_time": "2025-06-20T19:39:17.024547Z",
     "start_time": "2025-06-20T19:39:17.016062Z"
    }
   },
   "source": [
    "full_df = full_df.loc[merged_index]\n",
    "presence_matrix = presence_matrix.loc[merged_index]\n",
    "full_df.shape, presence_matrix.shape"
   ],
   "outputs": [
    {
     "data": {
      "text/plain": [
       "((11324, 231), (11324, 231))"
      ]
     },
     "execution_count": 23,
     "metadata": {},
     "output_type": "execute_result"
    }
   ],
   "execution_count": 23
  },
  {
   "cell_type": "code",
   "id": "47c8db7dbb5a0b67",
   "metadata": {
    "ExecuteTime": {
     "end_time": "2025-06-20T19:39:17.727325Z",
     "start_time": "2025-06-20T19:39:17.057047Z"
    }
   },
   "source": "full_df[valid_cols].to_csv(Path(\"../../data/output\") / f\"top{N_LARGEST}_data.csv\")",
   "outputs": [],
   "execution_count": 24
  },
  {
   "metadata": {
    "ExecuteTime": {
     "end_time": "2025-06-20T19:39:18.091843Z",
     "start_time": "2025-06-20T19:39:17.742048Z"
    }
   },
   "cell_type": "code",
   "source": "presence_matrix[valid_cols].to_csv(Path(\"../../data/output\") / f\"top{N_LARGEST}_presence_matrix.csv\")",
   "id": "cc2fe873d9798c53",
   "outputs": [],
   "execution_count": 25
  },
  {
   "cell_type": "code",
   "id": "e61d4472fc4d334b",
   "metadata": {
    "ExecuteTime": {
     "end_time": "2025-06-20T19:39:18.134741Z",
     "start_time": "2025-06-20T19:39:18.132506Z"
    }
   },
   "source": [
    "pd.DataFrame(valid_cols).to_csv(\n",
    "    Path(\"../../data/output\") / f\"top{N_LARGEST}_stocks_list.csv\",\n",
    "    index=False,\n",
    ")"
   ],
   "outputs": [],
   "execution_count": 26
  }
 ],
 "metadata": {
  "kernelspec": {
   "display_name": "Python 3",
   "language": "python",
   "name": "python3"
  },
  "language_info": {
   "codemirror_mode": {
    "name": "ipython",
    "version": 2
   },
   "file_extension": ".py",
   "mimetype": "text/x-python",
   "name": "python",
   "nbconvert_exporter": "python",
   "pygments_lexer": "ipython2",
   "version": "2.7.6"
  }
 },
 "nbformat": 4,
 "nbformat_minor": 5
}
