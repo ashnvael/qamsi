{
 "cells": [
  {
   "cell_type": "code",
   "execution_count": 1,
   "id": "initial_id",
   "metadata": {
    "ExecuteTime": {
     "end_time": "2025-05-26T16:31:05.568946Z",
     "start_time": "2025-05-26T16:31:05.362885Z"
    }
   },
   "outputs": [],
   "source": [
    "from __future__ import annotations\n",
    "\n",
    "import numpy as np\n",
    "import pandas as pd\n",
    "from research.fractional_momentum.fractional_momentum.config.experiment_config import (\n",
    "    ExperimentConfig,\n",
    ")"
   ]
  },
  {
   "cell_type": "code",
   "execution_count": 50,
   "id": "b21f9e91e4d29b56",
   "metadata": {
    "ExecuteTime": {
     "end_time": "2025-05-26T16:36:44.310254Z",
     "start_time": "2025-05-26T16:36:43.943340Z"
    }
   },
   "outputs": [],
   "source": [
    "presence_matrix = pd.read_csv(ExperimentConfig.PATH_INPUT / \"presence_matrix.csv\")"
   ]
  },
  {
   "cell_type": "code",
   "execution_count": 3,
   "id": "4a39d6f772450bea",
   "metadata": {
    "ExecuteTime": {
     "end_time": "2025-05-26T16:32:22.478920Z",
     "start_time": "2025-05-26T16:31:05.960251Z"
    }
   },
   "outputs": [
    {
     "name": "stderr",
     "output_type": "stream",
     "text": [
      "/var/folders/sr/lzvmv9j54ks_jl4x99t250r00000gn/T/ipykernel_40039/2552209773.py:1: DtypeWarning: Columns (5,6,9,18,19,20,22,24,38,40,49,57) have mixed types. Specify dtype option on import or set low_memory=False.\n",
      "  jkp_data = pd.read_csv(ExperimentConfig.PATH_INPUT / \"crsp_all_data.csv\")\n"
     ]
    },
    {
     "data": {
      "text/html": [
       "<div>\n",
       "<style scoped>\n",
       "    .dataframe tbody tr th:only-of-type {\n",
       "        vertical-align: middle;\n",
       "    }\n",
       "\n",
       "    .dataframe tbody tr th {\n",
       "        vertical-align: top;\n",
       "    }\n",
       "\n",
       "    .dataframe thead th {\n",
       "        text-align: right;\n",
       "    }\n",
       "</style>\n",
       "<table border=\"1\" class=\"dataframe\">\n",
       "  <thead>\n",
       "    <tr style=\"text-align: right;\">\n",
       "      <th></th>\n",
       "      <th></th>\n",
       "      <th>nameendt</th>\n",
       "      <th>shrcd</th>\n",
       "      <th>exchcd</th>\n",
       "      <th>siccd</th>\n",
       "      <th>ncusip</th>\n",
       "      <th>ticker</th>\n",
       "      <th>comnam</th>\n",
       "      <th>shrcls</th>\n",
       "      <th>tsymbol</th>\n",
       "      <th>naics</th>\n",
       "      <th>...</th>\n",
       "      <th>cfacpr</th>\n",
       "      <th>cfacshr</th>\n",
       "      <th>openprc</th>\n",
       "      <th>numtrd</th>\n",
       "      <th>retx</th>\n",
       "      <th>vwretd</th>\n",
       "      <th>vwretx</th>\n",
       "      <th>ewretd</th>\n",
       "      <th>ewretx</th>\n",
       "      <th>sprtrn</th>\n",
       "    </tr>\n",
       "    <tr>\n",
       "      <th>date</th>\n",
       "      <th>permno</th>\n",
       "      <th></th>\n",
       "      <th></th>\n",
       "      <th></th>\n",
       "      <th></th>\n",
       "      <th></th>\n",
       "      <th></th>\n",
       "      <th></th>\n",
       "      <th></th>\n",
       "      <th></th>\n",
       "      <th></th>\n",
       "      <th></th>\n",
       "      <th></th>\n",
       "      <th></th>\n",
       "      <th></th>\n",
       "      <th></th>\n",
       "      <th></th>\n",
       "      <th></th>\n",
       "      <th></th>\n",
       "      <th></th>\n",
       "      <th></th>\n",
       "      <th></th>\n",
       "    </tr>\n",
       "  </thead>\n",
       "  <tbody>\n",
       "    <tr>\n",
       "      <th rowspan=\"5\" valign=\"top\">2000-01-03</th>\n",
       "      <th>10001</th>\n",
       "      <td>NaN</td>\n",
       "      <td>11</td>\n",
       "      <td>3</td>\n",
       "      <td>4920</td>\n",
       "      <td>29274A10</td>\n",
       "      <td>EWST</td>\n",
       "      <td>ENERGY WEST INC</td>\n",
       "      <td>NaN</td>\n",
       "      <td>EWST</td>\n",
       "      <td>NaN</td>\n",
       "      <td>...</td>\n",
       "      <td>1.5</td>\n",
       "      <td>1.5</td>\n",
       "      <td>8.4375</td>\n",
       "      <td>2.0</td>\n",
       "      <td>0.007353</td>\n",
       "      <td>-0.006803</td>\n",
       "      <td>-0.00681</td>\n",
       "      <td>0.002878</td>\n",
       "      <td>0.00286</td>\n",
       "      <td>-0.009549</td>\n",
       "    </tr>\n",
       "    <tr>\n",
       "      <th>10002</th>\n",
       "      <td>NaN</td>\n",
       "      <td>11</td>\n",
       "      <td>3</td>\n",
       "      <td>6020</td>\n",
       "      <td>83623410</td>\n",
       "      <td>SABC</td>\n",
       "      <td>SOUTH ALABAMA BANCORPORATION INC</td>\n",
       "      <td>NaN</td>\n",
       "      <td>SABC</td>\n",
       "      <td>NaN</td>\n",
       "      <td>...</td>\n",
       "      <td>1.0</td>\n",
       "      <td>1.0</td>\n",
       "      <td>12.5000</td>\n",
       "      <td>6.0</td>\n",
       "      <td>-0.015385</td>\n",
       "      <td>-0.006803</td>\n",
       "      <td>-0.00681</td>\n",
       "      <td>0.002878</td>\n",
       "      <td>0.00286</td>\n",
       "      <td>-0.009549</td>\n",
       "    </tr>\n",
       "    <tr>\n",
       "      <th>10009</th>\n",
       "      <td>NaN</td>\n",
       "      <td>11</td>\n",
       "      <td>3</td>\n",
       "      <td>6030</td>\n",
       "      <td>46334710</td>\n",
       "      <td>IROQ</td>\n",
       "      <td>IROQUOIS BANCORP INC</td>\n",
       "      <td>NaN</td>\n",
       "      <td>IROQ</td>\n",
       "      <td>NaN</td>\n",
       "      <td>...</td>\n",
       "      <td>1.0</td>\n",
       "      <td>1.0</td>\n",
       "      <td>14.7500</td>\n",
       "      <td>10.0</td>\n",
       "      <td>0.135593</td>\n",
       "      <td>-0.006803</td>\n",
       "      <td>-0.00681</td>\n",
       "      <td>0.002878</td>\n",
       "      <td>0.00286</td>\n",
       "      <td>-0.009549</td>\n",
       "    </tr>\n",
       "    <tr>\n",
       "      <th>10012</th>\n",
       "      <td>NaN</td>\n",
       "      <td>11</td>\n",
       "      <td>3</td>\n",
       "      <td>3670</td>\n",
       "      <td>24871930</td>\n",
       "      <td>DPAC</td>\n",
       "      <td>DENSE PACIFIC MICROSYSTEMS INC</td>\n",
       "      <td>NaN</td>\n",
       "      <td>DPAC</td>\n",
       "      <td>NaN</td>\n",
       "      <td>...</td>\n",
       "      <td>1.0</td>\n",
       "      <td>1.0</td>\n",
       "      <td>8.3750</td>\n",
       "      <td>409.0</td>\n",
       "      <td>-0.003891</td>\n",
       "      <td>-0.006803</td>\n",
       "      <td>-0.00681</td>\n",
       "      <td>0.002878</td>\n",
       "      <td>0.00286</td>\n",
       "      <td>-0.009549</td>\n",
       "    </tr>\n",
       "    <tr>\n",
       "      <th>10016</th>\n",
       "      <td>NaN</td>\n",
       "      <td>11</td>\n",
       "      <td>3</td>\n",
       "      <td>3560</td>\n",
       "      <td>81002230</td>\n",
       "      <td>SCTT</td>\n",
       "      <td>SCOTT TECHNOLOGIES INC</td>\n",
       "      <td>NaN</td>\n",
       "      <td>SCTT</td>\n",
       "      <td>NaN</td>\n",
       "      <td>...</td>\n",
       "      <td>1.0</td>\n",
       "      <td>1.0</td>\n",
       "      <td>18.1250</td>\n",
       "      <td>25.0</td>\n",
       "      <td>0.039735</td>\n",
       "      <td>-0.006803</td>\n",
       "      <td>-0.00681</td>\n",
       "      <td>0.002878</td>\n",
       "      <td>0.00286</td>\n",
       "      <td>-0.009549</td>\n",
       "    </tr>\n",
       "  </tbody>\n",
       "</table>\n",
       "<p>5 rows × 61 columns</p>\n",
       "</div>"
      ],
      "text/plain": [
       "                  nameendt  shrcd  exchcd siccd    ncusip ticker  \\\n",
       "date       permno                                                  \n",
       "2000-01-03 10001       NaN     11       3  4920  29274A10   EWST   \n",
       "           10002       NaN     11       3  6020  83623410   SABC   \n",
       "           10009       NaN     11       3  6030  46334710   IROQ   \n",
       "           10012       NaN     11       3  3670  24871930   DPAC   \n",
       "           10016       NaN     11       3  3560  81002230   SCTT   \n",
       "\n",
       "                                             comnam shrcls tsymbol  naics  \\\n",
       "date       permno                                                           \n",
       "2000-01-03 10001                    ENERGY WEST INC    NaN    EWST    NaN   \n",
       "           10002   SOUTH ALABAMA BANCORPORATION INC    NaN    SABC    NaN   \n",
       "           10009               IROQUOIS BANCORP INC    NaN    IROQ    NaN   \n",
       "           10012     DENSE PACIFIC MICROSYSTEMS INC    NaN    DPAC    NaN   \n",
       "           10016             SCOTT TECHNOLOGIES INC    NaN    SCTT    NaN   \n",
       "\n",
       "                   ... cfacpr cfacshr  openprc  numtrd      retx    vwretd  \\\n",
       "date       permno  ...                                                       \n",
       "2000-01-03 10001   ...    1.5     1.5   8.4375     2.0  0.007353 -0.006803   \n",
       "           10002   ...    1.0     1.0  12.5000     6.0 -0.015385 -0.006803   \n",
       "           10009   ...    1.0     1.0  14.7500    10.0  0.135593 -0.006803   \n",
       "           10012   ...    1.0     1.0   8.3750   409.0 -0.003891 -0.006803   \n",
       "           10016   ...    1.0     1.0  18.1250    25.0  0.039735 -0.006803   \n",
       "\n",
       "                    vwretx    ewretd   ewretx    sprtrn  \n",
       "date       permno                                        \n",
       "2000-01-03 10001  -0.00681  0.002878  0.00286 -0.009549  \n",
       "           10002  -0.00681  0.002878  0.00286 -0.009549  \n",
       "           10009  -0.00681  0.002878  0.00286 -0.009549  \n",
       "           10012  -0.00681  0.002878  0.00286 -0.009549  \n",
       "           10016  -0.00681  0.002878  0.00286 -0.009549  \n",
       "\n",
       "[5 rows x 61 columns]"
      ]
     },
     "execution_count": 3,
     "metadata": {},
     "output_type": "execute_result"
    }
   ],
   "source": [
    "jkp_data = pd.read_csv(ExperimentConfig.PATH_INPUT / \"crsp_all_data.csv\")\n",
    "jkp_data = jkp_data.rename(columns={c: c.lower() for c in jkp_data.columns})\n",
    "jkp_data = jkp_data.dropna(subset=[\"permno\"])\n",
    "jkp_data[\"permno\"] = jkp_data[\"permno\"].astype(int)\n",
    "jkp_data[\"date\"] = pd.to_datetime(jkp_data[\"date\"])\n",
    "jkp_data = jkp_data.sort_values([\"date\", \"permno\"])\n",
    "jkp_data = jkp_data.drop_duplicates(subset=[\"date\", \"permno\"])\n",
    "jkp_data = jkp_data.set_index([\"date\", \"permno\"])\n",
    "jkp_data.head()"
   ]
  },
  {
   "cell_type": "code",
   "execution_count": 38,
   "id": "5b8d7f0c354f3490",
   "metadata": {
    "ExecuteTime": {
     "end_time": "2025-05-26T16:35:58.411388Z",
     "start_time": "2025-05-26T16:35:49.326697Z"
    }
   },
   "outputs": [],
   "source": [
    "CRSP_IGNORED = [-66, -77, -88, -99]\n",
    "\n",
    "jkp_data = jkp_data[\n",
    "    (jkp_data[\"ret\"] != CRSP_IGNORED[0])\n",
    "    & (jkp_data[\"ret\"] != CRSP_IGNORED[1])\n",
    "    & (jkp_data[\"ret\"] != CRSP_IGNORED[2])\n",
    "    & (jkp_data[\"ret\"] != CRSP_IGNORED[3])\n",
    "]"
   ]
  },
  {
   "cell_type": "code",
   "execution_count": 39,
   "id": "72967da69a2846a1",
   "metadata": {
    "ExecuteTime": {
     "end_time": "2025-05-26T16:35:59.562790Z",
     "start_time": "2025-05-26T16:35:59.411914Z"
    }
   },
   "outputs": [],
   "source": [
    "jkp_data[\"prc_new\"] = np.abs(jkp_data[\"prc\"]) / jkp_data[\"cfacpr\"].ffill().fillna(\n",
    "    1\n",
    ").replace(0, 1.0)\n",
    "jkp_data[\"prc\"] = jkp_data[\"prc_new\"]"
   ]
  },
  {
   "cell_type": "code",
   "execution_count": 40,
   "id": "1c620b54c0e0bb8",
   "metadata": {
    "ExecuteTime": {
     "end_time": "2025-05-26T16:35:59.636547Z",
     "start_time": "2025-05-26T16:35:59.584446Z"
    }
   },
   "outputs": [],
   "source": [
    "jkp_data[\"ret\"] = jkp_data[\"ret\"].replace(\"C\", np.nan).astype(float)"
   ]
  },
  {
   "cell_type": "code",
   "execution_count": 41,
   "id": "9ffe9156880bef11",
   "metadata": {
    "ExecuteTime": {
     "end_time": "2025-05-26T16:35:59.716738Z",
     "start_time": "2025-05-26T16:35:59.660945Z"
    }
   },
   "outputs": [],
   "source": [
    "jkp_data[\"dolvol\"] = jkp_data[\"vol\"] * jkp_data[\"prc\"]"
   ]
  },
  {
   "cell_type": "code",
   "execution_count": 42,
   "id": "ff0fd8b8755ac94c",
   "metadata": {
    "ExecuteTime": {
     "end_time": "2025-05-26T16:36:07.520508Z",
     "start_time": "2025-05-26T16:35:59.807273Z"
    }
   },
   "outputs": [],
   "source": [
    "MIN_OBS = 5\n",
    "\n",
    "n_obs = jkp_data.groupby(\"permno\").apply(lambda x: (x[\"prc\"] >= 0).sum())\n",
    "valid_ids = n_obs[n_obs > MIN_OBS].index"
   ]
  },
  {
   "cell_type": "code",
   "execution_count": 43,
   "id": "38532d7007dbb7e6",
   "metadata": {
    "ExecuteTime": {
     "end_time": "2025-05-26T16:36:18.441826Z",
     "start_time": "2025-05-26T16:36:07.548652Z"
    }
   },
   "outputs": [],
   "source": [
    "pivoted_prices = (\n",
    "    jkp_data.loc[jkp_data.index.get_level_values(\"permno\").isin(valid_ids)]\n",
    "    .reset_index()\n",
    "    .pivot_table(index=\"date\", columns=\"permno\", values=\"prc\")\n",
    ")\n",
    "pivoted_prices = pivoted_prices.replace(0, np.nan)\n",
    "\n",
    "pivoted_prices.columns = [f\"{col}_Price\" for col in pivoted_prices.columns]\n",
    "\n",
    "pivoted_prices = pivoted_prices.replace(np.inf, np.nan)\n",
    "\n",
    "pivoted_prices = np.abs(pivoted_prices)"
   ]
  },
  {
   "cell_type": "code",
   "execution_count": 44,
   "id": "ec54a391104e5812",
   "metadata": {
    "ExecuteTime": {
     "end_time": "2025-05-26T16:36:29.130568Z",
     "start_time": "2025-05-26T16:36:18.472528Z"
    }
   },
   "outputs": [],
   "source": [
    "pivoted_returns = (\n",
    "    jkp_data.loc[jkp_data.index.get_level_values(\"permno\").isin(valid_ids)]\n",
    "    .reset_index()\n",
    "    .pivot_table(index=\"date\", columns=\"permno\", values=\"ret\")\n",
    ")"
   ]
  },
  {
   "cell_type": "code",
   "execution_count": 45,
   "id": "a5bddae6d601c977",
   "metadata": {
    "ExecuteTime": {
     "end_time": "2025-05-26T16:36:29.239525Z",
     "start_time": "2025-05-26T16:36:29.160507Z"
    }
   },
   "outputs": [],
   "source": [
    "full_df = pivoted_prices.merge(\n",
    "    pivoted_returns, left_index=True, right_index=True, how=\"inner\"\n",
    ")"
   ]
  },
  {
   "cell_type": "code",
   "execution_count": 46,
   "id": "48b2d0ffba92f102",
   "metadata": {
    "ExecuteTime": {
     "end_time": "2025-05-26T16:36:29.839902Z",
     "start_time": "2025-05-26T16:36:29.268829Z"
    }
   },
   "outputs": [],
   "source": [
    "data_df = pd.read_csv(ExperimentConfig.PATH_OUTPUT / \"data_df.csv\")\n",
    "data_df[\"date\"] = pd.to_datetime(data_df[\"date\"])\n",
    "data_df = data_df.set_index(\"date\")"
   ]
  },
  {
   "cell_type": "code",
   "execution_count": 47,
   "id": "c1957328e23db234",
   "metadata": {
    "ExecuteTime": {
     "end_time": "2025-05-26T16:36:30.208259Z",
     "start_time": "2025-05-26T16:36:29.855145Z"
    }
   },
   "outputs": [],
   "source": [
    "full_df = full_df.merge(data_df[[\"acc_rate\", \"spx\"]], left_index=True, right_index=True)"
   ]
  },
  {
   "cell_type": "code",
   "execution_count": 48,
   "id": "19efef8506fe16f1",
   "metadata": {
    "ExecuteTime": {
     "end_time": "2025-05-26T16:36:30.256108Z",
     "start_time": "2025-05-26T16:36:30.250191Z"
    }
   },
   "outputs": [
    {
     "data": {
      "text/plain": [
       "1033"
      ]
     },
     "execution_count": 48,
     "metadata": {},
     "output_type": "execute_result"
    }
   ],
   "source": [
    "valid_cols = presence_matrix.columns.intersection(full_df.columns.astype(str))\n",
    "len(valid_cols)"
   ]
  },
  {
   "cell_type": "code",
   "execution_count": 51,
   "id": "e48a2cab62006503",
   "metadata": {
    "ExecuteTime": {
     "end_time": "2025-05-26T16:36:48.732246Z",
     "start_time": "2025-05-26T16:36:48.702925Z"
    }
   },
   "outputs": [],
   "source": [
    "presence_matrix = presence_matrix.rename(columns={\"caldt\": \"date\"})\n",
    "presence_matrix[\"date\"] = pd.to_datetime(presence_matrix[\"date\"])\n",
    "presence_matrix = presence_matrix.set_index(\"date\")"
   ]
  },
  {
   "cell_type": "code",
   "execution_count": 52,
   "id": "e3ee7dbacb916c5e",
   "metadata": {
    "ExecuteTime": {
     "end_time": "2025-05-26T16:36:49.116406Z",
     "start_time": "2025-05-26T16:36:48.752650Z"
    }
   },
   "outputs": [],
   "source": [
    "merged_index = full_df.merge(\n",
    "    presence_matrix, left_index=True, right_index=True, how=\"inner\"\n",
    ").index"
   ]
  },
  {
   "cell_type": "code",
   "execution_count": 53,
   "id": "17b677f33b56158a",
   "metadata": {
    "ExecuteTime": {
     "end_time": "2025-05-26T16:36:49.255192Z",
     "start_time": "2025-05-26T16:36:49.135274Z"
    }
   },
   "outputs": [
    {
     "data": {
      "text/plain": [
       "((4980, 25688), (4980, 1539))"
      ]
     },
     "execution_count": 53,
     "metadata": {},
     "output_type": "execute_result"
    }
   ],
   "source": [
    "full_df = full_df.loc[merged_index]\n",
    "presence_matrix = presence_matrix.loc[merged_index]\n",
    "full_df.shape, presence_matrix.shape"
   ]
  },
  {
   "cell_type": "code",
   "execution_count": 54,
   "id": "599bfbc60a25381b",
   "metadata": {
    "ExecuteTime": {
     "end_time": "2025-05-26T16:36:49.285456Z",
     "start_time": "2025-05-26T16:36:49.282998Z"
    }
   },
   "outputs": [],
   "source": [
    "full_df.columns = full_df.columns.astype(str)"
   ]
  },
  {
   "cell_type": "code",
   "execution_count": 55,
   "id": "6e56e84f344a06bb",
   "metadata": {
    "ExecuteTime": {
     "end_time": "2025-05-26T16:36:49.360900Z",
     "start_time": "2025-05-26T16:36:49.309268Z"
    }
   },
   "outputs": [],
   "source": [
    "full_df[valid_cols] = full_df[valid_cols] * presence_matrix[valid_cols]"
   ]
  },
  {
   "cell_type": "code",
   "execution_count": 56,
   "id": "493e5d7db8e6f19b",
   "metadata": {
    "ExecuteTime": {
     "end_time": "2025-05-26T16:36:49.389885Z",
     "start_time": "2025-05-26T16:36:49.388502Z"
    }
   },
   "outputs": [],
   "source": [
    "valid_prices = [c + \"_Price\" for c in valid_cols]"
   ]
  },
  {
   "cell_type": "code",
   "execution_count": 57,
   "id": "47c8db7dbb5a0b67",
   "metadata": {
    "ExecuteTime": {
     "end_time": "2025-05-26T16:36:52.439931Z",
     "start_time": "2025-05-26T16:36:49.420141Z"
    }
   },
   "outputs": [],
   "source": [
    "full_df[valid_cols.to_list() + valid_prices + [\"acc_rate\", \"spx\"]].to_csv(\n",
    "    ExperimentConfig.PATH_OUTPUT / \"spx_data.csv\"\n",
    ")"
   ]
  },
  {
   "cell_type": "code",
   "execution_count": 58,
   "id": "e61d4472fc4d334b",
   "metadata": {
    "ExecuteTime": {
     "end_time": "2025-05-26T16:36:52.471246Z",
     "start_time": "2025-05-26T16:36:52.468966Z"
    }
   },
   "outputs": [],
   "source": [
    "pd.DataFrame([price.split(\"_Price\")[0] for price in valid_prices]).to_csv(\n",
    "    ExperimentConfig.PATH_OUTPUT / \"spx_stocks_list.csv\",\n",
    "    index=False,\n",
    ")"
   ]
  }
 ],
 "metadata": {
  "kernelspec": {
   "display_name": "Python 3",
   "language": "python",
   "name": "python3"
  },
  "language_info": {
   "codemirror_mode": {
    "name": "ipython",
    "version": 2
   },
   "file_extension": ".py",
   "mimetype": "text/x-python",
   "name": "python",
   "nbconvert_exporter": "python",
   "pygments_lexer": "ipython2",
   "version": "2.7.6"
  }
 },
 "nbformat": 4,
 "nbformat_minor": 5
}
