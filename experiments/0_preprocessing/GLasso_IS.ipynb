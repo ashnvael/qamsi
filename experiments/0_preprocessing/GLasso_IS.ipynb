{
 "cells": [
  {
   "cell_type": "code",
   "execution_count": 1,
   "id": "c938048095b7c652",
   "metadata": {
    "ExecuteTime": {
     "end_time": "2025-06-11T11:32:35.864063Z",
     "start_time": "2025-06-11T11:32:35.846012Z"
    }
   },
   "outputs": [],
   "source": [
    "from __future__ import annotations\n",
    "\n",
    "%load_ext autoreload\n",
    "%autoreload 2"
   ]
  },
  {
   "cell_type": "code",
   "execution_count": 2,
   "id": "2fbe5e05f5cd986c",
   "metadata": {
    "ExecuteTime": {
     "end_time": "2025-06-11T11:32:38.329809Z",
     "start_time": "2025-06-11T11:32:36.604975Z"
    }
   },
   "outputs": [
    {
     "name": "stdout",
     "output_type": "stream",
     "text": [
      "(CVXPY) Jun 11 01:32:38 PM: Encountered unexpected exception importing solver PROXQP:\n",
      "ImportError(\"dlopen(/Users/buchkovv/qamsi/.venv/lib/python3.12/site-packages/cmeel.prefix/lib/python3.12/site-packages/proxsuite/proxsuite_pywrap.cpython-312-darwin.so, 0x0002): Library not loaded: @rpath/libc++.1.dylib\\n  Referenced from: <73C5C23C-530A-3E0E-A88E-7897A0C69618> /Users/buchkovv/qamsi/.venv/lib/python3.12/site-packages/cmeel.prefix/lib/python3.12/site-packages/proxsuite/proxsuite_pywrap.cpython-312-darwin.so\\n  Reason: tried: '/Users/runner/miniconda3/envs/proxsuite/lib/libc++.1.dylib' (no such file), '/System/Volumes/Preboot/Cryptexes/OS/Users/runner/miniconda3/envs/proxsuite/lib/libc++.1.dylib' (no such file), '/var/folders/0j/bwqcs4y508s2n4ck4dhf3rpc0000gn/T/cmeel-qko5evau/whl/cmeel.prefix/lib/libc++.1.dylib' (no such file), '/System/Volumes/Preboot/Cryptexes/OS/var/folders/0j/bwqcs4y508s2n4ck4dhf3rpc0000gn/T/cmeel-qko5evau/whl/cmeel.prefix/lib/libc++.1.dylib' (no such file), '/Users/runner/miniconda3/envs/proxsuite/lib/libc++.1.dylib' (no such file), '/System/Volumes/Preboot/Cryptexes/OS/Users/runner/miniconda3/envs/proxsuite/lib/libc++.1.dylib' (no such file), '/var/folders/0j/bwqcs4y508s2n4ck4dhf3rpc0000gn/T/cmeel-qko5evau/whl/cmeel.prefix/lib/libc++.1.dylib' (no such file), '/System/Volumes/Preboot/Cryptexes/OS/var/folders/0j/bwqcs4y508s2n4ck4dhf3rpc0000gn/T/cmeel-qko5evau/whl/cmeel.prefix/lib/libc++.1.dylib' (no such file), '/Users/buchkovv/.pyenv/versions/3.12.5/lib/libc++.1.dylib' (no such file), '/System/Volumes/Preboot/Cryptexes/OS/Users/buchkovv/.pyenv/versions/3.12.5/lib/libc++.1.dylib' (no such file), '/opt/homebrew/lib/libc++.1.dylib' (no such file), '/System/Volumes/Preboot/Cryptexes/OS/opt/homebrew/lib/libc++.1.dylib' (no such file), '/Users/buchkovv/.pyenv/versions/3.12.5/lib/libc++.1.dylib' (no such file), '/System/Volumes/Preboot/Cryptexes/OS/Users/buchkovv/.pyenv/versions/3.12.5/lib/libc++.1.dylib' (no such file), '/opt/homebrew/lib/libc++.1.dylib' (no such file), '/System/Volumes/Preboot/Cryptexes/OS/opt/homebrew/lib/libc++.1.dylib' (no such file)\")\n"
     ]
    }
   ],
   "source": [
    "import pandas as pd\n",
    "from qamsi.config.trading_config import TradingConfig\n",
    "from qamsi.runner import Runner\n",
    "from qamsi.features.preprocessor import Preprocessor\n",
    "from run import Dataset"
   ]
  },
  {
   "cell_type": "code",
   "execution_count": 3,
   "id": "cf2b5227b46112a9",
   "metadata": {
    "ExecuteTime": {
     "end_time": "2025-06-11T11:32:38.959854Z",
     "start_time": "2025-06-11T11:32:38.941546Z"
    }
   },
   "outputs": [],
   "source": [
    "REBAL_FREQ = \"ME\"\n",
    "DATASET = Dataset.SPX_US\n",
    "ESTIMATION_WINDOW = 365 * 3"
   ]
  },
  {
   "cell_type": "code",
   "execution_count": 4,
   "id": "b4161979a825cfbb",
   "metadata": {
    "ExecuteTime": {
     "end_time": "2025-06-11T11:32:42.373957Z",
     "start_time": "2025-06-11T11:32:41.844367Z"
    }
   },
   "outputs": [
    {
     "name": "stdout",
     "output_type": "stream",
     "text": [
      "Backtest on 2004-03-19 00:00:00 to 2023-12-29 00:00:00\n"
     ]
    }
   ],
   "source": [
    "experiment_config = DATASET.value()\n",
    "\n",
    "stocks = tuple(\n",
    "    pd.read_csv(experiment_config.PATH_OUTPUT / experiment_config.STOCKS_LIST_FILENAME)\n",
    "    .iloc[:, 0]\n",
    "    .astype(str)\n",
    "    .tolist(),\n",
    ")\n",
    "experiment_config.ASSET_UNIVERSE = stocks  # type: ignore  # noqa: PGH003\n",
    "\n",
    "experiment_config.MIN_ROLLING_PERIODS = ESTIMATION_WINDOW + 1\n",
    "experiment_config.N_LOOKBEHIND_PERIODS = None\n",
    "experiment_config.REBALANCE_FREQ = REBAL_FREQ\n",
    "\n",
    "factors = pd.read_csv(experiment_config.PATH_OUTPUT / \"factors.csv\")\n",
    "factors[\"date\"] = pd.to_datetime(factors[\"date\"])\n",
    "factors = factors.set_index(\"date\")\n",
    "factor_names = tuple(factors.columns.astype(str).tolist())\n",
    "experiment_config.FACTORS = factor_names\n",
    "\n",
    "prices = [stock + \"_Price\" for stock in list(stocks)]\n",
    "preprocessor = Preprocessor(\n",
    "    exclude_names=[\n",
    "        *list(stocks),\n",
    "        experiment_config.RF_NAME,\n",
    "        *experiment_config.HEDGING_ASSETS,\n",
    "        *factor_names,\n",
    "        *prices,\n",
    "    ],\n",
    ")\n",
    "\n",
    "trading_config = TradingConfig(\n",
    "    broker_fee=0.05 / 100,\n",
    "    bid_ask_spread=0.03 / 100,\n",
    "    total_exposure=1,\n",
    "    max_exposure=1,\n",
    "    min_exposure=0,\n",
    "    trading_lag_days=1,\n",
    ")\n",
    "\n",
    "runner = Runner(\n",
    "    experiment_config=experiment_config,\n",
    "    trading_config=trading_config,\n",
    "    verbose=True,\n",
    ")"
   ]
  },
  {
   "cell_type": "code",
   "execution_count": 57,
   "id": "1c5ad45b32f5e758",
   "metadata": {
    "ExecuteTime": {
     "end_time": "2025-06-11T11:53:01.347630Z",
     "start_time": "2025-06-11T11:53:01.323338Z"
    }
   },
   "outputs": [
    {
     "data": {
      "text/plain": [
       "(4980, 1033)"
      ]
     },
     "execution_count": 57,
     "metadata": {},
     "output_type": "execute_result"
    }
   ],
   "source": [
    "ret = runner.returns.simple_returns.sub(runner.rf, axis=0)\n",
    "ret.shape"
   ]
  },
  {
   "cell_type": "code",
   "execution_count": 58,
   "id": "c9bc493124e1073f",
   "metadata": {
    "ExecuteTime": {
     "end_time": "2025-06-11T11:53:01.725353Z",
     "start_time": "2025-06-11T11:53:01.704673Z"
    }
   },
   "outputs": [],
   "source": [
    "ret = ret.loc[\"2008-01-01\":\"2008-12-31\"]\n",
    "\n",
    "n_valid_points = (~ret.isna()).sum(axis=0) / len(ret)\n",
    "valid_stocks = list(n_valid_points[n_valid_points >= 1.0].index)\n",
    "\n",
    "ret = ret[valid_stocks]"
   ]
  },
  {
   "cell_type": "code",
   "execution_count": 64,
   "id": "b1390e4eb478a378",
   "metadata": {
    "ExecuteTime": {
     "end_time": "2025-06-11T11:56:27.316430Z",
     "start_time": "2025-06-11T11:56:27.299650Z"
    }
   },
   "outputs": [],
   "source": [
    "import numpy as np\n",
    "\n",
    "fitted_vols = np.eye(ret.shape[1]) * ret.std().to_numpy()\n",
    "# corr = ret.corr().to_numpy()\n",
    "cov = ret.cov() / ret.std(axis=0)\n",
    "cov = cov.to_numpy()"
   ]
  },
  {
   "cell_type": "code",
   "execution_count": 65,
   "id": "1a07c68c6ebb96c1",
   "metadata": {
    "ExecuteTime": {
     "end_time": "2025-06-11T11:56:52.260271Z",
     "start_time": "2025-06-11T11:56:27.996611Z"
    }
   },
   "outputs": [],
   "source": [
    "from sklearn.covariance import GraphicalLassoCV\n",
    "from sklearn.model_selection import TimeSeriesSplit\n",
    "\n",
    "shrinkage = np.sqrt(np.log(cov.shape[0] - 1) / ret.shape[0])\n",
    "\n",
    "alphas = np.logspace(-10, -1.5, num=10)\n",
    "gl = GraphicalLassoCV(\n",
    "    alphas=alphas,\n",
    "    cv=TimeSeriesSplit(n_splits=10),\n",
    ")\n",
    "gl.fit(cov)\n",
    "reconstr_cov = gl.covariance_\n",
    "\n",
    "# reconstr_corr, _ = graphical_lasso(corr, alpha=shrinkage)\n",
    "# reconstr_corr = reconstr_corr.clip(min=-1, max=1)\n",
    "# np.fill_diagonal(reconstr_corr, 1)\n",
    "# a_corr = reconstr_corr.copy()\n",
    "# np.fill_diagonal(a_corr, 0)\n",
    "#\n",
    "# # alphas.min(), gl.alpha_\n",
    "#\n",
    "# n = corr.shape[0]\n",
    "# (a_corr != 0).sum() / 2 / (n * (n - 1) / 2)\n",
    "\n",
    "alphas.min(), gl.alpha_"
   ]
  },
  {
   "cell_type": "code",
   "execution_count": null,
   "id": "7d70ced70f40226e",
   "metadata": {},
   "outputs": [],
   "source": []
  }
 ],
 "metadata": {},
 "nbformat": 4,
 "nbformat_minor": 5
}
