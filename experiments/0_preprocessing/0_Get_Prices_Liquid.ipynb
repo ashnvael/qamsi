{
 "cells": [
  {
   "cell_type": "code",
   "execution_count": 3,
   "id": "initial_id",
   "metadata": {
    "ExecuteTime": {
     "end_time": "2025-05-26T16:37:52.395294Z",
     "start_time": "2025-05-26T16:37:52.392828Z"
    }
   },
   "outputs": [],
   "source": [
    "from __future__ import annotations\n",
    "\n",
    "import numpy as np\n",
    "import pandas as pd\n",
    "from research.fractional_momentum.fractional_momentum.config.experiment_config import (\n",
    "    ExperimentConfig,\n",
    ")"
   ]
  },
  {
   "cell_type": "code",
   "execution_count": 4,
   "id": "4a39d6f772450bea",
   "metadata": {
    "ExecuteTime": {
     "end_time": "2025-05-26T16:39:03.198747Z",
     "start_time": "2025-05-26T16:37:52.401604Z"
    }
   },
   "outputs": [
    {
     "name": "stderr",
     "output_type": "stream",
     "text": [
      "/var/folders/sr/lzvmv9j54ks_jl4x99t250r00000gn/T/ipykernel_40211/2552209773.py:1: DtypeWarning: Columns (5,6,9,18,19,20,22,24,38,40,49,57) have mixed types. Specify dtype option on import or set low_memory=False.\n",
      "  jkp_data = pd.read_csv(ExperimentConfig.PATH_INPUT / \"crsp_all_data.csv\")\n"
     ]
    },
    {
     "data": {
      "text/html": [
       "<div>\n",
       "<style scoped>\n",
       "    .dataframe tbody tr th:only-of-type {\n",
       "        vertical-align: middle;\n",
       "    }\n",
       "\n",
       "    .dataframe tbody tr th {\n",
       "        vertical-align: top;\n",
       "    }\n",
       "\n",
       "    .dataframe thead th {\n",
       "        text-align: right;\n",
       "    }\n",
       "</style>\n",
       "<table border=\"1\" class=\"dataframe\">\n",
       "  <thead>\n",
       "    <tr style=\"text-align: right;\">\n",
       "      <th></th>\n",
       "      <th></th>\n",
       "      <th>nameendt</th>\n",
       "      <th>shrcd</th>\n",
       "      <th>exchcd</th>\n",
       "      <th>siccd</th>\n",
       "      <th>ncusip</th>\n",
       "      <th>ticker</th>\n",
       "      <th>comnam</th>\n",
       "      <th>shrcls</th>\n",
       "      <th>tsymbol</th>\n",
       "      <th>naics</th>\n",
       "      <th>...</th>\n",
       "      <th>cfacpr</th>\n",
       "      <th>cfacshr</th>\n",
       "      <th>openprc</th>\n",
       "      <th>numtrd</th>\n",
       "      <th>retx</th>\n",
       "      <th>vwretd</th>\n",
       "      <th>vwretx</th>\n",
       "      <th>ewretd</th>\n",
       "      <th>ewretx</th>\n",
       "      <th>sprtrn</th>\n",
       "    </tr>\n",
       "    <tr>\n",
       "      <th>date</th>\n",
       "      <th>permno</th>\n",
       "      <th></th>\n",
       "      <th></th>\n",
       "      <th></th>\n",
       "      <th></th>\n",
       "      <th></th>\n",
       "      <th></th>\n",
       "      <th></th>\n",
       "      <th></th>\n",
       "      <th></th>\n",
       "      <th></th>\n",
       "      <th></th>\n",
       "      <th></th>\n",
       "      <th></th>\n",
       "      <th></th>\n",
       "      <th></th>\n",
       "      <th></th>\n",
       "      <th></th>\n",
       "      <th></th>\n",
       "      <th></th>\n",
       "      <th></th>\n",
       "      <th></th>\n",
       "    </tr>\n",
       "  </thead>\n",
       "  <tbody>\n",
       "    <tr>\n",
       "      <th rowspan=\"5\" valign=\"top\">2000-01-03</th>\n",
       "      <th>10001</th>\n",
       "      <td>NaN</td>\n",
       "      <td>11</td>\n",
       "      <td>3</td>\n",
       "      <td>4920</td>\n",
       "      <td>29274A10</td>\n",
       "      <td>EWST</td>\n",
       "      <td>ENERGY WEST INC</td>\n",
       "      <td>NaN</td>\n",
       "      <td>EWST</td>\n",
       "      <td>NaN</td>\n",
       "      <td>...</td>\n",
       "      <td>1.5</td>\n",
       "      <td>1.5</td>\n",
       "      <td>8.4375</td>\n",
       "      <td>2.0</td>\n",
       "      <td>0.007353</td>\n",
       "      <td>-0.006803</td>\n",
       "      <td>-0.00681</td>\n",
       "      <td>0.002878</td>\n",
       "      <td>0.00286</td>\n",
       "      <td>-0.009549</td>\n",
       "    </tr>\n",
       "    <tr>\n",
       "      <th>10002</th>\n",
       "      <td>NaN</td>\n",
       "      <td>11</td>\n",
       "      <td>3</td>\n",
       "      <td>6020</td>\n",
       "      <td>83623410</td>\n",
       "      <td>SABC</td>\n",
       "      <td>SOUTH ALABAMA BANCORPORATION INC</td>\n",
       "      <td>NaN</td>\n",
       "      <td>SABC</td>\n",
       "      <td>NaN</td>\n",
       "      <td>...</td>\n",
       "      <td>1.0</td>\n",
       "      <td>1.0</td>\n",
       "      <td>12.5000</td>\n",
       "      <td>6.0</td>\n",
       "      <td>-0.015385</td>\n",
       "      <td>-0.006803</td>\n",
       "      <td>-0.00681</td>\n",
       "      <td>0.002878</td>\n",
       "      <td>0.00286</td>\n",
       "      <td>-0.009549</td>\n",
       "    </tr>\n",
       "    <tr>\n",
       "      <th>10009</th>\n",
       "      <td>NaN</td>\n",
       "      <td>11</td>\n",
       "      <td>3</td>\n",
       "      <td>6030</td>\n",
       "      <td>46334710</td>\n",
       "      <td>IROQ</td>\n",
       "      <td>IROQUOIS BANCORP INC</td>\n",
       "      <td>NaN</td>\n",
       "      <td>IROQ</td>\n",
       "      <td>NaN</td>\n",
       "      <td>...</td>\n",
       "      <td>1.0</td>\n",
       "      <td>1.0</td>\n",
       "      <td>14.7500</td>\n",
       "      <td>10.0</td>\n",
       "      <td>0.135593</td>\n",
       "      <td>-0.006803</td>\n",
       "      <td>-0.00681</td>\n",
       "      <td>0.002878</td>\n",
       "      <td>0.00286</td>\n",
       "      <td>-0.009549</td>\n",
       "    </tr>\n",
       "    <tr>\n",
       "      <th>10012</th>\n",
       "      <td>NaN</td>\n",
       "      <td>11</td>\n",
       "      <td>3</td>\n",
       "      <td>3670</td>\n",
       "      <td>24871930</td>\n",
       "      <td>DPAC</td>\n",
       "      <td>DENSE PACIFIC MICROSYSTEMS INC</td>\n",
       "      <td>NaN</td>\n",
       "      <td>DPAC</td>\n",
       "      <td>NaN</td>\n",
       "      <td>...</td>\n",
       "      <td>1.0</td>\n",
       "      <td>1.0</td>\n",
       "      <td>8.3750</td>\n",
       "      <td>409.0</td>\n",
       "      <td>-0.003891</td>\n",
       "      <td>-0.006803</td>\n",
       "      <td>-0.00681</td>\n",
       "      <td>0.002878</td>\n",
       "      <td>0.00286</td>\n",
       "      <td>-0.009549</td>\n",
       "    </tr>\n",
       "    <tr>\n",
       "      <th>10016</th>\n",
       "      <td>NaN</td>\n",
       "      <td>11</td>\n",
       "      <td>3</td>\n",
       "      <td>3560</td>\n",
       "      <td>81002230</td>\n",
       "      <td>SCTT</td>\n",
       "      <td>SCOTT TECHNOLOGIES INC</td>\n",
       "      <td>NaN</td>\n",
       "      <td>SCTT</td>\n",
       "      <td>NaN</td>\n",
       "      <td>...</td>\n",
       "      <td>1.0</td>\n",
       "      <td>1.0</td>\n",
       "      <td>18.1250</td>\n",
       "      <td>25.0</td>\n",
       "      <td>0.039735</td>\n",
       "      <td>-0.006803</td>\n",
       "      <td>-0.00681</td>\n",
       "      <td>0.002878</td>\n",
       "      <td>0.00286</td>\n",
       "      <td>-0.009549</td>\n",
       "    </tr>\n",
       "  </tbody>\n",
       "</table>\n",
       "<p>5 rows × 61 columns</p>\n",
       "</div>"
      ],
      "text/plain": [
       "                  nameendt  shrcd  exchcd siccd    ncusip ticker  \\\n",
       "date       permno                                                  \n",
       "2000-01-03 10001       NaN     11       3  4920  29274A10   EWST   \n",
       "           10002       NaN     11       3  6020  83623410   SABC   \n",
       "           10009       NaN     11       3  6030  46334710   IROQ   \n",
       "           10012       NaN     11       3  3670  24871930   DPAC   \n",
       "           10016       NaN     11       3  3560  81002230   SCTT   \n",
       "\n",
       "                                             comnam shrcls tsymbol  naics  \\\n",
       "date       permno                                                           \n",
       "2000-01-03 10001                    ENERGY WEST INC    NaN    EWST    NaN   \n",
       "           10002   SOUTH ALABAMA BANCORPORATION INC    NaN    SABC    NaN   \n",
       "           10009               IROQUOIS BANCORP INC    NaN    IROQ    NaN   \n",
       "           10012     DENSE PACIFIC MICROSYSTEMS INC    NaN    DPAC    NaN   \n",
       "           10016             SCOTT TECHNOLOGIES INC    NaN    SCTT    NaN   \n",
       "\n",
       "                   ... cfacpr cfacshr  openprc  numtrd      retx    vwretd  \\\n",
       "date       permno  ...                                                       \n",
       "2000-01-03 10001   ...    1.5     1.5   8.4375     2.0  0.007353 -0.006803   \n",
       "           10002   ...    1.0     1.0  12.5000     6.0 -0.015385 -0.006803   \n",
       "           10009   ...    1.0     1.0  14.7500    10.0  0.135593 -0.006803   \n",
       "           10012   ...    1.0     1.0   8.3750   409.0 -0.003891 -0.006803   \n",
       "           10016   ...    1.0     1.0  18.1250    25.0  0.039735 -0.006803   \n",
       "\n",
       "                    vwretx    ewretd   ewretx    sprtrn  \n",
       "date       permno                                        \n",
       "2000-01-03 10001  -0.00681  0.002878  0.00286 -0.009549  \n",
       "           10002  -0.00681  0.002878  0.00286 -0.009549  \n",
       "           10009  -0.00681  0.002878  0.00286 -0.009549  \n",
       "           10012  -0.00681  0.002878  0.00286 -0.009549  \n",
       "           10016  -0.00681  0.002878  0.00286 -0.009549  \n",
       "\n",
       "[5 rows x 61 columns]"
      ]
     },
     "execution_count": 4,
     "metadata": {},
     "output_type": "execute_result"
    }
   ],
   "source": [
    "jkp_data = pd.read_csv(ExperimentConfig.PATH_INPUT / \"crsp_all_data.csv\")\n",
    "jkp_data = jkp_data.rename(columns={c: c.lower() for c in jkp_data.columns})\n",
    "jkp_data = jkp_data.dropna(subset=[\"permno\"])\n",
    "jkp_data[\"permno\"] = jkp_data[\"permno\"].astype(int)\n",
    "jkp_data[\"date\"] = pd.to_datetime(jkp_data[\"date\"])\n",
    "jkp_data = jkp_data.sort_values([\"date\", \"permno\"])\n",
    "jkp_data = jkp_data.drop_duplicates(subset=[\"date\", \"permno\"])\n",
    "jkp_data = jkp_data.set_index([\"date\", \"permno\"])\n",
    "jkp_data.head()"
   ]
  },
  {
   "cell_type": "code",
   "execution_count": 5,
   "id": "56d5f293d17d613b",
   "metadata": {
    "ExecuteTime": {
     "end_time": "2025-05-26T16:39:15.227497Z",
     "start_time": "2025-05-26T16:39:03.222335Z"
    }
   },
   "outputs": [],
   "source": [
    "CRSP_IGNORED = [-66, -77, -88, -99]\n",
    "\n",
    "jkp_data = jkp_data[\n",
    "    (jkp_data[\"ret\"] != CRSP_IGNORED[0])\n",
    "    & (jkp_data[\"ret\"] != CRSP_IGNORED[1])\n",
    "    & (jkp_data[\"ret\"] != CRSP_IGNORED[2])\n",
    "    & (jkp_data[\"ret\"] != CRSP_IGNORED[3])\n",
    "]"
   ]
  },
  {
   "cell_type": "code",
   "execution_count": 6,
   "id": "ee364a0f4ca4119",
   "metadata": {
    "ExecuteTime": {
     "end_time": "2025-05-26T16:39:15.413287Z",
     "start_time": "2025-05-26T16:39:15.247492Z"
    }
   },
   "outputs": [],
   "source": [
    "jkp_data[\"prc_new\"] = np.abs(jkp_data[\"prc\"]) / jkp_data[\"cfacpr\"].ffill().fillna(\n",
    "    1\n",
    ").replace(0, 1.0)\n",
    "jkp_data[\"prc\"] = jkp_data[\"prc_new\"]"
   ]
  },
  {
   "cell_type": "code",
   "execution_count": 7,
   "id": "d2415d0f89c47153",
   "metadata": {
    "ExecuteTime": {
     "end_time": "2025-05-26T16:39:18.139577Z",
     "start_time": "2025-05-26T16:39:15.422872Z"
    }
   },
   "outputs": [],
   "source": [
    "jkp_data[\"ret\"] = jkp_data[\"ret\"].replace(\"C\", np.nan).astype(float)"
   ]
  },
  {
   "cell_type": "code",
   "execution_count": 8,
   "id": "9ffe9156880bef11",
   "metadata": {
    "ExecuteTime": {
     "end_time": "2025-05-26T16:39:18.188747Z",
     "start_time": "2025-05-26T16:39:18.146347Z"
    }
   },
   "outputs": [],
   "source": [
    "jkp_data[\"dolvol\"] = jkp_data[\"vol\"] * jkp_data[\"prc\"]"
   ]
  },
  {
   "cell_type": "code",
   "execution_count": 9,
   "id": "c69439a0b32d7a17",
   "metadata": {
    "ExecuteTime": {
     "end_time": "2025-05-26T16:39:25.587354Z",
     "start_time": "2025-05-26T16:39:18.195228Z"
    }
   },
   "outputs": [],
   "source": [
    "MIN_OBS = 5\n",
    "\n",
    "n_obs = jkp_data.groupby(\"permno\").apply(lambda x: (x[\"prc\"] >= 0).sum())\n",
    "valid_ids = n_obs[n_obs > MIN_OBS].index"
   ]
  },
  {
   "cell_type": "code",
   "execution_count": 10,
   "id": "94772a8f26a0ad34",
   "metadata": {
    "ExecuteTime": {
     "end_time": "2025-05-26T16:39:30.149186Z",
     "start_time": "2025-05-26T16:39:25.594443Z"
    }
   },
   "outputs": [],
   "source": [
    "N_TOP_LIQUID = 5_000\n",
    "\n",
    "dolvol = (\n",
    "    jkp_data[jkp_data.index.get_level_values(\"permno\").isin(valid_ids)]\n",
    "    .groupby(\"permno\")[\"dolvol\"]\n",
    "    .mean()\n",
    ")\n",
    "valid_ids = dolvol.sort_values(ascending=False).iloc[:N_TOP_LIQUID].index"
   ]
  },
  {
   "cell_type": "code",
   "execution_count": 11,
   "id": "595a0b2c7e4bd4c1",
   "metadata": {
    "ExecuteTime": {
     "end_time": "2025-05-26T16:39:32.011622Z",
     "start_time": "2025-05-26T16:39:30.155844Z"
    }
   },
   "outputs": [
    {
     "name": "stderr",
     "output_type": "stream",
     "text": [
      "/var/folders/sr/lzvmv9j54ks_jl4x99t250r00000gn/T/ipykernel_40211/383145449.py:2: SettingWithCopyWarning: \n",
      "A value is trying to be set on a copy of a slice from a DataFrame.\n",
      "Try using .loc[row_indexer,col_indexer] = value instead\n",
      "\n",
      "See the caveats in the documentation: https://pandas.pydata.org/pandas-docs/stable/user_guide/indexing.html#returning-a-view-versus-a-copy\n",
      "  selected[\"spread\"] = (selected[\"ask\"] - selected[\"bid\"]) / selected[\"prc\"]\n"
     ]
    }
   ],
   "source": [
    "selected = jkp_data[jkp_data.index.get_level_values(\"permno\").isin(valid_ids)]\n",
    "selected[\"spread\"] = (selected[\"ask\"] - selected[\"bid\"]) / selected[\"prc\"]\n",
    "spread = selected.groupby(\"permno\")[\"spread\"].mean()"
   ]
  },
  {
   "cell_type": "code",
   "execution_count": 12,
   "id": "6033162506cf66f2",
   "metadata": {
    "ExecuteTime": {
     "end_time": "2025-05-26T16:39:32.021805Z",
     "start_time": "2025-05-26T16:39:32.019650Z"
    }
   },
   "outputs": [
    {
     "data": {
      "text/plain": [
       "(np.float64(-7.058486800494879e-05),\n",
       " np.float64(0.3935876939468288),\n",
       " np.float64(0.0026028029163351124))"
      ]
     },
     "execution_count": 12,
     "metadata": {},
     "output_type": "execute_result"
    }
   ],
   "source": [
    "spread.min(), spread.max(), spread.median()"
   ]
  },
  {
   "cell_type": "code",
   "execution_count": 13,
   "id": "341117abf6034cd4",
   "metadata": {
    "ExecuteTime": {
     "end_time": "2025-05-26T16:39:32.030814Z",
     "start_time": "2025-05-26T16:39:32.028996Z"
    }
   },
   "outputs": [
    {
     "data": {
      "text/plain": [
       "np.float64(0.010285263877724424)"
      ]
     },
     "execution_count": 13,
     "metadata": {},
     "output_type": "execute_result"
    }
   ],
   "source": [
    "spread.quantile(0.9)"
   ]
  },
  {
   "cell_type": "code",
   "execution_count": 14,
   "id": "d1991724aa13af8d",
   "metadata": {
    "ExecuteTime": {
     "end_time": "2025-05-26T16:39:32.042415Z",
     "start_time": "2025-05-26T16:39:32.037900Z"
    }
   },
   "outputs": [
    {
     "data": {
      "text/plain": [
       "np.float64(5605295.355753517)"
      ]
     },
     "execution_count": 14,
     "metadata": {},
     "output_type": "execute_result"
    }
   ],
   "source": [
    "dolvol.sort_values(ascending=False).iloc[5000]"
   ]
  },
  {
   "cell_type": "code",
   "execution_count": 15,
   "id": "f244931e15e5981a",
   "metadata": {
    "ExecuteTime": {
     "end_time": "2025-05-26T16:39:40.666343Z",
     "start_time": "2025-05-26T16:39:32.050094Z"
    }
   },
   "outputs": [],
   "source": [
    "pivoted_prices = (\n",
    "    jkp_data.loc[jkp_data.index.get_level_values(\"permno\").isin(valid_ids)]\n",
    "    .reset_index()\n",
    "    .pivot_table(index=\"date\", columns=\"permno\", values=\"prc\")\n",
    ")\n",
    "pivoted_prices = pivoted_prices.replace(0, np.nan)\n",
    "\n",
    "pivoted_prices.columns = [f\"{col}_Price\" for col in pivoted_prices.columns]\n",
    "\n",
    "pivoted_prices = pivoted_prices.replace(np.inf, np.nan)\n",
    "\n",
    "pivoted_prices = np.abs(pivoted_prices)"
   ]
  },
  {
   "cell_type": "code",
   "execution_count": 16,
   "id": "131def71f1c79789",
   "metadata": {
    "ExecuteTime": {
     "end_time": "2025-05-26T16:39:49.386792Z",
     "start_time": "2025-05-26T16:39:40.677677Z"
    }
   },
   "outputs": [],
   "source": [
    "pivoted_returns = (\n",
    "    jkp_data.loc[jkp_data.index.get_level_values(\"permno\").isin(valid_ids)]\n",
    "    .reset_index()\n",
    "    .pivot_table(index=\"date\", columns=\"permno\", values=\"ret\")\n",
    ")"
   ]
  },
  {
   "cell_type": "code",
   "execution_count": 17,
   "id": "ff65da30eb57acc",
   "metadata": {
    "ExecuteTime": {
     "end_time": "2025-05-26T16:39:49.435816Z",
     "start_time": "2025-05-26T16:39:49.402612Z"
    }
   },
   "outputs": [],
   "source": [
    "full_df = pivoted_prices.merge(\n",
    "    pivoted_returns, left_index=True, right_index=True, how=\"inner\"\n",
    ")"
   ]
  },
  {
   "cell_type": "code",
   "execution_count": 18,
   "id": "48b2d0ffba92f102",
   "metadata": {
    "ExecuteTime": {
     "end_time": "2025-05-26T16:39:50.056084Z",
     "start_time": "2025-05-26T16:39:49.453371Z"
    }
   },
   "outputs": [],
   "source": [
    "data_df = pd.read_csv(ExperimentConfig.PATH_OUTPUT / \"data_df.csv\")\n",
    "data_df[\"date\"] = pd.to_datetime(data_df[\"date\"])\n",
    "data_df = data_df.set_index(\"date\")"
   ]
  },
  {
   "cell_type": "code",
   "execution_count": 19,
   "id": "c1957328e23db234",
   "metadata": {
    "ExecuteTime": {
     "end_time": "2025-05-26T16:39:50.222810Z",
     "start_time": "2025-05-26T16:39:50.079834Z"
    }
   },
   "outputs": [],
   "source": [
    "full_df = full_df.merge(data_df[[\"acc_rate\", \"spx\"]], left_index=True, right_index=True)"
   ]
  },
  {
   "cell_type": "code",
   "execution_count": 20,
   "id": "47c8db7dbb5a0b67",
   "metadata": {
    "ExecuteTime": {
     "end_time": "2025-05-26T16:40:06.459162Z",
     "start_time": "2025-05-26T16:39:50.246268Z"
    }
   },
   "outputs": [],
   "source": [
    "full_df.to_csv(ExperimentConfig.PATH_OUTPUT / \"liquid_data.csv\")"
   ]
  },
  {
   "cell_type": "code",
   "execution_count": 21,
   "id": "e61d4472fc4d334b",
   "metadata": {
    "ExecuteTime": {
     "end_time": "2025-05-26T16:40:06.488483Z",
     "start_time": "2025-05-26T16:40:06.482732Z"
    }
   },
   "outputs": [],
   "source": [
    "pd.DataFrame([price.split(\"_Price\")[0] for price in pivoted_prices]).to_csv(\n",
    "    ExperimentConfig.PATH_OUTPUT / \"liquid_stocks_list.csv\",\n",
    "    index=False,\n",
    ")"
   ]
  },
  {
   "cell_type": "code",
   "execution_count": 22,
   "id": "2d2f38770da0a026",
   "metadata": {
    "ExecuteTime": {
     "end_time": "2025-05-26T16:40:06.514438Z",
     "start_time": "2025-05-26T16:40:06.512313Z"
    }
   },
   "outputs": [
    {
     "data": {
      "text/plain": [
       "5000"
      ]
     },
     "execution_count": 22,
     "metadata": {},
     "output_type": "execute_result"
    }
   ],
   "source": [
    "len([price.split(\"_Price\")[0] for price in pivoted_prices])"
   ]
  }
 ],
 "metadata": {
  "kernelspec": {
   "display_name": "Python 3",
   "language": "python",
   "name": "python3"
  },
  "language_info": {
   "codemirror_mode": {
    "name": "ipython",
    "version": 2
   },
   "file_extension": ".py",
   "mimetype": "text/x-python",
   "name": "python",
   "nbconvert_exporter": "python",
   "pygments_lexer": "ipython2",
   "version": "2.7.6"
  }
 },
 "nbformat": 4,
 "nbformat_minor": 5
}
