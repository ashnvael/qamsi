{
 "cells": [
  {
   "cell_type": "code",
   "id": "initial_id",
   "metadata": {
    "collapsed": true,
    "ExecuteTime": {
     "end_time": "2025-06-10T16:52:28.942328Z",
     "start_time": "2025-06-10T16:52:28.939886Z"
    }
   },
   "source": [
    "import pandas as pd\n",
    "\n",
    "from run import Dataset\n",
    "\n",
    "DATASET = Dataset.SPX_US\n",
    "\n",
    "config = DATASET.value()\n",
    "config"
   ],
   "outputs": [
    {
     "data": {
      "text/plain": [
       "ExperimentConfig:\n",
       "* RANDOM_SEED = 12\n",
       "* PATH_OUTPUT = /Users/buchkovv/qamsi/data/output\n",
       "* SAVE_PATH = /Users/buchkovv/qamsi/backtests/runs\n",
       "* DF_FILENAME = spx_data.csv\n",
       "* START_DATE = 2000-02-08 00:00:00\n",
       "* END_DATE = 2024-12-31 00:00:00\n",
       "* REBALANCE_FREQ = 7\n",
       "* HEDGE_FREQ = 1\n",
       "* N_LOOKBEHIND_PERIODS = 252\n",
       "* MIN_ROLLING_PERIODS = 252\n",
       "* ASSET_UNIVERSE = ('spx',)\n",
       "* FACTORS = ('spx',)\n",
       "* HEDGING_ASSETS = ('spx_fut',)\n",
       "* RF_NAME = acc_rate\n",
       "* MKT_NAME = spx\n",
       "* FRACTIONAL_DIFFERENCING = 0.5\n",
       "* PATH_FEATURES = /data/gw\n",
       "* PATH_MARKET_DATA = /data/spx_stocks\n",
       "* PATH_BETTER_MARKET_DATA = /data/spxc\n",
       "* PATH_INPUT = /Users/buchkovv/qamsi/data/input\n",
       "* INITIAL_DF_FILENAME = initial_df.csv\n",
       "* JKP_DATA_FILENAME = jkp_data.csv\n",
       "* STOCKS_LIST_FILENAME = spx_stocks_list.csv\n",
       "* INITIAL_FEATURES_FILENAME = initial_features_df.csv\n",
       "* RETURNS_FILENAME = returns_incl_div_consituents_w_name.csv\n",
       "* BETTER_RETURNS_FILENAME = returns_data_cleaned_better.parquet\n",
       "* PRESENCE_MATRIX_FILENAME = presence_matrix.csv"
      ]
     },
     "execution_count": 3,
     "metadata": {},
     "output_type": "execute_result"
    }
   ],
   "execution_count": 3
  },
  {
   "metadata": {},
   "cell_type": "code",
   "outputs": [],
   "execution_count": null,
   "source": "features = pd.read_csv(config.PATH_OUTPUT / \"features.csv\")",
   "id": "1e2c89df6301d87b"
  }
 ],
 "metadata": {
  "kernelspec": {
   "display_name": "Python 3",
   "language": "python",
   "name": "python3"
  },
  "language_info": {
   "codemirror_mode": {
    "name": "ipython",
    "version": 2
   },
   "file_extension": ".py",
   "mimetype": "text/x-python",
   "name": "python",
   "nbconvert_exporter": "python",
   "pygments_lexer": "ipython2",
   "version": "2.7.6"
  }
 },
 "nbformat": 4,
 "nbformat_minor": 5
}
