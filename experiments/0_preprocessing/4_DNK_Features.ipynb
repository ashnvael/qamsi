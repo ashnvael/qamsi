{
 "cells": [
  {
   "cell_type": "code",
   "id": "initial_id",
   "metadata": {
    "collapsed": true,
    "ExecuteTime": {
     "end_time": "2025-06-12T17:38:11.831885Z",
     "start_time": "2025-06-12T17:38:10.441553Z"
    }
   },
   "source": [
    "import numpy as np\n",
    "import pandas as pd\n",
    "\n",
    "from run import Dataset\n",
    "\n",
    "DATASET = Dataset.SPX_US\n",
    "\n",
    "config = DATASET.value()\n",
    "config"
   ],
   "outputs": [
    {
     "name": "stdout",
     "output_type": "stream",
     "text": [
      "(CVXPY) Jun 12 07:38:11 PM: Encountered unexpected exception importing solver PROXQP:\n",
      "ImportError(\"dlopen(/Users/buchkovv/qamsi/.venv/lib/python3.12/site-packages/cmeel.prefix/lib/python3.12/site-packages/proxsuite/proxsuite_pywrap.cpython-312-darwin.so, 0x0002): Library not loaded: @rpath/libc++.1.dylib\\n  Referenced from: <73C5C23C-530A-3E0E-A88E-7897A0C69618> /Users/buchkovv/qamsi/.venv/lib/python3.12/site-packages/cmeel.prefix/lib/python3.12/site-packages/proxsuite/proxsuite_pywrap.cpython-312-darwin.so\\n  Reason: tried: '/Users/runner/miniconda3/envs/proxsuite/lib/libc++.1.dylib' (no such file), '/System/Volumes/Preboot/Cryptexes/OS/Users/runner/miniconda3/envs/proxsuite/lib/libc++.1.dylib' (no such file), '/var/folders/0j/bwqcs4y508s2n4ck4dhf3rpc0000gn/T/cmeel-qko5evau/whl/cmeel.prefix/lib/libc++.1.dylib' (no such file), '/System/Volumes/Preboot/Cryptexes/OS/var/folders/0j/bwqcs4y508s2n4ck4dhf3rpc0000gn/T/cmeel-qko5evau/whl/cmeel.prefix/lib/libc++.1.dylib' (no such file), '/Users/runner/miniconda3/envs/proxsuite/lib/libc++.1.dylib' (no such file), '/System/Volumes/Preboot/Cryptexes/OS/Users/runner/miniconda3/envs/proxsuite/lib/libc++.1.dylib' (no such file), '/var/folders/0j/bwqcs4y508s2n4ck4dhf3rpc0000gn/T/cmeel-qko5evau/whl/cmeel.prefix/lib/libc++.1.dylib' (no such file), '/System/Volumes/Preboot/Cryptexes/OS/var/folders/0j/bwqcs4y508s2n4ck4dhf3rpc0000gn/T/cmeel-qko5evau/whl/cmeel.prefix/lib/libc++.1.dylib' (no such file), '/Users/buchkovv/.pyenv/versions/3.12.5/lib/libc++.1.dylib' (no such file), '/System/Volumes/Preboot/Cryptexes/OS/Users/buchkovv/.pyenv/versions/3.12.5/lib/libc++.1.dylib' (no such file), '/opt/homebrew/lib/libc++.1.dylib' (no such file), '/System/Volumes/Preboot/Cryptexes/OS/opt/homebrew/lib/libc++.1.dylib' (no such file), '/Users/buchkovv/.pyenv/versions/3.12.5/lib/libc++.1.dylib' (no such file), '/System/Volumes/Preboot/Cryptexes/OS/Users/buchkovv/.pyenv/versions/3.12.5/lib/libc++.1.dylib' (no such file), '/opt/homebrew/lib/libc++.1.dylib' (no such file), '/System/Volumes/Preboot/Cryptexes/OS/opt/homebrew/lib/libc++.1.dylib' (no such file)\")\n"
     ]
    },
    {
     "data": {
      "text/plain": [
       "ExperimentConfig:\n",
       "* RANDOM_SEED = 12\n",
       "* PATH_OUTPUT = /Users/buchkovv/qamsi/data/output\n",
       "* SAVE_PATH = /Users/buchkovv/qamsi/backtests/runs\n",
       "* DF_FILENAME = spx_data.csv\n",
       "* START_DATE = 2000-02-08 00:00:00\n",
       "* END_DATE = 2024-12-31 00:00:00\n",
       "* REBALANCE_FREQ = 7\n",
       "* HEDGE_FREQ = 1\n",
       "* N_LOOKBEHIND_PERIODS = 252\n",
       "* MIN_ROLLING_PERIODS = 252\n",
       "* ASSET_UNIVERSE = ('spx',)\n",
       "* FACTORS = ('spx',)\n",
       "* TARGETS = ('vol', 'naive_vol', 'l_shrinkage')\n",
       "* HEDGING_ASSETS = ('spx_fut',)\n",
       "* RF_NAME = acc_rate\n",
       "* MKT_NAME = spx\n",
       "* FRACTIONAL_DIFFERENCING = 0.5\n",
       "* PATH_FEATURES = /data/gw\n",
       "* PATH_MARKET_DATA = /data/spx_stocks\n",
       "* PATH_BETTER_MARKET_DATA = /data/spxc\n",
       "* PATH_INPUT = /Users/buchkovv/qamsi/data/input\n",
       "* INITIAL_DF_FILENAME = initial_df.csv\n",
       "* JKP_DATA_FILENAME = jkp_data.csv\n",
       "* STOCKS_LIST_FILENAME = spx_stocks_list.csv\n",
       "* INITIAL_FEATURES_FILENAME = initial_features_df.csv\n",
       "* RETURNS_FILENAME = returns_incl_div_consituents_w_name.csv\n",
       "* BETTER_RETURNS_FILENAME = returns_data_cleaned_better.parquet\n",
       "* PRESENCE_MATRIX_FILENAME = presence_matrix.csv"
      ]
     },
     "execution_count": 1,
     "metadata": {},
     "output_type": "execute_result"
    }
   ],
   "execution_count": 1
  },
  {
   "metadata": {
    "ExecuteTime": {
     "end_time": "2025-06-12T17:38:12.212364Z",
     "start_time": "2025-06-12T17:38:11.843726Z"
    }
   },
   "cell_type": "code",
   "source": [
    "from pathlib import Path\n",
    "\n",
    "PATH = Path(\"../../data/output\")\n",
    "\n",
    "data = pd.read_csv(PATH / \"spx_data.csv\")\n",
    "data[\"date\"] = pd.to_datetime(data[\"date\"])\n",
    "data = data.set_index(\"date\")\n",
    "data.shape"
   ],
   "id": "e59331b65f7ad9b",
   "outputs": [
    {
     "data": {
      "text/plain": [
       "(4980, 2087)"
      ]
     },
     "execution_count": 2,
     "metadata": {},
     "output_type": "execute_result"
    }
   ],
   "execution_count": 2
  },
  {
   "metadata": {
    "ExecuteTime": {
     "end_time": "2025-06-12T17:38:12.259697Z",
     "start_time": "2025-06-12T17:38:12.253380Z"
    }
   },
   "cell_type": "code",
   "source": [
    "stocks = list(tuple(\n",
    "    pd.read_csv(config.PATH_OUTPUT / config.STOCKS_LIST_FILENAME)\n",
    "    .iloc[:, 0]\n",
    "    .astype(str)\n",
    "    .tolist(),\n",
    "))\n",
    "\n",
    "ret = data[stocks]\n",
    "ret.shape"
   ],
   "id": "accbbe09179db12",
   "outputs": [
    {
     "data": {
      "text/plain": [
       "(4980, 1033)"
      ]
     },
     "execution_count": 3,
     "metadata": {},
     "output_type": "execute_result"
    }
   ],
   "execution_count": 3
  },
  {
   "metadata": {},
   "cell_type": "markdown",
   "source": "### 1. Avg Corr.",
   "id": "6b4fa2a74e34386"
  },
  {
   "metadata": {
    "ExecuteTime": {
     "end_time": "2025-06-12T17:38:12.275773Z",
     "start_time": "2025-06-12T17:38:12.274258Z"
    }
   },
   "cell_type": "code",
   "source": [
    "# import pandas as pd\n",
    "#\n",
    "# # Assuming `ret` is your DataFrame of returns (date as index), and it is already loaded\n",
    "#\n",
    "# # Define the rolling window and minimum periods\n",
    "# window = 252\n",
    "# min_periods = 252\n",
    "#\n",
    "# # Function to compute the average of non-diagonal elements in each correlation matrix\n",
    "# def avg_non_diagonal_elements(corr_matrix):\n",
    "#     # Select the non-diagonal elements using numpy\n",
    "#     non_diag = corr_matrix.values[np.triu_indices_from(corr_matrix, k=1)]\n",
    "#     return np.nanmean(non_diag)\n",
    "#\n",
    "# # Function to compute rolling correlation\n",
    "# def rolling_avg_non_diag_corr(df, window, min_periods):\n",
    "#     # Initialize a list to store results\n",
    "#     results = []\n",
    "#\n",
    "#     # Perform calculation for each rolling window\n",
    "#     for start in range(len(df) - window + 1):\n",
    "#         end = start + window\n",
    "#         rolling_window = df.iloc[start:end]\n",
    "#\n",
    "#         # Compute the correlation matrix for the rolling window\n",
    "#         corr_matrix = rolling_window.corr()\n",
    "#\n",
    "#         # Compute the average of non-diagonal elements\n",
    "#         avg_correlation = avg_non_diagonal_elements(corr_matrix)\n",
    "#         results.append(avg_correlation)\n",
    "#\n",
    "#     # Create a series with the results\n",
    "#     rolling_avg_corr = pd.Series(results, index=df.index[window - 1 :])\n",
    "#     return rolling_avg_corr\n",
    "#\n",
    "# # Calculate rolling average correlation of non-diagonal elements\n",
    "# rolling_avg_corr = rolling_avg_non_diag_corr(ret, window, min_periods)\n",
    "#\n",
    "# # Output rolling_avg_corr as the result\n",
    "# rolling_avg_corr.shape"
   ],
   "id": "247c20c24cbb2c8f",
   "outputs": [],
   "execution_count": 4
  },
  {
   "metadata": {
    "ExecuteTime": {
     "end_time": "2025-06-12T17:38:12.366462Z",
     "start_time": "2025-06-12T17:38:12.363111Z"
    }
   },
   "cell_type": "code",
   "source": "rolling_avg_corr = pd.read_csv(PATH / \"avg_corr.csv\")",
   "id": "f84b9c7077e5cd24",
   "outputs": [],
   "execution_count": 5
  },
  {
   "metadata": {
    "ExecuteTime": {
     "end_time": "2025-06-12T17:38:12.392149Z",
     "start_time": "2025-06-12T17:38:12.390719Z"
    }
   },
   "cell_type": "code",
   "source": "# rolling_avg_corr.to_csv(PATH / \"avg_corr.csv\")",
   "id": "3d183331db0a6d7f",
   "outputs": [],
   "execution_count": 6
  },
  {
   "metadata": {},
   "cell_type": "markdown",
   "source": "### 2. Average volatility.",
   "id": "f4f8ad83684db101"
  },
  {
   "metadata": {
    "ExecuteTime": {
     "end_time": "2025-06-12T17:38:12.477799Z",
     "start_time": "2025-06-12T17:38:12.403603Z"
    }
   },
   "cell_type": "code",
   "source": [
    "avg_vol = ret.rolling(window=252, min_periods=1).std().mean(axis=1)\n",
    "avg_vol.shape"
   ],
   "id": "8874e169248e80fd",
   "outputs": [
    {
     "data": {
      "text/plain": [
       "(4980,)"
      ]
     },
     "execution_count": 7,
     "metadata": {},
     "output_type": "execute_result"
    }
   ],
   "execution_count": 7
  },
  {
   "metadata": {},
   "cell_type": "markdown",
   "source": "### 3. EW Portfolio.",
   "id": "b2afd1782d5a9bc2"
  },
  {
   "metadata": {
    "ExecuteTime": {
     "end_time": "2025-06-12T17:38:12.569321Z",
     "start_time": "2025-06-12T17:38:12.494455Z"
    }
   },
   "cell_type": "code",
   "source": [
    "import numpy as np\n",
    "\n",
    "ew = ret.apply(np.nanmean, axis=1)\n",
    "ew"
   ],
   "id": "6db509b46d11a589",
   "outputs": [
    {
     "data": {
      "text/plain": [
       "date\n",
       "2004-03-19   -0.008731\n",
       "2004-03-22   -0.014426\n",
       "2004-03-23   -0.000700\n",
       "2004-03-24   -0.002553\n",
       "2004-03-25    0.018077\n",
       "                ...   \n",
       "2023-12-22    0.003390\n",
       "2023-12-26    0.005998\n",
       "2023-12-27    0.001137\n",
       "2023-12-28    0.001180\n",
       "2023-12-29   -0.002990\n",
       "Length: 4980, dtype: float64"
      ]
     },
     "execution_count": 8,
     "metadata": {},
     "output_type": "execute_result"
    }
   ],
   "execution_count": 8
  },
  {
   "metadata": {
    "ExecuteTime": {
     "end_time": "2025-06-12T17:38:12.883163Z",
     "start_time": "2025-06-12T17:38:12.586487Z"
    }
   },
   "cell_type": "code",
   "source": [
    "ewma = []\n",
    "for date in ew.index[21 - 1:]:\n",
    "    end = date\n",
    "    sample = ew.loc[:end].iloc[-21:]\n",
    "\n",
    "    ma = sample.ewm(alpha=0.1).mean().iloc[-1]\n",
    "\n",
    "    ewma.append([date, ma])"
   ],
   "id": "fe82876ea9486811",
   "outputs": [],
   "execution_count": 9
  },
  {
   "metadata": {
    "ExecuteTime": {
     "end_time": "2025-06-12T17:38:12.911123Z",
     "start_time": "2025-06-12T17:38:12.906398Z"
    }
   },
   "cell_type": "code",
   "source": [
    "ewma = pd.DataFrame(ewma, columns=[\"date\", \"ewma\"]).set_index(\"date\").iloc[:, 0]\n",
    "ewma"
   ],
   "id": "d8ca4c0f7fa29023",
   "outputs": [
    {
     "data": {
      "text/plain": [
       "date\n",
       "2004-04-19    0.000462\n",
       "2004-04-20   -0.001112\n",
       "2004-04-21   -0.000060\n",
       "2004-04-22    0.001986\n",
       "2004-04-23    0.001667\n",
       "                ...   \n",
       "2023-12-22    0.003470\n",
       "2023-12-26    0.003755\n",
       "2023-12-27    0.003549\n",
       "2023-12-28    0.003336\n",
       "2023-12-29    0.002619\n",
       "Name: ewma, Length: 4960, dtype: float64"
      ]
     },
     "execution_count": 10,
     "metadata": {},
     "output_type": "execute_result"
    }
   ],
   "execution_count": 10
  },
  {
   "metadata": {},
   "cell_type": "markdown",
   "source": "### 4. Ledoit-Wolf Shrinkage Intensity.",
   "id": "37f2efb979d65b82"
  },
  {
   "metadata": {
    "ExecuteTime": {
     "end_time": "2025-06-12T17:40:01.103911Z",
     "start_time": "2025-06-12T17:38:13.131948Z"
    }
   },
   "cell_type": "code",
   "source": [
    "from tqdm import tqdm\n",
    "from sklearn.covariance import LedoitWolf\n",
    "\n",
    "lw_intensity = []\n",
    "for date in tqdm(ew.index[252 - 1:]):\n",
    "    end = date\n",
    "    sample = ret.loc[:end].iloc[-252:].dropna(axis=1)\n",
    "\n",
    "    lw = LedoitWolf()\n",
    "    lw.fit(sample)\n",
    "\n",
    "    lw_intensity.append([date, lw.shrinkage_])\n",
    "lw_intensity = pd.DataFrame(lw_intensity, columns=[\"date\", \"lw_intensity\"]).set_index(\"date\").iloc[:, 0]"
   ],
   "id": "3da2b1a1e669381",
   "outputs": [
    {
     "name": "stderr",
     "output_type": "stream",
     "text": [
      "100%|██████████| 4729/4729 [01:47<00:00, 43.81it/s]\n"
     ]
    }
   ],
   "execution_count": 11
  },
  {
   "metadata": {
    "ExecuteTime": {
     "end_time": "2025-06-12T17:40:01.170096Z",
     "start_time": "2025-06-12T17:40:01.168187Z"
    }
   },
   "cell_type": "code",
   "source": "lw_intensity.head()",
   "id": "7ecfb2a6fe1bb4b4",
   "outputs": [
    {
     "data": {
      "text/plain": [
       "date\n",
       "2005-03-18    0.067181\n",
       "2005-03-21    0.067755\n",
       "2005-03-22    0.068819\n",
       "2005-03-23    0.068787\n",
       "2005-03-24    0.068928\n",
       "Name: lw_intensity, dtype: float64"
      ]
     },
     "execution_count": 12,
     "metadata": {},
     "output_type": "execute_result"
    }
   ],
   "execution_count": 12
  },
  {
   "metadata": {
    "ExecuteTime": {
     "end_time": "2025-06-12T17:40:01.197759Z",
     "start_time": "2025-06-12T17:40:01.196017Z"
    }
   },
   "cell_type": "code",
   "source": "sample.shape",
   "id": "ace57696cf319eb9",
   "outputs": [
    {
     "data": {
      "text/plain": [
       "(252, 432)"
      ]
     },
     "execution_count": 13,
     "metadata": {},
     "output_type": "execute_result"
    }
   ],
   "execution_count": 13
  },
  {
   "metadata": {
    "ExecuteTime": {
     "end_time": "2025-06-12T17:40:01.229687Z",
     "start_time": "2025-06-12T17:40:01.227417Z"
    }
   },
   "cell_type": "code",
   "source": "np.nanmean(np.where(sample, sample > 0, 1), axis=0).mean()",
   "id": "bfce8efebc7a1bb4",
   "outputs": [
    {
     "data": {
      "text/plain": [
       "np.float64(0.5251322751322751)"
      ]
     },
     "execution_count": 14,
     "metadata": {},
     "output_type": "execute_result"
    }
   ],
   "execution_count": 14
  },
  {
   "metadata": {},
   "cell_type": "markdown",
   "source": "### 5. Momentum",
   "id": "de73e3c69368473"
  },
  {
   "metadata": {
    "ExecuteTime": {
     "end_time": "2025-06-12T17:40:02.479029Z",
     "start_time": "2025-06-12T17:40:01.249474Z"
    }
   },
   "cell_type": "code",
   "source": [
    "momentum = []\n",
    "for date in tqdm(ew.index[21 - 1:]):\n",
    "    end = date\n",
    "    sample = ret.loc[:end].iloc[-21:].dropna(axis=1)\n",
    "\n",
    "    mom = np.nanmean(np.where(sample, sample > 0, 1), axis=0).mean()\n",
    "\n",
    "    momentum.append([date, mom])\n",
    "momentum = pd.DataFrame(momentum, columns=[\"date\", \"momentum_feature\"]).set_index(\"date\").iloc[:, 0]"
   ],
   "id": "cc940cf8befc419d",
   "outputs": [
    {
     "name": "stderr",
     "output_type": "stream",
     "text": [
      "100%|██████████| 4960/4960 [00:01<00:00, 4049.35it/s]\n"
     ]
    }
   ],
   "execution_count": 15
  },
  {
   "metadata": {},
   "cell_type": "markdown",
   "source": "### 6. Trace.",
   "id": "cbdff7d7a753a8e7"
  },
  {
   "metadata": {
    "ExecuteTime": {
     "end_time": "2025-06-12T17:40:02.507459Z",
     "start_time": "2025-06-12T17:40:02.504929Z"
    }
   },
   "cell_type": "code",
   "source": "np.trace(sample.cov())",
   "id": "4b33735dd2236206",
   "outputs": [
    {
     "data": {
      "text/plain": [
       "np.float64(0.12288092370262858)"
      ]
     },
     "execution_count": 16,
     "metadata": {},
     "output_type": "execute_result"
    }
   ],
   "execution_count": 16
  },
  {
   "metadata": {
    "ExecuteTime": {
     "end_time": "2025-06-12T17:40:06.679241Z",
     "start_time": "2025-06-12T17:40:02.529827Z"
    }
   },
   "cell_type": "code",
   "source": [
    "trace = []\n",
    "for date in tqdm(ew.index[252 - 1:]):\n",
    "    end = date\n",
    "    sample = ret.loc[:end].iloc[-252:].dropna(axis=1)\n",
    "\n",
    "    mom = np.trace(sample.cov())\n",
    "\n",
    "    trace.append([date, mom])\n",
    "trace = pd.DataFrame(trace, columns=[\"date\", \"trace\"]).set_index(\"date\").iloc[:, 0]"
   ],
   "id": "e24de4e54ad501ee",
   "outputs": [
    {
     "name": "stderr",
     "output_type": "stream",
     "text": [
      "100%|██████████| 4729/4729 [00:04<00:00, 1141.05it/s]\n"
     ]
    }
   ],
   "execution_count": 17
  },
  {
   "metadata": {},
   "cell_type": "markdown",
   "source": "### 7. Universe Volatility.",
   "id": "6352f15c93631ff3"
  },
  {
   "metadata": {
    "ExecuteTime": {
     "end_time": "2025-06-12T17:40:06.707925Z",
     "start_time": "2025-06-12T17:40:06.705173Z"
    }
   },
   "cell_type": "code",
   "source": [
    "ew_vol = ew.rolling(window=252, min_periods=1).std()\n",
    "ew_vol"
   ],
   "id": "6a30e91f9090cf56",
   "outputs": [
    {
     "data": {
      "text/plain": [
       "date\n",
       "2004-03-19         NaN\n",
       "2004-03-22    0.004027\n",
       "2004-03-23    0.006896\n",
       "2004-03-24    0.006244\n",
       "2004-03-25    0.012291\n",
       "                ...   \n",
       "2023-12-22    0.009123\n",
       "2023-12-26    0.009099\n",
       "2023-12-27    0.009090\n",
       "2023-12-28    0.009090\n",
       "2023-12-29    0.009049\n",
       "Length: 4980, dtype: float64"
      ]
     },
     "execution_count": 18,
     "metadata": {},
     "output_type": "execute_result"
    }
   ],
   "execution_count": 18
  },
  {
   "metadata": {},
   "cell_type": "markdown",
   "source": "### Append features.",
   "id": "97a9030f77d934b7"
  },
  {
   "metadata": {
    "ExecuteTime": {
     "end_time": "2025-06-12T17:40:06.742387Z",
     "start_time": "2025-06-12T17:40:06.738886Z"
    }
   },
   "cell_type": "code",
   "source": [
    "rolling_avg_corr[\"date\"] = pd.to_datetime(rolling_avg_corr[\"date\"])\n",
    "rolling_avg_corr = rolling_avg_corr.set_index(\"date\")\n",
    "rolling_avg_corr.columns = [\"avg_corr_stocks\"]"
   ],
   "id": "2263e3b3647ffe16",
   "outputs": [],
   "execution_count": 19
  },
  {
   "metadata": {
    "ExecuteTime": {
     "end_time": "2025-06-12T17:40:06.781024Z",
     "start_time": "2025-06-12T17:40:06.777595Z"
    }
   },
   "cell_type": "code",
   "source": [
    "features = rolling_avg_corr.merge(avg_vol.rename(\"stocks_vol\"), how=\"inner\", left_index=True, right_index=True)\n",
    "features.shape"
   ],
   "id": "f4e0a9f68ce2529d",
   "outputs": [
    {
     "data": {
      "text/plain": [
       "(4729, 2)"
      ]
     },
     "execution_count": 20,
     "metadata": {},
     "output_type": "execute_result"
    }
   ],
   "execution_count": 20
  },
  {
   "metadata": {
    "ExecuteTime": {
     "end_time": "2025-06-12T17:40:06.843163Z",
     "start_time": "2025-06-12T17:40:06.840814Z"
    }
   },
   "cell_type": "code",
   "source": [
    "features = features.merge(ewma, how=\"inner\", left_index=True, right_index=True)\n",
    "features.shape"
   ],
   "id": "d11af746876c1256",
   "outputs": [
    {
     "data": {
      "text/plain": [
       "(4729, 3)"
      ]
     },
     "execution_count": 21,
     "metadata": {},
     "output_type": "execute_result"
    }
   ],
   "execution_count": 21
  },
  {
   "metadata": {
    "ExecuteTime": {
     "end_time": "2025-06-12T17:40:06.878435Z",
     "start_time": "2025-06-12T17:40:06.875733Z"
    }
   },
   "cell_type": "code",
   "source": [
    "features = features.merge(lw_intensity, how=\"inner\", left_index=True, right_index=True)\n",
    "features.shape"
   ],
   "id": "a047d6cc516a8a7c",
   "outputs": [
    {
     "data": {
      "text/plain": [
       "(4729, 4)"
      ]
     },
     "execution_count": 22,
     "metadata": {},
     "output_type": "execute_result"
    }
   ],
   "execution_count": 22
  },
  {
   "metadata": {
    "ExecuteTime": {
     "end_time": "2025-06-12T17:40:06.911704Z",
     "start_time": "2025-06-12T17:40:06.908689Z"
    }
   },
   "cell_type": "code",
   "source": [
    "features = features.merge(momentum, how=\"inner\", left_index=True, right_index=True)\n",
    "features.shape"
   ],
   "id": "54ce8748c93baa0f",
   "outputs": [
    {
     "data": {
      "text/plain": [
       "(4729, 5)"
      ]
     },
     "execution_count": 23,
     "metadata": {},
     "output_type": "execute_result"
    }
   ],
   "execution_count": 23
  },
  {
   "metadata": {
    "ExecuteTime": {
     "end_time": "2025-06-12T17:40:06.935757Z",
     "start_time": "2025-06-12T17:40:06.933207Z"
    }
   },
   "cell_type": "code",
   "source": [
    "features = features.merge(trace, how=\"inner\", left_index=True, right_index=True)\n",
    "features.shape"
   ],
   "id": "28ead313af7ecbf5",
   "outputs": [
    {
     "data": {
      "text/plain": [
       "(4729, 6)"
      ]
     },
     "execution_count": 24,
     "metadata": {},
     "output_type": "execute_result"
    }
   ],
   "execution_count": 24
  },
  {
   "metadata": {
    "ExecuteTime": {
     "end_time": "2025-06-12T17:40:06.952281Z",
     "start_time": "2025-06-12T17:40:06.949479Z"
    }
   },
   "cell_type": "code",
   "source": [
    "features = features.merge(ew_vol.rename(\"universe_vol\"), how=\"inner\", left_index=True, right_index=True)\n",
    "features.shape"
   ],
   "id": "2194ac5c1799d933",
   "outputs": [
    {
     "data": {
      "text/plain": [
       "(4729, 7)"
      ]
     },
     "execution_count": 25,
     "metadata": {},
     "output_type": "execute_result"
    }
   ],
   "execution_count": 25
  },
  {
   "metadata": {
    "ExecuteTime": {
     "end_time": "2025-06-12T17:40:06.973454Z",
     "start_time": "2025-06-12T17:40:06.968571Z"
    }
   },
   "cell_type": "code",
   "source": [
    "import pandas as pd\n",
    "\n",
    "targets = pd.read_csv(PATH / \"linear_targets.csv\")\n",
    "targets[\"date\"] = pd.to_datetime(targets[\"date\"])\n",
    "targets = targets.set_index(\"date\")"
   ],
   "id": "9c13554e9cdeaa59",
   "outputs": [],
   "execution_count": 26
  },
  {
   "metadata": {
    "ExecuteTime": {
     "end_time": "2025-06-12T17:40:07.004263Z",
     "start_time": "2025-06-12T17:40:07Z"
    }
   },
   "cell_type": "code",
   "source": [
    "# dnk_features = targets.loc[:, [\"l_shrinkage\", \"vol\"]]\n",
    "# dnk_features = dnk_features.rename(columns={\"l_shrinkage\": \"l_shrinkage_feat\"})\n",
    "# rolling_optimal = dnk_features[\"l_shrinkage_feat\"].rolling(window=252, min_periods=1).mean().rename(\"l_shrinkage_mu\")\n",
    "# rolling_vol = dnk_features[\"l_shrinkage_feat\"].rolling(window=252, min_periods=1).std().rename(\"l_shrinkage_vol\").fillna(0)\n",
    "# rolling_vol"
   ],
   "id": "c01fe58eee035431",
   "outputs": [
    {
     "data": {
      "text/plain": [
       "date\n",
       "2005-03-18    0.000000\n",
       "2005-03-21    0.028284\n",
       "2005-03-22    0.023094\n",
       "2005-03-23    0.090323\n",
       "2005-03-24    0.100896\n",
       "                ...   \n",
       "2023-11-17    0.289817\n",
       "2023-11-20    0.290356\n",
       "2023-11-21    0.290139\n",
       "2023-11-22    0.289934\n",
       "2023-11-24    0.289859\n",
       "Name: l_shrinkage_vol, Length: 4704, dtype: float64"
      ]
     },
     "execution_count": 27,
     "metadata": {},
     "output_type": "execute_result"
    }
   ],
   "execution_count": 27
  },
  {
   "metadata": {
    "ExecuteTime": {
     "end_time": "2025-06-12T17:40:07.038666Z",
     "start_time": "2025-06-12T17:40:07.034588Z"
    }
   },
   "cell_type": "code",
   "source": [
    "# add_feat = dnk_features[[\"l_shrinkage_feat\"]].merge(rolling_optimal, how=\"left\", left_index=True, right_index=True)\n",
    "# add_feat = add_feat.merge(rolling_vol, how=\"left\", left_index=True, right_index=True)\n",
    "# add_feat.shape"
   ],
   "id": "3faf7bf5b6657d5f",
   "outputs": [
    {
     "data": {
      "text/plain": [
       "(4716, 3)"
      ]
     },
     "execution_count": 28,
     "metadata": {},
     "output_type": "execute_result"
    }
   ],
   "execution_count": 28
  },
  {
   "metadata": {
    "ExecuteTime": {
     "end_time": "2025-06-12T17:40:07.086103Z",
     "start_time": "2025-06-12T17:40:07.073759Z"
    }
   },
   "cell_type": "code",
   "source": [
    "# new_data = pd.merge_asof(data, add_feat, left_index=True, right_index=True, tolerance=pd.Timedelta(\"1D\"))\n",
    "# new_data.shape"
   ],
   "id": "3428e56ef24fecc7",
   "outputs": [
    {
     "data": {
      "text/plain": [
       "(4980, 2090)"
      ]
     },
     "execution_count": 29,
     "metadata": {},
     "output_type": "execute_result"
    }
   ],
   "execution_count": 29
  },
  {
   "metadata": {
    "ExecuteTime": {
     "end_time": "2025-06-12T17:40:07.189040Z",
     "start_time": "2025-06-12T17:40:07.142053Z"
    }
   },
   "cell_type": "code",
   "source": [
    "new_data = pd.merge_asof(data, targets, left_index=True, right_index=True, tolerance=pd.Timedelta(\"1D\"))\n",
    "new_data = pd.merge_asof(new_data, features, left_index=True, right_index=True, tolerance=pd.Timedelta(\"1D\"))\n",
    "new_data.shape"
   ],
   "id": "58e94ff8c7d655cd",
   "outputs": [
    {
     "data": {
      "text/plain": [
       "(4980, 2100)"
      ]
     },
     "execution_count": 30,
     "metadata": {},
     "output_type": "execute_result"
    }
   ],
   "execution_count": 30
  },
  {
   "metadata": {
    "ExecuteTime": {
     "end_time": "2025-06-12T17:40:19.126465Z",
     "start_time": "2025-06-12T17:40:16.624304Z"
    }
   },
   "cell_type": "code",
   "source": "new_data.to_csv(PATH / \"spx_data.csv\")",
   "id": "d2e5b71066f1cb23",
   "outputs": [],
   "execution_count": 32
  },
  {
   "metadata": {
    "ExecuteTime": {
     "end_time": "2025-06-12T17:40:07.525415Z",
     "start_time": "2025-06-12T16:19:49.874121Z"
    }
   },
   "cell_type": "code",
   "source": "",
   "id": "58883dc2973f1c85",
   "outputs": [],
   "execution_count": null
  }
 ],
 "metadata": {
  "kernelspec": {
   "display_name": "Python 3",
   "language": "python",
   "name": "python3"
  },
  "language_info": {
   "codemirror_mode": {
    "name": "ipython",
    "version": 2
   },
   "file_extension": ".py",
   "mimetype": "text/x-python",
   "name": "python",
   "nbconvert_exporter": "python",
   "pygments_lexer": "ipython2",
   "version": "2.7.6"
  }
 },
 "nbformat": 4,
 "nbformat_minor": 5
}
