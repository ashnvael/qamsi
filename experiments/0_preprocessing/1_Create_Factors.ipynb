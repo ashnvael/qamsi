{
 "cells": [
  {
   "cell_type": "code",
   "id": "initial_id",
   "metadata": {
    "collapsed": true,
    "ExecuteTime": {
     "end_time": "2025-06-20T19:39:47.817196Z",
     "start_time": "2025-06-20T19:39:45.923088Z"
    }
   },
   "source": [
    "from __future__ import annotations\n",
    "\n",
    "from pathlib import Path\n",
    "\n",
    "import pandas as pd\n",
    "\n",
    "from run import Dataset\n",
    "\n",
    "DATASET = Dataset.TOPN_US.value(topn=50)"
   ],
   "outputs": [],
   "execution_count": 1
  },
  {
   "cell_type": "code",
   "id": "2e3a2a67e4cd921c",
   "metadata": {
    "ExecuteTime": {
     "end_time": "2025-06-20T19:39:47.942620Z",
     "start_time": "2025-06-20T19:39:47.821641Z"
    }
   },
   "source": [
    "SELECTED_FACTORS = [\"low_risk\", \"momentum\", \"size\", \"quality\", \"value\"]\n",
    "\n",
    "jkp_factors = pd.read_csv(Path(\"../../data/jkp_raw\") / \"jkp_factors.csv\")\n",
    "jkp_factors = jkp_factors[jkp_factors[\"name\"].isin(SELECTED_FACTORS)]\n",
    "jkp_factors[\"date\"] = pd.to_datetime(jkp_factors[\"date\"])"
   ],
   "outputs": [],
   "execution_count": 2
  },
  {
   "cell_type": "code",
   "id": "dabede0fc294c819",
   "metadata": {
    "ExecuteTime": {
     "end_time": "2025-06-20T19:39:48.013119Z",
     "start_time": "2025-06-20T19:39:47.985737Z"
    }
   },
   "source": [
    "factors = jkp_factors.pivot_table(index=\"date\", columns=\"name\", values=\"ret\")\n",
    "factors"
   ],
   "outputs": [
    {
     "data": {
      "text/plain": [
       "name        low_risk  momentum   quality      size     value\n",
       "date                                                        \n",
       "1926-01-02       NaN       NaN       NaN  0.002354       NaN\n",
       "1926-01-04       NaN       NaN       NaN  0.005459       NaN\n",
       "1926-01-05       NaN       NaN       NaN  0.003777       NaN\n",
       "1926-01-06       NaN       NaN       NaN -0.000590       NaN\n",
       "1926-01-07       NaN       NaN       NaN  0.002057       NaN\n",
       "...              ...       ...       ...       ...       ...\n",
       "2024-12-24 -0.003400  0.001616 -0.000962  0.001315 -0.002292\n",
       "2024-12-26 -0.003880 -0.000633 -0.002414  0.008669 -0.001183\n",
       "2024-12-27  0.007210 -0.004166  0.000425 -0.003512  0.005444\n",
       "2024-12-30  0.003394  0.000445 -0.001043  0.001675  0.004711\n",
       "2024-12-31  0.003962 -0.005435 -0.001249  0.001851  0.006603\n",
       "\n",
       "[26051 rows x 5 columns]"
      ],
      "text/html": [
       "<div>\n",
       "<style scoped>\n",
       "    .dataframe tbody tr th:only-of-type {\n",
       "        vertical-align: middle;\n",
       "    }\n",
       "\n",
       "    .dataframe tbody tr th {\n",
       "        vertical-align: top;\n",
       "    }\n",
       "\n",
       "    .dataframe thead th {\n",
       "        text-align: right;\n",
       "    }\n",
       "</style>\n",
       "<table border=\"1\" class=\"dataframe\">\n",
       "  <thead>\n",
       "    <tr style=\"text-align: right;\">\n",
       "      <th>name</th>\n",
       "      <th>low_risk</th>\n",
       "      <th>momentum</th>\n",
       "      <th>quality</th>\n",
       "      <th>size</th>\n",
       "      <th>value</th>\n",
       "    </tr>\n",
       "    <tr>\n",
       "      <th>date</th>\n",
       "      <th></th>\n",
       "      <th></th>\n",
       "      <th></th>\n",
       "      <th></th>\n",
       "      <th></th>\n",
       "    </tr>\n",
       "  </thead>\n",
       "  <tbody>\n",
       "    <tr>\n",
       "      <th>1926-01-02</th>\n",
       "      <td>NaN</td>\n",
       "      <td>NaN</td>\n",
       "      <td>NaN</td>\n",
       "      <td>0.002354</td>\n",
       "      <td>NaN</td>\n",
       "    </tr>\n",
       "    <tr>\n",
       "      <th>1926-01-04</th>\n",
       "      <td>NaN</td>\n",
       "      <td>NaN</td>\n",
       "      <td>NaN</td>\n",
       "      <td>0.005459</td>\n",
       "      <td>NaN</td>\n",
       "    </tr>\n",
       "    <tr>\n",
       "      <th>1926-01-05</th>\n",
       "      <td>NaN</td>\n",
       "      <td>NaN</td>\n",
       "      <td>NaN</td>\n",
       "      <td>0.003777</td>\n",
       "      <td>NaN</td>\n",
       "    </tr>\n",
       "    <tr>\n",
       "      <th>1926-01-06</th>\n",
       "      <td>NaN</td>\n",
       "      <td>NaN</td>\n",
       "      <td>NaN</td>\n",
       "      <td>-0.000590</td>\n",
       "      <td>NaN</td>\n",
       "    </tr>\n",
       "    <tr>\n",
       "      <th>1926-01-07</th>\n",
       "      <td>NaN</td>\n",
       "      <td>NaN</td>\n",
       "      <td>NaN</td>\n",
       "      <td>0.002057</td>\n",
       "      <td>NaN</td>\n",
       "    </tr>\n",
       "    <tr>\n",
       "      <th>...</th>\n",
       "      <td>...</td>\n",
       "      <td>...</td>\n",
       "      <td>...</td>\n",
       "      <td>...</td>\n",
       "      <td>...</td>\n",
       "    </tr>\n",
       "    <tr>\n",
       "      <th>2024-12-24</th>\n",
       "      <td>-0.003400</td>\n",
       "      <td>0.001616</td>\n",
       "      <td>-0.000962</td>\n",
       "      <td>0.001315</td>\n",
       "      <td>-0.002292</td>\n",
       "    </tr>\n",
       "    <tr>\n",
       "      <th>2024-12-26</th>\n",
       "      <td>-0.003880</td>\n",
       "      <td>-0.000633</td>\n",
       "      <td>-0.002414</td>\n",
       "      <td>0.008669</td>\n",
       "      <td>-0.001183</td>\n",
       "    </tr>\n",
       "    <tr>\n",
       "      <th>2024-12-27</th>\n",
       "      <td>0.007210</td>\n",
       "      <td>-0.004166</td>\n",
       "      <td>0.000425</td>\n",
       "      <td>-0.003512</td>\n",
       "      <td>0.005444</td>\n",
       "    </tr>\n",
       "    <tr>\n",
       "      <th>2024-12-30</th>\n",
       "      <td>0.003394</td>\n",
       "      <td>0.000445</td>\n",
       "      <td>-0.001043</td>\n",
       "      <td>0.001675</td>\n",
       "      <td>0.004711</td>\n",
       "    </tr>\n",
       "    <tr>\n",
       "      <th>2024-12-31</th>\n",
       "      <td>0.003962</td>\n",
       "      <td>-0.005435</td>\n",
       "      <td>-0.001249</td>\n",
       "      <td>0.001851</td>\n",
       "      <td>0.006603</td>\n",
       "    </tr>\n",
       "  </tbody>\n",
       "</table>\n",
       "<p>26051 rows × 5 columns</p>\n",
       "</div>"
      ]
     },
     "execution_count": 3,
     "metadata": {},
     "output_type": "execute_result"
    }
   ],
   "execution_count": 3
  },
  {
   "cell_type": "code",
   "id": "62eaaf9c4ae3e519",
   "metadata": {
    "ExecuteTime": {
     "end_time": "2025-06-20T19:39:48.146749Z",
     "start_time": "2025-06-20T19:39:48.032345Z"
    }
   },
   "source": [
    "data_df = pd.read_csv(Path(\"../../data/output\") / DATASET.DF_FILENAME)\n",
    "data_df[\"date\"] = pd.to_datetime(data_df[\"date\"])\n",
    "data_df = data_df.set_index(\"date\")"
   ],
   "outputs": [],
   "execution_count": 4
  },
  {
   "cell_type": "code",
   "id": "4ba20831dd4bb296",
   "metadata": {
    "ExecuteTime": {
     "end_time": "2025-06-20T19:39:49.097129Z",
     "start_time": "2025-06-20T19:39:48.282785Z"
    }
   },
   "source": [
    "spx = pd.read_excel(Path(\"../../data/gw_replication\") / \"spx.xlsx\", skiprows=6)\n",
    "spx = spx.rename(columns={\"Date\": \"date\", \"PX_LAST\": \"spx\"})\n",
    "spx[\"date\"] = pd.to_datetime(spx[\"date\"])\n",
    "spx = spx.set_index(\"date\")\n",
    "spx = spx.sort_index()\n",
    "spx = spx[[\"spx\"]].pct_change()\n",
    "spx"
   ],
   "outputs": [
    {
     "data": {
      "text/plain": [
       "                 spx\n",
       "date                \n",
       "1950-01-30       NaN\n",
       "1950-01-31  0.001763\n",
       "1950-02-01  0.000000\n",
       "1950-02-02  0.010557\n",
       "1950-02-03  0.003482\n",
       "...              ...\n",
       "2025-01-22  0.006138\n",
       "2025-01-23  0.005314\n",
       "2025-01-24 -0.002855\n",
       "2025-01-27 -0.014581\n",
       "2025-01-28  0.007170\n",
       "\n",
       "[19202 rows x 1 columns]"
      ],
      "text/html": [
       "<div>\n",
       "<style scoped>\n",
       "    .dataframe tbody tr th:only-of-type {\n",
       "        vertical-align: middle;\n",
       "    }\n",
       "\n",
       "    .dataframe tbody tr th {\n",
       "        vertical-align: top;\n",
       "    }\n",
       "\n",
       "    .dataframe thead th {\n",
       "        text-align: right;\n",
       "    }\n",
       "</style>\n",
       "<table border=\"1\" class=\"dataframe\">\n",
       "  <thead>\n",
       "    <tr style=\"text-align: right;\">\n",
       "      <th></th>\n",
       "      <th>spx</th>\n",
       "    </tr>\n",
       "    <tr>\n",
       "      <th>date</th>\n",
       "      <th></th>\n",
       "    </tr>\n",
       "  </thead>\n",
       "  <tbody>\n",
       "    <tr>\n",
       "      <th>1950-01-30</th>\n",
       "      <td>NaN</td>\n",
       "    </tr>\n",
       "    <tr>\n",
       "      <th>1950-01-31</th>\n",
       "      <td>0.001763</td>\n",
       "    </tr>\n",
       "    <tr>\n",
       "      <th>1950-02-01</th>\n",
       "      <td>0.000000</td>\n",
       "    </tr>\n",
       "    <tr>\n",
       "      <th>1950-02-02</th>\n",
       "      <td>0.010557</td>\n",
       "    </tr>\n",
       "    <tr>\n",
       "      <th>1950-02-03</th>\n",
       "      <td>0.003482</td>\n",
       "    </tr>\n",
       "    <tr>\n",
       "      <th>...</th>\n",
       "      <td>...</td>\n",
       "    </tr>\n",
       "    <tr>\n",
       "      <th>2025-01-22</th>\n",
       "      <td>0.006138</td>\n",
       "    </tr>\n",
       "    <tr>\n",
       "      <th>2025-01-23</th>\n",
       "      <td>0.005314</td>\n",
       "    </tr>\n",
       "    <tr>\n",
       "      <th>2025-01-24</th>\n",
       "      <td>-0.002855</td>\n",
       "    </tr>\n",
       "    <tr>\n",
       "      <th>2025-01-27</th>\n",
       "      <td>-0.014581</td>\n",
       "    </tr>\n",
       "    <tr>\n",
       "      <th>2025-01-28</th>\n",
       "      <td>0.007170</td>\n",
       "    </tr>\n",
       "  </tbody>\n",
       "</table>\n",
       "<p>19202 rows × 1 columns</p>\n",
       "</div>"
      ]
     },
     "execution_count": 5,
     "metadata": {},
     "output_type": "execute_result"
    }
   ],
   "execution_count": 5
  },
  {
   "cell_type": "code",
   "id": "f3b359a816175e31",
   "metadata": {
    "ExecuteTime": {
     "end_time": "2025-06-20T19:39:49.832612Z",
     "start_time": "2025-06-20T19:39:49.175308Z"
    }
   },
   "source": [
    "rf = pd.read_excel(Path(\"../../data/ff\") / \"FFDaily.xlsx\")\n",
    "rf = rf.rename(columns={\"Date\": \"date\", \"RF\": \"rf\"})\n",
    "rf[\"date\"] = pd.to_datetime(rf[\"date\"], format=\"%Y%m%d\")\n",
    "rf = rf.set_index(\"date\")\n",
    "rf = rf[\"rf\"] / 100\n",
    "rf"
   ],
   "outputs": [
    {
     "data": {
      "text/plain": [
       "date\n",
       "1926-07-01    0.009\n",
       "1926-07-02    0.009\n",
       "1926-07-06    0.009\n",
       "1926-07-07    0.009\n",
       "1926-07-08    0.009\n",
       "              ...  \n",
       "2024-08-26    0.022\n",
       "2024-08-27    0.022\n",
       "2024-08-28    0.022\n",
       "2024-08-29    0.022\n",
       "2024-08-30    0.022\n",
       "Name: rf, Length: 25817, dtype: float64"
      ]
     },
     "execution_count": 6,
     "metadata": {},
     "output_type": "execute_result"
    }
   ],
   "execution_count": 6
  },
  {
   "cell_type": "code",
   "id": "9b51d76b5e067be8",
   "metadata": {
    "ExecuteTime": {
     "end_time": "2025-06-20T19:39:49.887744Z",
     "start_time": "2025-06-20T19:39:49.883754Z"
    }
   },
   "source": [
    "from qamsi.market_data.risk_free_conventions import accrue_risk_free_rate\n",
    "\n",
    "rf = accrue_risk_free_rate(rf_rate=rf)"
   ],
   "outputs": [],
   "execution_count": 7
  },
  {
   "cell_type": "code",
   "id": "5089b0bec4177eec",
   "metadata": {
    "ExecuteTime": {
     "end_time": "2025-06-20T19:39:49.963569Z",
     "start_time": "2025-06-20T19:39:49.959556Z"
    }
   },
   "source": [
    "spx = spx.merge(rf.rename(\"acc_rate\"), left_index=True, right_index=True, how=\"left\")\n",
    "spx"
   ],
   "outputs": [
    {
     "data": {
      "text/plain": [
       "                 spx  acc_rate\n",
       "date                          \n",
       "1950-01-30       NaN  0.000022\n",
       "1950-01-31  0.001763  0.000011\n",
       "1950-02-01  0.000000  0.000011\n",
       "1950-02-02  0.010557  0.000011\n",
       "1950-02-03  0.003482  0.000011\n",
       "...              ...       ...\n",
       "2025-01-22  0.006138       NaN\n",
       "2025-01-23  0.005314       NaN\n",
       "2025-01-24 -0.002855       NaN\n",
       "2025-01-27 -0.014581       NaN\n",
       "2025-01-28  0.007170       NaN\n",
       "\n",
       "[19202 rows x 2 columns]"
      ],
      "text/html": [
       "<div>\n",
       "<style scoped>\n",
       "    .dataframe tbody tr th:only-of-type {\n",
       "        vertical-align: middle;\n",
       "    }\n",
       "\n",
       "    .dataframe tbody tr th {\n",
       "        vertical-align: top;\n",
       "    }\n",
       "\n",
       "    .dataframe thead th {\n",
       "        text-align: right;\n",
       "    }\n",
       "</style>\n",
       "<table border=\"1\" class=\"dataframe\">\n",
       "  <thead>\n",
       "    <tr style=\"text-align: right;\">\n",
       "      <th></th>\n",
       "      <th>spx</th>\n",
       "      <th>acc_rate</th>\n",
       "    </tr>\n",
       "    <tr>\n",
       "      <th>date</th>\n",
       "      <th></th>\n",
       "      <th></th>\n",
       "    </tr>\n",
       "  </thead>\n",
       "  <tbody>\n",
       "    <tr>\n",
       "      <th>1950-01-30</th>\n",
       "      <td>NaN</td>\n",
       "      <td>0.000022</td>\n",
       "    </tr>\n",
       "    <tr>\n",
       "      <th>1950-01-31</th>\n",
       "      <td>0.001763</td>\n",
       "      <td>0.000011</td>\n",
       "    </tr>\n",
       "    <tr>\n",
       "      <th>1950-02-01</th>\n",
       "      <td>0.000000</td>\n",
       "      <td>0.000011</td>\n",
       "    </tr>\n",
       "    <tr>\n",
       "      <th>1950-02-02</th>\n",
       "      <td>0.010557</td>\n",
       "      <td>0.000011</td>\n",
       "    </tr>\n",
       "    <tr>\n",
       "      <th>1950-02-03</th>\n",
       "      <td>0.003482</td>\n",
       "      <td>0.000011</td>\n",
       "    </tr>\n",
       "    <tr>\n",
       "      <th>...</th>\n",
       "      <td>...</td>\n",
       "      <td>...</td>\n",
       "    </tr>\n",
       "    <tr>\n",
       "      <th>2025-01-22</th>\n",
       "      <td>0.006138</td>\n",
       "      <td>NaN</td>\n",
       "    </tr>\n",
       "    <tr>\n",
       "      <th>2025-01-23</th>\n",
       "      <td>0.005314</td>\n",
       "      <td>NaN</td>\n",
       "    </tr>\n",
       "    <tr>\n",
       "      <th>2025-01-24</th>\n",
       "      <td>-0.002855</td>\n",
       "      <td>NaN</td>\n",
       "    </tr>\n",
       "    <tr>\n",
       "      <th>2025-01-27</th>\n",
       "      <td>-0.014581</td>\n",
       "      <td>NaN</td>\n",
       "    </tr>\n",
       "    <tr>\n",
       "      <th>2025-01-28</th>\n",
       "      <td>0.007170</td>\n",
       "      <td>NaN</td>\n",
       "    </tr>\n",
       "  </tbody>\n",
       "</table>\n",
       "<p>19202 rows × 2 columns</p>\n",
       "</div>"
      ]
     },
     "execution_count": 8,
     "metadata": {},
     "output_type": "execute_result"
    }
   ],
   "execution_count": 8
  },
  {
   "cell_type": "code",
   "id": "16272f5f434f8a5f",
   "metadata": {
    "ExecuteTime": {
     "end_time": "2025-06-20T19:39:49.995701Z",
     "start_time": "2025-06-20T19:39:49.992477Z"
    }
   },
   "source": [
    "spx = spx[[\"spx\"]].sub(spx[\"acc_rate\"], axis=0)\n",
    "spx"
   ],
   "outputs": [
    {
     "data": {
      "text/plain": [
       "                 spx\n",
       "date                \n",
       "1950-01-30       NaN\n",
       "1950-01-31  0.001752\n",
       "1950-02-01 -0.000011\n",
       "1950-02-02  0.010546\n",
       "1950-02-03  0.003471\n",
       "...              ...\n",
       "2025-01-22       NaN\n",
       "2025-01-23       NaN\n",
       "2025-01-24       NaN\n",
       "2025-01-27       NaN\n",
       "2025-01-28       NaN\n",
       "\n",
       "[19202 rows x 1 columns]"
      ],
      "text/html": [
       "<div>\n",
       "<style scoped>\n",
       "    .dataframe tbody tr th:only-of-type {\n",
       "        vertical-align: middle;\n",
       "    }\n",
       "\n",
       "    .dataframe tbody tr th {\n",
       "        vertical-align: top;\n",
       "    }\n",
       "\n",
       "    .dataframe thead th {\n",
       "        text-align: right;\n",
       "    }\n",
       "</style>\n",
       "<table border=\"1\" class=\"dataframe\">\n",
       "  <thead>\n",
       "    <tr style=\"text-align: right;\">\n",
       "      <th></th>\n",
       "      <th>spx</th>\n",
       "    </tr>\n",
       "    <tr>\n",
       "      <th>date</th>\n",
       "      <th></th>\n",
       "    </tr>\n",
       "  </thead>\n",
       "  <tbody>\n",
       "    <tr>\n",
       "      <th>1950-01-30</th>\n",
       "      <td>NaN</td>\n",
       "    </tr>\n",
       "    <tr>\n",
       "      <th>1950-01-31</th>\n",
       "      <td>0.001752</td>\n",
       "    </tr>\n",
       "    <tr>\n",
       "      <th>1950-02-01</th>\n",
       "      <td>-0.000011</td>\n",
       "    </tr>\n",
       "    <tr>\n",
       "      <th>1950-02-02</th>\n",
       "      <td>0.010546</td>\n",
       "    </tr>\n",
       "    <tr>\n",
       "      <th>1950-02-03</th>\n",
       "      <td>0.003471</td>\n",
       "    </tr>\n",
       "    <tr>\n",
       "      <th>...</th>\n",
       "      <td>...</td>\n",
       "    </tr>\n",
       "    <tr>\n",
       "      <th>2025-01-22</th>\n",
       "      <td>NaN</td>\n",
       "    </tr>\n",
       "    <tr>\n",
       "      <th>2025-01-23</th>\n",
       "      <td>NaN</td>\n",
       "    </tr>\n",
       "    <tr>\n",
       "      <th>2025-01-24</th>\n",
       "      <td>NaN</td>\n",
       "    </tr>\n",
       "    <tr>\n",
       "      <th>2025-01-27</th>\n",
       "      <td>NaN</td>\n",
       "    </tr>\n",
       "    <tr>\n",
       "      <th>2025-01-28</th>\n",
       "      <td>NaN</td>\n",
       "    </tr>\n",
       "  </tbody>\n",
       "</table>\n",
       "<p>19202 rows × 1 columns</p>\n",
       "</div>"
      ]
     },
     "execution_count": 9,
     "metadata": {},
     "output_type": "execute_result"
    }
   ],
   "execution_count": 9
  },
  {
   "cell_type": "code",
   "id": "8c62305e4a47fc2",
   "metadata": {
    "ExecuteTime": {
     "end_time": "2025-06-20T19:39:50.165581Z",
     "start_time": "2025-06-20T19:39:50.161396Z"
    }
   },
   "source": [
    "factors = factors.merge(spx, left_index=True, right_index=True, how=\"left\")"
   ],
   "outputs": [],
   "execution_count": 10
  },
  {
   "cell_type": "code",
   "id": "8578dff789a6a63a",
   "metadata": {
    "ExecuteTime": {
     "end_time": "2025-06-20T19:39:50.214957Z",
     "start_time": "2025-06-20T19:39:50.205920Z"
    }
   },
   "source": [
    "data_df = data_df.merge(factors, left_index=True, right_index=True, how=\"left\")\n",
    "data_df.shape"
   ],
   "outputs": [
    {
     "data": {
      "text/plain": [
       "(11324, 237)"
      ]
     },
     "execution_count": 11,
     "metadata": {},
     "output_type": "execute_result"
    }
   ],
   "execution_count": 11
  },
  {
   "cell_type": "code",
   "id": "6206e342b38b1375",
   "metadata": {
    "ExecuteTime": {
     "end_time": "2025-06-20T19:39:50.265383Z",
     "start_time": "2025-06-20T19:39:50.255383Z"
    }
   },
   "source": [
    "data_df = data_df.merge(\n",
    "    rf.rename(\"acc_rate\"), left_index=True, right_index=True, how=\"left\"\n",
    ")\n",
    "data_df.shape"
   ],
   "outputs": [
    {
     "data": {
      "text/plain": [
       "(11324, 238)"
      ]
     },
     "execution_count": 12,
     "metadata": {},
     "output_type": "execute_result"
    }
   ],
   "execution_count": 12
  },
  {
   "cell_type": "code",
   "id": "f1c367e2e90c8082",
   "metadata": {
    "ExecuteTime": {
     "end_time": "2025-06-20T19:39:50.290757Z",
     "start_time": "2025-06-20T19:39:50.288345Z"
    }
   },
   "source": [
    "data_df.columns"
   ],
   "outputs": [
    {
     "data": {
      "text/plain": [
       "Index(['10078', '10104', '10107', '10145', '10147', '10161', '10401', '10604',\n",
       "       '10890', '11042',\n",
       "       ...\n",
       "       '92655', '93002', '93436', 'low_risk', 'momentum', 'quality', 'size',\n",
       "       'value', 'spx', 'acc_rate'],\n",
       "      dtype='object', length=238)"
      ]
     },
     "execution_count": 13,
     "metadata": {},
     "output_type": "execute_result"
    }
   ],
   "execution_count": 13
  },
  {
   "cell_type": "code",
   "id": "b27750899a6b26c5",
   "metadata": {
    "ExecuteTime": {
     "end_time": "2025-06-20T19:39:50.309774Z",
     "start_time": "2025-06-20T19:39:50.308372Z"
    }
   },
   "source": [
    "# data_df[factors.columns].to_csv(Path(\"../../data/output\") / \"factors.csv\")"
   ],
   "outputs": [],
   "execution_count": 14
  },
  {
   "cell_type": "code",
   "id": "85ca4b34a363a321",
   "metadata": {
    "ExecuteTime": {
     "end_time": "2025-06-20T19:39:50.326911Z",
     "start_time": "2025-06-20T19:39:50.325552Z"
    }
   },
   "source": [
    "# data_df[data_df.columns.difference(factors.columns.tolist() + [\"spx\"])].to_csv(Path(\"../../data/output\") / \"spx_data.csv\")"
   ],
   "outputs": [],
   "execution_count": 15
  },
  {
   "cell_type": "code",
   "id": "592b5ff2a89c3f63",
   "metadata": {
    "ExecuteTime": {
     "end_time": "2025-06-20T19:39:51.109141Z",
     "start_time": "2025-06-20T19:39:50.337308Z"
    }
   },
   "source": "data_df.to_csv(Path(\"../../data/output\") / DATASET.DF_FILENAME)",
   "outputs": [],
   "execution_count": 16
  },
  {
   "metadata": {
    "ExecuteTime": {
     "end_time": "2025-06-20T19:39:51.159768Z",
     "start_time": "2025-06-20T19:39:51.157008Z"
    }
   },
   "cell_type": "code",
   "source": "",
   "id": "21ffe6e6a975a305",
   "outputs": [],
   "execution_count": null
  }
 ],
 "metadata": {
  "kernelspec": {
   "display_name": "Python 3",
   "language": "python",
   "name": "python3"
  },
  "language_info": {
   "codemirror_mode": {
    "name": "ipython",
    "version": 2
   },
   "file_extension": ".py",
   "mimetype": "text/x-python",
   "name": "python",
   "nbconvert_exporter": "python",
   "pygments_lexer": "ipython2",
   "version": "2.7.6"
  }
 },
 "nbformat": 4,
 "nbformat_minor": 5
}
