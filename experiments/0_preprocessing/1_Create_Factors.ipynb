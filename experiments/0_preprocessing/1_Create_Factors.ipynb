{
 "cells": [
  {
   "cell_type": "code",
   "execution_count": 22,
   "id": "initial_id",
   "metadata": {
    "ExecuteTime": {
     "end_time": "2025-05-20T07:29:33.430108Z",
     "start_time": "2025-05-20T07:29:33.428249Z"
    },
    "collapsed": true
   },
   "outputs": [],
   "source": [
    "from __future__ import annotations\n",
    "\n",
    "import pandas as pd\n",
    "from research.fractional_momentum.fractional_momentum.config.liquid_experiment_config import (\n",
    "    ExperimentConfig,\n",
    ")"
   ]
  },
  {
   "cell_type": "code",
   "execution_count": 23,
   "id": "2e3a2a67e4cd921c",
   "metadata": {
    "ExecuteTime": {
     "end_time": "2025-05-20T07:29:33.564050Z",
     "start_time": "2025-05-20T07:29:33.445478Z"
    }
   },
   "outputs": [],
   "source": [
    "SELECTED_FACTORS = [\"low_risk\", \"momentum\", \"size\", \"quality\", \"value\"]\n",
    "\n",
    "jkp_factors = pd.read_csv(ExperimentConfig.PATH_INPUT / \"jkp_factors.csv\")\n",
    "jkp_factors = jkp_factors[jkp_factors[\"name\"].isin(SELECTED_FACTORS)]\n",
    "jkp_factors[\"date\"] = pd.to_datetime(jkp_factors[\"date\"])"
   ]
  },
  {
   "cell_type": "code",
   "execution_count": 24,
   "id": "dabede0fc294c819",
   "metadata": {
    "ExecuteTime": {
     "end_time": "2025-05-20T07:29:33.594826Z",
     "start_time": "2025-05-20T07:29:33.572415Z"
    }
   },
   "outputs": [
    {
     "data": {
      "text/html": [
       "<div>\n",
       "<style scoped>\n",
       "    .dataframe tbody tr th:only-of-type {\n",
       "        vertical-align: middle;\n",
       "    }\n",
       "\n",
       "    .dataframe tbody tr th {\n",
       "        vertical-align: top;\n",
       "    }\n",
       "\n",
       "    .dataframe thead th {\n",
       "        text-align: right;\n",
       "    }\n",
       "</style>\n",
       "<table border=\"1\" class=\"dataframe\">\n",
       "  <thead>\n",
       "    <tr style=\"text-align: right;\">\n",
       "      <th>name</th>\n",
       "      <th>low_risk</th>\n",
       "      <th>momentum</th>\n",
       "      <th>quality</th>\n",
       "      <th>size</th>\n",
       "      <th>value</th>\n",
       "    </tr>\n",
       "    <tr>\n",
       "      <th>date</th>\n",
       "      <th></th>\n",
       "      <th></th>\n",
       "      <th></th>\n",
       "      <th></th>\n",
       "      <th></th>\n",
       "    </tr>\n",
       "  </thead>\n",
       "  <tbody>\n",
       "    <tr>\n",
       "      <th>1926-01-02</th>\n",
       "      <td>NaN</td>\n",
       "      <td>NaN</td>\n",
       "      <td>NaN</td>\n",
       "      <td>0.002354</td>\n",
       "      <td>NaN</td>\n",
       "    </tr>\n",
       "    <tr>\n",
       "      <th>1926-01-04</th>\n",
       "      <td>NaN</td>\n",
       "      <td>NaN</td>\n",
       "      <td>NaN</td>\n",
       "      <td>0.005459</td>\n",
       "      <td>NaN</td>\n",
       "    </tr>\n",
       "    <tr>\n",
       "      <th>1926-01-05</th>\n",
       "      <td>NaN</td>\n",
       "      <td>NaN</td>\n",
       "      <td>NaN</td>\n",
       "      <td>0.003777</td>\n",
       "      <td>NaN</td>\n",
       "    </tr>\n",
       "    <tr>\n",
       "      <th>1926-01-06</th>\n",
       "      <td>NaN</td>\n",
       "      <td>NaN</td>\n",
       "      <td>NaN</td>\n",
       "      <td>-0.000590</td>\n",
       "      <td>NaN</td>\n",
       "    </tr>\n",
       "    <tr>\n",
       "      <th>1926-01-07</th>\n",
       "      <td>NaN</td>\n",
       "      <td>NaN</td>\n",
       "      <td>NaN</td>\n",
       "      <td>0.002057</td>\n",
       "      <td>NaN</td>\n",
       "    </tr>\n",
       "    <tr>\n",
       "      <th>...</th>\n",
       "      <td>...</td>\n",
       "      <td>...</td>\n",
       "      <td>...</td>\n",
       "      <td>...</td>\n",
       "      <td>...</td>\n",
       "    </tr>\n",
       "    <tr>\n",
       "      <th>2024-12-24</th>\n",
       "      <td>-0.003400</td>\n",
       "      <td>0.001616</td>\n",
       "      <td>-0.000962</td>\n",
       "      <td>0.001315</td>\n",
       "      <td>-0.002292</td>\n",
       "    </tr>\n",
       "    <tr>\n",
       "      <th>2024-12-26</th>\n",
       "      <td>-0.003880</td>\n",
       "      <td>-0.000633</td>\n",
       "      <td>-0.002414</td>\n",
       "      <td>0.008669</td>\n",
       "      <td>-0.001183</td>\n",
       "    </tr>\n",
       "    <tr>\n",
       "      <th>2024-12-27</th>\n",
       "      <td>0.007210</td>\n",
       "      <td>-0.004166</td>\n",
       "      <td>0.000425</td>\n",
       "      <td>-0.003512</td>\n",
       "      <td>0.005444</td>\n",
       "    </tr>\n",
       "    <tr>\n",
       "      <th>2024-12-30</th>\n",
       "      <td>0.003394</td>\n",
       "      <td>0.000445</td>\n",
       "      <td>-0.001043</td>\n",
       "      <td>0.001675</td>\n",
       "      <td>0.004711</td>\n",
       "    </tr>\n",
       "    <tr>\n",
       "      <th>2024-12-31</th>\n",
       "      <td>0.003962</td>\n",
       "      <td>-0.005435</td>\n",
       "      <td>-0.001249</td>\n",
       "      <td>0.001851</td>\n",
       "      <td>0.006603</td>\n",
       "    </tr>\n",
       "  </tbody>\n",
       "</table>\n",
       "<p>26051 rows × 5 columns</p>\n",
       "</div>"
      ],
      "text/plain": [
       "name        low_risk  momentum   quality      size     value\n",
       "date                                                        \n",
       "1926-01-02       NaN       NaN       NaN  0.002354       NaN\n",
       "1926-01-04       NaN       NaN       NaN  0.005459       NaN\n",
       "1926-01-05       NaN       NaN       NaN  0.003777       NaN\n",
       "1926-01-06       NaN       NaN       NaN -0.000590       NaN\n",
       "1926-01-07       NaN       NaN       NaN  0.002057       NaN\n",
       "...              ...       ...       ...       ...       ...\n",
       "2024-12-24 -0.003400  0.001616 -0.000962  0.001315 -0.002292\n",
       "2024-12-26 -0.003880 -0.000633 -0.002414  0.008669 -0.001183\n",
       "2024-12-27  0.007210 -0.004166  0.000425 -0.003512  0.005444\n",
       "2024-12-30  0.003394  0.000445 -0.001043  0.001675  0.004711\n",
       "2024-12-31  0.003962 -0.005435 -0.001249  0.001851  0.006603\n",
       "\n",
       "[26051 rows x 5 columns]"
      ]
     },
     "execution_count": 24,
     "metadata": {},
     "output_type": "execute_result"
    }
   ],
   "source": [
    "factors = jkp_factors.pivot_table(index=\"date\", columns=\"name\", values=\"ret\")\n",
    "factors"
   ]
  },
  {
   "cell_type": "code",
   "execution_count": 25,
   "id": "62eaaf9c4ae3e519",
   "metadata": {
    "ExecuteTime": {
     "end_time": "2025-05-20T07:29:34.124842Z",
     "start_time": "2025-05-20T07:29:33.609334Z"
    }
   },
   "outputs": [],
   "source": [
    "data_df = pd.read_csv(ExperimentConfig.PATH_OUTPUT / \"data_df.csv\")\n",
    "data_df[\"date\"] = pd.to_datetime(data_df[\"date\"])\n",
    "data_df = data_df.set_index(\"date\")"
   ]
  },
  {
   "cell_type": "code",
   "execution_count": 26,
   "id": "3853f2418b1a3f09",
   "metadata": {
    "ExecuteTime": {
     "end_time": "2025-05-20T07:29:34.149605Z",
     "start_time": "2025-05-20T07:29:34.146687Z"
    }
   },
   "outputs": [
    {
     "data": {
      "text/html": [
       "<div>\n",
       "<style scoped>\n",
       "    .dataframe tbody tr th:only-of-type {\n",
       "        vertical-align: middle;\n",
       "    }\n",
       "\n",
       "    .dataframe tbody tr th {\n",
       "        vertical-align: top;\n",
       "    }\n",
       "\n",
       "    .dataframe thead th {\n",
       "        text-align: right;\n",
       "    }\n",
       "</style>\n",
       "<table border=\"1\" class=\"dataframe\">\n",
       "  <thead>\n",
       "    <tr style=\"text-align: right;\">\n",
       "      <th></th>\n",
       "      <th>spx</th>\n",
       "    </tr>\n",
       "    <tr>\n",
       "      <th>date</th>\n",
       "      <th></th>\n",
       "    </tr>\n",
       "  </thead>\n",
       "  <tbody>\n",
       "    <tr>\n",
       "      <th>2004-03-19</th>\n",
       "      <td>-0.011173</td>\n",
       "    </tr>\n",
       "    <tr>\n",
       "      <th>2004-03-22</th>\n",
       "      <td>-0.012958</td>\n",
       "    </tr>\n",
       "    <tr>\n",
       "      <th>2004-03-23</th>\n",
       "      <td>-0.001324</td>\n",
       "    </tr>\n",
       "    <tr>\n",
       "      <th>2004-03-24</th>\n",
       "      <td>-0.002395</td>\n",
       "    </tr>\n",
       "    <tr>\n",
       "      <th>2004-03-25</th>\n",
       "      <td>0.016365</td>\n",
       "    </tr>\n",
       "    <tr>\n",
       "      <th>...</th>\n",
       "      <td>...</td>\n",
       "    </tr>\n",
       "    <tr>\n",
       "      <th>2024-12-24</th>\n",
       "      <td>0.011043</td>\n",
       "    </tr>\n",
       "    <tr>\n",
       "      <th>2024-12-26</th>\n",
       "      <td>-0.000406</td>\n",
       "    </tr>\n",
       "    <tr>\n",
       "      <th>2024-12-27</th>\n",
       "      <td>-0.011056</td>\n",
       "    </tr>\n",
       "    <tr>\n",
       "      <th>2024-12-30</th>\n",
       "      <td>-0.010702</td>\n",
       "    </tr>\n",
       "    <tr>\n",
       "      <th>2024-12-31</th>\n",
       "      <td>-0.004285</td>\n",
       "    </tr>\n",
       "  </tbody>\n",
       "</table>\n",
       "<p>5232 rows × 1 columns</p>\n",
       "</div>"
      ],
      "text/plain": [
       "                 spx\n",
       "date                \n",
       "2004-03-19 -0.011173\n",
       "2004-03-22 -0.012958\n",
       "2004-03-23 -0.001324\n",
       "2004-03-24 -0.002395\n",
       "2004-03-25  0.016365\n",
       "...              ...\n",
       "2024-12-24  0.011043\n",
       "2024-12-26 -0.000406\n",
       "2024-12-27 -0.011056\n",
       "2024-12-30 -0.010702\n",
       "2024-12-31 -0.004285\n",
       "\n",
       "[5232 rows x 1 columns]"
      ]
     },
     "execution_count": 26,
     "metadata": {},
     "output_type": "execute_result"
    }
   ],
   "source": [
    "data_df[[\"spx\"]]"
   ]
  },
  {
   "cell_type": "code",
   "execution_count": 27,
   "id": "8c62305e4a47fc2",
   "metadata": {
    "ExecuteTime": {
     "end_time": "2025-05-20T07:29:34.208655Z",
     "start_time": "2025-05-20T07:29:34.206071Z"
    }
   },
   "outputs": [],
   "source": [
    "factors = factors.merge(data_df[[\"spx\"]], left_index=True, right_index=True, how=\"left\")"
   ]
  },
  {
   "cell_type": "code",
   "execution_count": 28,
   "id": "b27750899a6b26c5",
   "metadata": {
    "ExecuteTime": {
     "end_time": "2025-05-20T07:29:34.300462Z",
     "start_time": "2025-05-20T07:29:34.228836Z"
    }
   },
   "outputs": [],
   "source": [
    "factors.to_csv(ExperimentConfig.PATH_OUTPUT / \"factors.csv\")"
   ]
  },
  {
   "cell_type": "code",
   "execution_count": null,
   "id": "85ca4b34a363a321",
   "metadata": {
    "ExecuteTime": {
     "end_time": "2025-05-20T07:29:34.334291Z",
     "start_time": "2025-05-20T07:29:34.333262Z"
    }
   },
   "outputs": [],
   "source": []
  }
 ],
 "metadata": {
  "kernelspec": {
   "display_name": "Python 3",
   "language": "python",
   "name": "python3"
  },
  "language_info": {
   "codemirror_mode": {
    "name": "ipython",
    "version": 2
   },
   "file_extension": ".py",
   "mimetype": "text/x-python",
   "name": "python",
   "nbconvert_exporter": "python",
   "pygments_lexer": "ipython2",
   "version": "2.7.6"
  }
 },
 "nbformat": 4,
 "nbformat_minor": 5
}
