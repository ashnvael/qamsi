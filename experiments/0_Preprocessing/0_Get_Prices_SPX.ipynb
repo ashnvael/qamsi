{
 "cells": [
  {
   "cell_type": "code",
   "id": "initial_id",
   "metadata": {
    "ExecuteTime": {
     "end_time": "2025-06-12T18:11:01.668737Z",
     "start_time": "2025-06-12T18:11:01.667070Z"
    }
   },
   "source": [
    "from __future__ import annotations\n",
    "\n",
    "from pathlib import Path\n",
    "\n",
    "import numpy as np\n",
    "import pandas as pd"
   ],
   "outputs": [],
   "execution_count": 5
  },
  {
   "cell_type": "code",
   "id": "b21f9e91e4d29b56",
   "metadata": {
    "ExecuteTime": {
     "end_time": "2025-06-12T18:11:32.137011Z",
     "start_time": "2025-06-12T18:11:31.799508Z"
    }
   },
   "source": "presence_matrix = pd.read_csv(Path(\"../../data/crsp_raw\") / \"presence_matrix.csv\")",
   "outputs": [],
   "execution_count": 6
  },
  {
   "cell_type": "code",
   "id": "4a39d6f772450bea",
   "metadata": {
    "ExecuteTime": {
     "end_time": "2025-06-12T18:15:42.403496Z",
     "start_time": "2025-06-12T18:13:02.696139Z"
    }
   },
   "source": [
    "jkp_data = pd.read_csv(Path(\"../../data/crsp_raw\") / \"crsp_all_data.csv\")\n",
    "jkp_data = jkp_data.rename(columns={c: c.lower() for c in jkp_data.columns})\n",
    "jkp_data = jkp_data.dropna(subset=[\"permno\"])\n",
    "jkp_data[\"permno\"] = jkp_data[\"permno\"].astype(int)\n",
    "jkp_data[\"date\"] = pd.to_datetime(jkp_data[\"date\"])\n",
    "jkp_data = jkp_data.sort_values([\"date\", \"permno\"])\n",
    "jkp_data = jkp_data.drop_duplicates(subset=[\"date\", \"permno\"])\n",
    "jkp_data = jkp_data.set_index([\"date\", \"permno\"])\n",
    "jkp_data.head()"
   ],
   "outputs": [
    {
     "name": "stderr",
     "output_type": "stream",
     "text": [
      "/var/folders/sr/lzvmv9j54ks_jl4x99t250r00000gn/T/ipykernel_74761/1091605028.py:1: DtypeWarning: Columns (5,6,9,18,19,20,22,24,38,40,49,57) have mixed types. Specify dtype option on import or set low_memory=False.\n",
      "  jkp_data = pd.read_csv(Path(\"../../data/crsp_raw\") / \"crsp_all_data.csv\")\n"
     ]
    },
    {
     "data": {
      "text/plain": [
       "                  nameendt  shrcd  exchcd siccd    ncusip ticker  \\\n",
       "date       permno                                                  \n",
       "1980-01-02 10006       NaN     10       1  3743     80010    ACF   \n",
       "           10057       NaN     11       1  3541  00462610    AMT   \n",
       "           10058       NaN     10       3  5099  00077410   ABKC   \n",
       "           10103       NaN     10       3  3496  00087410   ACSC   \n",
       "           10137       NaN     11       1  4911  01741110    AYP   \n",
       "\n",
       "                                        comnam shrcls tsymbol  naics  ...  \\\n",
       "date       permno                                                     ...   \n",
       "1980-01-02 10006          A C F INDUSTRIES INC    NaN     NaN    NaN  ...   \n",
       "           10057           ACME CLEVELAND CORP    NaN     NaN    NaN  ...   \n",
       "           10058      A B K C O INDUSTRIES INC    NaN     NaN    NaN  ...   \n",
       "           10103          A C S INDUSTRIES INC    NaN     NaN    NaN  ...   \n",
       "           10137   ALLEGHENY POWER SYSTEMS INC    NaN     NaN    NaN  ...   \n",
       "\n",
       "                  cfacpr cfacshr openprc  numtrd       retx    vwretd  \\\n",
       "date       permno                                                       \n",
       "1980-01-02 10006     1.0     1.0     NaN     NaN   0.007299 -0.020089   \n",
       "           10057     1.0     1.0     NaN     NaN  -0.004785 -0.020089   \n",
       "           10058     1.0     1.0     NaN     NaN   0.000000 -0.020089   \n",
       "           10103     1.0     1.0     NaN     NaN   0.166667 -0.020089   \n",
       "           10137     2.0     2.0     NaN     NaN  -0.024194 -0.020089   \n",
       "\n",
       "                     vwretx    ewretd    ewretx    sprtrn  \n",
       "date       permno                                          \n",
       "1980-01-02 10006  -0.020121 -0.011686 -0.011707 -0.020196  \n",
       "           10057  -0.020121 -0.011686 -0.011707 -0.020196  \n",
       "           10058  -0.020121 -0.011686 -0.011707 -0.020196  \n",
       "           10103  -0.020121 -0.011686 -0.011707 -0.020196  \n",
       "           10137  -0.020121 -0.011686 -0.011707 -0.020196  \n",
       "\n",
       "[5 rows x 61 columns]"
      ],
      "text/html": [
       "<div>\n",
       "<style scoped>\n",
       "    .dataframe tbody tr th:only-of-type {\n",
       "        vertical-align: middle;\n",
       "    }\n",
       "\n",
       "    .dataframe tbody tr th {\n",
       "        vertical-align: top;\n",
       "    }\n",
       "\n",
       "    .dataframe thead th {\n",
       "        text-align: right;\n",
       "    }\n",
       "</style>\n",
       "<table border=\"1\" class=\"dataframe\">\n",
       "  <thead>\n",
       "    <tr style=\"text-align: right;\">\n",
       "      <th></th>\n",
       "      <th></th>\n",
       "      <th>nameendt</th>\n",
       "      <th>shrcd</th>\n",
       "      <th>exchcd</th>\n",
       "      <th>siccd</th>\n",
       "      <th>ncusip</th>\n",
       "      <th>ticker</th>\n",
       "      <th>comnam</th>\n",
       "      <th>shrcls</th>\n",
       "      <th>tsymbol</th>\n",
       "      <th>naics</th>\n",
       "      <th>...</th>\n",
       "      <th>cfacpr</th>\n",
       "      <th>cfacshr</th>\n",
       "      <th>openprc</th>\n",
       "      <th>numtrd</th>\n",
       "      <th>retx</th>\n",
       "      <th>vwretd</th>\n",
       "      <th>vwretx</th>\n",
       "      <th>ewretd</th>\n",
       "      <th>ewretx</th>\n",
       "      <th>sprtrn</th>\n",
       "    </tr>\n",
       "    <tr>\n",
       "      <th>date</th>\n",
       "      <th>permno</th>\n",
       "      <th></th>\n",
       "      <th></th>\n",
       "      <th></th>\n",
       "      <th></th>\n",
       "      <th></th>\n",
       "      <th></th>\n",
       "      <th></th>\n",
       "      <th></th>\n",
       "      <th></th>\n",
       "      <th></th>\n",
       "      <th></th>\n",
       "      <th></th>\n",
       "      <th></th>\n",
       "      <th></th>\n",
       "      <th></th>\n",
       "      <th></th>\n",
       "      <th></th>\n",
       "      <th></th>\n",
       "      <th></th>\n",
       "      <th></th>\n",
       "      <th></th>\n",
       "    </tr>\n",
       "  </thead>\n",
       "  <tbody>\n",
       "    <tr>\n",
       "      <th rowspan=\"5\" valign=\"top\">1980-01-02</th>\n",
       "      <th>10006</th>\n",
       "      <td>NaN</td>\n",
       "      <td>10</td>\n",
       "      <td>1</td>\n",
       "      <td>3743</td>\n",
       "      <td>80010</td>\n",
       "      <td>ACF</td>\n",
       "      <td>A C F INDUSTRIES INC</td>\n",
       "      <td>NaN</td>\n",
       "      <td>NaN</td>\n",
       "      <td>NaN</td>\n",
       "      <td>...</td>\n",
       "      <td>1.0</td>\n",
       "      <td>1.0</td>\n",
       "      <td>NaN</td>\n",
       "      <td>NaN</td>\n",
       "      <td>0.007299</td>\n",
       "      <td>-0.020089</td>\n",
       "      <td>-0.020121</td>\n",
       "      <td>-0.011686</td>\n",
       "      <td>-0.011707</td>\n",
       "      <td>-0.020196</td>\n",
       "    </tr>\n",
       "    <tr>\n",
       "      <th>10057</th>\n",
       "      <td>NaN</td>\n",
       "      <td>11</td>\n",
       "      <td>1</td>\n",
       "      <td>3541</td>\n",
       "      <td>00462610</td>\n",
       "      <td>AMT</td>\n",
       "      <td>ACME CLEVELAND CORP</td>\n",
       "      <td>NaN</td>\n",
       "      <td>NaN</td>\n",
       "      <td>NaN</td>\n",
       "      <td>...</td>\n",
       "      <td>1.0</td>\n",
       "      <td>1.0</td>\n",
       "      <td>NaN</td>\n",
       "      <td>NaN</td>\n",
       "      <td>-0.004785</td>\n",
       "      <td>-0.020089</td>\n",
       "      <td>-0.020121</td>\n",
       "      <td>-0.011686</td>\n",
       "      <td>-0.011707</td>\n",
       "      <td>-0.020196</td>\n",
       "    </tr>\n",
       "    <tr>\n",
       "      <th>10058</th>\n",
       "      <td>NaN</td>\n",
       "      <td>10</td>\n",
       "      <td>3</td>\n",
       "      <td>5099</td>\n",
       "      <td>00077410</td>\n",
       "      <td>ABKC</td>\n",
       "      <td>A B K C O INDUSTRIES INC</td>\n",
       "      <td>NaN</td>\n",
       "      <td>NaN</td>\n",
       "      <td>NaN</td>\n",
       "      <td>...</td>\n",
       "      <td>1.0</td>\n",
       "      <td>1.0</td>\n",
       "      <td>NaN</td>\n",
       "      <td>NaN</td>\n",
       "      <td>0.000000</td>\n",
       "      <td>-0.020089</td>\n",
       "      <td>-0.020121</td>\n",
       "      <td>-0.011686</td>\n",
       "      <td>-0.011707</td>\n",
       "      <td>-0.020196</td>\n",
       "    </tr>\n",
       "    <tr>\n",
       "      <th>10103</th>\n",
       "      <td>NaN</td>\n",
       "      <td>10</td>\n",
       "      <td>3</td>\n",
       "      <td>3496</td>\n",
       "      <td>00087410</td>\n",
       "      <td>ACSC</td>\n",
       "      <td>A C S INDUSTRIES INC</td>\n",
       "      <td>NaN</td>\n",
       "      <td>NaN</td>\n",
       "      <td>NaN</td>\n",
       "      <td>...</td>\n",
       "      <td>1.0</td>\n",
       "      <td>1.0</td>\n",
       "      <td>NaN</td>\n",
       "      <td>NaN</td>\n",
       "      <td>0.166667</td>\n",
       "      <td>-0.020089</td>\n",
       "      <td>-0.020121</td>\n",
       "      <td>-0.011686</td>\n",
       "      <td>-0.011707</td>\n",
       "      <td>-0.020196</td>\n",
       "    </tr>\n",
       "    <tr>\n",
       "      <th>10137</th>\n",
       "      <td>NaN</td>\n",
       "      <td>11</td>\n",
       "      <td>1</td>\n",
       "      <td>4911</td>\n",
       "      <td>01741110</td>\n",
       "      <td>AYP</td>\n",
       "      <td>ALLEGHENY POWER SYSTEMS INC</td>\n",
       "      <td>NaN</td>\n",
       "      <td>NaN</td>\n",
       "      <td>NaN</td>\n",
       "      <td>...</td>\n",
       "      <td>2.0</td>\n",
       "      <td>2.0</td>\n",
       "      <td>NaN</td>\n",
       "      <td>NaN</td>\n",
       "      <td>-0.024194</td>\n",
       "      <td>-0.020089</td>\n",
       "      <td>-0.020121</td>\n",
       "      <td>-0.011686</td>\n",
       "      <td>-0.011707</td>\n",
       "      <td>-0.020196</td>\n",
       "    </tr>\n",
       "  </tbody>\n",
       "</table>\n",
       "<p>5 rows × 61 columns</p>\n",
       "</div>"
      ]
     },
     "execution_count": 7,
     "metadata": {},
     "output_type": "execute_result"
    }
   ],
   "execution_count": 7
  },
  {
   "cell_type": "code",
   "id": "5b8d7f0c354f3490",
   "metadata": {
    "ExecuteTime": {
     "end_time": "2025-06-12T18:16:12.923370Z",
     "start_time": "2025-06-12T18:15:42.438708Z"
    }
   },
   "source": [
    "CRSP_IGNORED = [-66, -77, -88, -99]\n",
    "\n",
    "jkp_data = jkp_data[\n",
    "    (jkp_data[\"ret\"] != CRSP_IGNORED[0])\n",
    "    & (jkp_data[\"ret\"] != CRSP_IGNORED[1])\n",
    "    & (jkp_data[\"ret\"] != CRSP_IGNORED[2])\n",
    "    & (jkp_data[\"ret\"] != CRSP_IGNORED[3])\n",
    "]"
   ],
   "outputs": [],
   "execution_count": 8
  },
  {
   "cell_type": "code",
   "id": "1c620b54c0e0bb8",
   "metadata": {
    "ExecuteTime": {
     "end_time": "2025-06-12T18:16:20.286400Z",
     "start_time": "2025-06-12T18:16:12.951647Z"
    }
   },
   "source": [
    "jkp_data[\"ret\"] = jkp_data[\"ret\"].replace(\"C\", np.nan).astype(float)"
   ],
   "outputs": [],
   "execution_count": 9
  },
  {
   "cell_type": "code",
   "id": "9ffe9156880bef11",
   "metadata": {
    "ExecuteTime": {
     "end_time": "2025-06-12T18:16:20.471848Z",
     "start_time": "2025-06-12T18:16:20.302945Z"
    }
   },
   "source": [
    "jkp_data[\"dolvol\"] = jkp_data[\"vol\"] * jkp_data[\"prc\"]"
   ],
   "outputs": [],
   "execution_count": 10
  },
  {
   "cell_type": "code",
   "id": "ff0fd8b8755ac94c",
   "metadata": {
    "ExecuteTime": {
     "end_time": "2025-06-12T18:16:37.800990Z",
     "start_time": "2025-06-12T18:16:20.484070Z"
    }
   },
   "source": [
    "MIN_OBS = 5\n",
    "\n",
    "n_obs = jkp_data.groupby(\"permno\").apply(lambda x: (x[\"prc\"] >= 0).sum())\n",
    "valid_ids = n_obs[n_obs > MIN_OBS].index"
   ],
   "outputs": [],
   "execution_count": 11
  },
  {
   "cell_type": "code",
   "id": "ec54a391104e5812",
   "metadata": {
    "ExecuteTime": {
     "end_time": "2025-06-12T18:17:17.490308Z",
     "start_time": "2025-06-12T18:16:37.811267Z"
    }
   },
   "source": [
    "pivoted_returns = (\n",
    "    jkp_data.loc[jkp_data.index.get_level_values(\"permno\").isin(valid_ids)]\n",
    "    .reset_index()\n",
    "    .pivot_table(index=\"date\", columns=\"permno\", values=\"ret\")\n",
    ")"
   ],
   "outputs": [],
   "execution_count": 12
  },
  {
   "cell_type": "code",
   "id": "a5bddae6d601c977",
   "metadata": {
    "ExecuteTime": {
     "end_time": "2025-06-12T18:17:17.517601Z",
     "start_time": "2025-06-12T18:17:17.515904Z"
    }
   },
   "source": "full_df = pivoted_returns",
   "outputs": [],
   "execution_count": 13
  },
  {
   "cell_type": "code",
   "id": "19efef8506fe16f1",
   "metadata": {
    "ExecuteTime": {
     "end_time": "2025-06-12T18:17:17.557748Z",
     "start_time": "2025-06-12T18:17:17.547805Z"
    }
   },
   "source": [
    "valid_cols = presence_matrix.columns.intersection(full_df.columns.astype(str))\n",
    "len(valid_cols)"
   ],
   "outputs": [
    {
     "data": {
      "text/plain": [
       "1457"
      ]
     },
     "execution_count": 14,
     "metadata": {},
     "output_type": "execute_result"
    }
   ],
   "execution_count": 14
  },
  {
   "cell_type": "code",
   "id": "e48a2cab62006503",
   "metadata": {
    "ExecuteTime": {
     "end_time": "2025-06-12T18:17:17.623077Z",
     "start_time": "2025-06-12T18:17:17.582339Z"
    }
   },
   "source": [
    "presence_matrix = presence_matrix.rename(columns={\"caldt\": \"date\"})\n",
    "presence_matrix[\"date\"] = pd.to_datetime(presence_matrix[\"date\"])\n",
    "presence_matrix = presence_matrix.set_index(\"date\")"
   ],
   "outputs": [],
   "execution_count": 15
  },
  {
   "cell_type": "code",
   "id": "e3ee7dbacb916c5e",
   "metadata": {
    "ExecuteTime": {
     "end_time": "2025-06-12T18:17:18.165791Z",
     "start_time": "2025-06-12T18:17:17.649579Z"
    }
   },
   "source": [
    "merged_index = full_df.merge(\n",
    "    presence_matrix, left_index=True, right_index=True, how=\"inner\"\n",
    ").index"
   ],
   "outputs": [],
   "execution_count": 16
  },
  {
   "cell_type": "code",
   "id": "17b677f33b56158a",
   "metadata": {
    "ExecuteTime": {
     "end_time": "2025-06-12T18:17:18.368636Z",
     "start_time": "2025-06-12T18:17:18.190038Z"
    }
   },
   "source": [
    "full_df = full_df.loc[merged_index]\n",
    "presence_matrix = presence_matrix.loc[merged_index]\n",
    "full_df.shape, presence_matrix.shape"
   ],
   "outputs": [
    {
     "data": {
      "text/plain": [
       "((11093, 20516), (11093, 1539))"
      ]
     },
     "execution_count": 17,
     "metadata": {},
     "output_type": "execute_result"
    }
   ],
   "execution_count": 17
  },
  {
   "cell_type": "code",
   "id": "599bfbc60a25381b",
   "metadata": {
    "ExecuteTime": {
     "end_time": "2025-06-12T18:17:18.406375Z",
     "start_time": "2025-06-12T18:17:18.399968Z"
    }
   },
   "source": [
    "full_df.columns = full_df.columns.astype(str)"
   ],
   "outputs": [],
   "execution_count": 18
  },
  {
   "cell_type": "code",
   "id": "6e56e84f344a06bb",
   "metadata": {
    "ExecuteTime": {
     "end_time": "2025-06-12T18:17:18.572153Z",
     "start_time": "2025-06-12T18:17:18.429309Z"
    }
   },
   "source": [
    "full_df[valid_cols] = full_df[valid_cols] * presence_matrix[valid_cols]"
   ],
   "outputs": [],
   "execution_count": 19
  },
  {
   "cell_type": "code",
   "id": "47c8db7dbb5a0b67",
   "metadata": {
    "ExecuteTime": {
     "end_time": "2025-06-12T18:17:23.275224Z",
     "start_time": "2025-06-12T18:17:18.602375Z"
    }
   },
   "source": "full_df[valid_cols].to_csv(Path(\"../../data/output\") / \"spx_data.csv\")",
   "outputs": [],
   "execution_count": 20
  },
  {
   "cell_type": "code",
   "id": "e61d4472fc4d334b",
   "metadata": {
    "ExecuteTime": {
     "end_time": "2025-06-12T18:17:23.307697Z",
     "start_time": "2025-06-12T18:17:23.305053Z"
    }
   },
   "source": [
    "pd.DataFrame(valid_cols).to_csv(\n",
    "    Path(\"../../data/output\") / \"spx_stocks_list.csv\",\n",
    "    index=False,\n",
    ")"
   ],
   "outputs": [],
   "execution_count": 21
  }
 ],
 "metadata": {
  "kernelspec": {
   "display_name": "Python 3",
   "language": "python",
   "name": "python3"
  },
  "language_info": {
   "codemirror_mode": {
    "name": "ipython",
    "version": 2
   },
   "file_extension": ".py",
   "mimetype": "text/x-python",
   "name": "python",
   "nbconvert_exporter": "python",
   "pygments_lexer": "ipython2",
   "version": "2.7.6"
  }
 },
 "nbformat": 4,
 "nbformat_minor": 5
}
