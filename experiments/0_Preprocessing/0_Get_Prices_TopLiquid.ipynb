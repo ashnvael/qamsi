{
 "cells": [
  {
   "cell_type": "code",
   "execution_count": 1,
   "id": "initial_id",
   "metadata": {
    "ExecuteTime": {
     "end_time": "2025-06-25T08:15:10.347047Z",
     "start_time": "2025-06-25T08:15:10.097331Z"
    }
   },
   "outputs": [],
   "source": [
    "from __future__ import annotations\n",
    "\n",
    "from pathlib import Path\n",
    "\n",
    "import numpy as np\n",
    "import pandas as pd"
   ]
  },
  {
   "cell_type": "code",
   "execution_count": 2,
   "id": "4a39d6f772450bea",
   "metadata": {
    "ExecuteTime": {
     "end_time": "2025-06-25T08:17:52.440017Z",
     "start_time": "2025-06-25T08:15:10.398795Z"
    }
   },
   "outputs": [
    {
     "name": "stderr",
     "output_type": "stream",
     "text": [
      "/var/folders/sr/lzvmv9j54ks_jl4x99t250r00000gn/T/ipykernel_44142/2717679415.py:1: DtypeWarning: Columns (5,6,9,18,19,20,22,24,38,40,49,57) have mixed types. Specify dtype option on import or set low_memory=False.\n",
      "  jkp_data = pd.read_csv(Path(\"../../data/crsp_raw\") / \"crsp_80s.csv\")\n"
     ]
    },
    {
     "data": {
      "text/html": [
       "<div>\n",
       "<style scoped>\n",
       "    .dataframe tbody tr th:only-of-type {\n",
       "        vertical-align: middle;\n",
       "    }\n",
       "\n",
       "    .dataframe tbody tr th {\n",
       "        vertical-align: top;\n",
       "    }\n",
       "\n",
       "    .dataframe thead th {\n",
       "        text-align: right;\n",
       "    }\n",
       "</style>\n",
       "<table border=\"1\" class=\"dataframe\">\n",
       "  <thead>\n",
       "    <tr style=\"text-align: right;\">\n",
       "      <th></th>\n",
       "      <th></th>\n",
       "      <th>nameendt</th>\n",
       "      <th>shrcd</th>\n",
       "      <th>exchcd</th>\n",
       "      <th>siccd</th>\n",
       "      <th>ncusip</th>\n",
       "      <th>ticker</th>\n",
       "      <th>comnam</th>\n",
       "      <th>shrcls</th>\n",
       "      <th>tsymbol</th>\n",
       "      <th>naics</th>\n",
       "      <th>...</th>\n",
       "      <th>cfacpr</th>\n",
       "      <th>cfacshr</th>\n",
       "      <th>openprc</th>\n",
       "      <th>numtrd</th>\n",
       "      <th>retx</th>\n",
       "      <th>vwretd</th>\n",
       "      <th>vwretx</th>\n",
       "      <th>ewretd</th>\n",
       "      <th>ewretx</th>\n",
       "      <th>sprtrn</th>\n",
       "    </tr>\n",
       "    <tr>\n",
       "      <th>date</th>\n",
       "      <th>permno</th>\n",
       "      <th></th>\n",
       "      <th></th>\n",
       "      <th></th>\n",
       "      <th></th>\n",
       "      <th></th>\n",
       "      <th></th>\n",
       "      <th></th>\n",
       "      <th></th>\n",
       "      <th></th>\n",
       "      <th></th>\n",
       "      <th></th>\n",
       "      <th></th>\n",
       "      <th></th>\n",
       "      <th></th>\n",
       "      <th></th>\n",
       "      <th></th>\n",
       "      <th></th>\n",
       "      <th></th>\n",
       "      <th></th>\n",
       "      <th></th>\n",
       "      <th></th>\n",
       "    </tr>\n",
       "  </thead>\n",
       "  <tbody>\n",
       "    <tr>\n",
       "      <th rowspan=\"5\" valign=\"top\">1980-01-02</th>\n",
       "      <th>10006</th>\n",
       "      <td>NaN</td>\n",
       "      <td>10</td>\n",
       "      <td>1</td>\n",
       "      <td>3743</td>\n",
       "      <td>80010</td>\n",
       "      <td>ACF</td>\n",
       "      <td>A C F INDUSTRIES INC</td>\n",
       "      <td>NaN</td>\n",
       "      <td>NaN</td>\n",
       "      <td>NaN</td>\n",
       "      <td>...</td>\n",
       "      <td>1.0</td>\n",
       "      <td>1.0</td>\n",
       "      <td>NaN</td>\n",
       "      <td>NaN</td>\n",
       "      <td>0.007299</td>\n",
       "      <td>-0.020089</td>\n",
       "      <td>-0.020121</td>\n",
       "      <td>-0.011686</td>\n",
       "      <td>-0.011707</td>\n",
       "      <td>-0.020196</td>\n",
       "    </tr>\n",
       "    <tr>\n",
       "      <th>10057</th>\n",
       "      <td>NaN</td>\n",
       "      <td>11</td>\n",
       "      <td>1</td>\n",
       "      <td>3541</td>\n",
       "      <td>00462610</td>\n",
       "      <td>AMT</td>\n",
       "      <td>ACME CLEVELAND CORP</td>\n",
       "      <td>NaN</td>\n",
       "      <td>NaN</td>\n",
       "      <td>NaN</td>\n",
       "      <td>...</td>\n",
       "      <td>1.0</td>\n",
       "      <td>1.0</td>\n",
       "      <td>NaN</td>\n",
       "      <td>NaN</td>\n",
       "      <td>-0.004785</td>\n",
       "      <td>-0.020089</td>\n",
       "      <td>-0.020121</td>\n",
       "      <td>-0.011686</td>\n",
       "      <td>-0.011707</td>\n",
       "      <td>-0.020196</td>\n",
       "    </tr>\n",
       "    <tr>\n",
       "      <th>10058</th>\n",
       "      <td>NaN</td>\n",
       "      <td>10</td>\n",
       "      <td>3</td>\n",
       "      <td>5099</td>\n",
       "      <td>00077410</td>\n",
       "      <td>ABKC</td>\n",
       "      <td>A B K C O INDUSTRIES INC</td>\n",
       "      <td>NaN</td>\n",
       "      <td>NaN</td>\n",
       "      <td>NaN</td>\n",
       "      <td>...</td>\n",
       "      <td>1.0</td>\n",
       "      <td>1.0</td>\n",
       "      <td>NaN</td>\n",
       "      <td>NaN</td>\n",
       "      <td>0.000000</td>\n",
       "      <td>-0.020089</td>\n",
       "      <td>-0.020121</td>\n",
       "      <td>-0.011686</td>\n",
       "      <td>-0.011707</td>\n",
       "      <td>-0.020196</td>\n",
       "    </tr>\n",
       "    <tr>\n",
       "      <th>10103</th>\n",
       "      <td>NaN</td>\n",
       "      <td>10</td>\n",
       "      <td>3</td>\n",
       "      <td>3496</td>\n",
       "      <td>00087410</td>\n",
       "      <td>ACSC</td>\n",
       "      <td>A C S INDUSTRIES INC</td>\n",
       "      <td>NaN</td>\n",
       "      <td>NaN</td>\n",
       "      <td>NaN</td>\n",
       "      <td>...</td>\n",
       "      <td>1.0</td>\n",
       "      <td>1.0</td>\n",
       "      <td>NaN</td>\n",
       "      <td>NaN</td>\n",
       "      <td>0.166667</td>\n",
       "      <td>-0.020089</td>\n",
       "      <td>-0.020121</td>\n",
       "      <td>-0.011686</td>\n",
       "      <td>-0.011707</td>\n",
       "      <td>-0.020196</td>\n",
       "    </tr>\n",
       "    <tr>\n",
       "      <th>10137</th>\n",
       "      <td>NaN</td>\n",
       "      <td>11</td>\n",
       "      <td>1</td>\n",
       "      <td>4911</td>\n",
       "      <td>01741110</td>\n",
       "      <td>AYP</td>\n",
       "      <td>ALLEGHENY POWER SYSTEMS INC</td>\n",
       "      <td>NaN</td>\n",
       "      <td>NaN</td>\n",
       "      <td>NaN</td>\n",
       "      <td>...</td>\n",
       "      <td>2.0</td>\n",
       "      <td>2.0</td>\n",
       "      <td>NaN</td>\n",
       "      <td>NaN</td>\n",
       "      <td>-0.024194</td>\n",
       "      <td>-0.020089</td>\n",
       "      <td>-0.020121</td>\n",
       "      <td>-0.011686</td>\n",
       "      <td>-0.011707</td>\n",
       "      <td>-0.020196</td>\n",
       "    </tr>\n",
       "  </tbody>\n",
       "</table>\n",
       "<p>5 rows × 61 columns</p>\n",
       "</div>"
      ],
      "text/plain": [
       "                  nameendt  shrcd  exchcd siccd    ncusip ticker  \\\n",
       "date       permno                                                  \n",
       "1980-01-02 10006       NaN     10       1  3743     80010    ACF   \n",
       "           10057       NaN     11       1  3541  00462610    AMT   \n",
       "           10058       NaN     10       3  5099  00077410   ABKC   \n",
       "           10103       NaN     10       3  3496  00087410   ACSC   \n",
       "           10137       NaN     11       1  4911  01741110    AYP   \n",
       "\n",
       "                                        comnam shrcls tsymbol  naics  ...  \\\n",
       "date       permno                                                     ...   \n",
       "1980-01-02 10006          A C F INDUSTRIES INC    NaN     NaN    NaN  ...   \n",
       "           10057           ACME CLEVELAND CORP    NaN     NaN    NaN  ...   \n",
       "           10058      A B K C O INDUSTRIES INC    NaN     NaN    NaN  ...   \n",
       "           10103          A C S INDUSTRIES INC    NaN     NaN    NaN  ...   \n",
       "           10137   ALLEGHENY POWER SYSTEMS INC    NaN     NaN    NaN  ...   \n",
       "\n",
       "                  cfacpr cfacshr openprc  numtrd       retx    vwretd  \\\n",
       "date       permno                                                       \n",
       "1980-01-02 10006     1.0     1.0     NaN     NaN   0.007299 -0.020089   \n",
       "           10057     1.0     1.0     NaN     NaN  -0.004785 -0.020089   \n",
       "           10058     1.0     1.0     NaN     NaN   0.000000 -0.020089   \n",
       "           10103     1.0     1.0     NaN     NaN   0.166667 -0.020089   \n",
       "           10137     2.0     2.0     NaN     NaN  -0.024194 -0.020089   \n",
       "\n",
       "                     vwretx    ewretd    ewretx    sprtrn  \n",
       "date       permno                                          \n",
       "1980-01-02 10006  -0.020121 -0.011686 -0.011707 -0.020196  \n",
       "           10057  -0.020121 -0.011686 -0.011707 -0.020196  \n",
       "           10058  -0.020121 -0.011686 -0.011707 -0.020196  \n",
       "           10103  -0.020121 -0.011686 -0.011707 -0.020196  \n",
       "           10137  -0.020121 -0.011686 -0.011707 -0.020196  \n",
       "\n",
       "[5 rows x 61 columns]"
      ]
     },
     "execution_count": 2,
     "metadata": {},
     "output_type": "execute_result"
    }
   ],
   "source": [
    "jkp_data = pd.read_csv(Path(\"../../data/crsp_raw\") / \"crsp_80s.csv\")\n",
    "jkp_data = jkp_data.rename(columns={c: c.lower() for c in jkp_data.columns})\n",
    "jkp_data = jkp_data.dropna(subset=[\"permno\"])\n",
    "jkp_data[\"permno\"] = jkp_data[\"permno\"].astype(int)\n",
    "jkp_data[\"date\"] = pd.to_datetime(jkp_data[\"date\"])\n",
    "jkp_data = jkp_data.sort_values([\"date\", \"permno\"])\n",
    "jkp_data = jkp_data.drop_duplicates(subset=[\"date\", \"permno\"])\n",
    "jkp_data = jkp_data.set_index([\"date\", \"permno\"])\n",
    "jkp_data.head()"
   ]
  },
  {
   "cell_type": "code",
   "execution_count": 3,
   "id": "fd9bcb04a96586dc",
   "metadata": {
    "ExecuteTime": {
     "end_time": "2025-06-25T08:17:52.476160Z",
     "start_time": "2025-06-25T08:17:52.474600Z"
    }
   },
   "outputs": [],
   "source": [
    "# mapping = jkp_data.reset_index()[[\"permno\", \"comnam\"]].drop_duplicates()\n",
    "# mapping = mapping.set_index(\"permno\")"
   ]
  },
  {
   "cell_type": "code",
   "execution_count": 4,
   "id": "ac5bd222be3434ea",
   "metadata": {
    "ExecuteTime": {
     "end_time": "2025-06-25T08:17:52.524703Z",
     "start_time": "2025-06-25T08:17:52.523292Z"
    }
   },
   "outputs": [],
   "source": [
    "# mapping.to_csv(Path(\"../../data/output\") / \"crsp_mapping.csv\")"
   ]
  },
  {
   "cell_type": "code",
   "execution_count": 5,
   "id": "5b8d7f0c354f3490",
   "metadata": {
    "ExecuteTime": {
     "end_time": "2025-06-25T08:18:23.852173Z",
     "start_time": "2025-06-25T08:17:52.561724Z"
    }
   },
   "outputs": [],
   "source": [
    "CRSP_IGNORED = [-66, -77, -88, -99]\n",
    "\n",
    "jkp_data = jkp_data[\n",
    "    (jkp_data[\"ret\"] != CRSP_IGNORED[0])\n",
    "    & (jkp_data[\"ret\"] != CRSP_IGNORED[1])\n",
    "    & (jkp_data[\"ret\"] != CRSP_IGNORED[2])\n",
    "    & (jkp_data[\"ret\"] != CRSP_IGNORED[3])\n",
    "]"
   ]
  },
  {
   "cell_type": "code",
   "execution_count": 6,
   "id": "1c620b54c0e0bb8",
   "metadata": {
    "ExecuteTime": {
     "end_time": "2025-06-25T08:18:31.349715Z",
     "start_time": "2025-06-25T08:18:23.859444Z"
    }
   },
   "outputs": [],
   "source": [
    "jkp_data[\"ret\"] = jkp_data[\"ret\"].replace(\"C\", np.nan).astype(float)"
   ]
  },
  {
   "cell_type": "code",
   "execution_count": 7,
   "id": "5ae3507ba91b892d",
   "metadata": {
    "ExecuteTime": {
     "end_time": "2025-06-25T08:18:31.358244Z",
     "start_time": "2025-06-25T08:18:31.356694Z"
    }
   },
   "outputs": [],
   "source": [
    "# jkp_data[\"adj_prc\"] = np.abs(jkp_data[\"prc\"]) / jkp_data[\"cfacpr\"].ffill().fillna(1).replace(0, 1.0)"
   ]
  },
  {
   "cell_type": "code",
   "execution_count": 8,
   "id": "9ffe9156880bef11",
   "metadata": {
    "ExecuteTime": {
     "end_time": "2025-06-25T08:18:31.524262Z",
     "start_time": "2025-06-25T08:18:31.364663Z"
    }
   },
   "outputs": [],
   "source": [
    "jkp_data[\"mktcap\"] = jkp_data[\"shrout\"] * 1_000 * jkp_data[\"prc\"]"
   ]
  },
  {
   "cell_type": "code",
   "execution_count": 9,
   "id": "56ab5940a14a2cd0",
   "metadata": {
    "ExecuteTime": {
     "end_time": "2025-06-25T08:19:01.120638Z",
     "start_time": "2025-06-25T08:18:31.531172Z"
    }
   },
   "outputs": [],
   "source": [
    "dolvol = jkp_data.reset_index().pivot(index=\"date\", columns=\"permno\", values=\"mktcap\")"
   ]
  },
  {
   "cell_type": "code",
   "execution_count": 10,
   "id": "66f433627a697dbf",
   "metadata": {
    "ExecuteTime": {
     "end_time": "2025-06-25T08:19:01.495796Z",
     "start_time": "2025-06-25T08:19:01.137384Z"
    }
   },
   "outputs": [],
   "source": [
    "dolvol = dolvol.resample(\"ME\").last()"
   ]
  },
  {
   "cell_type": "code",
   "execution_count": 11,
   "id": "724b732be0ebcf80",
   "metadata": {
    "ExecuteTime": {
     "end_time": "2025-06-25T08:19:01.803106Z",
     "start_time": "2025-06-25T08:19:01.511566Z"
    }
   },
   "outputs": [],
   "source": [
    "N_LARGEST = 500\n",
    "\n",
    "presence_matrix = dolvol.apply(\n",
    "    lambda x: x >= x.nlargest(N_LARGEST).min(), axis=1\n",
    ").astype(float)\n",
    "presence_matrix[presence_matrix == 0] = np.nan"
   ]
  },
  {
   "cell_type": "code",
   "execution_count": 12,
   "id": "946b88de6c16e456",
   "metadata": {
    "ExecuteTime": {
     "end_time": "2025-06-25T08:19:01.832854Z",
     "start_time": "2025-06-25T08:19:01.824997Z"
    }
   },
   "outputs": [
    {
     "data": {
      "text/plain": [
       "(540, 2465)"
      ]
     },
     "execution_count": 12,
     "metadata": {},
     "output_type": "execute_result"
    }
   ],
   "source": [
    "presence_matrix = presence_matrix.dropna(axis=1, how=\"all\")\n",
    "presence_matrix.shape"
   ]
  },
  {
   "cell_type": "code",
   "execution_count": 13,
   "id": "ec54a391104e5812",
   "metadata": {
    "ExecuteTime": {
     "end_time": "2025-06-25T08:19:08.776266Z",
     "start_time": "2025-06-25T08:19:01.858705Z"
    }
   },
   "outputs": [],
   "source": [
    "pivoted_returns = (\n",
    "    jkp_data.loc[\n",
    "        jkp_data.index.get_level_values(\"permno\").isin(presence_matrix.columns)\n",
    "    ]\n",
    "    .reset_index()\n",
    "    .pivot_table(index=\"date\", columns=\"permno\", values=\"ret\")\n",
    ")"
   ]
  },
  {
   "cell_type": "code",
   "execution_count": 16,
   "id": "d2c286b640283411",
   "metadata": {
    "ExecuteTime": {
     "end_time": "2025-06-25T08:19:08.843616Z",
     "start_time": "2025-06-25T08:19:08.842351Z"
    }
   },
   "outputs": [],
   "source": [
    "# last_selection = presence_matrix.iloc[-1]\n",
    "# last_selection = last_selection[last_selection.notna()].index\n",
    "#\n",
    "# df_data = jkp_data.reset_index()\n",
    "# df_data[df_data[\"permno\"].isin(last_selection)][\"comnam\"].drop_duplicates()"
   ]
  },
  {
   "cell_type": "code",
   "execution_count": 17,
   "id": "a5bddae6d601c977",
   "metadata": {
    "ExecuteTime": {
     "end_time": "2025-06-25T08:19:08.863657Z",
     "start_time": "2025-06-25T08:19:08.862327Z"
    }
   },
   "outputs": [],
   "source": [
    "full_df = pivoted_returns"
   ]
  },
  {
   "cell_type": "code",
   "execution_count": 18,
   "id": "19efef8506fe16f1",
   "metadata": {
    "ExecuteTime": {
     "end_time": "2025-06-25T08:19:08.889741Z",
     "start_time": "2025-06-25T08:19:08.887992Z"
    }
   },
   "outputs": [
    {
     "data": {
      "text/plain": [
       "2465"
      ]
     },
     "execution_count": 18,
     "metadata": {},
     "output_type": "execute_result"
    }
   ],
   "source": [
    "valid_cols = presence_matrix.columns.intersection(full_df.columns)\n",
    "len(valid_cols)"
   ]
  },
  {
   "cell_type": "code",
   "execution_count": 19,
   "id": "e48a2cab62006503",
   "metadata": {
    "ExecuteTime": {
     "end_time": "2025-06-25T08:19:08.922352Z",
     "start_time": "2025-06-25T08:19:08.915890Z"
    }
   },
   "outputs": [],
   "source": [
    "presence_matrix = presence_matrix.reset_index()\n",
    "presence_matrix[\"date\"] = pd.to_datetime(presence_matrix[\"date\"])\n",
    "presence_matrix = presence_matrix.set_index(\"date\")"
   ]
  },
  {
   "cell_type": "code",
   "execution_count": 21,
   "id": "3c3ad65685a9811f",
   "metadata": {
    "ExecuteTime": {
     "end_time": "2025-06-25T08:19:09.140469Z",
     "start_time": "2025-06-25T08:19:09.106054Z"
    }
   },
   "outputs": [],
   "source": [
    "presence_matrix = presence_matrix.resample(\"D\").ffill()"
   ]
  },
  {
   "cell_type": "code",
   "execution_count": 22,
   "id": "e3ee7dbacb916c5e",
   "metadata": {
    "ExecuteTime": {
     "end_time": "2025-06-25T08:19:09.462656Z",
     "start_time": "2025-06-25T08:19:09.367332Z"
    }
   },
   "outputs": [],
   "source": [
    "merged_index = full_df.merge(\n",
    "    presence_matrix, left_index=True, right_index=True, how=\"inner\"\n",
    ").index"
   ]
  },
  {
   "cell_type": "code",
   "execution_count": 23,
   "id": "17b677f33b56158a",
   "metadata": {
    "ExecuteTime": {
     "end_time": "2025-06-25T08:19:09.558473Z",
     "start_time": "2025-06-25T08:19:09.507994Z"
    }
   },
   "outputs": [
    {
     "data": {
      "text/plain": [
       "((11324, 2465), (11324, 2465))"
      ]
     },
     "execution_count": 23,
     "metadata": {},
     "output_type": "execute_result"
    }
   ],
   "source": [
    "full_df = full_df.loc[merged_index]\n",
    "presence_matrix = presence_matrix.loc[merged_index]\n",
    "full_df.shape, presence_matrix.shape"
   ]
  },
  {
   "cell_type": "code",
   "execution_count": 24,
   "id": "47c8db7dbb5a0b67",
   "metadata": {
    "ExecuteTime": {
     "end_time": "2025-06-25T08:19:15.431693Z",
     "start_time": "2025-06-25T08:19:09.599373Z"
    }
   },
   "outputs": [],
   "source": [
    "full_df[valid_cols].to_csv(Path(\"../../data/output\") / f\"top{N_LARGEST}_data.csv\")"
   ]
  },
  {
   "cell_type": "code",
   "execution_count": 25,
   "id": "cc2fe873d9798c53",
   "metadata": {
    "ExecuteTime": {
     "end_time": "2025-06-25T08:19:19.322304Z",
     "start_time": "2025-06-25T08:19:15.468356Z"
    }
   },
   "outputs": [],
   "source": [
    "presence_matrix[valid_cols].to_csv(\n",
    "    Path(\"../../data/output\") / f\"top{N_LARGEST}_presence_matrix.csv\"\n",
    ")"
   ]
  },
  {
   "cell_type": "code",
   "execution_count": 26,
   "id": "e61d4472fc4d334b",
   "metadata": {
    "ExecuteTime": {
     "end_time": "2025-06-25T08:19:19.356987Z",
     "start_time": "2025-06-25T08:19:19.354158Z"
    }
   },
   "outputs": [],
   "source": [
    "pd.DataFrame(valid_cols).to_csv(\n",
    "    Path(\"../../data/output\") / f\"top{N_LARGEST}_stocks_list.csv\",\n",
    "    index=False,\n",
    ")"
   ]
  }
 ],
 "metadata": {
  "kernelspec": {
   "display_name": "Python 3",
   "language": "python",
   "name": "python3"
  },
  "language_info": {
   "codemirror_mode": {
    "name": "ipython",
    "version": 2
   },
   "file_extension": ".py",
   "mimetype": "text/x-python",
   "name": "python",
   "nbconvert_exporter": "python",
   "pygments_lexer": "ipython2",
   "version": "2.7.6"
  }
 },
 "nbformat": 4,
 "nbformat_minor": 5
}
