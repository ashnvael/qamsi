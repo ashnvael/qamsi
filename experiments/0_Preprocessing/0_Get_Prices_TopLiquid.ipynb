{
 "cells": [
  {
   "cell_type": "code",
   "id": "initial_id",
   "metadata": {
    "ExecuteTime": {
     "end_time": "2025-06-24T08:56:41.480669Z",
     "start_time": "2025-06-24T08:56:41.478384Z"
    }
   },
   "source": [
    "from __future__ import annotations\n",
    "\n",
    "from pathlib import Path\n",
    "\n",
    "import numpy as np\n",
    "import pandas as pd"
   ],
   "outputs": [],
   "execution_count": 27
  },
  {
   "cell_type": "code",
   "id": "4a39d6f772450bea",
   "metadata": {
    "ExecuteTime": {
     "end_time": "2025-06-24T09:00:06.683754Z",
     "start_time": "2025-06-24T08:56:41.505825Z"
    }
   },
   "source": [
    "jkp_data = pd.read_csv(Path(\"../../data/crsp_raw\") / \"crsp_80s.csv\")\n",
    "jkp_data = jkp_data.rename(columns={c: c.lower() for c in jkp_data.columns})\n",
    "jkp_data = jkp_data.dropna(subset=[\"permno\"])\n",
    "jkp_data[\"permno\"] = jkp_data[\"permno\"].astype(int)\n",
    "jkp_data[\"date\"] = pd.to_datetime(jkp_data[\"date\"])\n",
    "jkp_data = jkp_data.sort_values([\"date\", \"permno\"])\n",
    "jkp_data = jkp_data.drop_duplicates(subset=[\"date\", \"permno\"])\n",
    "jkp_data = jkp_data.set_index([\"date\", \"permno\"])\n",
    "jkp_data.head()"
   ],
   "outputs": [
    {
     "name": "stderr",
     "output_type": "stream",
     "text": [
      "/var/folders/sr/lzvmv9j54ks_jl4x99t250r00000gn/T/ipykernel_29529/2717679415.py:1: DtypeWarning: Columns (5,6,9,18,19,20,22,24,38,40,49,57) have mixed types. Specify dtype option on import or set low_memory=False.\n",
      "  jkp_data = pd.read_csv(Path(\"../../data/crsp_raw\") / \"crsp_80s.csv\")\n"
     ]
    },
    {
     "data": {
      "text/plain": [
       "                  nameendt  shrcd  exchcd siccd    ncusip ticker  \\\n",
       "date       permno                                                  \n",
       "1980-01-02 10006       NaN     10       1  3743     80010    ACF   \n",
       "           10057       NaN     11       1  3541  00462610    AMT   \n",
       "           10058       NaN     10       3  5099  00077410   ABKC   \n",
       "           10103       NaN     10       3  3496  00087410   ACSC   \n",
       "           10137       NaN     11       1  4911  01741110    AYP   \n",
       "\n",
       "                                        comnam shrcls tsymbol  naics  ...  \\\n",
       "date       permno                                                     ...   \n",
       "1980-01-02 10006          A C F INDUSTRIES INC    NaN     NaN    NaN  ...   \n",
       "           10057           ACME CLEVELAND CORP    NaN     NaN    NaN  ...   \n",
       "           10058      A B K C O INDUSTRIES INC    NaN     NaN    NaN  ...   \n",
       "           10103          A C S INDUSTRIES INC    NaN     NaN    NaN  ...   \n",
       "           10137   ALLEGHENY POWER SYSTEMS INC    NaN     NaN    NaN  ...   \n",
       "\n",
       "                  cfacpr cfacshr openprc  numtrd       retx    vwretd  \\\n",
       "date       permno                                                       \n",
       "1980-01-02 10006     1.0     1.0     NaN     NaN   0.007299 -0.020089   \n",
       "           10057     1.0     1.0     NaN     NaN  -0.004785 -0.020089   \n",
       "           10058     1.0     1.0     NaN     NaN   0.000000 -0.020089   \n",
       "           10103     1.0     1.0     NaN     NaN   0.166667 -0.020089   \n",
       "           10137     2.0     2.0     NaN     NaN  -0.024194 -0.020089   \n",
       "\n",
       "                     vwretx    ewretd    ewretx    sprtrn  \n",
       "date       permno                                          \n",
       "1980-01-02 10006  -0.020121 -0.011686 -0.011707 -0.020196  \n",
       "           10057  -0.020121 -0.011686 -0.011707 -0.020196  \n",
       "           10058  -0.020121 -0.011686 -0.011707 -0.020196  \n",
       "           10103  -0.020121 -0.011686 -0.011707 -0.020196  \n",
       "           10137  -0.020121 -0.011686 -0.011707 -0.020196  \n",
       "\n",
       "[5 rows x 61 columns]"
      ],
      "text/html": [
       "<div>\n",
       "<style scoped>\n",
       "    .dataframe tbody tr th:only-of-type {\n",
       "        vertical-align: middle;\n",
       "    }\n",
       "\n",
       "    .dataframe tbody tr th {\n",
       "        vertical-align: top;\n",
       "    }\n",
       "\n",
       "    .dataframe thead th {\n",
       "        text-align: right;\n",
       "    }\n",
       "</style>\n",
       "<table border=\"1\" class=\"dataframe\">\n",
       "  <thead>\n",
       "    <tr style=\"text-align: right;\">\n",
       "      <th></th>\n",
       "      <th></th>\n",
       "      <th>nameendt</th>\n",
       "      <th>shrcd</th>\n",
       "      <th>exchcd</th>\n",
       "      <th>siccd</th>\n",
       "      <th>ncusip</th>\n",
       "      <th>ticker</th>\n",
       "      <th>comnam</th>\n",
       "      <th>shrcls</th>\n",
       "      <th>tsymbol</th>\n",
       "      <th>naics</th>\n",
       "      <th>...</th>\n",
       "      <th>cfacpr</th>\n",
       "      <th>cfacshr</th>\n",
       "      <th>openprc</th>\n",
       "      <th>numtrd</th>\n",
       "      <th>retx</th>\n",
       "      <th>vwretd</th>\n",
       "      <th>vwretx</th>\n",
       "      <th>ewretd</th>\n",
       "      <th>ewretx</th>\n",
       "      <th>sprtrn</th>\n",
       "    </tr>\n",
       "    <tr>\n",
       "      <th>date</th>\n",
       "      <th>permno</th>\n",
       "      <th></th>\n",
       "      <th></th>\n",
       "      <th></th>\n",
       "      <th></th>\n",
       "      <th></th>\n",
       "      <th></th>\n",
       "      <th></th>\n",
       "      <th></th>\n",
       "      <th></th>\n",
       "      <th></th>\n",
       "      <th></th>\n",
       "      <th></th>\n",
       "      <th></th>\n",
       "      <th></th>\n",
       "      <th></th>\n",
       "      <th></th>\n",
       "      <th></th>\n",
       "      <th></th>\n",
       "      <th></th>\n",
       "      <th></th>\n",
       "      <th></th>\n",
       "    </tr>\n",
       "  </thead>\n",
       "  <tbody>\n",
       "    <tr>\n",
       "      <th rowspan=\"5\" valign=\"top\">1980-01-02</th>\n",
       "      <th>10006</th>\n",
       "      <td>NaN</td>\n",
       "      <td>10</td>\n",
       "      <td>1</td>\n",
       "      <td>3743</td>\n",
       "      <td>80010</td>\n",
       "      <td>ACF</td>\n",
       "      <td>A C F INDUSTRIES INC</td>\n",
       "      <td>NaN</td>\n",
       "      <td>NaN</td>\n",
       "      <td>NaN</td>\n",
       "      <td>...</td>\n",
       "      <td>1.0</td>\n",
       "      <td>1.0</td>\n",
       "      <td>NaN</td>\n",
       "      <td>NaN</td>\n",
       "      <td>0.007299</td>\n",
       "      <td>-0.020089</td>\n",
       "      <td>-0.020121</td>\n",
       "      <td>-0.011686</td>\n",
       "      <td>-0.011707</td>\n",
       "      <td>-0.020196</td>\n",
       "    </tr>\n",
       "    <tr>\n",
       "      <th>10057</th>\n",
       "      <td>NaN</td>\n",
       "      <td>11</td>\n",
       "      <td>1</td>\n",
       "      <td>3541</td>\n",
       "      <td>00462610</td>\n",
       "      <td>AMT</td>\n",
       "      <td>ACME CLEVELAND CORP</td>\n",
       "      <td>NaN</td>\n",
       "      <td>NaN</td>\n",
       "      <td>NaN</td>\n",
       "      <td>...</td>\n",
       "      <td>1.0</td>\n",
       "      <td>1.0</td>\n",
       "      <td>NaN</td>\n",
       "      <td>NaN</td>\n",
       "      <td>-0.004785</td>\n",
       "      <td>-0.020089</td>\n",
       "      <td>-0.020121</td>\n",
       "      <td>-0.011686</td>\n",
       "      <td>-0.011707</td>\n",
       "      <td>-0.020196</td>\n",
       "    </tr>\n",
       "    <tr>\n",
       "      <th>10058</th>\n",
       "      <td>NaN</td>\n",
       "      <td>10</td>\n",
       "      <td>3</td>\n",
       "      <td>5099</td>\n",
       "      <td>00077410</td>\n",
       "      <td>ABKC</td>\n",
       "      <td>A B K C O INDUSTRIES INC</td>\n",
       "      <td>NaN</td>\n",
       "      <td>NaN</td>\n",
       "      <td>NaN</td>\n",
       "      <td>...</td>\n",
       "      <td>1.0</td>\n",
       "      <td>1.0</td>\n",
       "      <td>NaN</td>\n",
       "      <td>NaN</td>\n",
       "      <td>0.000000</td>\n",
       "      <td>-0.020089</td>\n",
       "      <td>-0.020121</td>\n",
       "      <td>-0.011686</td>\n",
       "      <td>-0.011707</td>\n",
       "      <td>-0.020196</td>\n",
       "    </tr>\n",
       "    <tr>\n",
       "      <th>10103</th>\n",
       "      <td>NaN</td>\n",
       "      <td>10</td>\n",
       "      <td>3</td>\n",
       "      <td>3496</td>\n",
       "      <td>00087410</td>\n",
       "      <td>ACSC</td>\n",
       "      <td>A C S INDUSTRIES INC</td>\n",
       "      <td>NaN</td>\n",
       "      <td>NaN</td>\n",
       "      <td>NaN</td>\n",
       "      <td>...</td>\n",
       "      <td>1.0</td>\n",
       "      <td>1.0</td>\n",
       "      <td>NaN</td>\n",
       "      <td>NaN</td>\n",
       "      <td>0.166667</td>\n",
       "      <td>-0.020089</td>\n",
       "      <td>-0.020121</td>\n",
       "      <td>-0.011686</td>\n",
       "      <td>-0.011707</td>\n",
       "      <td>-0.020196</td>\n",
       "    </tr>\n",
       "    <tr>\n",
       "      <th>10137</th>\n",
       "      <td>NaN</td>\n",
       "      <td>11</td>\n",
       "      <td>1</td>\n",
       "      <td>4911</td>\n",
       "      <td>01741110</td>\n",
       "      <td>AYP</td>\n",
       "      <td>ALLEGHENY POWER SYSTEMS INC</td>\n",
       "      <td>NaN</td>\n",
       "      <td>NaN</td>\n",
       "      <td>NaN</td>\n",
       "      <td>...</td>\n",
       "      <td>2.0</td>\n",
       "      <td>2.0</td>\n",
       "      <td>NaN</td>\n",
       "      <td>NaN</td>\n",
       "      <td>-0.024194</td>\n",
       "      <td>-0.020089</td>\n",
       "      <td>-0.020121</td>\n",
       "      <td>-0.011686</td>\n",
       "      <td>-0.011707</td>\n",
       "      <td>-0.020196</td>\n",
       "    </tr>\n",
       "  </tbody>\n",
       "</table>\n",
       "<p>5 rows × 61 columns</p>\n",
       "</div>"
      ]
     },
     "execution_count": 28,
     "metadata": {},
     "output_type": "execute_result"
    }
   ],
   "execution_count": 28
  },
  {
   "metadata": {
    "ExecuteTime": {
     "end_time": "2025-06-24T09:00:41.653066Z",
     "start_time": "2025-06-24T09:00:06.776449Z"
    }
   },
   "cell_type": "code",
   "source": [
    "# mapping = jkp_data.reset_index()[[\"permno\", \"comnam\"]].drop_duplicates()\n",
    "# mapping = mapping.set_index(\"permno\")"
   ],
   "id": "fd9bcb04a96586dc",
   "outputs": [],
   "execution_count": 29
  },
  {
   "metadata": {
    "ExecuteTime": {
     "end_time": "2025-06-24T09:00:41.793937Z",
     "start_time": "2025-06-24T09:00:41.758495Z"
    }
   },
   "cell_type": "code",
   "source": "# mapping.to_csv(Path(\"../../data/output\") / \"crsp_mapping.csv\")",
   "id": "ac5bd222be3434ea",
   "outputs": [],
   "execution_count": 30
  },
  {
   "cell_type": "code",
   "id": "5b8d7f0c354f3490",
   "metadata": {
    "ExecuteTime": {
     "end_time": "2025-06-24T09:01:17.527972Z",
     "start_time": "2025-06-24T09:00:41.939762Z"
    }
   },
   "source": [
    "CRSP_IGNORED = [-66, -77, -88, -99]\n",
    "\n",
    "jkp_data = jkp_data[\n",
    "    (jkp_data[\"ret\"] != CRSP_IGNORED[0])\n",
    "    & (jkp_data[\"ret\"] != CRSP_IGNORED[1])\n",
    "    & (jkp_data[\"ret\"] != CRSP_IGNORED[2])\n",
    "    & (jkp_data[\"ret\"] != CRSP_IGNORED[3])\n",
    "]"
   ],
   "outputs": [],
   "execution_count": 31
  },
  {
   "cell_type": "code",
   "id": "1c620b54c0e0bb8",
   "metadata": {
    "ExecuteTime": {
     "end_time": "2025-06-24T09:01:28.954689Z",
     "start_time": "2025-06-24T09:01:17.584840Z"
    }
   },
   "source": [
    "jkp_data[\"ret\"] = jkp_data[\"ret\"].replace(\"C\", np.nan).astype(float)"
   ],
   "outputs": [],
   "execution_count": 32
  },
  {
   "metadata": {
    "ExecuteTime": {
     "end_time": "2025-06-24T09:01:29.027754Z",
     "start_time": "2025-06-24T09:01:29.024993Z"
    }
   },
   "cell_type": "code",
   "source": "# jkp_data[\"prc\"] = np.abs(jkp_data[\"prc\"]) / jkp_data[\"cfacpr\"].ffill().fillna(1).replace(0, 1.0)",
   "id": "5ae3507ba91b892d",
   "outputs": [],
   "execution_count": 33
  },
  {
   "cell_type": "code",
   "id": "9ffe9156880bef11",
   "metadata": {
    "ExecuteTime": {
     "end_time": "2025-06-24T09:01:29.358044Z",
     "start_time": "2025-06-24T09:01:29.090967Z"
    }
   },
   "source": "jkp_data[\"mktcap\"] = jkp_data[\"shrout\"] * 1_000 * jkp_data[\"prc\"]",
   "outputs": [],
   "execution_count": 34
  },
  {
   "metadata": {
    "ExecuteTime": {
     "end_time": "2025-06-24T09:02:10.476178Z",
     "start_time": "2025-06-24T09:01:29.406572Z"
    }
   },
   "cell_type": "code",
   "source": "dolvol = jkp_data.reset_index().pivot(index=\"date\", columns=\"permno\", values=\"mktcap\")",
   "id": "56ab5940a14a2cd0",
   "outputs": [],
   "execution_count": 35
  },
  {
   "metadata": {
    "ExecuteTime": {
     "end_time": "2025-06-24T09:02:10.961432Z",
     "start_time": "2025-06-24T09:02:10.563663Z"
    }
   },
   "cell_type": "code",
   "source": "dolvol = dolvol.resample(\"ME\").last()",
   "id": "66f433627a697dbf",
   "outputs": [],
   "execution_count": 36
  },
  {
   "metadata": {
    "ExecuteTime": {
     "end_time": "2025-06-24T09:02:11.397856Z",
     "start_time": "2025-06-24T09:02:11.024768Z"
    }
   },
   "cell_type": "code",
   "source": [
    "N_LARGEST = 500\n",
    "\n",
    "presence_matrix = dolvol.apply(lambda x: x >= x.nlargest(N_LARGEST).min(), axis=1).astype(float)\n",
    "presence_matrix[presence_matrix == 0] = np.nan"
   ],
   "id": "724b732be0ebcf80",
   "outputs": [],
   "execution_count": 37
  },
  {
   "metadata": {
    "ExecuteTime": {
     "end_time": "2025-06-24T09:02:11.511182Z",
     "start_time": "2025-06-24T09:02:11.501466Z"
    }
   },
   "cell_type": "code",
   "source": [
    "presence_matrix = presence_matrix.dropna(axis=1, how=\"all\")\n",
    "presence_matrix.shape"
   ],
   "id": "946b88de6c16e456",
   "outputs": [
    {
     "data": {
      "text/plain": [
       "(540, 2465)"
      ]
     },
     "execution_count": 38,
     "metadata": {},
     "output_type": "execute_result"
    }
   ],
   "execution_count": 38
  },
  {
   "cell_type": "code",
   "id": "ec54a391104e5812",
   "metadata": {
    "ExecuteTime": {
     "end_time": "2025-06-24T09:02:22.767835Z",
     "start_time": "2025-06-24T09:02:11.544128Z"
    }
   },
   "source": [
    "pivoted_returns = (\n",
    "    jkp_data.loc[jkp_data.index.get_level_values(\"permno\").isin(presence_matrix.columns)]\n",
    "    .reset_index()\n",
    "    .pivot_table(index=\"date\", columns=\"permno\", values=\"ret\")\n",
    ")"
   ],
   "outputs": [],
   "execution_count": 39
  },
  {
   "metadata": {
    "ExecuteTime": {
     "end_time": "2025-06-24T09:02:22.890986Z",
     "start_time": "2025-06-24T09:02:22.887246Z"
    }
   },
   "cell_type": "code",
   "source": [
    "last_selection = presence_matrix.iloc[-1]\n",
    "last_selection = last_selection[last_selection.notna()].index"
   ],
   "id": "82d42f3430495a6c",
   "outputs": [],
   "execution_count": 40
  },
  {
   "metadata": {
    "ExecuteTime": {
     "end_time": "2025-06-24T09:02:22.969564Z",
     "start_time": "2025-06-24T09:02:22.966126Z"
    }
   },
   "cell_type": "code",
   "source": "last_selection",
   "id": "d6ede199e5ecfe93",
   "outputs": [
    {
     "data": {
      "text/plain": [
       "Index([10104, 10107, 10138, 10145, 10516, 10696, 10777, 10933, 11308, 11403,\n",
       "       ...\n",
       "       92602, 92611, 92614, 92655, 93002, 93089, 93096, 93132, 93312, 93436],\n",
       "      dtype='int64', name='permno', length=500)"
      ]
     },
     "execution_count": 41,
     "metadata": {},
     "output_type": "execute_result"
    }
   ],
   "execution_count": 41
  },
  {
   "metadata": {
    "ExecuteTime": {
     "end_time": "2025-06-24T09:02:23.046302Z",
     "start_time": "2025-06-24T09:02:23.041639Z"
    }
   },
   "cell_type": "code",
   "source": [
    "# df_data = jkp_data.reset_index()\n",
    "# df_data[df_data[\"permno\"].isin(last_selection)][\"comnam\"].drop_duplicates()"
   ],
   "id": "d2c286b640283411",
   "outputs": [],
   "execution_count": 42
  },
  {
   "cell_type": "code",
   "id": "a5bddae6d601c977",
   "metadata": {
    "ExecuteTime": {
     "end_time": "2025-06-24T09:02:23.167328Z",
     "start_time": "2025-06-24T09:02:23.157717Z"
    }
   },
   "source": "full_df = pivoted_returns",
   "outputs": [],
   "execution_count": 43
  },
  {
   "cell_type": "code",
   "id": "19efef8506fe16f1",
   "metadata": {
    "ExecuteTime": {
     "end_time": "2025-06-24T09:02:23.272800Z",
     "start_time": "2025-06-24T09:02:23.266794Z"
    }
   },
   "source": [
    "valid_cols = presence_matrix.columns.intersection(full_df.columns)\n",
    "len(valid_cols)"
   ],
   "outputs": [
    {
     "data": {
      "text/plain": [
       "2465"
      ]
     },
     "execution_count": 44,
     "metadata": {},
     "output_type": "execute_result"
    }
   ],
   "execution_count": 44
  },
  {
   "cell_type": "code",
   "id": "e48a2cab62006503",
   "metadata": {
    "ExecuteTime": {
     "end_time": "2025-06-24T09:02:23.324148Z",
     "start_time": "2025-06-24T09:02:23.317637Z"
    }
   },
   "source": [
    "presence_matrix = presence_matrix.reset_index()\n",
    "presence_matrix[\"date\"] = pd.to_datetime(presence_matrix[\"date\"])\n",
    "presence_matrix = presence_matrix.set_index(\"date\")"
   ],
   "outputs": [],
   "execution_count": 45
  },
  {
   "metadata": {
    "ExecuteTime": {
     "end_time": "2025-06-24T09:02:23.440399Z",
     "start_time": "2025-06-24T09:02:23.426252Z"
    }
   },
   "cell_type": "code",
   "source": "presence_matrix",
   "id": "6dfe515ac093f668",
   "outputs": [
    {
     "data": {
      "text/plain": [
       "permno      10006  10078  10095  10104  10107  10108  10119  10137  10138  \\\n",
       "date                                                                        \n",
       "1980-01-31    NaN    NaN    NaN    NaN    NaN    NaN    NaN    1.0    NaN   \n",
       "1980-02-29    NaN    NaN    NaN    NaN    NaN    NaN    NaN    1.0    NaN   \n",
       "1980-03-31    NaN    NaN    NaN    NaN    NaN    NaN    NaN    1.0    NaN   \n",
       "1980-04-30    NaN    NaN    NaN    NaN    NaN    NaN    NaN    1.0    NaN   \n",
       "1980-05-31    NaN    NaN    NaN    NaN    NaN    NaN    NaN    1.0    NaN   \n",
       "...           ...    ...    ...    ...    ...    ...    ...    ...    ...   \n",
       "2024-08-31    NaN    NaN    NaN    1.0    1.0    NaN    NaN    NaN    1.0   \n",
       "2024-09-30    NaN    NaN    NaN    1.0    1.0    NaN    NaN    NaN    1.0   \n",
       "2024-10-31    NaN    NaN    NaN    1.0    1.0    NaN    NaN    NaN    1.0   \n",
       "2024-11-30    NaN    NaN    NaN    1.0    1.0    NaN    NaN    NaN    1.0   \n",
       "2024-12-31    NaN    NaN    NaN    1.0    1.0    NaN    NaN    NaN    1.0   \n",
       "\n",
       "permno      10145  ...  93152  93179  93223  93246  93263  93295  93312  \\\n",
       "date               ...                                                    \n",
       "1980-01-31    1.0  ...    NaN    NaN    NaN    NaN    NaN    NaN    NaN   \n",
       "1980-02-29    1.0  ...    NaN    NaN    NaN    NaN    NaN    NaN    NaN   \n",
       "1980-03-31    1.0  ...    NaN    NaN    NaN    NaN    NaN    NaN    NaN   \n",
       "1980-04-30    1.0  ...    NaN    NaN    NaN    NaN    NaN    NaN    NaN   \n",
       "1980-05-31    1.0  ...    NaN    NaN    NaN    NaN    NaN    NaN    NaN   \n",
       "...           ...  ...    ...    ...    ...    ...    ...    ...    ...   \n",
       "2024-08-31    1.0  ...    NaN    NaN    NaN    NaN    NaN    NaN    1.0   \n",
       "2024-09-30    1.0  ...    NaN    NaN    NaN    NaN    NaN    NaN    1.0   \n",
       "2024-10-31    1.0  ...    NaN    NaN    NaN    NaN    NaN    NaN    1.0   \n",
       "2024-11-30    1.0  ...    NaN    NaN    NaN    NaN    NaN    NaN    1.0   \n",
       "2024-12-31    1.0  ...    NaN    NaN    NaN    NaN    NaN    NaN    1.0   \n",
       "\n",
       "permno      93422  93429  93436  \n",
       "date                             \n",
       "1980-01-31    NaN    NaN    NaN  \n",
       "1980-02-29    NaN    NaN    NaN  \n",
       "1980-03-31    NaN    NaN    NaN  \n",
       "1980-04-30    NaN    NaN    NaN  \n",
       "1980-05-31    NaN    NaN    NaN  \n",
       "...           ...    ...    ...  \n",
       "2024-08-31    NaN    NaN    1.0  \n",
       "2024-09-30    NaN    NaN    1.0  \n",
       "2024-10-31    NaN    NaN    1.0  \n",
       "2024-11-30    NaN    NaN    1.0  \n",
       "2024-12-31    NaN    NaN    1.0  \n",
       "\n",
       "[540 rows x 2465 columns]"
      ],
      "text/html": [
       "<div>\n",
       "<style scoped>\n",
       "    .dataframe tbody tr th:only-of-type {\n",
       "        vertical-align: middle;\n",
       "    }\n",
       "\n",
       "    .dataframe tbody tr th {\n",
       "        vertical-align: top;\n",
       "    }\n",
       "\n",
       "    .dataframe thead th {\n",
       "        text-align: right;\n",
       "    }\n",
       "</style>\n",
       "<table border=\"1\" class=\"dataframe\">\n",
       "  <thead>\n",
       "    <tr style=\"text-align: right;\">\n",
       "      <th>permno</th>\n",
       "      <th>10006</th>\n",
       "      <th>10078</th>\n",
       "      <th>10095</th>\n",
       "      <th>10104</th>\n",
       "      <th>10107</th>\n",
       "      <th>10108</th>\n",
       "      <th>10119</th>\n",
       "      <th>10137</th>\n",
       "      <th>10138</th>\n",
       "      <th>10145</th>\n",
       "      <th>...</th>\n",
       "      <th>93152</th>\n",
       "      <th>93179</th>\n",
       "      <th>93223</th>\n",
       "      <th>93246</th>\n",
       "      <th>93263</th>\n",
       "      <th>93295</th>\n",
       "      <th>93312</th>\n",
       "      <th>93422</th>\n",
       "      <th>93429</th>\n",
       "      <th>93436</th>\n",
       "    </tr>\n",
       "    <tr>\n",
       "      <th>date</th>\n",
       "      <th></th>\n",
       "      <th></th>\n",
       "      <th></th>\n",
       "      <th></th>\n",
       "      <th></th>\n",
       "      <th></th>\n",
       "      <th></th>\n",
       "      <th></th>\n",
       "      <th></th>\n",
       "      <th></th>\n",
       "      <th></th>\n",
       "      <th></th>\n",
       "      <th></th>\n",
       "      <th></th>\n",
       "      <th></th>\n",
       "      <th></th>\n",
       "      <th></th>\n",
       "      <th></th>\n",
       "      <th></th>\n",
       "      <th></th>\n",
       "      <th></th>\n",
       "    </tr>\n",
       "  </thead>\n",
       "  <tbody>\n",
       "    <tr>\n",
       "      <th>1980-01-31</th>\n",
       "      <td>NaN</td>\n",
       "      <td>NaN</td>\n",
       "      <td>NaN</td>\n",
       "      <td>NaN</td>\n",
       "      <td>NaN</td>\n",
       "      <td>NaN</td>\n",
       "      <td>NaN</td>\n",
       "      <td>1.0</td>\n",
       "      <td>NaN</td>\n",
       "      <td>1.0</td>\n",
       "      <td>...</td>\n",
       "      <td>NaN</td>\n",
       "      <td>NaN</td>\n",
       "      <td>NaN</td>\n",
       "      <td>NaN</td>\n",
       "      <td>NaN</td>\n",
       "      <td>NaN</td>\n",
       "      <td>NaN</td>\n",
       "      <td>NaN</td>\n",
       "      <td>NaN</td>\n",
       "      <td>NaN</td>\n",
       "    </tr>\n",
       "    <tr>\n",
       "      <th>1980-02-29</th>\n",
       "      <td>NaN</td>\n",
       "      <td>NaN</td>\n",
       "      <td>NaN</td>\n",
       "      <td>NaN</td>\n",
       "      <td>NaN</td>\n",
       "      <td>NaN</td>\n",
       "      <td>NaN</td>\n",
       "      <td>1.0</td>\n",
       "      <td>NaN</td>\n",
       "      <td>1.0</td>\n",
       "      <td>...</td>\n",
       "      <td>NaN</td>\n",
       "      <td>NaN</td>\n",
       "      <td>NaN</td>\n",
       "      <td>NaN</td>\n",
       "      <td>NaN</td>\n",
       "      <td>NaN</td>\n",
       "      <td>NaN</td>\n",
       "      <td>NaN</td>\n",
       "      <td>NaN</td>\n",
       "      <td>NaN</td>\n",
       "    </tr>\n",
       "    <tr>\n",
       "      <th>1980-03-31</th>\n",
       "      <td>NaN</td>\n",
       "      <td>NaN</td>\n",
       "      <td>NaN</td>\n",
       "      <td>NaN</td>\n",
       "      <td>NaN</td>\n",
       "      <td>NaN</td>\n",
       "      <td>NaN</td>\n",
       "      <td>1.0</td>\n",
       "      <td>NaN</td>\n",
       "      <td>1.0</td>\n",
       "      <td>...</td>\n",
       "      <td>NaN</td>\n",
       "      <td>NaN</td>\n",
       "      <td>NaN</td>\n",
       "      <td>NaN</td>\n",
       "      <td>NaN</td>\n",
       "      <td>NaN</td>\n",
       "      <td>NaN</td>\n",
       "      <td>NaN</td>\n",
       "      <td>NaN</td>\n",
       "      <td>NaN</td>\n",
       "    </tr>\n",
       "    <tr>\n",
       "      <th>1980-04-30</th>\n",
       "      <td>NaN</td>\n",
       "      <td>NaN</td>\n",
       "      <td>NaN</td>\n",
       "      <td>NaN</td>\n",
       "      <td>NaN</td>\n",
       "      <td>NaN</td>\n",
       "      <td>NaN</td>\n",
       "      <td>1.0</td>\n",
       "      <td>NaN</td>\n",
       "      <td>1.0</td>\n",
       "      <td>...</td>\n",
       "      <td>NaN</td>\n",
       "      <td>NaN</td>\n",
       "      <td>NaN</td>\n",
       "      <td>NaN</td>\n",
       "      <td>NaN</td>\n",
       "      <td>NaN</td>\n",
       "      <td>NaN</td>\n",
       "      <td>NaN</td>\n",
       "      <td>NaN</td>\n",
       "      <td>NaN</td>\n",
       "    </tr>\n",
       "    <tr>\n",
       "      <th>1980-05-31</th>\n",
       "      <td>NaN</td>\n",
       "      <td>NaN</td>\n",
       "      <td>NaN</td>\n",
       "      <td>NaN</td>\n",
       "      <td>NaN</td>\n",
       "      <td>NaN</td>\n",
       "      <td>NaN</td>\n",
       "      <td>1.0</td>\n",
       "      <td>NaN</td>\n",
       "      <td>1.0</td>\n",
       "      <td>...</td>\n",
       "      <td>NaN</td>\n",
       "      <td>NaN</td>\n",
       "      <td>NaN</td>\n",
       "      <td>NaN</td>\n",
       "      <td>NaN</td>\n",
       "      <td>NaN</td>\n",
       "      <td>NaN</td>\n",
       "      <td>NaN</td>\n",
       "      <td>NaN</td>\n",
       "      <td>NaN</td>\n",
       "    </tr>\n",
       "    <tr>\n",
       "      <th>...</th>\n",
       "      <td>...</td>\n",
       "      <td>...</td>\n",
       "      <td>...</td>\n",
       "      <td>...</td>\n",
       "      <td>...</td>\n",
       "      <td>...</td>\n",
       "      <td>...</td>\n",
       "      <td>...</td>\n",
       "      <td>...</td>\n",
       "      <td>...</td>\n",
       "      <td>...</td>\n",
       "      <td>...</td>\n",
       "      <td>...</td>\n",
       "      <td>...</td>\n",
       "      <td>...</td>\n",
       "      <td>...</td>\n",
       "      <td>...</td>\n",
       "      <td>...</td>\n",
       "      <td>...</td>\n",
       "      <td>...</td>\n",
       "      <td>...</td>\n",
       "    </tr>\n",
       "    <tr>\n",
       "      <th>2024-08-31</th>\n",
       "      <td>NaN</td>\n",
       "      <td>NaN</td>\n",
       "      <td>NaN</td>\n",
       "      <td>1.0</td>\n",
       "      <td>1.0</td>\n",
       "      <td>NaN</td>\n",
       "      <td>NaN</td>\n",
       "      <td>NaN</td>\n",
       "      <td>1.0</td>\n",
       "      <td>1.0</td>\n",
       "      <td>...</td>\n",
       "      <td>NaN</td>\n",
       "      <td>NaN</td>\n",
       "      <td>NaN</td>\n",
       "      <td>NaN</td>\n",
       "      <td>NaN</td>\n",
       "      <td>NaN</td>\n",
       "      <td>1.0</td>\n",
       "      <td>NaN</td>\n",
       "      <td>NaN</td>\n",
       "      <td>1.0</td>\n",
       "    </tr>\n",
       "    <tr>\n",
       "      <th>2024-09-30</th>\n",
       "      <td>NaN</td>\n",
       "      <td>NaN</td>\n",
       "      <td>NaN</td>\n",
       "      <td>1.0</td>\n",
       "      <td>1.0</td>\n",
       "      <td>NaN</td>\n",
       "      <td>NaN</td>\n",
       "      <td>NaN</td>\n",
       "      <td>1.0</td>\n",
       "      <td>1.0</td>\n",
       "      <td>...</td>\n",
       "      <td>NaN</td>\n",
       "      <td>NaN</td>\n",
       "      <td>NaN</td>\n",
       "      <td>NaN</td>\n",
       "      <td>NaN</td>\n",
       "      <td>NaN</td>\n",
       "      <td>1.0</td>\n",
       "      <td>NaN</td>\n",
       "      <td>NaN</td>\n",
       "      <td>1.0</td>\n",
       "    </tr>\n",
       "    <tr>\n",
       "      <th>2024-10-31</th>\n",
       "      <td>NaN</td>\n",
       "      <td>NaN</td>\n",
       "      <td>NaN</td>\n",
       "      <td>1.0</td>\n",
       "      <td>1.0</td>\n",
       "      <td>NaN</td>\n",
       "      <td>NaN</td>\n",
       "      <td>NaN</td>\n",
       "      <td>1.0</td>\n",
       "      <td>1.0</td>\n",
       "      <td>...</td>\n",
       "      <td>NaN</td>\n",
       "      <td>NaN</td>\n",
       "      <td>NaN</td>\n",
       "      <td>NaN</td>\n",
       "      <td>NaN</td>\n",
       "      <td>NaN</td>\n",
       "      <td>1.0</td>\n",
       "      <td>NaN</td>\n",
       "      <td>NaN</td>\n",
       "      <td>1.0</td>\n",
       "    </tr>\n",
       "    <tr>\n",
       "      <th>2024-11-30</th>\n",
       "      <td>NaN</td>\n",
       "      <td>NaN</td>\n",
       "      <td>NaN</td>\n",
       "      <td>1.0</td>\n",
       "      <td>1.0</td>\n",
       "      <td>NaN</td>\n",
       "      <td>NaN</td>\n",
       "      <td>NaN</td>\n",
       "      <td>1.0</td>\n",
       "      <td>1.0</td>\n",
       "      <td>...</td>\n",
       "      <td>NaN</td>\n",
       "      <td>NaN</td>\n",
       "      <td>NaN</td>\n",
       "      <td>NaN</td>\n",
       "      <td>NaN</td>\n",
       "      <td>NaN</td>\n",
       "      <td>1.0</td>\n",
       "      <td>NaN</td>\n",
       "      <td>NaN</td>\n",
       "      <td>1.0</td>\n",
       "    </tr>\n",
       "    <tr>\n",
       "      <th>2024-12-31</th>\n",
       "      <td>NaN</td>\n",
       "      <td>NaN</td>\n",
       "      <td>NaN</td>\n",
       "      <td>1.0</td>\n",
       "      <td>1.0</td>\n",
       "      <td>NaN</td>\n",
       "      <td>NaN</td>\n",
       "      <td>NaN</td>\n",
       "      <td>1.0</td>\n",
       "      <td>1.0</td>\n",
       "      <td>...</td>\n",
       "      <td>NaN</td>\n",
       "      <td>NaN</td>\n",
       "      <td>NaN</td>\n",
       "      <td>NaN</td>\n",
       "      <td>NaN</td>\n",
       "      <td>NaN</td>\n",
       "      <td>1.0</td>\n",
       "      <td>NaN</td>\n",
       "      <td>NaN</td>\n",
       "      <td>1.0</td>\n",
       "    </tr>\n",
       "  </tbody>\n",
       "</table>\n",
       "<p>540 rows × 2465 columns</p>\n",
       "</div>"
      ]
     },
     "execution_count": 46,
     "metadata": {},
     "output_type": "execute_result"
    }
   ],
   "execution_count": 46
  },
  {
   "metadata": {
    "ExecuteTime": {
     "end_time": "2025-06-24T09:02:23.741629Z",
     "start_time": "2025-06-24T09:02:23.695750Z"
    }
   },
   "cell_type": "code",
   "source": "presence_matrix = presence_matrix.resample(\"D\").ffill()",
   "id": "3c3ad65685a9811f",
   "outputs": [],
   "execution_count": 47
  },
  {
   "cell_type": "code",
   "id": "e3ee7dbacb916c5e",
   "metadata": {
    "ExecuteTime": {
     "end_time": "2025-06-24T09:02:23.934305Z",
     "start_time": "2025-06-24T09:02:23.826127Z"
    }
   },
   "source": [
    "merged_index = full_df.merge(\n",
    "    presence_matrix, left_index=True, right_index=True, how=\"inner\"\n",
    ").index"
   ],
   "outputs": [],
   "execution_count": 48
  },
  {
   "cell_type": "code",
   "id": "17b677f33b56158a",
   "metadata": {
    "ExecuteTime": {
     "end_time": "2025-06-24T09:02:24.379824Z",
     "start_time": "2025-06-24T09:02:24.311746Z"
    }
   },
   "source": [
    "full_df = full_df.loc[merged_index]\n",
    "presence_matrix = presence_matrix.loc[merged_index]\n",
    "full_df.shape, presence_matrix.shape"
   ],
   "outputs": [
    {
     "data": {
      "text/plain": [
       "((11324, 2465), (11324, 2465))"
      ]
     },
     "execution_count": 49,
     "metadata": {},
     "output_type": "execute_result"
    }
   ],
   "execution_count": 49
  },
  {
   "cell_type": "code",
   "id": "47c8db7dbb5a0b67",
   "metadata": {
    "ExecuteTime": {
     "end_time": "2025-06-24T09:02:32.260806Z",
     "start_time": "2025-06-24T09:02:24.457338Z"
    }
   },
   "source": "full_df[valid_cols].to_csv(Path(\"../../data/output\") / f\"top{N_LARGEST}_data.csv\")",
   "outputs": [],
   "execution_count": 50
  },
  {
   "metadata": {
    "ExecuteTime": {
     "end_time": "2025-06-24T09:02:37.763743Z",
     "start_time": "2025-06-24T09:02:32.360233Z"
    }
   },
   "cell_type": "code",
   "source": "presence_matrix[valid_cols].to_csv(Path(\"../../data/output\") / f\"top{N_LARGEST}_presence_matrix.csv\")",
   "id": "cc2fe873d9798c53",
   "outputs": [],
   "execution_count": 51
  },
  {
   "cell_type": "code",
   "id": "e61d4472fc4d334b",
   "metadata": {
    "ExecuteTime": {
     "end_time": "2025-06-24T09:02:37.846810Z",
     "start_time": "2025-06-24T09:02:37.841386Z"
    }
   },
   "source": [
    "pd.DataFrame(valid_cols).to_csv(\n",
    "    Path(\"../../data/output\") / f\"top{N_LARGEST}_stocks_list.csv\",\n",
    "    index=False,\n",
    ")"
   ],
   "outputs": [],
   "execution_count": 52
  }
 ],
 "metadata": {
  "kernelspec": {
   "display_name": "Python 3",
   "language": "python",
   "name": "python3"
  },
  "language_info": {
   "codemirror_mode": {
    "name": "ipython",
    "version": 2
   },
   "file_extension": ".py",
   "mimetype": "text/x-python",
   "name": "python",
   "nbconvert_exporter": "python",
   "pygments_lexer": "ipython2",
   "version": "2.7.6"
  }
 },
 "nbformat": 4,
 "nbformat_minor": 5
}
