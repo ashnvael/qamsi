{
 "cells": [
  {
   "cell_type": "code",
   "id": "initial_id",
   "metadata": {
    "collapsed": true,
    "ExecuteTime": {
     "end_time": "2025-06-24T09:23:33.311746Z",
     "start_time": "2025-06-24T09:23:33.306697Z"
    }
   },
   "source": [
    "from __future__ import annotations\n",
    "\n",
    "from pathlib import Path\n",
    "\n",
    "import pandas as pd\n",
    "\n",
    "from run import Dataset\n",
    "\n",
    "DATASET = Dataset.TOPN_US.value(topn=500)"
   ],
   "outputs": [],
   "execution_count": 17
  },
  {
   "cell_type": "code",
   "id": "2e3a2a67e4cd921c",
   "metadata": {
    "ExecuteTime": {
     "end_time": "2025-06-24T09:23:33.440051Z",
     "start_time": "2025-06-24T09:23:33.316342Z"
    }
   },
   "source": [
    "SELECTED_FACTORS = [\"low_risk\", \"momentum\", \"size\", \"quality\", \"value\"]\n",
    "\n",
    "jkp_factors = pd.read_csv(Path(\"../../data/jkp_raw\") / \"jkp_factors.csv\")\n",
    "jkp_factors = jkp_factors[jkp_factors[\"name\"].isin(SELECTED_FACTORS)]\n",
    "jkp_factors[\"date\"] = pd.to_datetime(jkp_factors[\"date\"])"
   ],
   "outputs": [],
   "execution_count": 18
  },
  {
   "cell_type": "code",
   "id": "dabede0fc294c819",
   "metadata": {
    "ExecuteTime": {
     "end_time": "2025-06-24T09:23:33.491689Z",
     "start_time": "2025-06-24T09:23:33.466434Z"
    }
   },
   "source": [
    "factors = jkp_factors.pivot_table(index=\"date\", columns=\"name\", values=\"ret\")\n",
    "factors"
   ],
   "outputs": [
    {
     "data": {
      "text/plain": [
       "name        low_risk  momentum   quality      size     value\n",
       "date                                                        \n",
       "1926-01-02       NaN       NaN       NaN  0.002354       NaN\n",
       "1926-01-04       NaN       NaN       NaN  0.005459       NaN\n",
       "1926-01-05       NaN       NaN       NaN  0.003777       NaN\n",
       "1926-01-06       NaN       NaN       NaN -0.000590       NaN\n",
       "1926-01-07       NaN       NaN       NaN  0.002057       NaN\n",
       "...              ...       ...       ...       ...       ...\n",
       "2024-12-24 -0.003400  0.001616 -0.000962  0.001315 -0.002292\n",
       "2024-12-26 -0.003880 -0.000633 -0.002414  0.008669 -0.001183\n",
       "2024-12-27  0.007210 -0.004166  0.000425 -0.003512  0.005444\n",
       "2024-12-30  0.003394  0.000445 -0.001043  0.001675  0.004711\n",
       "2024-12-31  0.003962 -0.005435 -0.001249  0.001851  0.006603\n",
       "\n",
       "[26051 rows x 5 columns]"
      ],
      "text/html": [
       "<div>\n",
       "<style scoped>\n",
       "    .dataframe tbody tr th:only-of-type {\n",
       "        vertical-align: middle;\n",
       "    }\n",
       "\n",
       "    .dataframe tbody tr th {\n",
       "        vertical-align: top;\n",
       "    }\n",
       "\n",
       "    .dataframe thead th {\n",
       "        text-align: right;\n",
       "    }\n",
       "</style>\n",
       "<table border=\"1\" class=\"dataframe\">\n",
       "  <thead>\n",
       "    <tr style=\"text-align: right;\">\n",
       "      <th>name</th>\n",
       "      <th>low_risk</th>\n",
       "      <th>momentum</th>\n",
       "      <th>quality</th>\n",
       "      <th>size</th>\n",
       "      <th>value</th>\n",
       "    </tr>\n",
       "    <tr>\n",
       "      <th>date</th>\n",
       "      <th></th>\n",
       "      <th></th>\n",
       "      <th></th>\n",
       "      <th></th>\n",
       "      <th></th>\n",
       "    </tr>\n",
       "  </thead>\n",
       "  <tbody>\n",
       "    <tr>\n",
       "      <th>1926-01-02</th>\n",
       "      <td>NaN</td>\n",
       "      <td>NaN</td>\n",
       "      <td>NaN</td>\n",
       "      <td>0.002354</td>\n",
       "      <td>NaN</td>\n",
       "    </tr>\n",
       "    <tr>\n",
       "      <th>1926-01-04</th>\n",
       "      <td>NaN</td>\n",
       "      <td>NaN</td>\n",
       "      <td>NaN</td>\n",
       "      <td>0.005459</td>\n",
       "      <td>NaN</td>\n",
       "    </tr>\n",
       "    <tr>\n",
       "      <th>1926-01-05</th>\n",
       "      <td>NaN</td>\n",
       "      <td>NaN</td>\n",
       "      <td>NaN</td>\n",
       "      <td>0.003777</td>\n",
       "      <td>NaN</td>\n",
       "    </tr>\n",
       "    <tr>\n",
       "      <th>1926-01-06</th>\n",
       "      <td>NaN</td>\n",
       "      <td>NaN</td>\n",
       "      <td>NaN</td>\n",
       "      <td>-0.000590</td>\n",
       "      <td>NaN</td>\n",
       "    </tr>\n",
       "    <tr>\n",
       "      <th>1926-01-07</th>\n",
       "      <td>NaN</td>\n",
       "      <td>NaN</td>\n",
       "      <td>NaN</td>\n",
       "      <td>0.002057</td>\n",
       "      <td>NaN</td>\n",
       "    </tr>\n",
       "    <tr>\n",
       "      <th>...</th>\n",
       "      <td>...</td>\n",
       "      <td>...</td>\n",
       "      <td>...</td>\n",
       "      <td>...</td>\n",
       "      <td>...</td>\n",
       "    </tr>\n",
       "    <tr>\n",
       "      <th>2024-12-24</th>\n",
       "      <td>-0.003400</td>\n",
       "      <td>0.001616</td>\n",
       "      <td>-0.000962</td>\n",
       "      <td>0.001315</td>\n",
       "      <td>-0.002292</td>\n",
       "    </tr>\n",
       "    <tr>\n",
       "      <th>2024-12-26</th>\n",
       "      <td>-0.003880</td>\n",
       "      <td>-0.000633</td>\n",
       "      <td>-0.002414</td>\n",
       "      <td>0.008669</td>\n",
       "      <td>-0.001183</td>\n",
       "    </tr>\n",
       "    <tr>\n",
       "      <th>2024-12-27</th>\n",
       "      <td>0.007210</td>\n",
       "      <td>-0.004166</td>\n",
       "      <td>0.000425</td>\n",
       "      <td>-0.003512</td>\n",
       "      <td>0.005444</td>\n",
       "    </tr>\n",
       "    <tr>\n",
       "      <th>2024-12-30</th>\n",
       "      <td>0.003394</td>\n",
       "      <td>0.000445</td>\n",
       "      <td>-0.001043</td>\n",
       "      <td>0.001675</td>\n",
       "      <td>0.004711</td>\n",
       "    </tr>\n",
       "    <tr>\n",
       "      <th>2024-12-31</th>\n",
       "      <td>0.003962</td>\n",
       "      <td>-0.005435</td>\n",
       "      <td>-0.001249</td>\n",
       "      <td>0.001851</td>\n",
       "      <td>0.006603</td>\n",
       "    </tr>\n",
       "  </tbody>\n",
       "</table>\n",
       "<p>26051 rows × 5 columns</p>\n",
       "</div>"
      ]
     },
     "execution_count": 19,
     "metadata": {},
     "output_type": "execute_result"
    }
   ],
   "execution_count": 19
  },
  {
   "cell_type": "code",
   "id": "62eaaf9c4ae3e519",
   "metadata": {
    "ExecuteTime": {
     "end_time": "2025-06-24T09:23:34.866389Z",
     "start_time": "2025-06-24T09:23:33.540143Z"
    }
   },
   "source": [
    "data_df = pd.read_csv(Path(\"../../data/output\") / DATASET.DF_FILENAME)\n",
    "data_df[\"date\"] = pd.to_datetime(data_df[\"date\"])\n",
    "data_df = data_df.set_index(\"date\")"
   ],
   "outputs": [],
   "execution_count": 20
  },
  {
   "cell_type": "code",
   "id": "4ba20831dd4bb296",
   "metadata": {
    "ExecuteTime": {
     "end_time": "2025-06-24T09:23:35.818913Z",
     "start_time": "2025-06-24T09:23:34.912674Z"
    }
   },
   "source": [
    "spx = pd.read_excel(Path(\"../../data/gw_replication\") / \"spx.xlsx\", skiprows=6)\n",
    "spx = spx.rename(columns={\"Date\": \"date\", \"PX_LAST\": \"spx\"})\n",
    "spx[\"date\"] = pd.to_datetime(spx[\"date\"])\n",
    "spx = spx.set_index(\"date\")\n",
    "spx = spx.sort_index()\n",
    "spx = spx[[\"spx\"]].pct_change()\n",
    "spx"
   ],
   "outputs": [
    {
     "data": {
      "text/plain": [
       "                 spx\n",
       "date                \n",
       "1950-01-30       NaN\n",
       "1950-01-31  0.001763\n",
       "1950-02-01  0.000000\n",
       "1950-02-02  0.010557\n",
       "1950-02-03  0.003482\n",
       "...              ...\n",
       "2025-01-22  0.006138\n",
       "2025-01-23  0.005314\n",
       "2025-01-24 -0.002855\n",
       "2025-01-27 -0.014581\n",
       "2025-01-28  0.007170\n",
       "\n",
       "[19202 rows x 1 columns]"
      ],
      "text/html": [
       "<div>\n",
       "<style scoped>\n",
       "    .dataframe tbody tr th:only-of-type {\n",
       "        vertical-align: middle;\n",
       "    }\n",
       "\n",
       "    .dataframe tbody tr th {\n",
       "        vertical-align: top;\n",
       "    }\n",
       "\n",
       "    .dataframe thead th {\n",
       "        text-align: right;\n",
       "    }\n",
       "</style>\n",
       "<table border=\"1\" class=\"dataframe\">\n",
       "  <thead>\n",
       "    <tr style=\"text-align: right;\">\n",
       "      <th></th>\n",
       "      <th>spx</th>\n",
       "    </tr>\n",
       "    <tr>\n",
       "      <th>date</th>\n",
       "      <th></th>\n",
       "    </tr>\n",
       "  </thead>\n",
       "  <tbody>\n",
       "    <tr>\n",
       "      <th>1950-01-30</th>\n",
       "      <td>NaN</td>\n",
       "    </tr>\n",
       "    <tr>\n",
       "      <th>1950-01-31</th>\n",
       "      <td>0.001763</td>\n",
       "    </tr>\n",
       "    <tr>\n",
       "      <th>1950-02-01</th>\n",
       "      <td>0.000000</td>\n",
       "    </tr>\n",
       "    <tr>\n",
       "      <th>1950-02-02</th>\n",
       "      <td>0.010557</td>\n",
       "    </tr>\n",
       "    <tr>\n",
       "      <th>1950-02-03</th>\n",
       "      <td>0.003482</td>\n",
       "    </tr>\n",
       "    <tr>\n",
       "      <th>...</th>\n",
       "      <td>...</td>\n",
       "    </tr>\n",
       "    <tr>\n",
       "      <th>2025-01-22</th>\n",
       "      <td>0.006138</td>\n",
       "    </tr>\n",
       "    <tr>\n",
       "      <th>2025-01-23</th>\n",
       "      <td>0.005314</td>\n",
       "    </tr>\n",
       "    <tr>\n",
       "      <th>2025-01-24</th>\n",
       "      <td>-0.002855</td>\n",
       "    </tr>\n",
       "    <tr>\n",
       "      <th>2025-01-27</th>\n",
       "      <td>-0.014581</td>\n",
       "    </tr>\n",
       "    <tr>\n",
       "      <th>2025-01-28</th>\n",
       "      <td>0.007170</td>\n",
       "    </tr>\n",
       "  </tbody>\n",
       "</table>\n",
       "<p>19202 rows × 1 columns</p>\n",
       "</div>"
      ]
     },
     "execution_count": 21,
     "metadata": {},
     "output_type": "execute_result"
    }
   ],
   "execution_count": 21
  },
  {
   "cell_type": "code",
   "id": "f3b359a816175e31",
   "metadata": {
    "ExecuteTime": {
     "end_time": "2025-06-24T09:23:36.534031Z",
     "start_time": "2025-06-24T09:23:35.874588Z"
    }
   },
   "source": [
    "rf = pd.read_excel(Path(\"../../data/ff\") / \"FFDaily.xlsx\")\n",
    "rf = rf.rename(columns={\"Date\": \"date\", \"RF\": \"rf\"})\n",
    "rf[\"date\"] = pd.to_datetime(rf[\"date\"], format=\"%Y%m%d\")\n",
    "rf = rf.set_index(\"date\")\n",
    "rf = rf[\"rf\"] / 100\n",
    "rf"
   ],
   "outputs": [
    {
     "data": {
      "text/plain": [
       "date\n",
       "1926-07-01    0.00009\n",
       "1926-07-02    0.00009\n",
       "1926-07-06    0.00009\n",
       "1926-07-07    0.00009\n",
       "1926-07-08    0.00009\n",
       "               ...   \n",
       "2024-08-26    0.00022\n",
       "2024-08-27    0.00022\n",
       "2024-08-28    0.00022\n",
       "2024-08-29    0.00022\n",
       "2024-08-30    0.00022\n",
       "Name: rf, Length: 25817, dtype: float64"
      ]
     },
     "execution_count": 22,
     "metadata": {},
     "output_type": "execute_result"
    }
   ],
   "execution_count": 22
  },
  {
   "cell_type": "code",
   "id": "9b51d76b5e067be8",
   "metadata": {
    "ExecuteTime": {
     "end_time": "2025-06-24T09:23:36.619937Z",
     "start_time": "2025-06-24T09:23:36.615773Z"
    }
   },
   "source": [
    "from qamsi.market_data.risk_free_conventions import accrue_risk_free_rate\n",
    "\n",
    "rf = accrue_risk_free_rate(rf_rate=rf)"
   ],
   "outputs": [],
   "execution_count": 23
  },
  {
   "cell_type": "code",
   "id": "5089b0bec4177eec",
   "metadata": {
    "ExecuteTime": {
     "end_time": "2025-06-24T09:23:36.676829Z",
     "start_time": "2025-06-24T09:23:36.669824Z"
    }
   },
   "source": [
    "spx = spx.merge(rf.rename(\"acc_rate\"), left_index=True, right_index=True, how=\"left\")\n",
    "spx"
   ],
   "outputs": [
    {
     "data": {
      "text/plain": [
       "                 spx  acc_rate\n",
       "date                          \n",
       "1950-01-30       NaN   0.00008\n",
       "1950-01-31  0.001763   0.00004\n",
       "1950-02-01  0.000000   0.00004\n",
       "1950-02-02  0.010557   0.00004\n",
       "1950-02-03  0.003482   0.00004\n",
       "...              ...       ...\n",
       "2025-01-22  0.006138       NaN\n",
       "2025-01-23  0.005314       NaN\n",
       "2025-01-24 -0.002855       NaN\n",
       "2025-01-27 -0.014581       NaN\n",
       "2025-01-28  0.007170       NaN\n",
       "\n",
       "[19202 rows x 2 columns]"
      ],
      "text/html": [
       "<div>\n",
       "<style scoped>\n",
       "    .dataframe tbody tr th:only-of-type {\n",
       "        vertical-align: middle;\n",
       "    }\n",
       "\n",
       "    .dataframe tbody tr th {\n",
       "        vertical-align: top;\n",
       "    }\n",
       "\n",
       "    .dataframe thead th {\n",
       "        text-align: right;\n",
       "    }\n",
       "</style>\n",
       "<table border=\"1\" class=\"dataframe\">\n",
       "  <thead>\n",
       "    <tr style=\"text-align: right;\">\n",
       "      <th></th>\n",
       "      <th>spx</th>\n",
       "      <th>acc_rate</th>\n",
       "    </tr>\n",
       "    <tr>\n",
       "      <th>date</th>\n",
       "      <th></th>\n",
       "      <th></th>\n",
       "    </tr>\n",
       "  </thead>\n",
       "  <tbody>\n",
       "    <tr>\n",
       "      <th>1950-01-30</th>\n",
       "      <td>NaN</td>\n",
       "      <td>0.00008</td>\n",
       "    </tr>\n",
       "    <tr>\n",
       "      <th>1950-01-31</th>\n",
       "      <td>0.001763</td>\n",
       "      <td>0.00004</td>\n",
       "    </tr>\n",
       "    <tr>\n",
       "      <th>1950-02-01</th>\n",
       "      <td>0.000000</td>\n",
       "      <td>0.00004</td>\n",
       "    </tr>\n",
       "    <tr>\n",
       "      <th>1950-02-02</th>\n",
       "      <td>0.010557</td>\n",
       "      <td>0.00004</td>\n",
       "    </tr>\n",
       "    <tr>\n",
       "      <th>1950-02-03</th>\n",
       "      <td>0.003482</td>\n",
       "      <td>0.00004</td>\n",
       "    </tr>\n",
       "    <tr>\n",
       "      <th>...</th>\n",
       "      <td>...</td>\n",
       "      <td>...</td>\n",
       "    </tr>\n",
       "    <tr>\n",
       "      <th>2025-01-22</th>\n",
       "      <td>0.006138</td>\n",
       "      <td>NaN</td>\n",
       "    </tr>\n",
       "    <tr>\n",
       "      <th>2025-01-23</th>\n",
       "      <td>0.005314</td>\n",
       "      <td>NaN</td>\n",
       "    </tr>\n",
       "    <tr>\n",
       "      <th>2025-01-24</th>\n",
       "      <td>-0.002855</td>\n",
       "      <td>NaN</td>\n",
       "    </tr>\n",
       "    <tr>\n",
       "      <th>2025-01-27</th>\n",
       "      <td>-0.014581</td>\n",
       "      <td>NaN</td>\n",
       "    </tr>\n",
       "    <tr>\n",
       "      <th>2025-01-28</th>\n",
       "      <td>0.007170</td>\n",
       "      <td>NaN</td>\n",
       "    </tr>\n",
       "  </tbody>\n",
       "</table>\n",
       "<p>19202 rows × 2 columns</p>\n",
       "</div>"
      ]
     },
     "execution_count": 24,
     "metadata": {},
     "output_type": "execute_result"
    }
   ],
   "execution_count": 24
  },
  {
   "cell_type": "code",
   "id": "16272f5f434f8a5f",
   "metadata": {
    "ExecuteTime": {
     "end_time": "2025-06-24T09:23:36.751291Z",
     "start_time": "2025-06-24T09:23:36.743031Z"
    }
   },
   "source": [
    "spx = spx[[\"spx\"]].sub(spx[\"acc_rate\"], axis=0)\n",
    "spx"
   ],
   "outputs": [
    {
     "data": {
      "text/plain": [
       "                 spx\n",
       "date                \n",
       "1950-01-30       NaN\n",
       "1950-01-31  0.001723\n",
       "1950-02-01 -0.000040\n",
       "1950-02-02  0.010517\n",
       "1950-02-03  0.003442\n",
       "...              ...\n",
       "2025-01-22       NaN\n",
       "2025-01-23       NaN\n",
       "2025-01-24       NaN\n",
       "2025-01-27       NaN\n",
       "2025-01-28       NaN\n",
       "\n",
       "[19202 rows x 1 columns]"
      ],
      "text/html": [
       "<div>\n",
       "<style scoped>\n",
       "    .dataframe tbody tr th:only-of-type {\n",
       "        vertical-align: middle;\n",
       "    }\n",
       "\n",
       "    .dataframe tbody tr th {\n",
       "        vertical-align: top;\n",
       "    }\n",
       "\n",
       "    .dataframe thead th {\n",
       "        text-align: right;\n",
       "    }\n",
       "</style>\n",
       "<table border=\"1\" class=\"dataframe\">\n",
       "  <thead>\n",
       "    <tr style=\"text-align: right;\">\n",
       "      <th></th>\n",
       "      <th>spx</th>\n",
       "    </tr>\n",
       "    <tr>\n",
       "      <th>date</th>\n",
       "      <th></th>\n",
       "    </tr>\n",
       "  </thead>\n",
       "  <tbody>\n",
       "    <tr>\n",
       "      <th>1950-01-30</th>\n",
       "      <td>NaN</td>\n",
       "    </tr>\n",
       "    <tr>\n",
       "      <th>1950-01-31</th>\n",
       "      <td>0.001723</td>\n",
       "    </tr>\n",
       "    <tr>\n",
       "      <th>1950-02-01</th>\n",
       "      <td>-0.000040</td>\n",
       "    </tr>\n",
       "    <tr>\n",
       "      <th>1950-02-02</th>\n",
       "      <td>0.010517</td>\n",
       "    </tr>\n",
       "    <tr>\n",
       "      <th>1950-02-03</th>\n",
       "      <td>0.003442</td>\n",
       "    </tr>\n",
       "    <tr>\n",
       "      <th>...</th>\n",
       "      <td>...</td>\n",
       "    </tr>\n",
       "    <tr>\n",
       "      <th>2025-01-22</th>\n",
       "      <td>NaN</td>\n",
       "    </tr>\n",
       "    <tr>\n",
       "      <th>2025-01-23</th>\n",
       "      <td>NaN</td>\n",
       "    </tr>\n",
       "    <tr>\n",
       "      <th>2025-01-24</th>\n",
       "      <td>NaN</td>\n",
       "    </tr>\n",
       "    <tr>\n",
       "      <th>2025-01-27</th>\n",
       "      <td>NaN</td>\n",
       "    </tr>\n",
       "    <tr>\n",
       "      <th>2025-01-28</th>\n",
       "      <td>NaN</td>\n",
       "    </tr>\n",
       "  </tbody>\n",
       "</table>\n",
       "<p>19202 rows × 1 columns</p>\n",
       "</div>"
      ]
     },
     "execution_count": 25,
     "metadata": {},
     "output_type": "execute_result"
    }
   ],
   "execution_count": 25
  },
  {
   "cell_type": "code",
   "id": "8c62305e4a47fc2",
   "metadata": {
    "ExecuteTime": {
     "end_time": "2025-06-24T09:23:36.819319Z",
     "start_time": "2025-06-24T09:23:36.815343Z"
    }
   },
   "source": [
    "factors = factors.merge(spx, left_index=True, right_index=True, how=\"left\")"
   ],
   "outputs": [],
   "execution_count": 26
  },
  {
   "cell_type": "code",
   "id": "8578dff789a6a63a",
   "metadata": {
    "ExecuteTime": {
     "end_time": "2025-06-24T09:23:36.929910Z",
     "start_time": "2025-06-24T09:23:36.888429Z"
    }
   },
   "source": [
    "data_df = data_df.merge(factors, left_index=True, right_index=True, how=\"left\")\n",
    "data_df.shape"
   ],
   "outputs": [
    {
     "data": {
      "text/plain": [
       "(11324, 2471)"
      ]
     },
     "execution_count": 27,
     "metadata": {},
     "output_type": "execute_result"
    }
   ],
   "execution_count": 27
  },
  {
   "cell_type": "code",
   "id": "6206e342b38b1375",
   "metadata": {
    "ExecuteTime": {
     "end_time": "2025-06-24T09:23:37.026272Z",
     "start_time": "2025-06-24T09:23:36.960706Z"
    }
   },
   "source": [
    "data_df = data_df.merge(\n",
    "    rf.rename(\"acc_rate\"), left_index=True, right_index=True, how=\"left\"\n",
    ")\n",
    "data_df.shape"
   ],
   "outputs": [
    {
     "data": {
      "text/plain": [
       "(11324, 2472)"
      ]
     },
     "execution_count": 28,
     "metadata": {},
     "output_type": "execute_result"
    }
   ],
   "execution_count": 28
  },
  {
   "cell_type": "code",
   "id": "f1c367e2e90c8082",
   "metadata": {
    "ExecuteTime": {
     "end_time": "2025-06-24T09:23:37.072200Z",
     "start_time": "2025-06-24T09:23:37.068404Z"
    }
   },
   "source": [
    "data_df.columns"
   ],
   "outputs": [
    {
     "data": {
      "text/plain": [
       "Index(['10006', '10078', '10095', '10104', '10107', '10108', '10119', '10137',\n",
       "       '10138', '10145',\n",
       "       ...\n",
       "       '93422', '93429', '93436', 'low_risk', 'momentum', 'quality', 'size',\n",
       "       'value', 'spx', 'acc_rate'],\n",
       "      dtype='object', length=2472)"
      ]
     },
     "execution_count": 29,
     "metadata": {},
     "output_type": "execute_result"
    }
   ],
   "execution_count": 29
  },
  {
   "cell_type": "code",
   "id": "b27750899a6b26c5",
   "metadata": {
    "ExecuteTime": {
     "end_time": "2025-06-24T09:23:37.097761Z",
     "start_time": "2025-06-24T09:23:37.093923Z"
    }
   },
   "source": [
    "# data_df[factors.columns].to_csv(Path(\"../../data/output\") / \"factors.csv\")"
   ],
   "outputs": [],
   "execution_count": 30
  },
  {
   "cell_type": "code",
   "id": "85ca4b34a363a321",
   "metadata": {
    "ExecuteTime": {
     "end_time": "2025-06-24T09:23:37.116664Z",
     "start_time": "2025-06-24T09:23:37.113102Z"
    }
   },
   "source": [
    "# data_df[data_df.columns.difference(factors.columns.tolist() + [\"spx\"])].to_csv(Path(\"../../data/output\") / \"spx_data.csv\")"
   ],
   "outputs": [],
   "execution_count": 31
  },
  {
   "cell_type": "code",
   "id": "592b5ff2a89c3f63",
   "metadata": {
    "ExecuteTime": {
     "end_time": "2025-06-24T09:23:44.667002Z",
     "start_time": "2025-06-24T09:23:37.147778Z"
    }
   },
   "source": "data_df.to_csv(Path(\"../../data/output\") / DATASET.DF_FILENAME)",
   "outputs": [],
   "execution_count": 32
  },
  {
   "metadata": {
    "ExecuteTime": {
     "end_time": "2025-06-24T09:23:44.703548Z",
     "start_time": "2025-06-24T09:23:44.701030Z"
    }
   },
   "cell_type": "code",
   "source": "",
   "id": "21ffe6e6a975a305",
   "outputs": [],
   "execution_count": null
  }
 ],
 "metadata": {
  "kernelspec": {
   "display_name": "Python 3",
   "language": "python",
   "name": "python3"
  },
  "language_info": {
   "codemirror_mode": {
    "name": "ipython",
    "version": 2
   },
   "file_extension": ".py",
   "mimetype": "text/x-python",
   "name": "python",
   "nbconvert_exporter": "python",
   "pygments_lexer": "ipython2",
   "version": "2.7.6"
  }
 },
 "nbformat": 4,
 "nbformat_minor": 5
}
