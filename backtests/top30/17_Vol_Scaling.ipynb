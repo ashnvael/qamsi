{
 "cells": [
  {
   "cell_type": "code",
   "id": "initial_id",
   "metadata": {
    "collapsed": true,
    "ExecuteTime": {
     "end_time": "2025-06-19T13:53:54.865536Z",
     "start_time": "2025-06-19T13:53:53.496501Z"
    }
   },
   "source": [
    "from __future__ import annotations\n",
    "\n",
    "from qamsi.strategies.scaling.volatility_targeting import VolatilityTargeting\n",
    "from qamsi.strategies.heuristics.equally_weighted import EWStrategy\n",
    "from qamsi.cov_estimators.cov_estimators import CovEstimators\n",
    "from qamsi.utils.data import read_csv\n",
    "from run import Dataset\n",
    "\n",
    "REBAL_FREQ = \"ME\"\n",
    "TOP_N = 30\n",
    "DATASET = Dataset.TOPN_US\n",
    "ESTIMATOR = CovEstimators.RF.value(shrinkage_type=\"linear\")\n",
    "BASELINE = EWStrategy()"
   ],
   "outputs": [],
   "execution_count": 1
  },
  {
   "metadata": {
    "ExecuteTime": {
     "end_time": "2025-06-19T13:53:54.880409Z",
     "start_time": "2025-06-19T13:53:54.868626Z"
    }
   },
   "cell_type": "code",
   "source": [
    "strategy_name = DATASET.name + ESTIMATOR.__class__.__name__ + f\"_rebal{REBAL_FREQ}\"\n",
    "baseline_name = DATASET.name + BASELINE.__class__.__name__ + f\"_rebal{REBAL_FREQ}\"\n",
    "\n",
    "strategy = read_csv(DATASET.value(topn=TOP_N).SAVE_PATH, strategy_name + \".csv\")\n",
    "baseline = read_csv(DATASET.value(topn=TOP_N).SAVE_PATH, baseline_name + \".csv\")"
   ],
   "id": "894552a98100e6fa",
   "outputs": [],
   "execution_count": 2
  },
  {
   "metadata": {
    "ExecuteTime": {
     "end_time": "2025-06-19T13:53:54.924017Z",
     "start_time": "2025-06-19T13:53:54.922478Z"
    }
   },
   "cell_type": "code",
   "source": [
    "strategy_excess_r = strategy[\"strategy_xs_r\"]\n",
    "baseline_excess_r = baseline[\"strategy_xs_r\"]\n",
    "rf = strategy[\"acc_rate\"]"
   ],
   "id": "5a0f8d4125f1759a",
   "outputs": [],
   "execution_count": 3
  },
  {
   "metadata": {
    "ExecuteTime": {
     "end_time": "2025-06-19T13:53:54.932704Z",
     "start_time": "2025-06-19T13:53:54.931242Z"
    }
   },
   "cell_type": "code",
   "source": [
    "rebal_dates = strategy[\"rebal\"]\n",
    "rebal_dates = rebal_dates[rebal_dates].index"
   ],
   "id": "ead1dd6458bdc557",
   "outputs": [],
   "execution_count": 4
  },
  {
   "metadata": {
    "ExecuteTime": {
     "end_time": "2025-06-19T13:53:54.967742Z",
     "start_time": "2025-06-19T13:53:54.935149Z"
    }
   },
   "cell_type": "code",
   "source": [
    "vol_scaler = VolatilityTargeting(\n",
    "    trading_lag=1,\n",
    "    max_exposure=2,\n",
    ")\n",
    "scaled_strategy_total_r = vol_scaler(\n",
    "    strategy_excess_r=strategy_excess_r,\n",
    "    rebal_dates=rebal_dates,\n",
    "    baseline=baseline_excess_r,\n",
    ").add(rf, axis=0)"
   ],
   "id": "c87c2844c866af5a",
   "outputs": [],
   "execution_count": 5
  },
  {
   "metadata": {
    "ExecuteTime": {
     "end_time": "2025-06-19T13:54:42.676102Z",
     "start_time": "2025-06-19T13:54:42.672271Z"
    }
   },
   "cell_type": "code",
   "source": [
    "from qamsi.backtest.assessor import Assessor\n",
    "\n",
    "assessor = Assessor(\n",
    "    rf_rate=rf,\n",
    "    factors=strategy[strategy.columns.difference([\"strategy_xs_r\", \"rebal\", \"acc_rate\"])],\n",
    ")"
   ],
   "id": "361c6d58821613a1",
   "outputs": [],
   "execution_count": 6
  },
  {
   "metadata": {
    "ExecuteTime": {
     "end_time": "2025-06-19T13:54:47.121026Z",
     "start_time": "2025-06-19T13:54:47.093074Z"
    }
   },
   "cell_type": "code",
   "source": "assessor(scaled_strategy_total_r)",
   "id": "45c1f284bb553d27",
   "outputs": [
    {
     "data": {
      "text/plain": [
       "StrategyStatistics:\n",
       "* final_nav = 27.986620\n",
       "* geom_avg_total_r = 0.191527\n",
       "* geom_avg_xs_r = 0.183748\n",
       "* std_xs_r = 0.211951\n",
       "* min_xs_r = -0.123799\n",
       "* max_xs_r = 0.204718\n",
       "* skew = 0.485863\n",
       "* kurtosis = 28.270639\n",
       "* max_dd = -0.439075\n",
       "* sharpe = 0.866937\n",
       "* alpha_buy_hold = 0.113956\n",
       "* tracking_error_buy_hold = 0.151717\n",
       "* ir_buy_hold = 0.751108\n",
       "* factor_loadings = {'low_risk': 0.7077996382753247, 'momentum': -0.11930958962233715, 'quality': 0.19883618948744358, 'size': 0.0258793306144856, 'spx': 1.0250981529462693, 'value': -0.26581120016526893}\n",
       "* alpha_benchmark = 0.090716\n",
       "* alpha_benchmark_pvalue = 0.002314\n",
       "* tracking_error_benchmark = 0.123707\n",
       "* ir_benchmark = 0.733311\n",
       "* ttest_pval = 0.074911\n",
       "* levene_pval = 0.043881\n",
       "* timing_ability_coef = -0.009171\n",
       "* timing_ability_pval = 0.684426"
      ]
     },
     "execution_count": 7,
     "metadata": {},
     "output_type": "execute_result"
    }
   ],
   "execution_count": 7
  },
  {
   "metadata": {},
   "cell_type": "code",
   "outputs": [],
   "execution_count": null,
   "source": "",
   "id": "986181f033a21a7a"
  }
 ],
 "metadata": {
  "kernelspec": {
   "display_name": "Python 3",
   "language": "python",
   "name": "python3"
  },
  "language_info": {
   "codemirror_mode": {
    "name": "ipython",
    "version": 2
   },
   "file_extension": ".py",
   "mimetype": "text/x-python",
   "name": "python",
   "nbconvert_exporter": "python",
   "pygments_lexer": "ipython2",
   "version": "2.7.6"
  }
 },
 "nbformat": 4,
 "nbformat_minor": 5
}
