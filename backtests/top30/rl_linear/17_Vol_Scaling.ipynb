{
 "cells": [
  {
   "cell_type": "code",
   "id": "initial_id",
   "metadata": {
    "collapsed": true,
    "ExecuteTime": {
     "end_time": "2025-06-23T11:47:18.759696Z",
     "start_time": "2025-06-23T11:47:05.340558Z"
    }
   },
   "source": [
    "from __future__ import annotations\n",
    "\n",
    "from qamsi.strategies.scaling.volatility_targeting import VolatilityTargeting\n",
    "from qamsi.strategies.heuristics.equally_weighted import EWStrategy\n",
    "from qamsi.cov_estimators.cov_estimators import CovEstimators\n",
    "from qamsi.utils.data import read_csv\n",
    "from run import Dataset\n",
    "\n",
    "REBAL_FREQ = \"ME\"\n",
    "TOP_N = 30\n",
    "DATASET = Dataset.TOPN_US\n",
    "ESTIMATOR = CovEstimators.RF.value(shrinkage_type=\"linear\")\n",
    "BASELINE = EWStrategy()"
   ],
   "outputs": [],
   "execution_count": 1
  },
  {
   "metadata": {
    "ExecuteTime": {
     "end_time": "2025-06-23T11:47:18.784683Z",
     "start_time": "2025-06-23T11:47:18.766005Z"
    }
   },
   "cell_type": "code",
   "source": [
    "strategy_name = DATASET.name + ESTIMATOR.__class__.__name__ + f\"_rebal{REBAL_FREQ}\"\n",
    "baseline_name = DATASET.name + BASELINE.__class__.__name__ + f\"_rebal{REBAL_FREQ}\"\n",
    "\n",
    "strategy = read_csv(DATASET.value(topn=TOP_N).SAVE_PATH, strategy_name + \".csv\")\n",
    "baseline = read_csv(DATASET.value(topn=TOP_N).SAVE_PATH, baseline_name + \".csv\")"
   ],
   "id": "894552a98100e6fa",
   "outputs": [],
   "execution_count": 2
  },
  {
   "metadata": {
    "ExecuteTime": {
     "end_time": "2025-06-23T11:47:19.158671Z",
     "start_time": "2025-06-23T11:47:19.151263Z"
    }
   },
   "cell_type": "code",
   "source": [
    "strategy_excess_r = strategy[\"strategy_xs_r\"]\n",
    "baseline_excess_r = baseline[\"strategy_xs_r\"]\n",
    "rf = strategy[\"acc_rate\"]"
   ],
   "id": "5a0f8d4125f1759a",
   "outputs": [],
   "execution_count": 3
  },
  {
   "metadata": {
    "ExecuteTime": {
     "end_time": "2025-06-23T11:47:19.251617Z",
     "start_time": "2025-06-23T11:47:19.247606Z"
    }
   },
   "cell_type": "code",
   "source": [
    "rebal_dates = strategy[\"rebal\"]\n",
    "rebal_dates = rebal_dates[rebal_dates].index"
   ],
   "id": "ead1dd6458bdc557",
   "outputs": [],
   "execution_count": 4
  },
  {
   "metadata": {
    "ExecuteTime": {
     "end_time": "2025-06-23T11:47:19.557391Z",
     "start_time": "2025-06-23T11:47:19.275787Z"
    }
   },
   "cell_type": "code",
   "source": [
    "vol_scaler = VolatilityTargeting(\n",
    "    trading_lag=1,\n",
    "    max_exposure=2,\n",
    ")\n",
    "scaled_strategy_total_r = vol_scaler(\n",
    "    strategy_excess_r=strategy_excess_r,\n",
    "    rebal_dates=rebal_dates,\n",
    "    baseline=baseline_excess_r,\n",
    ").add(rf, axis=0)"
   ],
   "id": "c87c2844c866af5a",
   "outputs": [],
   "execution_count": 5
  },
  {
   "metadata": {
    "ExecuteTime": {
     "end_time": "2025-06-23T11:47:19.570128Z",
     "start_time": "2025-06-23T11:47:19.565710Z"
    }
   },
   "cell_type": "code",
   "source": [
    "from qamsi.backtest.assessor import Assessor\n",
    "\n",
    "assessor = Assessor(\n",
    "    rf_rate=rf,\n",
    "    factors=strategy[strategy.columns.difference([\"strategy_xs_r\", \"rebal\", \"acc_rate\"])],\n",
    ")"
   ],
   "id": "361c6d58821613a1",
   "outputs": [],
   "execution_count": 6
  },
  {
   "metadata": {
    "ExecuteTime": {
     "end_time": "2025-06-23T11:47:20.032321Z",
     "start_time": "2025-06-23T11:47:19.605326Z"
    }
   },
   "cell_type": "code",
   "source": "assessor(scaled_strategy_total_r)",
   "id": "45c1f284bb553d27",
   "outputs": [
    {
     "data": {
      "text/plain": [
       "StrategyStatistics:\n",
       "* final_nav = 16.949261\n",
       "* geom_avg_total_r = 0.160509\n",
       "* geom_avg_xs_r = 0.152730\n",
       "* std_xs_r = 0.218776\n",
       "* min_xs_r = -0.125201\n",
       "* max_xs_r = 0.209715\n",
       "* skew = 0.543048\n",
       "* kurtosis = 26.031288\n",
       "* max_dd = -0.456501\n",
       "* sharpe = 0.698113\n",
       "* alpha_buy_hold = 0.082937\n",
       "* tracking_error_buy_hold = 0.181360\n",
       "* ir_buy_hold = 0.457308\n",
       "* factor_loadings = {'low_risk': 0.815182578202651, 'momentum': -0.16725222913071408, 'quality': 0.14273354834939367, 'size': -0.01331071347051014, 'spx': 0.9795376352148033, 'value': -0.33570169229023594}\n",
       "* alpha_benchmark = 0.067623\n",
       "* alpha_benchmark_pvalue = 0.037898\n",
       "* tracking_error_benchmark = 0.148565\n",
       "* ir_benchmark = 0.455178\n",
       "* ttest_pval = 0.143841\n",
       "* levene_pval = 0.847395\n",
       "* timing_ability_coef = -0.008062\n",
       "* timing_ability_pval = 0.762108"
      ]
     },
     "execution_count": 7,
     "metadata": {},
     "output_type": "execute_result"
    }
   ],
   "execution_count": 7
  },
  {
   "metadata": {
    "ExecuteTime": {
     "end_time": "2025-06-23T11:47:20.066817Z",
     "start_time": "2025-06-23T11:47:20.039636Z"
    }
   },
   "cell_type": "code",
   "source": "",
   "id": "986181f033a21a7a",
   "outputs": [],
   "execution_count": null
  }
 ],
 "metadata": {
  "kernelspec": {
   "display_name": "Python 3",
   "language": "python",
   "name": "python3"
  },
  "language_info": {
   "codemirror_mode": {
    "name": "ipython",
    "version": 2
   },
   "file_extension": ".py",
   "mimetype": "text/x-python",
   "name": "python",
   "nbconvert_exporter": "python",
   "pygments_lexer": "ipython2",
   "version": "2.7.6"
  }
 },
 "nbformat": 4,
 "nbformat_minor": 5
}
