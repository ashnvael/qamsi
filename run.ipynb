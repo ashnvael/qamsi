{
 "cells": [
  {
   "metadata": {
    "ExecuteTime": {
     "end_time": "2025-03-23T15:36:41.882075Z",
     "start_time": "2025-03-23T15:36:41.866304Z"
    }
   },
   "cell_type": "code",
   "source": [
    "%load_ext autoreload\n",
    "%autoreload 2"
   ],
   "id": "a1510887505e2402",
   "outputs": [],
   "execution_count": 1
  },
  {
   "metadata": {
    "collapsed": true,
    "ExecuteTime": {
     "end_time": "2025-03-23T15:36:42.669743Z",
     "start_time": "2025-03-23T15:36:41.886824Z"
    }
   },
   "cell_type": "code",
   "source": [
    "from run import run_backtest\n",
    "from qamsi.cov_estimators.cov_estimators import CovEstimators\n",
    "\n",
    "ESTIMATOR = CovEstimators.HISTORICAL\n",
    "VERBOSE = True\n",
    "PLOT_PROGRESS = False"
   ],
   "id": "initial_id",
   "outputs": [],
   "execution_count": 2
  },
  {
   "metadata": {
    "ExecuteTime": {
     "end_time": "2025-03-23T15:37:11.683044Z",
     "start_time": "2025-03-23T15:36:42.719149Z"
    }
   },
   "cell_type": "code",
   "source": "run_result = run_backtest(ESTIMATOR.value(), verbose=VERBOSE, plot_progress=PLOT_PROGRESS)",
   "id": "1e4448021827516c",
   "outputs": [
    {
     "name": "stdout",
     "output_type": "stream",
     "text": [
      "Train data on 2004-03-23 00:00:00 to 2022-03-31 00:00:00\n",
      "Test data on 2022-04-01 00:00:00 to 2024-12-31 00:00:00\n",
      "Num Train Iterations: 4539\n",
      "Running backtest...\n"
     ]
    },
    {
     "name": "stderr",
     "output_type": "stream",
     "text": [
      "4287it [00:20, 206.38it/s]\n"
     ]
    },
    {
     "name": "stdout",
     "output_type": "stream",
     "text": [
      "Running backtest...\n"
     ]
    },
    {
     "name": "stderr",
     "output_type": "stream",
     "text": [
      "4287it [00:05, 809.59it/s]\n"
     ]
    },
    {
     "ename": "AttributeError",
     "evalue": "'float' object has no attribute 'astype'",
     "output_type": "error",
     "traceback": [
      "\u001B[31m---------------------------------------------------------------------------\u001B[39m",
      "\u001B[31mAttributeError\u001B[39m                            Traceback (most recent call last)",
      "\u001B[36mCell\u001B[39m\u001B[36m \u001B[39m\u001B[32mIn[3]\u001B[39m\u001B[32m, line 1\u001B[39m\n\u001B[32m----> \u001B[39m\u001B[32m1\u001B[39m run_result = \u001B[43mrun_backtest\u001B[49m\u001B[43m(\u001B[49m\u001B[43mESTIMATOR\u001B[49m\u001B[43m.\u001B[49m\u001B[43mvalue\u001B[49m\u001B[43m(\u001B[49m\u001B[43m)\u001B[49m\u001B[43m,\u001B[49m\u001B[43m \u001B[49m\u001B[43mverbose\u001B[49m\u001B[43m=\u001B[49m\u001B[43mVERBOSE\u001B[49m\u001B[43m,\u001B[49m\u001B[43m \u001B[49m\u001B[43mplot_progress\u001B[49m\u001B[43m=\u001B[49m\u001B[43mPLOT_PROGRESS\u001B[49m\u001B[43m)\u001B[49m\n",
      "\u001B[36mFile \u001B[39m\u001B[32m~/qamsi/run.py:54\u001B[39m, in \u001B[36mrun_backtest\u001B[39m\u001B[34m(cov_estimator, verbose, plot_progress)\u001B[39m\n\u001B[32m     48\u001B[39m strategy = MinVariance(\n\u001B[32m     49\u001B[39m     cov_estimator=cov_estimator,\n\u001B[32m     50\u001B[39m )\n\u001B[32m     52\u001B[39m baseline_strategy = EWStrategy()\n\u001B[32m---> \u001B[39m\u001B[32m54\u001B[39m run_result = \u001B[43mrunner\u001B[49m\u001B[43m.\u001B[49m\u001B[43mtrain\u001B[49m\u001B[43m(\u001B[49m\n\u001B[32m     55\u001B[39m \u001B[43m    \u001B[49m\u001B[43mfeature_processor\u001B[49m\u001B[43m=\u001B[49m\u001B[43mpreprocessor\u001B[49m\u001B[43m,\u001B[49m\n\u001B[32m     56\u001B[39m \u001B[43m    \u001B[49m\u001B[43mstrategy\u001B[49m\u001B[43m=\u001B[49m\u001B[43mstrategy\u001B[49m\u001B[43m,\u001B[49m\n\u001B[32m     57\u001B[39m \u001B[43m    \u001B[49m\u001B[43mbaseline_strategy\u001B[49m\u001B[43m=\u001B[49m\u001B[43mbaseline_strategy\u001B[49m\u001B[43m,\u001B[49m\n\u001B[32m     58\u001B[39m \u001B[43m    \u001B[49m\u001B[43mhedger\u001B[49m\u001B[43m=\u001B[49m\u001B[43mhedger\u001B[49m\u001B[43m \u001B[49m\u001B[38;5;28;43;01mif\u001B[39;49;00m\u001B[43m \u001B[49m\u001B[43mHEDGE\u001B[49m\u001B[43m \u001B[49m\u001B[38;5;28;43;01melse\u001B[39;49;00m\u001B[43m \u001B[49m\u001B[38;5;28;43;01mNone\u001B[39;49;00m\u001B[43m,\u001B[49m\n\u001B[32m     59\u001B[39m \u001B[43m\u001B[49m\u001B[43m)\u001B[49m\n\u001B[32m     61\u001B[39m runner.plot_cumulative(include_factors=\u001B[38;5;28;01mTrue\u001B[39;00m)\n\u001B[32m     63\u001B[39m runner.plot_turnover()\n",
      "\u001B[36mFile \u001B[39m\u001B[32m~/qamsi/qamsi/runner.py:203\u001B[39m, in \u001B[36mRunner.train\u001B[39m\u001B[34m(self, feature_processor, strategy, baseline_strategy, hedger)\u001B[39m\n\u001B[32m    196\u001B[39m \u001B[38;5;28;01mdef\u001B[39;00m\u001B[38;5;250m \u001B[39m\u001B[34mtrain\u001B[39m(\n\u001B[32m    197\u001B[39m     \u001B[38;5;28mself\u001B[39m,\n\u001B[32m    198\u001B[39m     feature_processor: BasePreprocessor,\n\u001B[32m   (...)\u001B[39m\u001B[32m    201\u001B[39m     hedger: Hedger | \u001B[38;5;28;01mNone\u001B[39;00m = \u001B[38;5;28;01mNone\u001B[39;00m,\n\u001B[32m    202\u001B[39m ) -> RunResult:\n\u001B[32m--> \u001B[39m\u001B[32m203\u001B[39m     \u001B[38;5;28;01mreturn\u001B[39;00m \u001B[38;5;28;43mself\u001B[39;49m\u001B[43m.\u001B[49m\u001B[43m_run\u001B[49m\u001B[43m(\u001B[49m\n\u001B[32m    204\u001B[39m \u001B[43m        \u001B[49m\u001B[43mfeature_processor\u001B[49m\u001B[43m=\u001B[49m\u001B[43mfeature_processor\u001B[49m\u001B[43m,\u001B[49m\n\u001B[32m    205\u001B[39m \u001B[43m        \u001B[49m\u001B[43mstrategy\u001B[49m\u001B[43m=\u001B[49m\u001B[43mstrategy\u001B[49m\u001B[43m,\u001B[49m\n\u001B[32m    206\u001B[39m \u001B[43m        \u001B[49m\u001B[43mbaseline_strategy\u001B[49m\u001B[43m=\u001B[49m\u001B[43mbaseline_strategy\u001B[49m\u001B[43m,\u001B[49m\n\u001B[32m    207\u001B[39m \u001B[43m        \u001B[49m\u001B[43mdata\u001B[49m\u001B[43m=\u001B[49m\u001B[38;5;28;43mself\u001B[39;49m\u001B[43m.\u001B[49m\u001B[43mtrain_data\u001B[49m\u001B[43m,\u001B[49m\n\u001B[32m    208\u001B[39m \u001B[43m        \u001B[49m\u001B[43mreturns\u001B[49m\u001B[43m=\u001B[49m\u001B[38;5;28;43mself\u001B[39;49m\u001B[43m.\u001B[49m\u001B[43mtrain_returns\u001B[49m\u001B[43m,\u001B[49m\n\u001B[32m    209\u001B[39m \u001B[43m        \u001B[49m\u001B[43mfactors\u001B[49m\u001B[43m=\u001B[49m\u001B[38;5;28;43mself\u001B[39;49m\u001B[43m.\u001B[49m\u001B[43mtrain_factors\u001B[49m\u001B[43m,\u001B[49m\n\u001B[32m    210\u001B[39m \u001B[43m        \u001B[49m\u001B[43mrf\u001B[49m\u001B[43m=\u001B[49m\u001B[38;5;28;43mself\u001B[39;49m\u001B[43m.\u001B[49m\u001B[43mtrain_rf\u001B[49m\u001B[43m,\u001B[49m\n\u001B[32m    211\u001B[39m \u001B[43m        \u001B[49m\u001B[43mhedger\u001B[49m\u001B[43m=\u001B[49m\u001B[43mhedger\u001B[49m\u001B[43m,\u001B[49m\n\u001B[32m    212\u001B[39m \u001B[43m    \u001B[49m\u001B[43m)\u001B[49m\n",
      "\u001B[36mFile \u001B[39m\u001B[32m~/qamsi/qamsi/runner.py:188\u001B[39m, in \u001B[36mRunner._run\u001B[39m\u001B[34m(self, feature_processor, strategy, baseline_strategy, data, returns, factors, rf, hedger)\u001B[39m\n\u001B[32m    178\u001B[39m \u001B[38;5;28mself\u001B[39m.factors_total_r = (\n\u001B[32m    179\u001B[39m     \u001B[38;5;28mself\u001B[39m.strategy_backtester.acc_factors\n\u001B[32m    180\u001B[39m     + \u001B[38;5;28mself\u001B[39m.strategy_backtester.acc_rf_rate.to_numpy().flatten()[:, np.newaxis]\n\u001B[32m    181\u001B[39m )\n\u001B[32m    183\u001B[39m assessor = Assessor(\n\u001B[32m    184\u001B[39m     rf_rate=\u001B[38;5;28mself\u001B[39m.strategy_backtester.acc_rf_rate.iloc[:, \u001B[32m0\u001B[39m],\n\u001B[32m    185\u001B[39m     factors=\u001B[38;5;28mself\u001B[39m.strategy_backtester.acc_factors,\n\u001B[32m    186\u001B[39m )\n\u001B[32m--> \u001B[39m\u001B[32m188\u001B[39m strategy_statistics = \u001B[43massessor\u001B[49m\u001B[43m(\u001B[49m\u001B[38;5;28;43mself\u001B[39;49m\u001B[43m.\u001B[49m\u001B[43mstrategy_backtester\u001B[49m\u001B[43m.\u001B[49m\u001B[43mtotal_returns\u001B[49m\u001B[43m)\u001B[49m\n\u001B[32m    189\u001B[39m baseline_statistics = assessor(\u001B[38;5;28mself\u001B[39m.baseline_backtester.total_returns)\n\u001B[32m    191\u001B[39m \u001B[38;5;28;01mreturn\u001B[39;00m RunResult(\n\u001B[32m    192\u001B[39m     strategy=strategy_statistics,\n\u001B[32m    193\u001B[39m     baseline=baseline_statistics,\n\u001B[32m    194\u001B[39m )\n",
      "\u001B[36mFile \u001B[39m\u001B[32m~/qamsi/qamsi/backtest/assessor.py:199\u001B[39m, in \u001B[36mAssessor.__call__\u001B[39m\u001B[34m(self, strategy_total)\u001B[39m\n\u001B[32m    198\u001B[39m \u001B[38;5;28;01mdef\u001B[39;00m\u001B[38;5;250m \u001B[39m\u001B[34m__call__\u001B[39m(\u001B[38;5;28mself\u001B[39m, strategy_total: pd.Series) -> StrategyStatistics:\n\u001B[32m--> \u001B[39m\u001B[32m199\u001B[39m     \u001B[38;5;28;01mreturn\u001B[39;00m \u001B[38;5;28;43mself\u001B[39;49m\u001B[43m.\u001B[49m\u001B[43m_run\u001B[49m\u001B[43m(\u001B[49m\u001B[43mstrategy_total\u001B[49m\u001B[43m)\u001B[49m\n",
      "\u001B[36mFile \u001B[39m\u001B[32m~/qamsi/qamsi/backtest/assessor.py:180\u001B[39m, in \u001B[36mAssessor._run\u001B[39m\u001B[34m(self, strategy_total)\u001B[39m\n\u001B[32m    169\u001B[39m levene_pval = levene(strategy_excess, buy_hold_excess).pvalue\n\u001B[32m    171\u001B[39m timing_ability_coef, timing_ability_pval = \u001B[38;5;28mself\u001B[39m._get_timing_ability(\n\u001B[32m    172\u001B[39m     strategy_excess, buy_hold_excess\n\u001B[32m    173\u001B[39m )\n\u001B[32m    175\u001B[39m \u001B[38;5;28;01mreturn\u001B[39;00m StrategyStatistics(\n\u001B[32m    176\u001B[39m     final_nav=final_nav,\n\u001B[32m    177\u001B[39m     final_rf=final_rf,\n\u001B[32m    178\u001B[39m     mean=strat_mean,\n\u001B[32m    179\u001B[39m     std=strat_std,\n\u001B[32m--> \u001B[39m\u001B[32m180\u001B[39m     skew=\u001B[43mstrat_skew\u001B[49m\u001B[43m.\u001B[49m\u001B[43mastype\u001B[49m(\u001B[38;5;28mfloat\u001B[39m),  \u001B[38;5;66;03m# type: ignore  # noqa: PGH003\u001B[39;00m\n\u001B[32m    181\u001B[39m     kurtosis=strat_kurtosis.astype(\u001B[38;5;28mfloat\u001B[39m),  \u001B[38;5;66;03m# type: ignore  # noqa: PGH003\u001B[39;00m\n\u001B[32m    182\u001B[39m     sharpe=sr_strategy_total,\n\u001B[32m    183\u001B[39m     max_dd=strategy_max_dd,\n\u001B[32m    184\u001B[39m     alpha_buy_hold=buy_hold_alpha,\n\u001B[32m    185\u001B[39m     tracking_error_buy_hold=buy_hold_tracking_error,\n\u001B[32m    186\u001B[39m     ir_buy_hold=buy_hold_ir,\n\u001B[32m    187\u001B[39m     alpha_benchmark=benchmark_alpha,\n\u001B[32m    188\u001B[39m     alpha_benchmark_pvalue=alpha_benchmark_pvalue,\n\u001B[32m    189\u001B[39m     tracking_error_benchmark=benchmark_tracking_error,\n\u001B[32m    190\u001B[39m     ir_benchmark=benchmark_ir,\n\u001B[32m    191\u001B[39m     factor_loadings=\u001B[38;5;28mdict\u001B[39m(\u001B[38;5;28mzip\u001B[39m(\u001B[38;5;28mself\u001B[39m.factors.columns, loadings, strict=\u001B[38;5;28;01mFalse\u001B[39;00m)),\n\u001B[32m    192\u001B[39m     ttest_pval=ttest_pval,\n\u001B[32m    193\u001B[39m     levene_pval=levene_pval,\n\u001B[32m    194\u001B[39m     timing_ability_coef=timing_ability_coef,\n\u001B[32m    195\u001B[39m     timing_ability_pval=timing_ability_pval,\n\u001B[32m    196\u001B[39m )\n",
      "\u001B[31mAttributeError\u001B[39m: 'float' object has no attribute 'astype'"
     ]
    }
   ],
   "execution_count": 3
  },
  {
   "metadata": {},
   "cell_type": "code",
   "outputs": [],
   "execution_count": null,
   "source": "run_result.strategy",
   "id": "81afe07a0a2b6ce2"
  },
  {
   "metadata": {},
   "cell_type": "code",
   "outputs": [],
   "execution_count": null,
   "source": "run_result.baseline",
   "id": "173e5e99b9f8404a"
  }
 ],
 "metadata": {
  "kernelspec": {
   "display_name": "Python 3",
   "language": "python",
   "name": "python3"
  },
  "language_info": {
   "codemirror_mode": {
    "name": "ipython",
    "version": 2
   },
   "file_extension": ".py",
   "mimetype": "text/x-python",
   "name": "python",
   "nbconvert_exporter": "python",
   "pygments_lexer": "ipython2",
   "version": "2.7.6"
  }
 },
 "nbformat": 4,
 "nbformat_minor": 5
}
